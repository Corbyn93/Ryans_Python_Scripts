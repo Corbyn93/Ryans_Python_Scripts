{
 "cells": [
  {
   "cell_type": "markdown",
   "metadata": {},
   "source": [
    "Created: 22/10/2020, Ryan Corbyn \n",
    "\n",
    "This is a script to analyse the noise data recorded from the AO STED microscope. \n",
    "\n",
    "The script will pull in individual data files from the idrive and save data in a list. \n",
    "\n",
    "The data will be adjusted so that the line scans will be stitched together to give 1 continuous data stream. A timing array will also be created. \n",
    "\n",
    "An FFT of the dataset will then be made and the results plotted in matplotlib. \n",
    "\n",
    "The plot is then saved. \n",
    "\n",
    "NOTE"
   ]
  },
  {
   "cell_type": "code",
   "execution_count": 1,
   "metadata": {},
   "outputs": [],
   "source": [
    "import numpy as np \n",
    "import pandas as pd\n",
    "import os \n",
    "import matplotlib.pyplot as plot "
   ]
  },
  {
   "cell_type": "code",
   "execution_count": 2,
   "metadata": {},
   "outputs": [],
   "source": [
    "def get_data(data_file):\n",
    "    # Extract data from data file\n",
    "    data_set_array = np.loadtxt(data_file)\n",
    "    data_set = []\n",
    "    for i in range(len(data_set_array)):\n",
    "        data_set.extend(data_set_array[i, 1:len(data_set_array[i])])\n",
    "    \n",
    "    return(data_set)"
   ]
  },
  {
   "cell_type": "code",
   "execution_count": 3,
   "metadata": {},
   "outputs": [],
   "source": [
    "def get_params(params_file):\n",
    "    # Extract parameters form data file \n",
    "    params_array = pd.read_table(params_file, names = ['Parameter', 'Value'])\n",
    "    \n",
    "    return(params_array)"
   ]
  },
  {
   "cell_type": "code",
   "execution_count": null,
   "metadata": {},
   "outputs": [],
   "source": []
  },
  {
   "cell_type": "code",
   "execution_count": null,
   "metadata": {},
   "outputs": [],
   "source": []
  },
  {
   "cell_type": "code",
   "execution_count": null,
   "metadata": {},
   "outputs": [],
   "source": []
  },
  {
   "cell_type": "code",
   "execution_count": 6,
   "metadata": {},
   "outputs": [],
   "source": [
    "folder_directory = 'I:\\\\Science\\\\Physics-Nanobiophotonics\\\\Group\\\\User Data\\\\Microscope Noise\\\\'\n",
    "date = '20201026'\n",
    "file_name = '20201026_NoiseScan_1500' \n",
    "\n",
    "data = get_data(folder_directory + date + '\\\\' + file_name + '.dat')\n",
    "#Params = get_params(folder_directory + date + '\\\\' + file_name + 'Params.dat')\n",
    "dwell_time = 0.01#params['Value'][3]*10**(-6) # get dwell time in milliseconds. \n",
    "time = np.linspace(0.001, len(data)*dwell_time, len(data)) # create time array\n",
    "\n",
    "fourierTransform = np.fft.fft(data)/len(data)  # Normalize amplitude\n",
    "fourierTransform = fourierTransform[range(int(len(data)/2))] # Exclude sampling frequency\n",
    "\n",
    "frequency = np.fft.fftfreq(int(len(data)/2), d=dwell_time)"
   ]
  },
  {
   "cell_type": "code",
   "execution_count": 10,
   "metadata": {},
   "outputs": [
    {
     "data": {
      "image/png": "[encoded data removed]",
      "text/plain": [
       "<Figure size 432x288 with 1 Axes>"
      ]
     },
     "metadata": {
      "needs_background": "light"
     },
     "output_type": "display_data"
    }
   ],
   "source": [
    "data_fft = fourierTransform.real\n",
    "fig, ax = plot.subplots()\n",
    "ax.plot(frequency, data_fft)\n",
    "ax.set_ylim(0.05,1)\n",
    "ax.set_xlim(0.4,50)#1/(time[1]))\n",
    "ax.set_yscale('log')\n",
    "ax.set_xscale('log')"
   ]
  },
  {
   "cell_type": "code",
   "execution_count": 139,
   "metadata": {},
   "outputs": [
    {
     "name": "stdout",
     "output_type": "stream",
     "text": [
      "3028\n"
     ]
    }
   ],
   "source": [
    "print(len(data_fft))"
   ]
  },
  {
   "cell_type": "code",
   "execution_count": null,
   "metadata": {},
   "outputs": [],
   "source": []
  }
 ],
 "metadata": {
  "kernelspec": {
   "display_name": "Python 3",
   "language": "python",
   "name": "python3"
  },
  "language_info": {
   "codemirror_mode": {
    "name": "ipython",
    "version": 3
   },
   "file_extension": ".py",
   "mimetype": "text/x-python",
   "name": "python",
   "nbconvert_exporter": "python",
   "pygments_lexer": "ipython3",
   "version": "3.7.7"
  }
 },
 "nbformat": 4,
 "nbformat_minor": 4
}
