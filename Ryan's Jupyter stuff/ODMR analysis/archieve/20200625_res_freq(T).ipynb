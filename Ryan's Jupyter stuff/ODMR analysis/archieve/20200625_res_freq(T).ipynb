{
 "cells": [
  {
   "cell_type": "code",
   "execution_count": 1,
   "metadata": {},
   "outputs": [],
   "source": [
    "import os \n",
    "import numpy as np \n",
    "import matplotlib.pyplot as plot \n",
    "import csv\n",
    "import scipy.optimize as opt\n",
    "import time"
   ]
  },
  {
   "cell_type": "code",
   "execution_count": 2,
   "metadata": {},
   "outputs": [],
   "source": [
    "def get_file_name():\n",
    "    # Write in the data file location. \n",
    "    folder_directory = 'C:\\\\Users\\\\Ryan\\\\Desktop\\\\20200623_Thermometry'\n",
    "    date = '20200623'\n",
    "    file_name = '20200623_Thermometry_analysis'\n",
    "    return(folder_directory, date, file_name)"
   ]
  },
  {
   "cell_type": "code",
   "execution_count": 3,
   "metadata": {},
   "outputs": [],
   "source": [
    "def import_data(folder_directory, file_name):\n",
    "    # read in the data from the date_file. \n",
    "    data = []\n",
    "    with open(folder_directory + '\\\\' + file_name +'.csv', newline ='') as csvfile:\n",
    "        file_data = csv.reader(csvfile, delimiter = ',')\n",
    "        for row in file_data:\n",
    "            try:\n",
    "                float_row = [float(x) for x in row]\n",
    "                data.append(float_row)\n",
    "            except:\n",
    "                pass\n",
    "             \n",
    "    data = np.array(data)    \n",
    "    return(data)"
   ]
  },
  {
   "cell_type": "code",
   "execution_count": 4,
   "metadata": {},
   "outputs": [],
   "source": [
    "def get_ND_numbers(data_set):\n",
    "    # get the row indicies for the different ND clusters.\n",
    "    start_index = [0]\n",
    "    stop_index = []\n",
    "    for i in range(len(data_set[:,0])):\n",
    "        if data_set[i,0] != data_set[max(start_index),0]:\n",
    "            stop_index.append(i-1)\n",
    "            start_index.append(i)\n",
    "    \n",
    "    stop_index.append(len(data_set[:,0]))            \n",
    "    return(start_index, stop_index)"
   ]
  },
  {
   "cell_type": "code",
   "execution_count": 25,
   "metadata": {},
   "outputs": [],
   "source": [
    "def scatter_plot(data_set, start_index, stop_index, ND_Cluter):\n",
    "    plot.rcParams.update({'font.size' : 16})\n",
    "    plot.rcParams.update({'figure.figsize' :[12, 8]})\n",
    "    fig1, ax1 = plot.subplots()\n",
    "    \n",
    "    temp = data_set[start_index:stop_index,2]\n",
    "    temp_error = data_set[start_index:stop_index,3]\n",
    "    res_freq = data_set[start_index:stop_index,4]\n",
    "    res_error = data_set[start_index:stop_index,5]\n",
    "    \n",
    "    \n",
    "    ax1.errorbar(temp,res_freq, xerr =temp_error, yerr=res_error,\n",
    "                 fmt='x', label='ND ' + str(ND_Cluster) + ' Data set', color = 'k', linewidth = 2)\n",
    "    ax1.set_ylabel('Microwave Resonant \\n Frequency (GHz)')\n",
    "    ax1.set_xlabel('Temperature (oC)')\n",
    "    ax1.legend(loc = 1)\n",
    "    return(fig1, ax1, temp, res_freq)"
   ]
  },
  {
   "cell_type": "code",
   "execution_count": 21,
   "metadata": {},
   "outputs": [],
   "source": [
    "def linear_fitting_plot(x,y, ax1):\n",
    "    ax1.plot(x,y, label='Straight line fit', color='r', linewidth = '2')\n",
    "    ax1.legend()\n",
    "    return(ax1)"
   ]
  },
  {
   "cell_type": "code",
   "execution_count": 7,
   "metadata": {},
   "outputs": [],
   "source": [
    "def linear_fit(x, m, c):\n",
    "    y = m*x + c\n",
    "    return(y)"
   ]
  },
  {
   "cell_type": "code",
   "execution_count": 8,
   "metadata": {},
   "outputs": [],
   "source": [
    "def straight_line_fit(temp, res_freq):\n",
    "    \n",
    "    init_params = [1, 3.0]\n",
    "    opt_cf_params, opt_confidence = opt.curve_fit(linear_fit, \n",
    "                                                 temp, res_freq, init_params)\n",
    "    cf_errors = np.sqrt(np.diag(opt_confidence))\n",
    "    y = linear_fit(temp, opt_cf_params[0], opt_cf_params[1])\n",
    "    \n",
    "    return(opt_cf_params, cf_errors, y)\n",
    "    "
   ]
  },
  {
   "cell_type": "code",
   "execution_count": 18,
   "metadata": {},
   "outputs": [],
   "source": [
    "def save_data(ND_cluster, date, opt_cf_params, cf_errors, fig1):\n",
    "    \n",
    "    destination_folder = 'C:\\\\Users\\\\Ryan\\\\Desktop\\\\20200623_Thermometry\\\\res_freq(T)\\\\'  \n",
    "    output_data_file = destination_folder + date + '_res_freq(T).dat'\n",
    "    # Checking to see if the folder exists in which to save the data, and creating it if it does not\n",
    "    if not os.path.exists(destination_folder):\n",
    "        os.makedirs(destination_folder)\n",
    "        # Checking the output file exists and creating and initialising it if not\n",
    "    if os.path.isfile(output_data_file) == False:\n",
    "        with open(output_data_file, \"w\") as wf:\n",
    "            wf.write('ND Cluster' +  ', \\t' + 'dD(T)/dT (kHz/K)' +  ', \\t' \n",
    "                     + 'error dD(T)/dT (kHz/K)' + ', \\t' + 'y intercept (GHz)' + ', \\t'\n",
    "                     + 'error y intercept (GHz)' + '\\n')\n",
    "    # Writing contrast dip description to the .dat file\n",
    "    \n",
    "    with open(output_data_file, \"a\") as wf:        \n",
    "        wf.write(str(ND_cluster) + ', \\t' + str(opt_cf_params[0]*10**6) + ', \\t'\n",
    "                 + str(cf_errors[0]*10**6) + ', \\t' + \n",
    "                 str(opt_cf_params[1]) + ', \\t' + str(cf_errors[1]))\n",
    "        wf.write('\\n')\n",
    "\n",
    "#    # Saving a plot to a folder. \n",
    "    fig1.savefig(destination_folder + date + '_' + 'ND_Cluster_' + \n",
    "                 str(ND_cluster) + '_Temp_gradient'+'.pdf', transparent = True)"
   ]
  },
  {
   "cell_type": "code",
   "execution_count": 27,
   "metadata": {},
   "outputs": [],
   "source": [
    "folder_name, date, file_name = get_file_name()\n",
    "data_set = import_data(folder_name, file_name)\n",
    "start_index, stop_index = get_ND_numbers(data_set)\n",
    "\n",
    "for i in range(len(start_index)):\n",
    "    ND_Cluster = int(data_set[start_index[i],0])\n",
    "    fig1, ax1,temp, res_freq = scatter_plot(data_set,start_index[i],stop_index[i]+1, ND_Cluster)\n",
    "    opt_cf_params, cf_errors, fitted_y = straight_line_fit(temp, res_freq)\n",
    "    linear_fitting_plot(temp, fitted_y, ax1)\n",
    "    save_data(ND_Cluster, date, opt_cf_params, cf_errors, fig1)\n",
    "    time.sleep(0.1)\n",
    "    plot.close(fig1)\n"
   ]
  },
  {
   "cell_type": "code",
   "execution_count": null,
   "metadata": {},
   "outputs": [],
   "source": []
  }
 ],
 "metadata": {
  "kernelspec": {
   "display_name": "Python 3",
   "language": "python",
   "name": "python3"
  },
  "language_info": {
   "codemirror_mode": {
    "name": "ipython",
    "version": 3
   },
   "file_extension": ".py",
   "mimetype": "text/x-python",
   "name": "python",
   "nbconvert_exporter": "python",
   "pygments_lexer": "ipython3",
   "version": "3.7.7"
  }
 },
 "nbformat": 4,
 "nbformat_minor": 4
}
