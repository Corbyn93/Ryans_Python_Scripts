{
 "cells": [
  {
   "cell_type": "markdown",
   "metadata": {},
   "source": [
    "Creator: Ryan Corbyn\n",
    "Date created: 16/10/2020\n",
    "\n",
    "Edited:     Name         Date\n",
    "\n",
    "This is a program that is designed to load in data from a full CW ODMR measurement. \n",
    "\n",
    "From here, the line scans are averaged to give the mean ODMR spectra, this is then plotted as a scatter graph and a double lorentzian line shape is fitted to the data. \n",
    "\n",
    "The fitting parameters are saved to a data file, along with the plot. "
   ]
  },
  {
   "cell_type": "code",
   "execution_count": 2,
   "metadata": {},
   "outputs": [],
   "source": [
    "import scipy.optimize as opt \n",
    "import numpy as np \n",
    "import matplotlib.pyplot as plot \n",
    "import os \n",
    "import pandas as pd"
   ]
  },
  {
   "cell_type": "code",
   "execution_count": 3,
   "metadata": {},
   "outputs": [],
   "source": [
    "def load_data(file_path): \n",
    "    # load the ODMR data file in to an np array \n",
    "    data_array = np.loadtxt(file_path)\n",
    "    return(data_array)"
   ]
  },
  {
   "cell_type": "code",
   "execution_count": 4,
   "metadata": {},
   "outputs": [],
   "source": [
    "def load_params(file_path):\n",
    "    # load in the params data. \n",
    "    params_data = pd.read_table(file_path, names = ['Parameter name', 'Parameter value']) \n",
    "    return(params_data)"
   ]
  },
  {
   "cell_type": "code",
   "execution_count": 5,
   "metadata": {},
   "outputs": [],
   "source": [
    "def create_freq_scan(start, stop, step_size):\n",
    "    # takes the scan parameters from the params data file. \n",
    "    step_size_GHz = step_size/1000\n",
    "    number_of_steps = int((stop-start)/step_size_GHz)+1\n",
    "    freq = np.linspace(start, stop, number_of_steps)\n",
    "    \n",
    "    return(freq)"
   ]
  },
  {
   "cell_type": "code",
   "execution_count": 6,
   "metadata": {},
   "outputs": [],
   "source": [
    "def set_plot_params():\n",
    "    # formats the plot parameters \n",
    "    plot.rcParams.update({'font.size' : 20})\n",
    "    plot.rcParams.update({'figure.figsize' :[12, 8]})"
   ]
  },
  {
   "cell_type": "code",
   "execution_count": 7,
   "metadata": {},
   "outputs": [],
   "source": [
    "def plot_heat_map(freq, odmr_data, dwell_time):\n",
    "    # plot the full ODMR data as a heatmap. \n",
    "    number_of_scans = len(odmr_data)\n",
    "    Y = np.linspace(1, number_of_scans, number_of_scans) \n",
    "    \n",
    "    fig1, ax1 = plot.subplots()\n",
    "    \n",
    "    hm = ax1.pcolormesh(freq, Y, odmr_data, cmap = 'viridis')\n",
    "    fig1.colorbar(hm, label = '\\ncounts per ' + str(dwell_time) + r' $\\mu$s')\n",
    "    ax1.set_xlim(np.min(freq),np.max(freq))\n",
    "    ax1.set_xticks(np.arange(np.min(freq), np.max(freq), 0.05))\n",
    "    ax1.set_xlabel('Microwave Frequency (GHz)')\n",
    "    ax1.set_ylabel('Number of scans')\n",
    "    \n",
    "    return(fig1, ax1)"
   ]
  },
  {
   "cell_type": "code",
   "execution_count": 8,
   "metadata": {},
   "outputs": [],
   "source": [
    "def mean_data(odmr_data):\n",
    "    # find the mean data \n",
    "    mean_odmr_data =  np.mean(odmr_data, axis=0)\n",
    "    return(mean_odmr_data)"
   ]
  },
  {
   "cell_type": "code",
   "execution_count": 9,
   "metadata": {},
   "outputs": [],
   "source": [
    "def normalise_data(mean_odmr_data):\n",
    "    # normalise the data to the maximum value of the mean dataset. \n",
    "    norm_odmr_data = mean_odmr_data/(np.mean(mean_odmr_data[0:50]))\n",
    "    return(norm_odmr_data)"
   ]
  },
  {
   "cell_type": "code",
   "execution_count": 10,
   "metadata": {},
   "outputs": [],
   "source": [
    "def scatter_plot(freq,mean_data):\n",
    "    # Creates a scatter plot for experimental data and plot parameters. \n",
    "    fig2, ax2 = plot.subplots()\n",
    "    plot.rcParams.update({'font.size' : 16})\n",
    "    plot.rcParams.update({'figure.figsize' :[12, 8]})\n",
    "    ax2.scatter(freq, mean_data, marker = 'x',color = 'r', label = \"ODMR Data\")\n",
    "    ax2.set_xlim(np.min(freq),np.max(freq))\n",
    "    return(fig2, ax2)"
   ]
  },
  {
   "cell_type": "code",
   "execution_count": 11,
   "metadata": {},
   "outputs": [],
   "source": [
    "def get_init_params(odmr_data, freq):\n",
    "    # find the minima of the ODMR spectra and ODMR dip contrast and \n",
    "    # flourenscent baseline.\n",
    "    half_data_length = int((len(freq)-1)/2)\n",
    "    \n",
    "    #find the indices for the lowest frequency value\n",
    "    low_freq_min_index = np.where(odmr_data[0:half_data_length] == np.min(odmr_data[0:half_data_length]))\n",
    "    high_freq_min_index = np.where(odmr_data[half_data_length:len(odmr_data)-1] == \n",
    "                                   np.min(odmr_data[half_data_length:len(odmr_data)-1]))\n",
    "   \n",
    "    # frequencies corresponding to ODMR minima\n",
    "    freq_mins = [np.float(freq[low_freq_min_index[0]]),\n",
    "                 np.float(freq[high_freq_min_index[0]+half_data_length])]\n",
    "    \n",
    "    # manually set frequencies. \n",
    "    \n",
    "    #freq_mins = [2.78, 2.96]\n",
    "    \n",
    "    flourescent_baseline = np.mean(odmr_data)\n",
    "    \n",
    "    # approximate contrast for ODMR peaks\n",
    "    contrast = [np.float((1-odmr_data[low_freq_min_index[0]]/flourescent_baseline)), \n",
    "                np.float((1-odmr_data[high_freq_min_index[0]+half_data_length]/flourescent_baseline))]\n",
    "\n",
    "    return(freq_mins, contrast, flourescent_baseline)"
   ]
  },
  {
   "cell_type": "code",
   "execution_count": 12,
   "metadata": {},
   "outputs": [],
   "source": [
    "def optimised_lorentz_fit(freq, mean_data, init_params):\n",
    "    # A method to find the fitting prameters for the ODMR dataset. \n",
    "    y_error = np.sqrt(mean_data) # poissonian noise\n",
    "    coeffs, confidence = opt.curve_fit(quad_lorentz, freq, mean_data, init_params, sigma = y_error)\n",
    "    opt_error = np.sqrt(np.diag(confidence))\n",
    "    \n",
    "    return(coeffs, opt_error)"
   ]
  },
  {
   "cell_type": "code",
   "execution_count": 13,
   "metadata": {},
   "outputs": [],
   "source": [
    "def quad_lorentz(x, A1, X01, sig1, A2, X02, sig2, A3, X03, sig3, A4, X04, sig4, offset): \n",
    "    #P0[0], P0[1], P0[2], P0[3], P0[4], P0[5], P0[6]):\n",
    "    # A1 = Amplitude 1, X01 = Resonance 1, sig1 = FWHM 1\n",
    "    # A2 = Amplitude 2, X02 = Resonance 2, sig2 = FWHM 2, offset = offset\n",
    "    \n",
    "    first_peak = (A1/np.pi)*((sig1**2)/(sig1**2 +(2*x-2*X01)**2))\n",
    "    second_peak = (A2/np.pi)*((sig2**2)/(sig2**2 +(2*x-2*X02)**2))\n",
    "    third_peak = (A3/np.pi)*((sig3**2)/(sig3**2 +(2*x-2*X03)**2))\n",
    "    forth_peak = (A4/np.pi)*((sig4**2)/(sig4**2 +(2*x-2*X04)**2))\n",
    "\n",
    "    return (first_peak + second_peak + third_peak + forth_peak + offset)"
   ]
  },
  {
   "cell_type": "code",
   "execution_count": 14,
   "metadata": {},
   "outputs": [],
   "source": [
    "def plot_fitting(ax2, freq, y_fit):\n",
    "    # plot the y fit. \n",
    "    \n",
    "    ax2.plot(freq, y_fit, color='k', label='Double Lorentz \\nfitting')\n",
    "    ax2.legend()\n",
    "    ax2.set_xlabel('Microwave Frequency (GHz)', fontsize = 18)\n",
    "    ax2.set_ylabel('Normalised Counts', fontsize = 18)\n",
    "    \n",
    "    return(ax2)\n",
    " "
   ]
  },
  {
   "cell_type": "code",
   "execution_count": 15,
   "metadata": {},
   "outputs": [],
   "source": [
    "def get_SNR(mean_odmr_data):\n",
    "    # determine the signal to noise ratio for the mean ODMR data\n",
    "    \n",
    "    qe = 0.7 # Quantum efficency of our detectors for NV emission wavelengths. \n",
    "    snr = (qe*mean_odmr_data)/np.sqrt(qe*mean_odmr_data)"
   ]
  },
  {
   "cell_type": "code",
   "execution_count": 16,
   "metadata": {},
   "outputs": [],
   "source": [
    "def get_fitting_contrast(res_freq1, res_freq2, res_freq3, res_freq4, freq, y_fit, baseline, step):\n",
    "    \n",
    "    step = str(step/1000) # step size in GHz and string\n",
    "    decimals = step[::-1].find('.') # find the number of decimal points in the steps. \n",
    "    \n",
    "    first_freq_min_index = (np.abs(freq-round(res_freq1, decimals))).argmin()\n",
    "    second_freq_min_index =(np.abs(freq-round(res_freq2, decimals))).argmin()\n",
    "    third_freq_min_index =(np.abs(freq-round(res_freq3, decimals))).argmin()\n",
    "    forth_freq_min_index =(np.abs(freq-round(res_freq4, decimals))).argmin()\n",
    "\n",
    "    contrast = [(baseline - y_fit[first_freq_min_index])/baseline, \n",
    "                (baseline - y_fit[second_freq_min_index])/baseline,\n",
    "                (baseline - y_fit[third_freq_min_index])/baseline,\n",
    "                (baseline - y_fit[forth_freq_min_index])/baseline]\n",
    "    \n",
    "    return(contrast)"
   ]
  },
  {
   "cell_type": "code",
   "execution_count": 17,
   "metadata": {},
   "outputs": [],
   "source": [
    "def get_r_squared(x, y_data, y_fitting):\n",
    "    # This is a function used to generate the goodness of fit metric r^2.\n",
    "    # This value will be used to judge the effectiveness of the curve fitting \n",
    "    # used to find the resonant frequencies of the NV centre.\n",
    "    \n",
    "    y_data_mean = np.mean(y_data)\n",
    "    SStot = np.sum((y_data - y_data_mean)**2) # Find the variation in experimental y values.\n",
    "    SSres = np.sum((y_data - y_fitting)**2) # Find the variation betweem the experimental and fitted y values. \n",
    "    \n",
    "    r_squared = 1 - (SSres/SStot) # Calculate R^2\n",
    "    \n",
    "    return(r_squared)"
   ]
  },
  {
   "cell_type": "code",
   "execution_count": 18,
   "metadata": {},
   "outputs": [],
   "source": [
    "def save_data(date, file_ID, fitted_contrast, coeffs, opt_error, r_squared, fig1, fig2):\n",
    "    \n",
    "    destination_folder = 'H:\\\\My Documents\\\\Strathclyde_Back_up\\\\Graphs_and_analysis\\\\ODMR\\\\' + date + '\\\\'\n",
    "    output_data_file = destination_folder + date + '_4_peak_fit_NVScan_analysis.dat'\n",
    "    \n",
    "    # Checking to see if the folder exists in which to save the data, and creating it if it does not\n",
    "    if not os.path.exists(destination_folder):\n",
    "        os.makedirs(destination_folder)\n",
    "        # Checking the output file exists and creating and initialising it if not\n",
    "    \n",
    "    if os.path.isfile(output_data_file) == False:\n",
    "        with open(output_data_file, \"w\") as wf:\n",
    "            wf.write('File name' +  ', \\t' +\n",
    "                     'Resonant frequency 1 (GHz)' + '\\t' + 'Error Resonant frequency 1 (GHz)' + '\\t' + \n",
    "                     'Resonant frequency 1 contrast (%)' + '\\t' + \n",
    "                     'FWHM 1 (MHz)' + '\\t' + 'FWHM 1 error (MHz)' + '\\t' + \n",
    "                     'Resonant frequency 2 (GHz)' + '\\t' + 'Error Resonant frequency 2 (GHz)' + '\\t' + \n",
    "                     'Resonant frequency 2 contrast (%)' + '\\t' + \n",
    "                     'FWHM 2 (MHz)' + '\\t' + 'FWHM 2 error (MHz)' + '\\t' + \n",
    "                     'Resonant frequency 3 (GHz)' + '\\t' + 'Error Resonant frequency 3 (GHz)' + '\\t' + \n",
    "                     'Resonant frequency 3 contrast (%)' + '\\t' + \n",
    "                     'FWHM 3 (MHz)' + '\\t' + 'FWHM 3 error (MHz)' + '\\t' + \n",
    "                     'Resonant frequency 4 (GHz)' + '\\t' + 'Error Resonant frequency 4 (GHz)' + '\\t' + \n",
    "                     'Resonant frequency 4 contrast (%)' + '\\t' + \n",
    "                     'FWHM 4 (MHz)' + '\\t' + 'FWHM 4 error (MHz)' + '\\t' +\n",
    "                     'Off Res Fluorescence intensity (per dwell time)' + '\\t' +'R^2 for fitting' +'\\n')\n",
    "    # Writing contrast dip description to the .dat file\n",
    "    \n",
    "    with open(output_data_file, \"a\") as wf:\n",
    "        wf.write(file_ID + ' \\t' +  \n",
    "                 str(coeffs[1]) + \" \\t\"  + str(opt_error[1]) + \" \\t\" + \n",
    "                 str(fitted_contrast[0]*100) + \" \\t\"  +  \n",
    "                 str(abs(coeffs[2])*1000) + \" \\t\" + str(opt_error[2]*1000) + \" \\t\" + \n",
    "                 str(coeffs[4]) + \" \\t\"  + str(opt_error[4]) + \" \\t\" + \n",
    "                 str(fitted_contrast[1]*100) + \" \\t\" +\n",
    "                 str(abs(coeffs[5])*1000) + \" \\t\" + str(opt_error[5]*1000) + \" \\t\" + \n",
    "                 \n",
    "                 str(coeffs[7]) + \" \\t\"  + str(opt_error[7]) + \" \\t\" + \n",
    "                 str(fitted_contrast[2]*100) + \" \\t\"  +  \n",
    "                 str(abs(coeffs[7])*1000) + \" \\t\" + str(opt_error[7]*1000) + \" \\t\" + \n",
    "                 str(coeffs[10]) + \" \\t\"  + str(opt_error[10]) + \" \\t\" + \n",
    "                 str(fitted_contrast[3]*100) + \" \\t\" +\n",
    "                 str(abs(coeffs[10])*1000) + \" \\t\" + str(opt_error[10]*1000) + \" \\t\" + \n",
    "                 \n",
    "                 \n",
    "                 str(coeffs[12]) + \" \\t\" +str(r_squared) + '\\n')\n",
    "        \n",
    "    # Saving a plot of the raw data to a folder. \n",
    "    fig1.savefig(destination_folder + file_ID + '_heatmap.pdf', transparent = True)    \n",
    "    fig1.savefig(destination_folder + file_ID + '_heatmap.png', transparent = True) \n",
    "    \n",
    "    fig2.savefig(destination_folder + file_ID + '.pdf', transparent = True)    \n",
    "    fig2.savefig(destination_folder + file_ID + '.png', transparent = True) \n",
    "    "
   ]
  },
  {
   "cell_type": "code",
   "execution_count": 19,
   "metadata": {},
   "outputs": [
    {
     "ename": "OSError",
     "evalue": "I:\\Science\\Physics-Nanobiophotonics\\Group\\User Data\\ODMR\\ODMR and imaging\\2021\\20210914\\20210914\\20210914_NVScan_09.dat not found.",
     "output_type": "error",
     "traceback": [
      "\u001b[1;31m---------------------------------------------------------------------------\u001b[0m",
      "\u001b[1;31mOSError\u001b[0m                                   Traceback (most recent call last)",
      "\u001b[1;32m<ipython-input-19-d0294fde263a>\u001b[0m in \u001b[0;36m<module>\u001b[1;34m\u001b[0m\n\u001b[0;32m     10\u001b[0m \u001b[0mfile_name\u001b[0m \u001b[1;33m=\u001b[0m \u001b[0mdate\u001b[0m \u001b[1;33m+\u001b[0m \u001b[1;34m'_NVScan_09'\u001b[0m\u001b[1;33m\u001b[0m\u001b[1;33m\u001b[0m\u001b[0m\n\u001b[0;32m     11\u001b[0m \u001b[1;33m\u001b[0m\u001b[0m\n\u001b[1;32m---> 12\u001b[1;33m \u001b[0modmr_data\u001b[0m \u001b[1;33m=\u001b[0m \u001b[0mload_data\u001b[0m\u001b[1;33m(\u001b[0m\u001b[0mfolder_path\u001b[0m \u001b[1;33m+\u001b[0m \u001b[0mdate\u001b[0m \u001b[1;33m+\u001b[0m \u001b[1;34m'\\\\'\u001b[0m \u001b[1;33m+\u001b[0m \u001b[0mfile_name\u001b[0m \u001b[1;33m+\u001b[0m \u001b[1;34m'.dat'\u001b[0m\u001b[1;33m)\u001b[0m\u001b[1;33m\u001b[0m\u001b[1;33m\u001b[0m\u001b[0m\n\u001b[0m\u001b[0;32m     13\u001b[0m \u001b[0mparams_file\u001b[0m \u001b[1;33m=\u001b[0m \u001b[0mload_params\u001b[0m\u001b[1;33m(\u001b[0m\u001b[0mfolder_path\u001b[0m \u001b[1;33m+\u001b[0m \u001b[0mdate\u001b[0m \u001b[1;33m+\u001b[0m \u001b[1;34m'\\\\'\u001b[0m \u001b[1;33m+\u001b[0m \u001b[0mfile_name\u001b[0m \u001b[1;33m+\u001b[0m \u001b[1;34m'Params.dat'\u001b[0m\u001b[1;33m)\u001b[0m\u001b[1;33m\u001b[0m\u001b[1;33m\u001b[0m\u001b[0m\n\u001b[0;32m     14\u001b[0m \u001b[0mparams_values\u001b[0m \u001b[1;33m=\u001b[0m \u001b[0mparams_file\u001b[0m\u001b[1;33m[\u001b[0m\u001b[1;34m'Parameter value'\u001b[0m\u001b[1;33m]\u001b[0m\u001b[1;33m\u001b[0m\u001b[1;33m\u001b[0m\u001b[0m\n",
      "\u001b[1;32m<ipython-input-3-38e3e8739c7e>\u001b[0m in \u001b[0;36mload_data\u001b[1;34m(file_path)\u001b[0m\n\u001b[0;32m      1\u001b[0m \u001b[1;32mdef\u001b[0m \u001b[0mload_data\u001b[0m\u001b[1;33m(\u001b[0m\u001b[0mfile_path\u001b[0m\u001b[1;33m)\u001b[0m\u001b[1;33m:\u001b[0m\u001b[1;33m\u001b[0m\u001b[1;33m\u001b[0m\u001b[0m\n\u001b[0;32m      2\u001b[0m     \u001b[1;31m# load the ODMR data file in to an np array\u001b[0m\u001b[1;33m\u001b[0m\u001b[1;33m\u001b[0m\u001b[1;33m\u001b[0m\u001b[0m\n\u001b[1;32m----> 3\u001b[1;33m     \u001b[0mdata_array\u001b[0m \u001b[1;33m=\u001b[0m \u001b[0mnp\u001b[0m\u001b[1;33m.\u001b[0m\u001b[0mloadtxt\u001b[0m\u001b[1;33m(\u001b[0m\u001b[0mfile_path\u001b[0m\u001b[1;33m)\u001b[0m\u001b[1;33m\u001b[0m\u001b[1;33m\u001b[0m\u001b[0m\n\u001b[0m\u001b[0;32m      4\u001b[0m     \u001b[1;32mreturn\u001b[0m\u001b[1;33m(\u001b[0m\u001b[0mdata_array\u001b[0m\u001b[1;33m)\u001b[0m\u001b[1;33m\u001b[0m\u001b[1;33m\u001b[0m\u001b[0m\n",
      "\u001b[1;32m~\\.conda\\envs\\DataAnalysis\\lib\\site-packages\\numpy\\lib\\npyio.py\u001b[0m in \u001b[0;36mloadtxt\u001b[1;34m(fname, dtype, comments, delimiter, converters, skiprows, usecols, unpack, ndmin, encoding, max_rows)\u001b[0m\n\u001b[0;32m    959\u001b[0m             \u001b[0mfname\u001b[0m \u001b[1;33m=\u001b[0m \u001b[0mos_fspath\u001b[0m\u001b[1;33m(\u001b[0m\u001b[0mfname\u001b[0m\u001b[1;33m)\u001b[0m\u001b[1;33m\u001b[0m\u001b[1;33m\u001b[0m\u001b[0m\n\u001b[0;32m    960\u001b[0m         \u001b[1;32mif\u001b[0m \u001b[0m_is_string_like\u001b[0m\u001b[1;33m(\u001b[0m\u001b[0mfname\u001b[0m\u001b[1;33m)\u001b[0m\u001b[1;33m:\u001b[0m\u001b[1;33m\u001b[0m\u001b[1;33m\u001b[0m\u001b[0m\n\u001b[1;32m--> 961\u001b[1;33m             \u001b[0mfh\u001b[0m \u001b[1;33m=\u001b[0m \u001b[0mnp\u001b[0m\u001b[1;33m.\u001b[0m\u001b[0mlib\u001b[0m\u001b[1;33m.\u001b[0m\u001b[0m_datasource\u001b[0m\u001b[1;33m.\u001b[0m\u001b[0mopen\u001b[0m\u001b[1;33m(\u001b[0m\u001b[0mfname\u001b[0m\u001b[1;33m,\u001b[0m \u001b[1;34m'rt'\u001b[0m\u001b[1;33m,\u001b[0m \u001b[0mencoding\u001b[0m\u001b[1;33m=\u001b[0m\u001b[0mencoding\u001b[0m\u001b[1;33m)\u001b[0m\u001b[1;33m\u001b[0m\u001b[1;33m\u001b[0m\u001b[0m\n\u001b[0m\u001b[0;32m    962\u001b[0m             \u001b[0mfencoding\u001b[0m \u001b[1;33m=\u001b[0m \u001b[0mgetattr\u001b[0m\u001b[1;33m(\u001b[0m\u001b[0mfh\u001b[0m\u001b[1;33m,\u001b[0m \u001b[1;34m'encoding'\u001b[0m\u001b[1;33m,\u001b[0m \u001b[1;34m'latin1'\u001b[0m\u001b[1;33m)\u001b[0m\u001b[1;33m\u001b[0m\u001b[1;33m\u001b[0m\u001b[0m\n\u001b[0;32m    963\u001b[0m             \u001b[0mfh\u001b[0m \u001b[1;33m=\u001b[0m \u001b[0miter\u001b[0m\u001b[1;33m(\u001b[0m\u001b[0mfh\u001b[0m\u001b[1;33m)\u001b[0m\u001b[1;33m\u001b[0m\u001b[1;33m\u001b[0m\u001b[0m\n",
      "\u001b[1;32m~\\.conda\\envs\\DataAnalysis\\lib\\site-packages\\numpy\\lib\\_datasource.py\u001b[0m in \u001b[0;36mopen\u001b[1;34m(path, mode, destpath, encoding, newline)\u001b[0m\n\u001b[0;32m    193\u001b[0m \u001b[1;33m\u001b[0m\u001b[0m\n\u001b[0;32m    194\u001b[0m     \u001b[0mds\u001b[0m \u001b[1;33m=\u001b[0m \u001b[0mDataSource\u001b[0m\u001b[1;33m(\u001b[0m\u001b[0mdestpath\u001b[0m\u001b[1;33m)\u001b[0m\u001b[1;33m\u001b[0m\u001b[1;33m\u001b[0m\u001b[0m\n\u001b[1;32m--> 195\u001b[1;33m     \u001b[1;32mreturn\u001b[0m \u001b[0mds\u001b[0m\u001b[1;33m.\u001b[0m\u001b[0mopen\u001b[0m\u001b[1;33m(\u001b[0m\u001b[0mpath\u001b[0m\u001b[1;33m,\u001b[0m \u001b[0mmode\u001b[0m\u001b[1;33m,\u001b[0m \u001b[0mencoding\u001b[0m\u001b[1;33m=\u001b[0m\u001b[0mencoding\u001b[0m\u001b[1;33m,\u001b[0m \u001b[0mnewline\u001b[0m\u001b[1;33m=\u001b[0m\u001b[0mnewline\u001b[0m\u001b[1;33m)\u001b[0m\u001b[1;33m\u001b[0m\u001b[1;33m\u001b[0m\u001b[0m\n\u001b[0m\u001b[0;32m    196\u001b[0m \u001b[1;33m\u001b[0m\u001b[0m\n\u001b[0;32m    197\u001b[0m \u001b[1;33m\u001b[0m\u001b[0m\n",
      "\u001b[1;32m~\\.conda\\envs\\DataAnalysis\\lib\\site-packages\\numpy\\lib\\_datasource.py\u001b[0m in \u001b[0;36mopen\u001b[1;34m(self, path, mode, encoding, newline)\u001b[0m\n\u001b[0;32m    533\u001b[0m                                       encoding=encoding, newline=newline)\n\u001b[0;32m    534\u001b[0m         \u001b[1;32melse\u001b[0m\u001b[1;33m:\u001b[0m\u001b[1;33m\u001b[0m\u001b[1;33m\u001b[0m\u001b[0m\n\u001b[1;32m--> 535\u001b[1;33m             \u001b[1;32mraise\u001b[0m \u001b[0mIOError\u001b[0m\u001b[1;33m(\u001b[0m\u001b[1;34m\"%s not found.\"\u001b[0m \u001b[1;33m%\u001b[0m \u001b[0mpath\u001b[0m\u001b[1;33m)\u001b[0m\u001b[1;33m\u001b[0m\u001b[1;33m\u001b[0m\u001b[0m\n\u001b[0m\u001b[0;32m    536\u001b[0m \u001b[1;33m\u001b[0m\u001b[0m\n\u001b[0;32m    537\u001b[0m \u001b[1;33m\u001b[0m\u001b[0m\n",
      "\u001b[1;31mOSError\u001b[0m: I:\\Science\\Physics-Nanobiophotonics\\Group\\User Data\\ODMR\\ODMR and imaging\\2021\\20210914\\20210914\\20210914_NVScan_09.dat not found."
     ]
    }
   ],
   "source": [
    "#######\n",
    " # This portion of the code produced the ODMR data plotting and the double lorentz fitting and \n",
    " # Saves this data into a text file and the 2 plots generated. \n",
    "#######\n",
    "\n",
    "# Load in the data file into an np array, and freqeuncy scan parameters \n",
    "# into a pandas array.\n",
    "folder_path = 'I:\\\\Science\\\\Physics-Nanobiophotonics\\\\Group\\\\User Data\\\\ODMR\\\\ODMR and imaging\\\\2021\\\\20210914\\\\'\n",
    "date = '20210914'\n",
    "file_name = date + '_NVScan_09'\n",
    "\n",
    "odmr_data = load_data(folder_path + date + '\\\\' + file_name + '.dat')\n",
    "params_file = load_params(folder_path + date + '\\\\' + file_name + 'Params.dat')\n",
    "params_values = params_file['Parameter value']\n",
    "\n",
    "# Create the freqeuncy scan array. \n",
    "freq = create_freq_scan(params_values[0], params_values[1], params_values[2])\n",
    "\n",
    "# plot a colour map of the ODMR data and set plot format for the program. \n",
    "set_plot_params()\n",
    "\n",
    "fig1, ax1 = plot_heat_map(freq, odmr_data, params_values[3])\n",
    "\n",
    "# find the mean of the ODMR data\n",
    "mean_odmr_data = mean_data(odmr_data)\n",
    "# Normalise the dataset\n",
    "norm_mean_odmr = normalise_data(mean_odmr_data)\n",
    "\n",
    "# scatter plot of data\n",
    "fig2, ax2 = scatter_plot(freq, norm_mean_odmr)\n",
    "\n",
    "# find the freqeuncy points with the highest ODMR contrast\n",
    "freq_mins, contrast, flourescent_baseline = get_init_params(norm_mean_odmr, freq)\n",
    "\n",
    "# create the initial parameters for ODMR double lorentzian \n",
    "# line fitting\n",
    "#init_params = [contrast[0], freq_mins[0], 0.001, contrast[1], freq_mins[1], 0.001, flourescent_baseline]\n",
    "init_params = [contrast[0], 2.85, 0.001, contrast[1], 2.86, 0.001, contrast[1], 2.871, 0.001,\n",
    "               contrast[0], 2.88, 0.001, flourescent_baseline]\n",
    "\n",
    "\n",
    "\n",
    "# generate the optimised curve fit parameters. \n",
    "fitting_params, error_in_fit = optimised_lorentz_fit(freq[0:201], norm_mean_odmr[0:201], init_params)\n",
    "\n",
    "# create the double lorentz fit array\n",
    "y_fit = quad_lorentz(freq, fitting_params[0], fitting_params[1], fitting_params[2], \n",
    "                  fitting_params[3], fitting_params[4], fitting_params[5], \n",
    "                     fitting_params[6], fitting_params[7], fitting_params[8],\n",
    "                     fitting_params[9], fitting_params[10], fitting_params[11], fitting_params[12])\n",
    "\n",
    "#y_fit = quad_lorentz(freq, fitting_params[0], 2.85, fitting_params[2], \n",
    " #                 fitting_params[3], 2.86, fitting_params[5], \n",
    "  #                   fitting_params[0], 2.88, fitting_params[2],\n",
    "   #                  fitting_params[3], 2.89, fitting_params[5], fitting_params[12])\n",
    "\n",
    "# plot the fitting to ax2\n",
    "ax2 = plot_fitting(ax2, freq, y_fit)\n",
    "    \n",
    "# get the r^2 value for the fitting \n",
    "r_squared = get_r_squared(freq, norm_mean_odmr, y_fit)\n",
    "print(r_squared)\n",
    "\n",
    "fitted_contrast = get_fitting_contrast(fitting_params[1], fitting_params[4], fitting_params[7], fitting_params[10],\n",
    "                                       freq, y_fit,  \n",
    "                                       fitting_params[12], params_values[2])\n",
    "print(fitted_contrast)\n",
    "\n",
    "#save_data(date, file_name, fitted_contrast, fitting_params, error_in_fit, r_squared, fig1, fig2)"
   ]
  },
  {
   "cell_type": "code",
   "execution_count": 35,
   "metadata": {},
   "outputs": [
    {
     "name": "stdout",
     "output_type": "stream",
     "text": [
      "1.0010772290098016 2.8790576706092397\n"
     ]
    }
   ],
   "source": [
    "print(fitting_params[12], fitting_params[7])"
   ]
  },
  {
   "cell_type": "code",
   "execution_count": 44,
   "metadata": {},
   "outputs": [
    {
     "name": "stdout",
     "output_type": "stream",
     "text": [
      "[0.02127785379209101, 0.06970890721361588, 0.07558812411322084, 0.0289442357497571]\n"
     ]
    }
   ],
   "source": [
    "print(fitted_contrast)"
   ]
  },
  {
   "cell_type": "code",
   "execution_count": 45,
   "metadata": {},
   "outputs": [
    {
     "name": "stdout",
     "output_type": "stream",
     "text": [
      "0.6881059277836284\n"
     ]
    }
   ],
   "source": [
    "print(r_squared)"
   ]
  },
  {
   "cell_type": "code",
   "execution_count": 24,
   "metadata": {},
   "outputs": [
    {
     "data": {
      "text/plain": [
       "[<matplotlib.lines.Line2D at 0x2b59ab49f70>]"
      ]
     },
     "execution_count": 24,
     "metadata": {},
     "output_type": "execute_result"
    },
    {
     "data": {
      "image/png": "[encoded data removed]",
      "text/plain": [
       "<Figure size 864x576 with 1 Axes>"
      ]
     },
     "metadata": {
      "needs_background": "light"
     },
     "output_type": "display_data"
    }
   ],
   "source": [
    "plot.plot(freq[140:180], norm_mean_odmr[140:180])"
   ]
  },
  {
   "cell_type": "code",
   "execution_count": null,
   "metadata": {},
   "outputs": [],
   "source": []
  }
 ],
 "metadata": {
  "kernelspec": {
   "display_name": "Python 3",
   "language": "python",
   "name": "python3"
  },
  "language_info": {
   "codemirror_mode": {
    "name": "ipython",
    "version": 3
   },
   "file_extension": ".py",
   "mimetype": "text/x-python",
   "name": "python",
   "nbconvert_exporter": "python",
   "pygments_lexer": "ipython3",
   "version": "3.9.0"
  }
 },
 "nbformat": 4,
 "nbformat_minor": 4
}
