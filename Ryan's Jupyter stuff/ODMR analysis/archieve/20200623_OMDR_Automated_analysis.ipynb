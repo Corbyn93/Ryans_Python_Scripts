{
 "cells": [
  {
   "cell_type": "code",
   "execution_count": 22,
   "metadata": {},
   "outputs": [],
   "source": [
    "import numpy as np \n",
    "import scipy.optimize as opt\n",
    "import matplotlib.pyplot as plot\n",
    "import os \n",
    "import time\n",
    "####This program has some problems associated with it, so I need to go through this to discover what's wrong. "
   ]
  },
  {
   "cell_type": "code",
   "execution_count": 20,
   "metadata": {},
   "outputs": [],
   "source": [
    "def Load_Data_Files():\n",
    "# =============================================================================\n",
    "# This section of the code retrieves all the data files held within the folder\n",
    "# of interest and then orders them by sub-folder, and if they are \n",
    "# experimental data files or experimental parameter files\n",
    "# =============================================================================\n",
    "    # Set the folder position in the file directory\n",
    "    folder_directory = 'I:\\\\Science\\\\Physics-Nanobiophotonics\\\\Group\\\\User Data\\\\ODMR\\\\ODMR and imaging\\\\20200821'\n",
    "    date_position = folder_directory.find('2020')\n",
    "    date = folder_directory[date_position:date_position+8]\n",
    "\n",
    "    # Then the files for each folder are sorted into designated varibales. \n",
    "    file_directory = []\n",
    "     \n",
    "    for files in os.listdir(folder_directory):\n",
    "        #print(files)\n",
    "        time.sleep(1)\n",
    "        file_directory.append(folder_directory +  '\\\\' + files)\n",
    "        \n",
    "    \n",
    "    file_directory = np.array(file_directory)\n",
    "    return(file_directory, date)  \n"
   ]
  },
  {
   "cell_type": "code",
   "execution_count": 3,
   "metadata": {},
   "outputs": [],
   "source": [
    "def Sort_Data_Files(all_files):\n",
    "    data_files = []\n",
    "    params_files = []\n",
    "    \n",
    "    # Sorts all the files from Load_Data_Files into those containing experiment\n",
    "    # data and those containing the scan parameters. \n",
    "    for i in range(len(all_files[:,])):\n",
    "        if all_files[i,].find('NV') != -1:\n",
    "            if all_files[i,].find('Params') != -1:\n",
    "                params_files.append(all_files[i,])\n",
    "            else:\n",
    "                data_files.append(all_files[i,])\n",
    "        else: \n",
    "            continue\n",
    "    \n",
    "    return(np.array(data_files), np.array(params_files))"
   ]
  },
  {
   "cell_type": "code",
   "execution_count": 4,
   "metadata": {},
   "outputs": [],
   "source": [
    "def Analyse_CW_Data(data_files, params_files, date):\n",
    "    # This is the master control portion of the code, it determines which bits \n",
    "    # of analysis are performed on the data files. \n",
    "    for i in range(len(data_files[:,])):\n",
    "        data_file_name = data_files[i,]\n",
    "        data = Load_Data(data_file_name)\n",
    "        mean_data = Mean_Data(data)\n",
    "        \n",
    "        normalised_data, fluorescent_baseline = Normalise_Data(mean_data)\n",
    "        freq = Get_Freq_Data(params_files[i,])\n",
    "        fig1, ax1 = scatter_plot(freq, normalised_data)\n",
    "        fig2 = colour_plot(freq, data)\n",
    "        \n",
    "        peak_fittings = Peak_Fittings(freq, normalised_data, fluorescent_baseline, ax1)\n",
    "        save_data(date, data_file_name, peak_fittings, fig1, fig2)\n",
    "        time.sleep(0.5)\n",
    "        \n",
    "        print(data_file_name) \n",
    "        \n",
    "        plot.close(fig1)\n",
    "        plot.close(fig2)\n",
    "    \n",
    "    return(peak_fittings)"
   ]
  },
  {
   "cell_type": "code",
   "execution_count": 5,
   "metadata": {},
   "outputs": [],
   "source": [
    "def Load_Data(data_file):\n",
    "    data = np.loadtxt(data_file)\n",
    "    return(data)"
   ]
  },
  {
   "cell_type": "code",
   "execution_count": 6,
   "metadata": {},
   "outputs": [],
   "source": [
    "def Mean_Data(data):\n",
    "    mean_data = np.mean(data, axis = 0)\n",
    "    return(mean_data)\n",
    "    "
   ]
  },
  {
   "cell_type": "code",
   "execution_count": 7,
   "metadata": {},
   "outputs": [],
   "source": [
    "def Get_Freq_Data(params_file):\n",
    "    params = np.loadtxt(params_file, delimiter = '\\t', usecols = 1)\n",
    "    start = params[0]\n",
    "    stop = params[1]\n",
    "    no_of_steps = int(np.floor(1 + ((params[1] - params[0]))/(params[2]*0.001)))\n",
    "    # Creates a variable containing the applied frequencies. \n",
    "    freq = np.linspace(start, stop, no_of_steps)\n",
    "\n",
    "    return(freq)"
   ]
  },
  {
   "cell_type": "code",
   "execution_count": 19,
   "metadata": {},
   "outputs": [],
   "source": [
    "def Normalise_Data(mean_data):\n",
    "    # normalises the mean data to a mean of the first 10% of datapoint recorded. \n",
    "    fluorescent_baseline = np.mean(mean_data[0:int(len(mean_data)/10)])\n",
    "    normalised_data = mean_data#/fluorescent_baseline\n",
    "    return(normalised_data, fluorescent_baseline)"
   ]
  },
  {
   "cell_type": "code",
   "execution_count": 9,
   "metadata": {},
   "outputs": [],
   "source": [
    "def scatter_plot(freq,mean_data):\n",
    "    # Creates a scatter plot for experimental data and plot parameters. \n",
    "    fig1, ax1 = plot.subplots()\n",
    "    ax1.scatter(freq, mean_data, marker = 'x',color = 'r', label = \"mean ODMR linescan data\")\n",
    "#    plot.scatter(freq, mean_data, marker = 'o',color = 'b', label = \"Low resolution ODMR\")\n",
    "    ax1.set_xlabel('Microwave Frequency  (GHz)')\n",
    "    ax1.set_ylabel('Counts (per int. time)')\n",
    "    ax1 = plot.gca()\n",
    "    ax1.set_xlim(np.min(freq), np.max(freq))\n",
    "    ax1.set_ylim(np.min(mean_data)*0.97, np.max(mean_data)*1.01)\n",
    "    ax1.legend(loc = 'lower right')\n",
    "    return(fig1, ax1)"
   ]
  },
  {
   "cell_type": "code",
   "execution_count": 10,
   "metadata": {},
   "outputs": [],
   "source": [
    "def colour_plot(freq, data):\n",
    "    # A plot of all the data recorded in a 2D heatmap (not normalised so drift \n",
    "    # affected the results. \n",
    "    \n",
    "    Y = np.linspace(1, len(data[:,0]), len(data[:,0])) \n",
    "    # Y = Variable for the number of scans completed to take dataset. \n",
    "\n",
    "    fig2 = plot.figure()\n",
    "    plot.pcolormesh(freq, Y, data, cmap = 'viridis')\n",
    "    plot.colorbar()\n",
    "    plot.xlim(np.min(freq),np.max(freq))\n",
    "    plot.xticks(np.arange(np.min(freq), np.max(freq), 0.05))\n",
    "    plot.xlabel(r'$\\nu$  (GHz)')\n",
    "    plot.ylabel('Number of scans')\n",
    "    return(fig2)"
   ]
  },
  {
   "cell_type": "code",
   "execution_count": 11,
   "metadata": {},
   "outputs": [],
   "source": [
    "def get_fluorescent_minima(mean_data):\n",
    "    # A function that finds the two minima of the ODMR data.\n",
    "    mid_point = int(len(mean_data)/2)\n",
    "    minima = []\n",
    "    minima.append(min(mean_data[0:mid_point]))\n",
    "    minima.append(min(mean_data[mid_point+1 : len(mean_data)]))\n",
    "    \n",
    "    return (minima, mid_point)"
   ]
  },
  {
   "cell_type": "code",
   "execution_count": 12,
   "metadata": {},
   "outputs": [],
   "source": [
    "def get_res_frequency(mean_data, mid_point, minima, freq):\n",
    "    # Using the fluorescent minima poisitons, an approximation of the \n",
    "    # gaussian dip positions is made\n",
    "    \n",
    "    res_freq = np.empty([1,len(minima)])\n",
    "    for i in range(len(minima)):\n",
    "        min_arr_pos = np.where(mean_data[i*mid_point:i*mid_point+mid_point] == minima[i])\n",
    "        a = min_arr_pos[0]+i*mid_point\n",
    "        b = freq[a]\n",
    "        res_freq[0,i] = b\n",
    "    return (res_freq)"
   ]
  },
  {
   "cell_type": "code",
   "execution_count": 13,
   "metadata": {},
   "outputs": [],
   "source": [
    "def gauss_curve_fitting(freq, mean_data, cf_parameters):\n",
    "    # Finds the optimal fitting parameters and the associated error for a \n",
    "    # double Gauss curve fitting. \n",
    "    \n",
    "    optimised_cf_params, confidence = opt.curve_fit(Double_Gauss_Fit, \n",
    "                                        freq, mean_data, cf_parameters)\n",
    "    \n",
    "    cf_errors = np.sqrt(np.diag(confidence))\n",
    "    \n",
    "    return(optimised_cf_params, cf_errors) "
   ]
  },
  {
   "cell_type": "code",
   "execution_count": 14,
   "metadata": {},
   "outputs": [],
   "source": [
    "def lorentz_curve_fitting(freq, mean_data, cf_parameters):\n",
    "    # Finds the optimal fitting parameters and the associated error for a \n",
    "    # double Lorentzian curve fitting. \n",
    "    \n",
    "    optimised_cf_params, confidence = opt.curve_fit(Double_Lorentz_Fit, \n",
    "                                        freq, mean_data, cf_parameters)\n",
    "    \n",
    "    cf_errors = np.sqrt(np.diag(confidence))\n",
    "    \n",
    "    return(optimised_cf_params, cf_errors)   "
   ]
  },
  {
   "cell_type": "code",
   "execution_count": 15,
   "metadata": {},
   "outputs": [],
   "source": [
    "def Double_Gauss_Fit(freq, amp1, res_freq1, fwhm1, amp2, res_freq2, fwhm2, baseline):\n",
    "    y1 = -1* amp1 * np.exp(-1 * ( (res_freq1-freq)**2) / (fwhm1**2) )\n",
    "    y2 = -1* amp2 * np.exp(-1 * ( (res_freq2-freq)**2) / (fwhm2**2) )\n",
    "    \n",
    "    gauss_fit = y1 + y2 + baseline\n",
    "    return(gauss_fit)"
   ]
  },
  {
   "cell_type": "code",
   "execution_count": 16,
   "metadata": {},
   "outputs": [],
   "source": [
    "def Peak_Fittings(freq, mean_data, fluorescent_baseline, ax1):\n",
    "    # A function that finds the two minima of the ODMR data and then generates \n",
    "    # either a two peak lorenztian or gaussian fitting (user discretion) for \n",
    "    # the data.\n",
    "   \n",
    "    minimas, mid_point = get_fluorescent_minima(mean_data)\n",
    "    \n",
    "    dip_amplitude = [fluorescent_baseline - minimas[0],\n",
    "                     fluorescent_baseline - minimas[1] ]\n",
    "    \n",
    "    res_freq = get_res_frequency(mean_data, mid_point, minimas, freq)\n",
    "   # print(res_freq)\n",
    "        \n",
    "    line_width = [0.001, 0.001] # Approximation for the FWHM of the applied \n",
    "                                # line fit. \n",
    "    \n",
    "    cf_parameters = [dip_amplitude[0], res_freq[0,0], line_width[0], \n",
    "                     dip_amplitude[1], res_freq[0,1], line_width[1], \n",
    "                     fluorescent_baseline]    \n",
    "    \n",
    "    #print(cf_parameters)\n",
    "    \n",
    "    optimised_cf_params, cf_errors = gauss_curve_fitting(freq, mean_data, \n",
    "                                                         cf_parameters)\n",
    "\n",
    "\n",
    "    cf_fit_array = []\n",
    "    for i in range(len(optimised_cf_params)):\n",
    "        cf_fit_array.append(optimised_cf_params[i])\n",
    "        cf_fit_array.append(cf_errors[i])\n",
    "    \n",
    "   \n",
    "    curve_fit = Double_Gauss_Fit(freq, optimised_cf_params[0], \n",
    "                                   optimised_cf_params[1], \n",
    "                                 optimised_cf_params[2], optimised_cf_params[3], \n",
    "                                 optimised_cf_params[4], optimised_cf_params[5], \n",
    "                                 optimised_cf_params[6])\n",
    "    \n",
    "    ax1.plot(freq, curve_fit, color = 'k', label='Gaussian Fit')\n",
    "    ax1.legend()\n",
    "    \n",
    "    return(cf_fit_array) "
   ]
  },
  {
   "cell_type": "code",
   "execution_count": 17,
   "metadata": {},
   "outputs": [],
   "source": [
    "# =============================================================================\n",
    "# Saving the data gathered\n",
    "# =============================================================================\n",
    "def save_data(date, file_ID, peak_fittings, fig1, fig2):\n",
    "    \n",
    "    destination_folder = 'C:\\\\Users\\\\Ryan\\\\Desktop\\\\2020821_ODMR' + '\\\\'\n",
    "    output_data_file = destination_folder + date + '_ODMR_analysis.dat'\n",
    "    # Checking to see if the folder exists in which to save the data, and creating it if it does not\n",
    "    if not os.path.exists(destination_folder):\n",
    "        os.makedirs(destination_folder)\n",
    "        # Checking the output file exists and creating and initialising it if not\n",
    "    if os.path.isfile(output_data_file) == False:\n",
    "        with open(output_data_file, \"w\") as wf:\n",
    "            wf.write('File name' +  ', \\t' + 'Amplitude 1 (counts)' +  '\\t' \n",
    "                     + r'\\$delta$ Amplitude 1' + '\\t' + 'Resonant frequency 1 (GHz)' + \n",
    "                     '\\t' + r'\\$delta$ Resonant frequency 1 (GHz)' + '\\t' + \n",
    "                     'FWHM Peak 1 (GHz)' + '\\t' + r'\\$delta$ FMHW Peak 1' + '\\t'\n",
    "                     + 'Amplitude 2 (counts)' +  '\\t' + r'\\$delta$ Amplitude 2'\n",
    "                     + '\\t' + 'Resonant frequency 2 (GHz)' + '\\t' + \n",
    "                     r'\\$delta$ Resonant frequency 2 (GHz)' + '\\t' + \n",
    "                     'FWHM Peak 2 (GHz)' + '\\t' + r'\\$delta$ FMHW Peak 2' + '\\t'\n",
    "                     + 'Fluorescent Baseline (counts per int time)' + '\\t' + \n",
    "                     r'\\$delta$ Fluorescent Baseline' + '\\n')\n",
    "    # Writing contrast dip description to the .dat file\n",
    "    \n",
    "    with open(output_data_file, \"a\") as wf:        \n",
    "        wf.write(file_ID + '\\t')\n",
    "        for i in range(len(peak_fittings)):\n",
    "            wf.write(str(round(peak_fittings[i],6)) + '\\t')\n",
    "        wf.write('\\n')\n",
    "#   \n",
    "    \n",
    "    find_file_name = file_ID.find('Scan')\n",
    "    find_dot = file_ID.find('.')\n",
    "    short_file_name = file_ID[find_file_name + 6 : find_dot]\n",
    "\n",
    "#    # Saving a plot to a folder. \n",
    "    fig1.savefig(destination_folder + short_file_name + '_scatter.png', transparent = True)    \n",
    "    fig2.savefig(destination_folder + short_file_name + '_heatmap.png', transparent = True)\n",
    "   "
   ]
  },
  {
   "cell_type": "code",
   "execution_count": 21,
   "metadata": {
    "scrolled": false
   },
   "outputs": [
    {
     "name": "stdout",
     "output_type": "stream",
     "text": [
      "I:\\Science\\Physics-Nanobiophotonics\\Group\\User Data\\ODMR\\ODMR and imaging\\20200821\\20200821_NV_Scan_01.dat\n",
      "I:\\Science\\Physics-Nanobiophotonics\\Group\\User Data\\ODMR\\ODMR and imaging\\20200821\\20200821_NV_Scan_02.dat\n",
      "I:\\Science\\Physics-Nanobiophotonics\\Group\\User Data\\ODMR\\ODMR and imaging\\20200821\\20200821_NV_Scan_03.dat\n",
      "I:\\Science\\Physics-Nanobiophotonics\\Group\\User Data\\ODMR\\ODMR and imaging\\20200821\\20200821_NV_Scan_04.dat\n",
      "I:\\Science\\Physics-Nanobiophotonics\\Group\\User Data\\ODMR\\ODMR and imaging\\20200821\\20200821_NV_Scan_05.dat\n",
      "I:\\Science\\Physics-Nanobiophotonics\\Group\\User Data\\ODMR\\ODMR and imaging\\20200821\\20200821_NV_Scan_06.dat\n",
      "I:\\Science\\Physics-Nanobiophotonics\\Group\\User Data\\ODMR\\ODMR and imaging\\20200821\\20200821_NV_Scan_07.dat\n",
      "I:\\Science\\Physics-Nanobiophotonics\\Group\\User Data\\ODMR\\ODMR and imaging\\20200821\\20200821_NV_Scan_08.dat\n",
      "I:\\Science\\Physics-Nanobiophotonics\\Group\\User Data\\ODMR\\ODMR and imaging\\20200821\\20200821_NV_Scan_09.dat\n",
      "I:\\Science\\Physics-Nanobiophotonics\\Group\\User Data\\ODMR\\ODMR and imaging\\20200821\\20200821_NV_Scan_10.dat\n",
      "I:\\Science\\Physics-Nanobiophotonics\\Group\\User Data\\ODMR\\ODMR and imaging\\20200821\\20200821_NV_Scan_11.dat\n"
     ]
    },
    {
     "name": "stderr",
     "output_type": "stream",
     "text": [
      "C:\\Users\\Ryan\\AppData\\Local\\conda\\conda\\envs\\Ryan\\lib\\site-packages\\ipykernel_launcher.py:8: RuntimeWarning: invalid value encountered in sqrt\n",
      "  \n"
     ]
    },
    {
     "name": "stdout",
     "output_type": "stream",
     "text": [
      "I:\\Science\\Physics-Nanobiophotonics\\Group\\User Data\\ODMR\\ODMR and imaging\\20200821\\20200821_NV_Scan_12.dat\n",
      "I:\\Science\\Physics-Nanobiophotonics\\Group\\User Data\\ODMR\\ODMR and imaging\\20200821\\20200821_NV_Scan_13.dat\n",
      "I:\\Science\\Physics-Nanobiophotonics\\Group\\User Data\\ODMR\\ODMR and imaging\\20200821\\20200821_NV_Scan_14.dat\n",
      "I:\\Science\\Physics-Nanobiophotonics\\Group\\User Data\\ODMR\\ODMR and imaging\\20200821\\20200821_NV_Scan_15.dat\n",
      "I:\\Science\\Physics-Nanobiophotonics\\Group\\User Data\\ODMR\\ODMR and imaging\\20200821\\20200821_NV_Scan_16.dat\n",
      "I:\\Science\\Physics-Nanobiophotonics\\Group\\User Data\\ODMR\\ODMR and imaging\\20200821\\20200821_NV_Scan_17.dat\n",
      "I:\\Science\\Physics-Nanobiophotonics\\Group\\User Data\\ODMR\\ODMR and imaging\\20200821\\20200821_NV_Scan_18.dat\n",
      "I:\\Science\\Physics-Nanobiophotonics\\Group\\User Data\\ODMR\\ODMR and imaging\\20200821\\20200821_NV_Scan_19.dat\n",
      "I:\\Science\\Physics-Nanobiophotonics\\Group\\User Data\\ODMR\\ODMR and imaging\\20200821\\20200821_NV_Scan_20.dat\n",
      "I:\\Science\\Physics-Nanobiophotonics\\Group\\User Data\\ODMR\\ODMR and imaging\\20200821\\20200821_NV_Scan_21.dat\n",
      "I:\\Science\\Physics-Nanobiophotonics\\Group\\User Data\\ODMR\\ODMR and imaging\\20200821\\20200821_NV_Scan_22.dat\n"
     ]
    }
   ],
   "source": [
    "all_files, date = Load_Data_Files()\n",
    "\n",
    "data_files, params_files = Sort_Data_Files(all_files)\n",
    "ana = Analyse_CW_Data(data_files, params_files, date)"
   ]
  },
  {
   "cell_type": "code",
   "execution_count": null,
   "metadata": {},
   "outputs": [],
   "source": []
  }
 ],
 "metadata": {
  "kernelspec": {
   "display_name": "Python 3",
   "language": "python",
   "name": "python3"
  },
  "language_info": {
   "codemirror_mode": {
    "name": "ipython",
    "version": 3
   },
   "file_extension": ".py",
   "mimetype": "text/x-python",
   "name": "python",
   "nbconvert_exporter": "python",
   "pygments_lexer": "ipython3",
   "version": "3.7.7"
  }
 },
 "nbformat": 4,
 "nbformat_minor": 4
}
