{
 "cells": [
  {
   "cell_type": "markdown",
   "metadata": {},
   "source": [
    "Code written to test my theory of how to calculate the B field applied to a NV centre using the 11 point measurement procedure. \n"
   ]
  },
  {
   "cell_type": "code",
   "execution_count": 42,
   "metadata": {},
   "outputs": [],
   "source": [
    "import scipy.optimize as opt \n",
    "import numpy as np \n",
    "import pandas as pd\n",
    "import matplotlib.pyplot as plot \n"
   ]
  },
  {
   "cell_type": "code",
   "execution_count": 43,
   "metadata": {},
   "outputs": [],
   "source": [
    "def double_lorentz(x, A1, X01, sig1, A2, X02, sig2, offset): #P0[0], P0[1], P0[2], P0[3], P0[4], P0[5], P0[6]):\n",
    "    # A1 = Amplitude 1, X01 = Resonance 1, sig1 = FWHM 1\n",
    "    # A2 = Amplitude 2, X02 = Resonance 2, sig2 = FWHM 2, offset = offset\n",
    "    \n",
    "    first_peak = (A1/np.pi)*((sig1**2)/(sig1**2 +(2*x-2*X01)**2))\n",
    "    second_peak = (A2/np.pi)*((sig2**2)/(sig2**2 +(2*x-2*X02)**2))\n",
    "    \n",
    "    return (first_peak + second_peak + offset)"
   ]
  },
  {
   "cell_type": "code",
   "execution_count": 44,
   "metadata": {},
   "outputs": [],
   "source": [
    "def find_straight_lines(y_fit, res_freqs, freq):\n",
    "    # A method to find the stright portion of the ODMR fittings. \n",
    "    positions = []\n",
    "    print(np.where(freq == res_freqs[0])[0])\n",
    "    # find the index of the ODMR minima\n",
    "    positions.append(0)\n",
    "    positions.append(int( np.where(freq == res_freqs[0])[0]))\n",
    "    positions.append(int( np.where(freq == 2.870)[0]))\n",
    "    positions.append(int( np.where(freq == res_freqs[1])[0]))\n",
    "    positions.append(len(freq)-1)\n",
    "    minima_limit = np.zeros([2,1])\n",
    "    \n",
    "    minima_limit[0,0] = 1.005*y_fit[positions[1]]\n",
    "    minima_limit[1,0] = 1.005*y_fit[positions[3]]\n",
    "    maxima_limit = 0.98*np.mean(y_fit)\n",
    "    \n",
    "    a = 0\n",
    "    df = pd.DataFrame(columns=[\"0\", \"1\", \"2\", \"3\"])\n",
    "    x=[]\n",
    "    \n",
    "    for i in range(len(positions)-1):\n",
    "        for j in range(positions[i+1]-positions[i]):\n",
    "            \n",
    "            if y_fit[positions[i]+j] >= minima_limit[a,0] and y_fit[positions[i]+j] <= maxima_limit:\n",
    "                x.append(positions[i]+j)\n",
    "        \n",
    "        df[str(i)] = pd.Series(x)\n",
    "        x = [] \n",
    "        if i == 1:\n",
    "            a = 1\n",
    "            \n",
    "    return(df)"
   ]
  },
  {
   "cell_type": "code",
   "execution_count": 97,
   "metadata": {},
   "outputs": [],
   "source": [
    "def find_linear_fits(df, freq, y_fit):\n",
    "    # finds the linear fits and plots them and finds the r2 values for each \n",
    "    \n",
    "    #initalises local variables\n",
    "    init_params = [1,1]\n",
    "    fit_params = np.zeros([len(df.columns), 2])\n",
    "    fit_errors = np.zeros([len(df.columns), 2])\n",
    "    \n",
    "    fig4, ax4 = plot.subplots()\n",
    "    therm_freqs_index = []\n",
    "    therm_freqs = []\n",
    "    r_squared = []\n",
    "    \n",
    "    # plot lorentz fitting\n",
    "    ax4.plot(freq, y_fit, color = 'k', label='Lorentz fit')\n",
    "    \n",
    "    # a loop to generate the straight line fits for the ODMR dips. \n",
    "    # Also finds the 4 frequency points usedd for each curve for \n",
    "    # thermometry and the r_squared values for the linear fits. \n",
    "    for i in range(len(df.columns)):\n",
    "        # indicies corresponding to the linear portions of the \n",
    "        # lorentz fittings.\n",
    "        indicies = np.array(df[str(i)])\n",
    "        indicies = indicies[~np.isnan(indicies)].astype(int)\n",
    "        # Preform linear fit\n",
    "        fit, confidence = opt.curve_fit(straight_line_fit, freq[indicies], y_fit[indicies], init_params)\n",
    "        fit_errors[i,:] = np.sqrt(np.diag(confidence))\n",
    "        fit_params[i,:] = fit\n",
    "            \n",
    "        #create linear fit and plot\n",
    "        y = straight_line_fit(freq[indicies], fit[0], fit[1])\n",
    "        ax4.plot(freq[indicies], y, linewidth = 2, color = 'r')\n",
    "\n",
    "        # find the r_squared value for the linear fit. \n",
    "        r_squared.append(get_r_squared(freq[indicies], y_fit[indicies], y))\n",
    "        \n",
    "        # find the 4 frequency points for each peak and plot\n",
    "        therm_freqs_index.append(get_4_freq_indicies(y))\n",
    "        ax4.scatter(freq[indicies][therm_freqs_index[i]], y[therm_freqs_index[i]], \n",
    "                    color = 'k', marker = 'x', linewidth = 2)\n",
    "        \n",
    "        therm_freqs.append(np.round(freq[indicies][therm_freqs_index[i][0]],6))\n",
    "        therm_freqs.append(np.round(freq[indicies][therm_freqs_index[i][1]],6))\n",
    "    \n",
    "    ax4.plot(freq[indicies], y, linewidth = 2, label='Linear Fit',\n",
    "                color = 'r')\n",
    "    ax4.scatter(freq[indicies][therm_freqs_index[i]], y[therm_freqs_index[i]], \n",
    "                    color = 'k', marker = 'x', label = '8 measurement \\npoints')\n",
    "    \n",
    "    ax4.set_xlabel('Microwave Frequency (GHz)')\n",
    "    ax4.set_ylabel('Counts per 1ms')\n",
    "    ax4.legend()\n",
    "\n",
    "    return(fig4, ax4, therm_freqs, fit_params, fit_errors, r_squared)"
   ]
  },
  {
   "cell_type": "code",
   "execution_count": 46,
   "metadata": {},
   "outputs": [],
   "source": [
    "def straight_line_fit(x, m, c):\n",
    "    # creates a staight line fit \n",
    "    y = m*x + c\n",
    "    return(y)"
   ]
  },
  {
   "cell_type": "code",
   "execution_count": 47,
   "metadata": {},
   "outputs": [],
   "source": [
    "def get_r_squared(x, y_data, y_fitting):\n",
    "    # This is a function used to generate the goodness of fit metric r^2.\n",
    "    # This value will be used to judge the effectiveness of the curve fitting \n",
    "    # used to find the resonant frequencies of the NV centre.\n",
    "    \n",
    "    y_data_mean = np.mean(y_data)\n",
    "    SStot = np.sum((y_data - y_data_mean)**2) # Find the variation in experimental y values.\n",
    "    SSres = np.sum((y_data - y_fitting)**2) # Find the variation betweem the experimental and fitted y values. \n",
    "    \n",
    "    r_squared = 1 - (SSres/SStot) # Calculate R^2\n",
    "    \n",
    "    return(r_squared)"
   ]
  },
  {
   "cell_type": "code",
   "execution_count": 48,
   "metadata": {},
   "outputs": [],
   "source": [
    "def get_4_freq_indicies(linear_fit):\n",
    "    # This is the method to find the index in the lienar fits for the\n",
    "    # 4 frequency points to be used for 4 point thermometry. \n",
    "    \n",
    "    array_length = len(linear_fit)\n",
    "    \n",
    "    mid_point = np.floor(array_length/2) \n",
    "    delta_f_index = np.floor(array_length/4) \n",
    "    \n",
    "    f_minus = int(mid_point-delta_f_index)\n",
    "    f_plus = int(mid_point+delta_f_index)\n",
    "    f_mid = int(mid_point)\n",
    "    \n",
    "    return([f_minus, f_plus])\n",
    "    "
   ]
  },
  {
   "cell_type": "code",
   "execution_count": 78,
   "metadata": {},
   "outputs": [],
   "source": [
    "# make plots actually large enough to see.\n",
    "plot.rcParams.update({'font.size' : 20})\n",
    "plot.rcParams.update({'figure.figsize' :[12, 8]})\n"
   ]
  },
  {
   "cell_type": "code",
   "execution_count": 79,
   "metadata": {},
   "outputs": [],
   "source": [
    "def delta_B(I_plus, I_minus, m):\n",
    "   # Calculate the change in magnetic field from the Intensity measurements \n",
    "    # of the 4 frequencies. \n",
    "    \n",
    "    #Constants\n",
    "    h_bar = 6.64*10**-34\n",
    "    bohr = 9.27*10**-24\n",
    "    g_e = 2.002\n",
    "    \n",
    "    delta_B = (h_bar/(2*bohr*g_e))*((I_plus-I_minus)/(4*m))\n",
    "    \n",
    "    return(delta_B)"
   ]
  },
  {
   "cell_type": "code",
   "execution_count": 98,
   "metadata": {},
   "outputs": [
    {
     "name": "stdout",
     "output_type": "stream",
     "text": [
      "[3200]\n"
     ]
    },
    {
     "data": {
      "image/png": "[encoded data removed]",
      "text/plain": [
       "<Figure size 864x576 with 1 Axes>"
      ]
     },
     "metadata": {
      "needs_background": "light"
     },
     "output_type": "display_data"
    }
   ],
   "source": [
    "# Set plot 1 (initial condition) parameters\n",
    "x0 = 2.83\n",
    "x1 = 2.91\n",
    "A1 = -30\n",
    "A2 = -30\n",
    "sig1 = 0.008\n",
    "sig2 = 0.008\n",
    "offset = 100 \n",
    "\n",
    "# Generate double lorenzian plot. \n",
    "res_freqs = np.array([x0, x1])\n",
    "x = np.linspace(2.75, 3.00, 10001)\n",
    "y1 = double_lorentz(x, A1, x0, sig1, A2, x1, sig2, offset)\n",
    "# Find the linear portions of the lorentian dips.\n",
    "linear_ODMR = find_straight_lines(y1, res_freqs, x)\n",
    "# Extract:\n",
    "# the frequencies used for measurement, \n",
    "# The linear fitting parameters. \n",
    "# The goodness of fit of the linear fits to the lorentz curve\n",
    "# Plot the graphs. \n",
    "fig3, ax3, thermometry_freqs, linear_fit_params, linear_fit_error, r_squared = find_linear_fits(linear_ODMR, x, y1)\n",
    "\n",
    "# Initial parameters for the \"increased B field\" case (100kHz difference.)\n",
    "x3 = 2.8299\n",
    "x4 = 2.9101\n",
    "res_freqs = [x3, x3]\n",
    "A3 = -30\n",
    "A4 = -30\n",
    "sig3 = 0.005\n",
    "sig4 = 0.005\n",
    "offset2 = 100 \n",
    "\n",
    "x2 = np.linspace(2.75, 3.00, 10001)\n",
    "y2 = double_lorentz(x2, A3, x3, sig3, A4, x4, sig4, offset2)\n",
    "ax3.set_ylim([88, 100.5])\n",
    "ax3.set_xlim([2.75, 3.00])\n",
    "#ax3.plot(x2, y2)\n",
    "fig3.savefig('C:\\\\Users\\\\Ryan\\\\Desktop\\\\8_point_graph.pdf')"
   ]
  },
  {
   "cell_type": "code",
   "execution_count": 81,
   "metadata": {},
   "outputs": [
    {
     "name": "stdout",
     "output_type": "stream",
     "text": [
      "[array([97.85042739]), array([94.39240637]), array([94.818329]), array([97.98486094]), array([97.98486094]), array([94.818329]), array([94.39240637]), array([97.85042739])]\n"
     ]
    }
   ],
   "source": [
    "# Extract the intensity values from the second double lorentz fitting \n",
    "# for the 4 frequency values f1, f2, f5, f6. \n",
    "\n",
    "indices = [] \n",
    "Is_peak_2 = []\n",
    "for i in range(len(thermometry_freqs)):\n",
    "    indices.append(np.where(x2 == thermometry_freqs[i])[0])\n",
    "    Is_peak_2.append(y2[np.where(x2 == thermometry_freqs[i])[0]])\n",
    "\n",
    "print(Is_peak_2)"
   ]
  },
  {
   "cell_type": "code",
   "execution_count": 68,
   "metadata": {},
   "outputs": [],
   "source": [
    "# Calculate total fluorescence recorded from two frequnecy points \n",
    "# on the two different lorentz dips. \n",
    "I_plus = Is_peak_2[0] + Is_peak_2[1]\n",
    "I_minus = Is_peak_2[4] + Is_peak_2[5]\n",
    "#extract gradient (assumed to be equal for both peaks.)\n",
    "m = linear_fit_params[0][0]\n",
    "\n",
    "# Calculate the change in magnetic field via fluorescence intensity. \n",
    "dB = delta_B(I_plus, I_minus, m)\n"
   ]
  },
  {
   "cell_type": "code",
   "execution_count": 69,
   "metadata": {},
   "outputs": [
    {
     "name": "stdout",
     "output_type": "stream",
     "text": [
      "[1.79130607e-15]\n"
     ]
    }
   ],
   "source": [
    "print(dB)"
   ]
  },
  {
   "cell_type": "code",
   "execution_count": 70,
   "metadata": {},
   "outputs": [
    {
     "name": "stdout",
     "output_type": "stream",
     "text": [
      "1.7889338277687793e-15\n"
     ]
    }
   ],
   "source": [
    "# Calculate the increase in B field needed to generate the 100kHz \n",
    "# shift in the resonant frequnecy of the NV centre\n",
    "h_bar = 6.64*10**-34\n",
    "bohr = 9.27*10**-24\n",
    "g_e = 2.002\n",
    "\n",
    "B = (h_bar/(2*bohr*g_e))*0.0001\n",
    "print(B)"
   ]
  },
  {
   "cell_type": "code",
   "execution_count": null,
   "metadata": {},
   "outputs": [],
   "source": []
  }
 ],
 "metadata": {
  "kernelspec": {
   "display_name": "Python 3",
   "language": "python",
   "name": "python3"
  },
  "language_info": {
   "codemirror_mode": {
    "name": "ipython",
    "version": 3
   },
   "file_extension": ".py",
   "mimetype": "text/x-python",
   "name": "python",
   "nbconvert_exporter": "python",
   "pygments_lexer": "ipython3",
   "version": "3.7.7"
  }
 },
 "nbformat": 4,
 "nbformat_minor": 4
}
