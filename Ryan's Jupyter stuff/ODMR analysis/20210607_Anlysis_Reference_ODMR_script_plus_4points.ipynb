{
 "cells": [
  {
   "cell_type": "markdown",
   "metadata": {},
   "source": [
    "\n",
    "# Referenced ODMR Analysis\n",
    "\n",
    "Author: Ryan Corbyn, 28th May 2021\n",
    "\n",
    "\n",
    "This code makes use of many of the same methods as the CW ODMR dataset to analyse the datasets that are recorded with the microwave switch in place to allow for each ODMR frequency pixel point to be referenced to either a fixed ODMR frequnecy or to a empty channel with no microwaves applied. "
   ]
  },
  {
   "cell_type": "code",
   "execution_count": 1,
   "metadata": {},
   "outputs": [],
   "source": [
    "import scipy.optimize as opt \n",
    "import numpy as np \n",
    "import matplotlib.pyplot as plot \n",
    "import os \n",
    "import pandas as pd\n",
    "from scipy.signal import find_peaks"
   ]
  },
  {
   "cell_type": "markdown",
   "metadata": {},
   "source": [
    "We start the code by loading in the dataset, the parameters file and the plot parameters.  "
   ]
  },
  {
   "cell_type": "code",
   "execution_count": 2,
   "metadata": {},
   "outputs": [],
   "source": [
    "def load_data(file_path): \n",
    "    # load the ODMR data file in to an np array \n",
    "    data_array = np.loadtxt(file_path)\n",
    "    return(data_array)"
   ]
  },
  {
   "cell_type": "code",
   "execution_count": 3,
   "metadata": {},
   "outputs": [],
   "source": [
    "def load_params(file_path):\n",
    "    # load in the params data. \n",
    "    params_data = pd.read_table(file_path, names = ['Parameter name', 'Parameter value']) \n",
    "    return(params_data)"
   ]
  },
  {
   "cell_type": "code",
   "execution_count": 4,
   "metadata": {},
   "outputs": [],
   "source": [
    "def set_plot_params():\n",
    "    # formats the plot parameters \n",
    "    plot.rcParams.update({'font.size' : 16})\n",
    "    plot.rcParams.update({'figure.figsize' :[12, 8]})"
   ]
  },
  {
   "cell_type": "markdown",
   "metadata": {},
   "source": [
    "Creates a numpy array with the microwave frequency scan range from the params file. "
   ]
  },
  {
   "cell_type": "code",
   "execution_count": 5,
   "metadata": {},
   "outputs": [],
   "source": [
    "def create_freq_scan(start, stop, step_size):\n",
    "    # takes the scan parameters from the params data file. \n",
    "    step_size_GHz = step_size/1000\n",
    "    number_of_steps = int((stop-start)/step_size_GHz) + 1 \n",
    "    freq = np.linspace(start, stop, number_of_steps)\n",
    "    \n",
    "    return(freq)"
   ]
  },
  {
   "cell_type": "markdown",
   "metadata": {},
   "source": [
    "Normalise the ODMR data to the Reference data. Then find the mean of the normalised data. "
   ]
  },
  {
   "cell_type": "code",
   "execution_count": 6,
   "metadata": {},
   "outputs": [],
   "source": [
    "def reshape_data(reference_data, odmr_data, params_values):\n",
    "    '''Here we re-shape the reference and the ODMR datasets into a 3D array, \n",
    "    based on the number of line scans, frequnecy points and repeats per frequnecy \n",
    "    have been used to build the ODMR dataset.'''\n",
    "    \n",
    "    # Create variables with the frequnecy scan parameters. \n",
    "    num_of_line_scans = int(params_values[4])\n",
    "    num_of_freqs =  int(1000*(params_values[1]-params_values[0])/params_values[2]) + 1\n",
    "    points_per_freq = int(params_values[8])\n",
    "    print(num_of_line_scans, num_of_freqs, points_per_freq)\n",
    "    # Reshape the ODMR and reference datasets. \n",
    "\n",
    "    odmr_shape_3D = odmr_data[0:num_of_freqs*points_per_freq].reshape(num_of_line_scans, num_of_freqs, points_per_freq)\n",
    "    reference_data_3D = reference_data[0:num_of_freqs*points_per_freq].reshape(num_of_line_scans, num_of_freqs, points_per_freq)\n",
    "    \n",
    "    return(odmr_shape_3D, reference_data_3D)"
   ]
  },
  {
   "cell_type": "code",
   "execution_count": 7,
   "metadata": {},
   "outputs": [],
   "source": [
    "def normalise_data(reference_data, odmr_data):\n",
    "    '''Here we normalise the ODMR dataset to the reference data.'''\n",
    "\n",
    "    norm_odmr_data = odmr_data/reference_data\n",
    "    return(norm_odmr_data)"
   ]
  },
  {
   "cell_type": "code",
   "execution_count": 8,
   "metadata": {},
   "outputs": [],
   "source": [
    "def mean_data(odmr_data):\n",
    "    # find the mean data \n",
    "    mean_odmr_data_points =  np.mean(odmr_data, axis = 2)\n",
    "    mean_odmr_data_points_and_linescans =  np.mean(mean_odmr_data_points, axis = 0)\n",
    "    \n",
    "    return(mean_odmr_data_points, mean_odmr_data_points_and_linescans)"
   ]
  },
  {
   "cell_type": "code",
   "execution_count": 9,
   "metadata": {},
   "outputs": [],
   "source": [
    "def stich_datasets(odmr_data, reference_data):\n",
    "    '''This method is designed to stitch the ODMR and reference datasets \n",
    "    together when the switch has been bypassed in the microwave circuit setup.'''\n",
    "    \n",
    "    stitched_data = []\n",
    "    for i in range(len(odmr_data[:,1])):\n",
    "        stitched_data.append(odmr_data[i,:])\n",
    "        stitched_data.append(reference_data[i,:])\n",
    "    \n",
    "    stitched_data = np.array(stitched_data)\n",
    "    \n",
    "    return(stitched_data)"
   ]
  },
  {
   "cell_type": "code",
   "execution_count": null,
   "metadata": {},
   "outputs": [],
   "source": []
  },
  {
   "cell_type": "markdown",
   "metadata": {},
   "source": [
    "Generates a scatter plot of the mean noramlised ODMR data. "
   ]
  },
  {
   "cell_type": "code",
   "execution_count": 10,
   "metadata": {},
   "outputs": [],
   "source": [
    "def scatter_plot(freq, mean_data, dwell_time):\n",
    "    # Creates a scatter plot for experimental data and plot parameters. \n",
    "    fig2, ax2 = plot.subplots()\n",
    "    ax2.scatter(freq, mean_data, marker = 'x',color = 'r', label = \"ODMR Data\")\n",
    "    \n",
    "    ax2.set_xlim(np.min(freq),np.max(freq))\n",
    "    ax2.set_xlabel('Microwave Frequency (GHz)', fontsize = 18)\n",
    "    ax2.set_ylabel('Counts per ' + str(dwell_time) + r'$\\mu$s', fontsize = 18)\n",
    "    return(fig2, ax2)"
   ]
  },
  {
   "cell_type": "code",
   "execution_count": 11,
   "metadata": {},
   "outputs": [],
   "source": [
    "def normalised_scatter_plot(freq, mean_data):\n",
    "    # Creates a scatter plot for experimental data and plot parameters. \n",
    "    fig2, ax2 = plot.subplots()\n",
    "    ax2.scatter(freq, mean_data, marker = 'x',color = 'r', label = \"ODMR Data\")\n",
    "    \n",
    "    ax2.set_xlim(np.min(freq),np.max(freq))\n",
    "    ax2.set_xlabel('Microwave Frequency (GHz)', fontsize = 18)\n",
    "    ax2.set_ylabel('Normalised Counts (A.U.)', fontsize = 18)\n",
    "    return(fig2, ax2)"
   ]
  },
  {
   "cell_type": "markdown",
   "metadata": {},
   "source": [
    "Find the initial parameters for the double lorentz fitting for the dataset, along with the code that is required for the lorentz fitting to be performed. "
   ]
  },
  {
   "cell_type": "code",
   "execution_count": 12,
   "metadata": {},
   "outputs": [],
   "source": [
    "def get_init_params(odmr_data, freq):\n",
    "    # find the minima of the ODMR spectra and ODMR dip contrast and \n",
    "    # flourenscent baseline.\n",
    "    \n",
    "    half_data_length = np.abs(np.round(freq, 3) - 2.865).argmin() # This brings the mid-value to 2.87GHz \n",
    "    \n",
    "    #find the indices for the lowest frequency value\n",
    "    low_freq_min_index = np.where(odmr_data[0:half_data_length] == np.min(odmr_data[0:half_data_length]))\n",
    "    high_freq_min_index = np.where(odmr_data[half_data_length:len(odmr_data)-1] == \n",
    "                                   np.min(odmr_data[half_data_length:len(odmr_data)-1]))\n",
    "   \n",
    "    # frequencies corresponding to ODMR minima\n",
    "    freq_mins = [np.float(freq[low_freq_min_index[0]]),\n",
    "                 np.float(freq[high_freq_min_index[0]+half_data_length])]\n",
    "    \n",
    "    # manually set frequencies. \n",
    "    \n",
    "    #freq_mins = [2.78, 2.96]\n",
    "    \n",
    "    flourescent_baseline = np.mean(odmr_data)\n",
    "    \n",
    "    # approximate dip_depth\n",
    "    dip_depth = [odmr_data[low_freq_min_index[0][0]]  - flourescent_baseline, \n",
    "                 odmr_data[high_freq_min_index[0][0]+half_data_length]  - flourescent_baseline]\n",
    "    \n",
    "    #contrast = [np.float((1-odmr_data[low_freq_min_index[0]]/flourescent_baseline)), \n",
    "    #            np.float((1-odmr_data[high_freq_min_index[0]+half_data_length]/flourescent_baseline))]\n",
    "\n",
    "    return(freq_mins, dip_depth, flourescent_baseline)"
   ]
  },
  {
   "cell_type": "code",
   "execution_count": 13,
   "metadata": {},
   "outputs": [],
   "source": [
    "def optimised_lorentz_fit(freq, mean_data, init_params, lower_bounds, upper_bounds):\n",
    "    # A method to find the fitting prameters for the ODMR dataset. \n",
    "    y_error = np.sqrt(mean_data) # poissonian noise\n",
    "    coeffs, confidence = opt.curve_fit(double_lorentz, freq, mean_data, init_params, \n",
    "                                       sigma = y_error, bounds = (lower_bounds, upper_bounds))\n",
    "    opt_error = np.sqrt(np.diag(confidence))\n",
    "    \n",
    "    return(coeffs, opt_error)"
   ]
  },
  {
   "cell_type": "code",
   "execution_count": 14,
   "metadata": {},
   "outputs": [],
   "source": [
    "def double_lorentz(x, A1, X01, sig1, A2, X02, sig2, offset): #P0[0], P0[1], P0[2], P0[3], P0[4], P0[5], P0[6]):\n",
    "    # A1 = Amplitude 1, X01 = Resonance 1, sig1 = FWHM 1\n",
    "    # A2 = Amplitude 2, X02 = Resonance 2, sig2 = FWHM 2, offset = offset\n",
    "    \n",
    "    first_peak = (A1/np.pi)*((sig1**2)/(sig1**2 +(2*x-2*X01)**2))\n",
    "    second_peak = (A2/np.pi)*((sig2**2)/(sig2**2 +(2*x-2*X02)**2))\n",
    "    \n",
    "    return (first_peak + second_peak + offset)"
   ]
  },
  {
   "cell_type": "markdown",
   "metadata": {},
   "source": [
    "Plot the fitting of the double lorentzian line shape and adds the labels and legends to the graphs. "
   ]
  },
  {
   "cell_type": "code",
   "execution_count": 15,
   "metadata": {},
   "outputs": [],
   "source": [
    "def plot_fitting(ax2, freq, dwell_time):\n",
    "    # plot the y fit. \n",
    "    \n",
    "    high_res_freq = np.linspace(freq[0], freq[len(freq)-1], 10*len(freq)+1)\n",
    "    \n",
    "    # create the double lorentz fit array\n",
    "    y_fit_high_res = double_lorentz(high_res_freq, fitting_params[0], fitting_params[1], fitting_params[2], \n",
    "                  fitting_params[3], fitting_params[4], fitting_params[5], fitting_params[6])\n",
    "    \n",
    "    y_fit = double_lorentz(freq, fitting_params[0], fitting_params[1], fitting_params[2], \n",
    "                  fitting_params[3], fitting_params[4], fitting_params[5], fitting_params[6])\n",
    "    \n",
    "    ax2.plot(high_res_freq, y_fit_high_res, color='k', label='Double Lorentz \\nfitting', linestyle = '--')\n",
    "    ax2.legend()\n",
    "    \n",
    "    return(ax2, y_fit)"
   ]
  },
  {
   "cell_type": "code",
   "execution_count": 16,
   "metadata": {},
   "outputs": [],
   "source": [
    "def get_fitting_contrast(res_freq1, res_freq2, freq, y_fit, baseline, step):\n",
    "    \n",
    "    step = str(step/1000) # step size in GHz and string\n",
    "    decimals = step[::-1].find('.') # find the number of decimal points in the steps. \n",
    "    \n",
    "    first_freq_min_index = (np.abs(freq-round(res_freq1, decimals))).argmin()\n",
    "    second_freq_min_index =(np.abs(freq-round(res_freq2, decimals))).argmin()\n",
    "\n",
    "    contrast = [(baseline - y_fit[first_freq_min_index])/baseline, (baseline - y_fit[second_freq_min_index])/baseline]\n",
    "    \n",
    "    return(contrast)"
   ]
  },
  {
   "cell_type": "markdown",
   "metadata": {},
   "source": [
    "Find the R squared value for the fitting verses the actual dataset. "
   ]
  },
  {
   "cell_type": "code",
   "execution_count": 17,
   "metadata": {},
   "outputs": [],
   "source": [
    "def get_r_squared(x, y_data, y_fitting):\n",
    "    # This is a function used to generate the goodness of fit metric r^2.\n",
    "    # This value will be used to judge the effectiveness of the curve fitting \n",
    "    # used to find the resonant frequencies of the NV centre.\n",
    "    \n",
    "    y_data_mean = np.mean(y_data)\n",
    "    SStot = np.sum((y_data - y_data_mean)**2) # Find the variation in experimental y values.\n",
    "    SSres = np.sum((y_data - y_fitting)**2) # Find the variation betweem the experimental and fitted y values. \n",
    "    \n",
    "    r_squared = 1 - (SSres/SStot) # Calculate R^2\n",
    "    \n",
    "    return(r_squared)"
   ]
  },
  {
   "cell_type": "markdown",
   "metadata": {},
   "source": [
    "The method to save the data into a folder on the iDrive. "
   ]
  },
  {
   "cell_type": "code",
   "execution_count": 18,
   "metadata": {},
   "outputs": [],
   "source": [
    "def save_data(date, file_ID, fitted_contrast, coeffs, opt_error, r_squared, fig1):\n",
    "    \n",
    "    destination_folder = 'I:\\\\Science\\\\Physics-Nanobiophotonics\\\\Group\\\\User Data Analysis\\\\Ryans Data (2018-2021)\\\\ODMR\\\\' + date + '\\\\' #+ 'power_sweep\\\\'\n",
    "    output_data_file = destination_folder + date + '_reference_ODMR_analysis.dat'\n",
    "    \n",
    "    # Checking to see if the folder exists in which to save the data, and creating it if it does not\n",
    "    if not os.path.exists(destination_folder):\n",
    "        os.makedirs(destination_folder)\n",
    "        # Checking the output file exists and creating and initialising it if not\n",
    "    \n",
    "    if os.path.isfile(output_data_file) == False:\n",
    "        with open(output_data_file, \"w\") as wf:\n",
    "            wf.write('File name'  + '\\t' +\n",
    "                     'Resonant frequency 1 (GHz)' + '\\t' + 'Error Resonant frequency 1 (GHz)' + '\\t' + \n",
    "                     'Resonant frequency 1 contrast (%)' + '\\t' + \n",
    "                     'FWHM 1 (MHz)' + '\\t' + 'FWHM 1 error (MHz)' + '\\t' + \n",
    "                     'Resonant frequency 2 (GHz)' + '\\t' + 'Error Resonant frequency 2 (GHz)' + '\\t' + \n",
    "                     'Resonant frequency 2 contrast (%)' + '\\t' + \n",
    "                     'FWHM 2 (MHz)' + '\\t' + 'FWHM 2 error (MHz)' + '\\t' + \n",
    "                     'Off Res Fluorescence intensity (per dwell time)' + '\\t' + \n",
    "                     'R^2 for fitting' +'\\n')\n",
    "    # Writing contrast dip description to the .dat file\n",
    "    \n",
    "    with open(output_data_file, \"a\") as wf:\n",
    "        wf.write(file_ID  + '\\t' +\n",
    "                 str(coeffs[1]) + \" \\t\"  + str(opt_error[1]) + \" \\t\" + \n",
    "                 str(fitted_contrast[0]*100) + \" \\t\"  +  \n",
    "                 str(abs(coeffs[2])*1000) + \" \\t\" + str(opt_error[2]*1000) + \" \\t\" + \n",
    "                 str(coeffs[4]) + \" \\t\"  + str(opt_error[4]) + \" \\t\" + \n",
    "                 str(fitted_contrast[1]*100) + \" \\t\" +\n",
    "                 str(abs(coeffs[5])*1000) + \" \\t\" + str(opt_error[5]*1000) + \" \\t\" + \n",
    "                 str(coeffs[6]) + \" \\t\" +str(r_squared) + '\\n')\n",
    "        \n",
    "    # Saving a plot of the raw data to a folder. \n",
    "    #fig1.savefig(destination_folder + file_ID + '_heatmap.pdf', transparent = True)    \n",
    "    #fig1.savefig(destination_folder + file_ID + '_heatmap.png', transparent = True) \n",
    "    \n",
    "    #fig1.savefig(destination_folder + file_ID + '.pdf', transparent = True)    \n",
    "    #fig1.savefig(destination_folder + file_ID + '.png', transparent = True) "
   ]
  },
  {
   "cell_type": "markdown",
   "metadata": {},
   "source": [
    "### Code starts here \n",
    "\n",
    "Here we set the folder directory and the file names of the datasets. We then load the dataset into the numpy arrays and generates the frequnecy array for the scans performed and the dwell time of the pixels used."
   ]
  },
  {
   "cell_type": "code",
   "execution_count": 61,
   "metadata": {},
   "outputs": [],
   "source": [
    "#######\n",
    " # This portion of the code produced the ODMR data plotting and the double lorentz fitting and \n",
    " # Saves this data into a text file and the 2 plots generated. \n",
    "#######\n",
    "\n",
    "date = '20210921' # Date on folder in which the experimental data is saved. \n",
    "set_plot_params()\n",
    "\n",
    "# Load in the data file into an np array, and freqeuncy scan parameters \n",
    "# into a pandas array.\n",
    "folder_path = 'I:\\\\Science\\\\Physics-Nanobiophotonics\\\\Group\\\\User Data\\\\ODMR\\\\ODMR and imaging\\\\2021\\\\' + date + '\\\\'\n",
    "#folder_path = 'I:\\\\Science\\\\Physics-Nanobiophotonics\\\\Group\\\\User Data\\\\ODMR\\\\Imaging\\\\'\n",
    "\n",
    "data_set = '_referenced_odmr_07' # Short hand for the file name. \n",
    "\n",
    "# Set the file names for all 4 data sets recorded from the experiment. \n",
    "file_name_ODMR1 = date + data_set + '_ODMR1.dat'\n",
    "file_name_ODMR2 = date + data_set + '_ODMR2.dat'\n",
    "file_name_Ref1 = date + data_set  + '_Ref1.dat'\n",
    "file_name_Ref2 = date + data_set  + '_Ref2.dat'\n",
    "\n",
    "# Extract the ODMR and reference datasets from the data we are looking at. \n",
    "odmr_data = load_data(folder_path + file_name_ODMR1)\n",
    "reference_data = load_data(folder_path + file_name_Ref1)\n",
    "\n",
    "# Get the parameters for the experiment. \n",
    "params_file = load_params(folder_path + date  + data_set + '_Params.txt')\n",
    "params_values = params_file['Parameter value']\n",
    "\n",
    "# Freq scan = frequency  scan actually used in experiment, frreq = scan without triggering problems. \n",
    "freq = create_freq_scan(params_values[0], params_values[1], params_values[2])\n",
    "\n",
    "# Dwell time of the measurment \n",
    "dwell_time = params_values[3]"
   ]
  },
  {
   "cell_type": "markdown",
   "metadata": {},
   "source": [
    "## Script Note\n",
    "\n",
    "This next part of the script will set whether the microwave switch was used for the experiments, which will determine what parts of the code are used. "
   ]
  },
  {
   "cell_type": "code",
   "execution_count": 62,
   "metadata": {},
   "outputs": [
    {
     "name": "stdout",
     "output_type": "stream",
     "text": [
      "            Parameter name  Parameter value\n",
      "0         Scan Begin (GHz)             2.80\n",
      "1           Scan End (GHz)             2.93\n",
      "2         Scan Steps (MHz)             1.00\n",
      "3  Pixel Dwell Time (mu-s)         10000.00\n",
      "4             Scan Repeats             1.00\n",
      "5        Scan was Averaged             0.00\n",
      "6   Microwave Dwell (mu-s)         10000.00\n",
      "7       AOM Pulse Freq(Hz)             1.00\n",
      "8            Point Repeats           100.00\n",
      "(13100,)\n",
      "1 131 100\n"
     ]
    }
   ],
   "source": [
    "microwave_switch = 'on'\n",
    "print(params_file)\n",
    "print(odmr_data.shape)\n",
    "odmr_data, reference_data = reshape_data(reference_data, odmr_data, params_values)"
   ]
  },
  {
   "cell_type": "markdown",
   "metadata": {},
   "source": [
    "Here we normalise the ODMR data to the reference data and then find the mean of this normalised data. \n",
    "\n",
    "We also sort out any problems that need to be addressed due to problems between the LAbView code and the actual  frequnecy scan performed. "
   ]
  },
  {
   "cell_type": "code",
   "execution_count": 63,
   "metadata": {},
   "outputs": [],
   "source": [
    "\n",
    "if microwave_switch == 'off':\n",
    "    # Stitch the data together, \n",
    "    stitched_data = stich_datasets(odmr_data, reference_data)\n",
    "    # Find the mean of the data. \n",
    "    # mean_odmr_freq_points = mean for all the points recorded per frequnecy, but not linescans. \n",
    "    # mean_norm_odmr_full = Mean fluorescence value for all ODMR data points taken per freq. \n",
    "    mean_odmr_freq_points, mean_norm_odmr_full_disordered = mean_data(stitched_data)\n",
    "    \n",
    "    # Due to the Labview code triggering a scan to start at the 1st value, rather than the 0th value, \n",
    "    # we have that the final data point is supposed to be the first in the dataset. So I'll switch this round here. \n",
    "    mean_norm_odmr_full = np.roll(mean_norm_odmr_full_disordered, 1)\n",
    "    \n",
    "    \n",
    "else: \n",
    "    # Normalise the ODMR data against the reference data. \n",
    "    normalised_ODMR = normalise_data(reference_data, odmr_data)\n",
    "\n",
    "    # Mean of the normalise dataset. \n",
    "    # mean_odmr_freq_points = mean for all the points recorded per frequnecy, but not linescans. \n",
    "    # mean_norm_odmr_full = Mean fluorescence value for all ODMR data points taken per freq. \n",
    "    mean_odmr_freq_points, mean_norm_odmr_full_disordered = mean_data(normalised_ODMR)\n",
    "    mean_norm_odmr_full = np.roll(mean_norm_odmr_full_disordered, 1)\n"
   ]
  },
  {
   "cell_type": "code",
   "execution_count": null,
   "metadata": {},
   "outputs": [],
   "source": []
  },
  {
   "cell_type": "code",
   "execution_count": 64,
   "metadata": {},
   "outputs": [
    {
     "name": "stdout",
     "output_type": "stream",
     "text": [
      "[0.06010123376713503, 0.058741312592924935]\n",
      "\n",
      "Mean Contrast = 0.05942127318002999\n",
      "r squared = 0.9838738659834091\n",
      "Mean Fluorescence Intensity: 10195.752671755725\n",
      "STD(Off resonant Counts) = 191.7799248120539\n",
      "2.862810586077874 2.8747119236774266\n",
      "0.011051987855740665 0.01428123683834516\n",
      "0.9990665557885793\n",
      "0.025395465597983863\n",
      "[-0.14581432  2.86281059  0.01105199 -0.16017159  2.87471192  0.01428124\n",
      "  1.00124024]\n"
     ]
    },
    {
     "data": {
      "image/png": "[encoded data removed]",
      "text/plain": [
       "<Figure size 864x576 with 1 Axes>"
      ]
     },
     "metadata": {
      "needs_background": "light"
     },
     "output_type": "display_data"
    }
   ],
   "source": [
    "# Plot the mean normalised dataset as a scatter plot. \n",
    "fig1, ax1 = normalised_scatter_plot(freq, mean_norm_odmr_full[0:len(freq)])\n",
    "\n",
    "# find the freqeuncy points with the highest ODMR contrast\n",
    "freq_mins, dip_depth, flourescent_baseline = get_init_params(mean_norm_odmr_full, freq)\n",
    "\n",
    "# create the initial parameters for ODMR double lorentzian \n",
    "# line fitting\n",
    "#init_params = [dip_depth[0], freq_mins[0], 0.005, dip_depth[1], freq_mins[1], 0.005, flourescent_baseline]\n",
    "init_params = [0.8, 2.86, 0.01, -dip_depth[1], 2.875, 0.01, flourescent_baseline]\n",
    "\n",
    "# Set the upper and lower bounds for the fitting algorithm. \n",
    "lower_bounds = [-np.inf, init_params[1] - 0.01, 0, -np.inf, init_params[4] - 0.01, 0, 0]\n",
    "upper_bounds = [np.inf, init_params[1] + 0.01, 1, np.inf, init_params[4] + 0.01, 1, np.inf]\n",
    "\n",
    "# generate the optimised curve fit parameters. \n",
    "fitting_params, error_in_fit = optimised_lorentz_fit(freq, mean_norm_odmr_full[0:len(freq)], init_params,\n",
    "                                                    lower_bounds, upper_bounds)\n",
    "\n",
    "# plot the fitting to ax2\n",
    "ax1, y_fit = plot_fitting(ax1, freq, params_values[3])\n",
    "\n",
    "fitted_contrast = get_fitting_contrast(fitting_params[1], fitting_params[4], freq, y_fit,  fitting_params[6], params_values[2])\n",
    "print(str(fitted_contrast) + '\\n')\n",
    "print('Mean Contrast = ' + str(np.mean(fitted_contrast)))\n",
    "\n",
    "# get the r^2 value for the fitting \n",
    "r_squared = get_r_squared(freq, mean_norm_odmr_full[0:len(freq)], y_fit)\n",
    "print('r squared = ' + str(r_squared))\n",
    "print('Mean Fluorescence Intensity: ' + str(np.mean(odmr_data)) )\n",
    "standard = np.std(odmr_data, axis = 2)\n",
    "print('STD(Off resonant Counts) = ' + str(np.mean(standard)))\n",
    "\n",
    "print(fitting_params[1], fitting_params[4])\n",
    "print(fitting_params[2], fitting_params[5])\n",
    "print(np.mean(normalised_ODMR[0, 0:40, :]))\n",
    "print(np.std(normalised_ODMR[0, 0:40, :]))\n",
    "#ax1.text(0.8, 0.1,\n",
    "#         'Mean Fluorescence Intensity = \\n' + str(np.round(np.mean(odmr_data))) \n",
    "#         + ' counts per ' + str(params_values[3]/1000) + ' ms',\n",
    "#         ha='center', va='center', transform=ax1.transAxes)\n",
    "\n",
    "print(fitting_params)\n",
    "##### print(params_values)"
   ]
  },
  {
   "cell_type": "code",
   "execution_count": 62,
   "metadata": {},
   "outputs": [],
   "source": [
    "save_folder = 'H:\\\\My Documents\\\\Strathclyde_Back_up\\\\Thesis and Planning\\\\Thesis_plots\\\\' + date +'\\\\'\n",
    "# Checking to see if the folder exists in which to save the data, and creating it if it does not\n",
    "if not os.path.exists(save_folder):\n",
    "    os.makedirs(save_folder)\n",
    "fig1.savefig(save_folder + file_name_ODMR1[0:-4] + '_Scatter.pdf', transparent = True) "
   ]
  },
  {
   "cell_type": "code",
   "execution_count": 27,
   "metadata": {},
   "outputs": [],
   "source": [
    "# Save the data. \n",
    "\n",
    "#save_data(date, file_name_ODMR1, fitted_contrast, fitting_params, error_in_fit, r_squared, fig1)\n",
    "\n",
    "h = 6.63 * 10**-34\n",
    "Num =  (fitting_params[4] - fitting_params[1])*np.power(10,9)\n",
    "Denom = (2 * 2.002 * np.power(9.27, -24))\n",
    "\n",
    "B = (h*Num)/Denom\n",
    "\n",
    "#print('Splitting = ' + str(Num*10**-9))\n",
    "#print('B field = ' + str(B))\n",
    "\n",
    "#print(len(freq))\n",
    "#print(mean_norm_odmr_full.shape)\n",
    "#print(freq_mins)\n"
   ]
  },
  {
   "cell_type": "code",
   "execution_count": 65,
   "metadata": {},
   "outputs": [
    {
     "name": "stdout",
     "output_type": "stream",
     "text": [
      "131\n"
     ]
    },
    {
     "data": {
      "text/plain": [
       "<matplotlib.legend.Legend at 0x1c9ec35e5c8>"
      ]
     },
     "execution_count": 65,
     "metadata": {},
     "output_type": "execute_result"
    },
    {
     "data": {
      "image/png": "[encoded data removed]",
      "text/plain": [
       "<Figure size 864x576 with 1 Axes>"
      ]
     },
     "metadata": {
      "needs_background": "light"
     },
     "output_type": "display_data"
    }
   ],
   "source": [
    "mean_odmr_data, mean_odmr_everything = mean_data(odmr_data)\n",
    "print(len(mean_odmr_everything))\n",
    "fig2, ax2 = scatter_plot(freq, mean_odmr_everything[0:1000], dwell_time)\n",
    "\n",
    "drift = (np.mean(reference_data, axis = 2))\n",
    "plot.plot(freq, drift[0,0:1000], color = 'k', label = 'Drift')\n",
    "ax2.legend()"
   ]
  },
  {
   "cell_type": "code",
   "execution_count": 25,
   "metadata": {},
   "outputs": [
    {
     "name": "stdout",
     "output_type": "stream",
     "text": [
      "0.010280451772783345 0.010532666480303727\n"
     ]
    }
   ],
   "source": [
    "print(np.sqrt(mean_odmr_everything[0])/mean_odmr_everything[0], np.sqrt(mean_odmr_everything[-1])/mean_odmr_everything[-1])"
   ]
  },
  {
   "cell_type": "markdown",
   "metadata": {},
   "source": [
    "# 4 Point ODMR Analysis\n",
    "\n",
    "This next section of the code is to be used if the used wants to extract 4 points along the ODMR curve for NDs that are not subject to an external magnetic field. \n",
    "\n",
    "The code will work by: \n",
    "1. Taking the fitted ODMR curve and extracting the linear portions of the positive and negative gradients. \n",
    "2. Find the mid point of the straight line secitons of the lorentz fitting. \n",
    "3. Select two points from both the negative and positive gradients of the fitting that still lie within the linear portion of the graph. \n",
    "4. Fit both data points from the linear portion with a straight line fitting. \n",
    "5. Find the crossing point of the two straight line fits to give the \"central frequency\" for the fitting. \n"
   ]
  },
  {
   "cell_type": "code",
   "execution_count": 66,
   "metadata": {},
   "outputs": [],
   "source": [
    "def get_straight_lines(y_data):\n",
    "    '''This method extracts the straight line fits from the y fit data.'''\n",
    "    \n",
    "    # If you want to have multiple conditions for the \"finding\" algorithm np.where\n",
    "    # We apparently need to use brackets and the \" * \" symbol. \n",
    "    minima_indicies = np.where((y_data[1:-1] < y_data[0:-2]) * (y_data[1:-1] < y_data[2:]))[0] + 1\n",
    "    \n",
    "    # Separate the dataset into all the indcies below and above these minima indicies. \n",
    "    divided_dataset = []\n",
    "    \n",
    "    # If the ND was subject to a B field and now has multiple (more than 2) separate ODMR dips\n",
    "    if len(minima_indicies) > 2: \n",
    "        start = 0\n",
    "        for i in range(len(minima_indicies)):\n",
    "            # This should get the negative gradient straight line from an \n",
    "            # ODMR curve fitting. \n",
    "            divided_dataset.append(np.arange(start, minima_indicies[i], 1))\n",
    "            \n",
    "            # Find the point that lies between 2 ODMR dips to find the positive \n",
    "            # Gradient sention of a B field split ODMR curve. \n",
    "            # We use try and except to catch the very last peak in the dataset. \n",
    "            try:\n",
    "                half_way = int((minima_indicies[i] + minima_indicies[i+1])/2)\n",
    "            except: \n",
    "                half_way = len(y_data)-1\n",
    "            # We should capture the positive gradient section of an ODMR dip here. \n",
    "            start = half_way[i]\n",
    "            divided_dataset.append(np.arange( minima_indicies[i], start, 1))\n",
    "    \n",
    "    else: \n",
    "        divided_dataset.append(np.arange(0, minima_indicies[0], 1))\n",
    "        divided_dataset.append(np.arange(minima_indicies[1], len(y_data)-1, 1))\n",
    "    \n",
    "    # Set the parameters for the straight line condition for the lorentz fitting.\n",
    "    # These have been chosen arbitrarily from the above fitting. \n",
    "    # I'll need to find a good way of automating this. \n",
    "    min_a_cutoff = np.round(np.min(y_data), 3) + 0.005\n",
    "    n = 1 - min_a_cutoff\n",
    "    max_cutoff = 1 - 0.4*n\n",
    "    print(max_cutoff)\n",
    "    offset = 0\n",
    "    \n",
    "    for i in range(int(len(divided_dataset)/2)):\n",
    "        negative_gradient_line = np.where((y_data[divided_dataset[i]] < max_cutoff) * \n",
    "                                          (y_data[divided_dataset[i]] > min_a_cutoff))[0] + offset\n",
    "        positive_gradient_line = np.where((y_data[divided_dataset[i+1]] < max_cutoff) * \n",
    "                                          (y_data[divided_dataset[i+1]] > min_a_cutoff))[0] + minima_indicies[i+1]\n",
    "        offset = minima_indicies[i]\n",
    "    \n",
    "    \n",
    "    return(negative_gradient_line, positive_gradient_line)"
   ]
  },
  {
   "cell_type": "code",
   "execution_count": 67,
   "metadata": {},
   "outputs": [],
   "source": [
    "def linear_fit(x, m, c):\n",
    "    '''m = gradient, c = y intercept'''\n",
    "    y = m*x + c\n",
    "    return(y)"
   ]
  },
  {
   "cell_type": "code",
   "execution_count": 68,
   "metadata": {},
   "outputs": [],
   "source": [
    "def two_point_line(four_freq, four_intensities): \n",
    "    '''Just using simple maths to derive the gradient and y intercept from the \n",
    "    4 point to be used for fast ODMR.'''\n",
    "    \n",
    "    neg_grad = (four_intensities[0]-four_intensities[1])/(four_freq[0]-four_freq[1])\n",
    "    neg_y_intercept = four_intensities[0] - neg_grad*four_freq[0]\n",
    "    \n",
    "    pos_grad = (four_intensities[2]-four_intensities[3])/(four_freq[2]-four_freq[3])\n",
    "    pos_y_intercept = four_intensities[2] - pos_grad*four_freq[2]\n",
    "    \n",
    "    return(neg_grad, neg_y_intercept, pos_grad, pos_y_intercept)"
   ]
  },
  {
   "cell_type": "markdown",
   "metadata": {},
   "source": [
    "### Start the four-point analysis code"
   ]
  },
  {
   "cell_type": "code",
   "execution_count": 69,
   "metadata": {},
   "outputs": [
    {
     "name": "stdout",
     "output_type": "stream",
     "text": [
      "0.9783999999999999\n"
     ]
    }
   ],
   "source": [
    "# Start the 4 point analysis\n",
    "\n",
    "# First off we extract the linear portion of the straight line fitting. \n",
    "straight_line_index_neg, straight_line_index_pos  = get_straight_lines(y_fit)\n",
    "\n",
    "# Extract the middle value of the straight line and the two values either side of it. \n",
    "\n",
    "mid_value_a = int(np.ceil( len(straight_line_index_neg) / 2) + straight_line_index_neg[0]) - 1\n",
    "mid_value_b = (np.abs(y_fit[straight_line_index_pos] - y_fit[mid_value_a])).argmin() + straight_line_index_pos[0]\n",
    "\n",
    "\n",
    "step_1_MHZ = int(1/params_values[2])\n",
    "\n",
    "# Select the 4 points for the fast ODMR.\n",
    "four_points_index = [mid_value_a - step_1_MHZ, mid_value_a + step_1_MHZ, mid_value_b - step_1_MHZ, mid_value_b + step_1_MHZ]    \n",
    "four_freqs = freq[four_points_index]\n",
    "\n",
    "# Fit a linear curve to the straight line fittings. \n",
    "p0 = [1,1]\n",
    "fit_neg, confidence_neg = opt.curve_fit(linear_fit, freq[straight_line_index_neg], y_fit[straight_line_index_neg], p0)\n",
    "y_neg = linear_fit(freq[straight_line_index_neg], fit_neg[0], fit_neg[1])\n",
    "\n",
    "fit_pos, confidence_pos = opt.curve_fit(linear_fit, freq[straight_line_index_pos], y_fit[straight_line_index_pos], p0)\n",
    "y_pos = linear_fit(freq[straight_line_index_pos], fit_pos[0], fit_pos[1])\n"
   ]
  },
  {
   "cell_type": "code",
   "execution_count": 70,
   "metadata": {},
   "outputs": [
    {
     "name": "stdout",
     "output_type": "stream",
     "text": [
      "2.868002021225259\n"
     ]
    }
   ],
   "source": [
    "# Find the straight line gradients for the 2 points frequnecy points to be used for the 4 point ODMR scans\n",
    "neg_gradient, neg_y_intercept, pos_gradient, pos_y_intercept = two_point_line(four_freqs,  y_fit[four_points_index])\n",
    "neg_pos_intersection_freq = (pos_y_intercept - neg_y_intercept) / (neg_gradient - pos_gradient)\n",
    "\n",
    "#x1 = np.linspace(four_freqs[0] - 0.01, neg_pos_intersection_freq + 0.005, 100)\n",
    "#x2 = np.linspace(neg_pos_intersection_freq - 0.005, four_freqs[3] + 0.01, 100)\n",
    "\n",
    "x1 = np.linspace(np.round(np.min(freq[straight_line_index_neg]), 3), \n",
    "                np.round(np.max(freq[straight_line_index_neg]), 3), 100)\n",
    "\n",
    "x2 = np.linspace(np.round(np.min(freq[straight_line_index_pos]), 3), \n",
    "                np.round(np.max(freq[straight_line_index_pos]), 3), 100)\n",
    "\n",
    "y1 = linear_fit(x1, neg_gradient, neg_y_intercept)\n",
    "y2 = linear_fit(x2, pos_gradient, pos_y_intercept)\n",
    "\n",
    "print(neg_pos_intersection_freq)"
   ]
  },
  {
   "cell_type": "code",
   "execution_count": 71,
   "metadata": {},
   "outputs": [
    {
     "data": {
      "text/plain": [
       "Text(0, 0.5, 'Normalised Counts (A.U.)')"
      ]
     },
     "execution_count": 71,
     "metadata": {},
     "output_type": "execute_result"
    },
    {
     "data": {
      "image/png": "[encoded data removed]",
      "text/plain": [
       "<Figure size 864x576 with 1 Axes>"
      ]
     },
     "metadata": {
      "needs_background": "light"
     },
     "output_type": "display_data"
    }
   ],
   "source": [
    "fig2, ax2 = plot.subplots()\n",
    "\n",
    "ax2.scatter(freq, mean_norm_odmr_full[0:len(freq)], color = 'k', marker = 'x', \n",
    "           label = 'CW ODMR data points')\n",
    "ax2.plot(freq, y_fit, color = 'k', label = 'Double Lorentz Fitting', \n",
    "         linestyle = '--') # plot the ODMR lorentz fitting \n",
    "\n",
    "# Plot the ODMR data points in the linear region of the ODMR curve. \n",
    "#plot.scatter(freq[straight_line_index_neg], mean_norm_odmr_full[straight_line_index_neg], color = 'b')\n",
    "#plot.scatter(freq[straight_line_index_pos], mean_norm_odmr_full[straight_line_index_pos], color = 'b')\n",
    "\n",
    "# Plot the straight line fits for the straight portion of the graph. \n",
    "#ax2.plot(freq[straight_line_index_neg], y_neg, color = 'k', label = 'Straight Line Fit')\n",
    "#ax2.plot(freq[straight_line_index_pos], y_pos, color = 'k')\n",
    "\n",
    "error = [0.00076, 0.00076, 0.00076, 0.00076]\n",
    "# plot the 4 frequnecies chosen for the faster ODMR. \n",
    "ax2.errorbar(four_freqs, y_fit[four_points_index], error, color = 'r', marker = 'o',  \n",
    "            label = 'Intensity projections \\nfor the 4 points', linestyle = '', \n",
    "            linewidth = 4)\n",
    "\n",
    "four_points = []\n",
    "for i in range(4):\n",
    "    four_points.append(four_points_index[i] + 1)\n",
    "#ax2.scatter(four_freqs, y_fit[four_points], color = 'c', marker = 'o', s = 50, \n",
    "#            label = 'Intensity projections \\nfor the 4 points + 1MHz')\n",
    "\n",
    "ax2.legend()\n",
    "ax2.axis([ 2.84, 2.90, 0.93, 1.01])\n",
    "#plot.plot(x1, y1, linestyle = '--', color = 'k')\n",
    "#plot.plot(x2, y2, linestyle = '--', color = 'k')\n",
    "\n",
    "ax2.set_xlabel('Microwave Frequency (GHz)')\n",
    "ax2.set_ylabel('Normalised Counts (A.U.)')"
   ]
  },
  {
   "cell_type": "code",
   "execution_count": 56,
   "metadata": {},
   "outputs": [],
   "source": [
    "save_folder = 'H:\\\\My Documents\\\\Strathclyde_Back_up\\\\Thesis and Planning\\\\Thesis_plots\\\\20211216\\\\'\n",
    "fig2.savefig(save_folder + file_name_ODMR1[0:-4] + '4_point_Scatter_plot_0.5MHz.pdf', transparent = True)"
   ]
  },
  {
   "cell_type": "code",
   "execution_count": 72,
   "metadata": {},
   "outputs": [
    {
     "name": "stdout",
     "output_type": "stream",
     "text": [
      "[2.857 2.859 2.88  2.882]\n",
      "[  4.63520524 -12.38608611]\n",
      "[-5.64591658 17.10210552]\n"
     ]
    }
   ],
   "source": [
    "print(np.round(four_freqs, 5))\n",
    "print(fit_pos)\n",
    "print(fit_neg)"
   ]
  },
  {
   "cell_type": "code",
   "execution_count": 73,
   "metadata": {},
   "outputs": [
    {
     "name": "stdout",
     "output_type": "stream",
     "text": [
      "[0.97206956 0.96105616 0.96396645 0.97271488]\n",
      "58\n",
      "2.8810000000000002\n",
      "\n",
      "\n",
      "-1.2180510426578592\n"
     ]
    }
   ],
   "source": [
    "print((y_fit[four_points_index]))\n",
    "print(mid_value_a)\n",
    "print(freq[mid_value_b])\n",
    "print('\\n')\n",
    "print(fit_neg[0]/fit_pos[0])"
   ]
  },
  {
   "cell_type": "code",
   "execution_count": 74,
   "metadata": {},
   "outputs": [
    {
     "name": "stdout",
     "output_type": "stream",
     "text": [
      "[0.96696511 0.95464444 0.95375027 0.96396645]\n"
     ]
    }
   ],
   "source": [
    "four_frequencies_lab_book = [2.858, 2.86, 2.878, 2.88]\n",
    "indy = []\n",
    "for i in range (4):\n",
    "    indy.append(np.abs(freq - four_frequencies_lab_book[i]).argmin())\n",
    "print(y_fit[indy])"
   ]
  },
  {
   "cell_type": "code",
   "execution_count": 89,
   "metadata": {},
   "outputs": [
    {
     "data": {
      "text/plain": [
       "14.28705707974879"
      ]
     },
     "execution_count": 89,
     "metadata": {},
     "output_type": "execute_result"
    }
   ],
   "source": [
    "a = 81/75\n",
    "\n",
    "a*np.sqrt(175)"
   ]
  },
  {
   "cell_type": "code",
   "execution_count": null,
   "metadata": {},
   "outputs": [],
   "source": []
  },
  {
   "cell_type": "code",
   "execution_count": 71,
   "metadata": {},
   "outputs": [
    {
     "name": "stdout",
     "output_type": "stream",
     "text": [
      "0.07620880347157019\n"
     ]
    }
   ],
   "source": [
    "A = 5.61\n",
    "B = 0.314\n",
    "C = 0.143\n",
    "\n",
    "y = 1\n",
    "\n",
    "#y = A/(np.sqrt(B*T)) + C\n",
    "\n",
    "T = B / (A * np.power((y - C), 2))   \n",
    "print(T)"
   ]
  },
  {
   "cell_type": "code",
   "execution_count": null,
   "metadata": {},
   "outputs": [],
   "source": []
  }
 ],
 "metadata": {
  "kernelspec": {
   "display_name": "Python 3",
   "language": "python",
   "name": "python3"
  },
  "language_info": {
   "codemirror_mode": {
    "name": "ipython",
    "version": 3
   },
   "file_extension": ".py",
   "mimetype": "text/x-python",
   "name": "python",
   "nbconvert_exporter": "python",
   "pygments_lexer": "ipython3",
   "version": "3.7.7"
  }
 },
 "nbformat": 4,
 "nbformat_minor": 4
}
