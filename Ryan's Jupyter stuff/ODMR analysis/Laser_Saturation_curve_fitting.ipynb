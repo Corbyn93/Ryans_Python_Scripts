{
 "cells": [
  {
   "cell_type": "markdown",
   "metadata": {},
   "source": [
    "This script is designed to extract the data from a .dat file to be used for generating the power saturation curves for laser power and microwave power used for ODMR with nanodiamonds.\n",
    "\n",
    "This program is badly written at the minute. \n",
    "Created by: Ryan Corbyn, 10/09/2020.\n",
    "\n",
    "Edited by: "
   ]
  },
  {
   "cell_type": "code",
   "execution_count": 1,
   "metadata": {},
   "outputs": [],
   "source": [
    "import numpy as np \n",
    "import pandas as pd\n",
    "import matplotlib.pyplot as plot\n",
    "import os \n",
    "import scipy.optimize as opt"
   ]
  },
  {
   "cell_type": "code",
   "execution_count": 2,
   "metadata": {},
   "outputs": [],
   "source": [
    "def get_data_from_file(data_file):\n",
    "    # The method accepts a string containing the address of the data file in question. \n",
    "    # data from this file is then read into a panda data frame. \n",
    "    \n",
    "    data_frame = pd.read_table(data_file)\n",
    "    return(data_frame)"
   ]
  },
  {
   "cell_type": "code",
   "execution_count": 3,
   "metadata": {},
   "outputs": [],
   "source": [
    "def power_curve(P_uw, c_inf, P_sat):\n",
    "    # creates a power dependence curve. \n",
    "    # y = Contrast as a functin of applied power, c_inf = maximum ODMR contrast\n",
    "    # P_sat = stauration power.\n",
    "    y = (c_inf * P_uw)/(P_uw + P_sat)\n",
    "    \n",
    "    return(y)"
   ]
  },
  {
   "cell_type": "code",
   "execution_count": 4,
   "metadata": {},
   "outputs": [],
   "source": [
    "def curve_optimisation(x, y, c_inf, P_sat):\n",
    "    \n",
    "    P = [c_inf, P_sat]\n",
    "    coeffs, confidence = opt.curve_fit(power_curve, x, y, P)\n",
    "    opt_error = np.sqrt(np.diag(confidence))\n",
    "    \n",
    "    return(coeffs, opt_error)"
   ]
  },
  {
   "cell_type": "code",
   "execution_count": null,
   "metadata": {},
   "outputs": [],
   "source": []
  },
  {
   "cell_type": "code",
   "execution_count": 28,
   "metadata": {},
   "outputs": [
    {
     "data": {
      "text/plain": [
       "Text(0, 0.5, 'ODMR Max Contrast (%)')"
      ]
     },
     "execution_count": 28,
     "metadata": {},
     "output_type": "execute_result"
    },
    {
     "data": {
      "image/png": "[encoded data removed]",
      "text/plain": [
       "<Figure size 432x288 with 1 Axes>"
      ]
     },
     "metadata": {
      "needs_background": "light"
     },
     "output_type": "display_data"
    }
   ],
   "source": [
    "data_file = 'H:\\\\My Documents\\\\Strathclyde_Back_up\\\\Graphs_and_analysis\\\\ODMR\\\\20200907\\\\20200907_NVScan_analysis.dat'\n",
    "frame = get_data_from_file(data_file)\n",
    "\n",
    "laser_power = np.array([39, 80, 180, 270, 340, 400, 500, 600, 700, 800, 900])\n",
    "contrast = np.array(frame['Max Contrast (%)'][4:15])\n",
    "contrast_error = np.array(frame['Contrast error (%)'][4:15])\n",
    "plot.errorbar(laser_power, contrast, contrast_error, linestyle = '', marker = 'x', color = 'k')\n",
    "plot.xlabel(r'Laser Power ($\\mu$W)')\n",
    "plot.ylabel('ODMR Max Contrast (%)')"
   ]
  },
  {
   "cell_type": "code",
   "execution_count": 29,
   "metadata": {},
   "outputs": [
    {
     "data": {
      "text/plain": [
       "<matplotlib.collections.PathCollection at 0x13c6e810608>"
      ]
     },
     "execution_count": 29,
     "metadata": {},
     "output_type": "execute_result"
    },
    {
     "data": {
      "image/png": "[encoded data removed]",
      "text/plain": [
       "<Figure size 432x288 with 1 Axes>"
      ]
     },
     "metadata": {
      "needs_background": "light"
     },
     "output_type": "display_data"
    }
   ],
   "source": [
    "FWHM1 = np.array(frame['FWHM 1 (MHz)'][4:15])\n",
    "\n",
    "plot.scatter(laser_power, FWHM1)"
   ]
  },
  {
   "cell_type": "code",
   "execution_count": 8,
   "metadata": {},
   "outputs": [],
   "source": [
    "microwave_power = np.array([10, 13, 16, 19, 22, 25, 28, 31])\n",
    "#microwave_power.sort()\n",
    "\n",
    "power_mW = 0.001 * 10**((microwave_power)/10.0)\n",
    "\n",
    "ODMR_contrast1 = np.array([0, 0, 1.2, 1.9, 1.6, 2.3, 2.77, 4.5, 4.92, 7.2]) \n",
    "ODMR_contrast2 = np.array([1.2, 1.99, 2.87, 3.4, 5.09, 6.17, 7.41, 8.73])\n",
    "#ODMR_contrast3 = np.array([1.5, 2.05, 2.87, 3.40, 5.09, 6.17, 7.41, ])\n",
    "#ODMR_contrast.sort()\n",
    "\n",
    "#ODMR_error = np.array(frame['Contrast error (%)'][15::])\n",
    "#ODMR_error.sort()"
   ]
  },
  {
   "cell_type": "code",
   "execution_count": null,
   "metadata": {},
   "outputs": [],
   "source": []
  },
  {
   "cell_type": "code",
   "execution_count": 12,
   "metadata": {},
   "outputs": [
    {
     "ename": "NameError",
     "evalue": "name 'ODMR_contrast' is not defined",
     "output_type": "error",
     "traceback": [
      "\u001b[1;31m---------------------------------------------------------------------------\u001b[0m",
      "\u001b[1;31mNameError\u001b[0m                                 Traceback (most recent call last)",
      "\u001b[1;32m<ipython-input-12-4f56863afb13>\u001b[0m in \u001b[0;36m<module>\u001b[1;34m\u001b[0m\n\u001b[0;32m      3\u001b[0m \u001b[0mplot\u001b[0m\u001b[1;33m.\u001b[0m\u001b[0mylabel\u001b[0m\u001b[1;33m(\u001b[0m\u001b[1;34m'Contrast (%)'\u001b[0m\u001b[1;33m)\u001b[0m\u001b[1;33m\u001b[0m\u001b[1;33m\u001b[0m\u001b[0m\n\u001b[0;32m      4\u001b[0m \u001b[1;33m\u001b[0m\u001b[0m\n\u001b[1;32m----> 5\u001b[1;33m \u001b[0msat_curve_params\u001b[0m\u001b[1;33m,\u001b[0m \u001b[0msat_curve_error\u001b[0m \u001b[1;33m=\u001b[0m \u001b[0mcurve_optimisation\u001b[0m\u001b[1;33m(\u001b[0m\u001b[0mpower_mW\u001b[0m\u001b[1;33m,\u001b[0m \u001b[0mODMR_contrast\u001b[0m\u001b[1;33m,\u001b[0m \u001b[1;36m10\u001b[0m\u001b[1;33m,\u001b[0m \u001b[1;36m1\u001b[0m\u001b[1;33m)\u001b[0m\u001b[1;33m\u001b[0m\u001b[1;33m\u001b[0m\u001b[0m\n\u001b[0m\u001b[0;32m      6\u001b[0m \u001b[0msat_curve\u001b[0m \u001b[1;33m=\u001b[0m \u001b[0mpower_curve\u001b[0m\u001b[1;33m(\u001b[0m\u001b[0mpower_mW\u001b[0m\u001b[1;33m,\u001b[0m \u001b[0msat_curve_params\u001b[0m\u001b[1;33m[\u001b[0m\u001b[1;36m0\u001b[0m\u001b[1;33m]\u001b[0m\u001b[1;33m,\u001b[0m \u001b[0msat_curve_params\u001b[0m\u001b[1;33m[\u001b[0m\u001b[1;36m1\u001b[0m\u001b[1;33m]\u001b[0m\u001b[1;33m)\u001b[0m\u001b[1;33m\u001b[0m\u001b[1;33m\u001b[0m\u001b[0m\n\u001b[0;32m      7\u001b[0m \u001b[0mplot\u001b[0m\u001b[1;33m.\u001b[0m\u001b[0mplot\u001b[0m\u001b[1;33m(\u001b[0m\u001b[0mpower_mW\u001b[0m\u001b[1;33m,\u001b[0m \u001b[0msat_curve\u001b[0m\u001b[1;33m)\u001b[0m\u001b[1;33m\u001b[0m\u001b[1;33m\u001b[0m\u001b[0m\n",
      "\u001b[1;31mNameError\u001b[0m: name 'ODMR_contrast' is not defined"
     ]
    },
    {
     "data": {
      "image/png": "[encoded data removed]",
      "text/plain": [
       "<Figure size 432x288 with 1 Axes>"
      ]
     },
     "metadata": {
      "needs_background": "light"
     },
     "output_type": "display_data"
    }
   ],
   "source": [
    "plot.scatter(power_mW, ODMR_contrast2,  marker = 'x')\n",
    "plot.xlabel('Microwave power (W)')\n",
    "plot.ylabel('Contrast (%)')\n",
    "\n",
    "sat_curve_params, sat_curve_error = curve_optimisation(power_mW, ODMR_contrast, 10, 1)\n",
    "sat_curve = power_curve(power_mW, sat_curve_params[0], sat_curve_params[1])\n",
    "plot.plot(power_mW, sat_curve)"
   ]
  },
  {
   "cell_type": "code",
   "execution_count": 81,
   "metadata": {},
   "outputs": [
    {
     "name": "stdout",
     "output_type": "stream",
     "text": [
      "[11.68417091  0.39089419]\n",
      "[0.81384546 0.10227055]\n"
     ]
    }
   ],
   "source": [
    "print(sat_curve_params)\n",
    "print(sat_curve_error)"
   ]
  },
  {
   "cell_type": "code",
   "execution_count": 83,
   "metadata": {},
   "outputs": [],
   "source": [
    "def get_r_squared(x, y_data, y_fitting):\n",
    "    # This is a function used to generate the goodness of fit metric r^2.\n",
    "    # This value will be used to judge the effectiveness of the curve fitting \n",
    "    # used to find the resonant frequencies of the NV centre.\n",
    "    \n",
    "    y_data_mean = np.mean(y_data)\n",
    "    SStot = np.sum((y_data - y_data_mean)**2) # Find the variation in experimental y values.\n",
    "    SSres = np.sum((y_data - y_fitting)**2) # Find the variation betweem the experimental and fitted y values. \n",
    "    \n",
    "    r_squared = 1 - (SSres/SStot) # Calculate R^2\n",
    "    \n",
    "    return(r_squared)"
   ]
  },
  {
   "cell_type": "code",
   "execution_count": 84,
   "metadata": {},
   "outputs": [
    {
     "name": "stdout",
     "output_type": "stream",
     "text": [
      "0.926665931709958\n"
     ]
    }
   ],
   "source": [
    "r2 = get_r_squared(power_mW, ODMR_contrast, sat_curve)\n",
    "print(r2)"
   ]
  },
  {
   "cell_type": "code",
   "execution_count": null,
   "metadata": {},
   "outputs": [],
   "source": []
  },
  {
   "cell_type": "code",
   "execution_count": null,
   "metadata": {},
   "outputs": [],
   "source": []
  }
 ],
 "metadata": {
  "kernelspec": {
   "display_name": "Python 3",
   "language": "python",
   "name": "python3"
  },
  "language_info": {
   "codemirror_mode": {
    "name": "ipython",
    "version": 3
   },
   "file_extension": ".py",
   "mimetype": "text/x-python",
   "name": "python",
   "nbconvert_exporter": "python",
   "pygments_lexer": "ipython3",
   "version": "3.9.0"
  }
 },
 "nbformat": 4,
 "nbformat_minor": 4
}
