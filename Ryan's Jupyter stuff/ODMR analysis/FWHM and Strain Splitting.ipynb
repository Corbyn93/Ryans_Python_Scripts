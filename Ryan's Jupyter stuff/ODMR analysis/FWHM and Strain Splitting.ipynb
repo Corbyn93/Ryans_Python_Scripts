{
 "cells": [
  {
   "cell_type": "code",
   "execution_count": 60,
   "metadata": {},
   "outputs": [],
   "source": [
    "import os \n",
    "import numpy as np \n",
    "import matplotlib.pyplot as plot \n",
    "import pandas as pd\n",
    "import scipy.optimize as opt\n",
    "import time"
   ]
  },
  {
   "cell_type": "code",
   "execution_count": 61,
   "metadata": {},
   "outputs": [],
   "source": [
    "def get_file_name():\n",
    "    # Write in the data file location. \n",
    "    folder_directory = 'C:\\\\Users\\\\Ryan\\\\Desktop\\\\20200623_Thermometry'\n",
    "    date = '20200124'\n",
    "    file_name = '20200124_Thermometry_analysis_2'\n",
    "    return(folder_directory, date, file_name)"
   ]
  },
  {
   "cell_type": "code",
   "execution_count": 62,
   "metadata": {},
   "outputs": [],
   "source": [
    "def import_data(folder_directory, file_name):\n",
    "    # read in the data from the date_file. \n",
    "    file_location = folder_directory + '\\\\' + file_name + '.csv'\n",
    "    data = pd.read_csv(file_location, delimiter=',', header = 0,) \n",
    "    headers = list(data.columns.values)   \n",
    "    \n",
    "    return(data, headers)\n",
    "    "
   ]
  },
  {
   "cell_type": "code",
   "execution_count": 63,
   "metadata": {},
   "outputs": [],
   "source": [
    "def get_strain_splitting(data_set):\n",
    "    # Extracts the resonant frequencies and their assosciated errors \n",
    "    # from the data set and then calculates the strain splitting of the \n",
    "    # ND and the error in this value (from fitting). \n",
    "    \n",
    "    res_f1 = np.array(data_set['Resonant frequency 1 (GHz)'])\n",
    "    error_res_f1 = np.array(data_set['\\\\$delta$ Resonant frequency 1 (GHz)'])\n",
    "    res_f2 = np.array(data_set['Resonant frequency 2 (GHz)'])\n",
    "    error_res_f2 = np.array(data_set['\\\\$delta$ Resonant frequency 2 (GHz)'])\n",
    "    \n",
    "    strain_splitting = res_f2-res_f1\n",
    "    error_strain = np.sqrt(error_res_f1**2 + error_res_f2**2)\n",
    "    \n",
    "    return(strain_splitting, error_strain)\n",
    "    "
   ]
  },
  {
   "cell_type": "code",
   "execution_count": 71,
   "metadata": {},
   "outputs": [],
   "source": [
    "def get_FWHM(data_set):\n",
    "    FWHM_f1 = np.array(data_set['FWHM Peak 1 (GHz)'])\n",
    "    error_FWHM_f1 = np.array(data_set['\\\\$delta$ FMHW Peak 1'])\n",
    "    FWHM_f2 = np.array(data_set['FWHM Peak 2 (GHz)'])\n",
    "    error_FWHM_f2 = np.array(data_set['\\\\$delta$ FMHW Peak 1'])\n",
    "    \n",
    "    FWHM = np.array([FWHM_f1, FWHM_f2])\n",
    "    error_FWHM = np.array([error_FWHM_f1, error_FWHM_f2])\n",
    "    return(FWHM, error_FWHM)"
   ]
  },
  {
   "cell_type": "code",
   "execution_count": 65,
   "metadata": {},
   "outputs": [],
   "source": [
    "def create_array(ND_number, Temp_steps, strain_split, error_strain, FWHM, error_FWHM):\n",
    "    \n",
    "    array = []\n",
    "    for i in range(number_of_ND+1):\n",
    "        for j in range(5):\n",
    "            temp = 24.3 + i*2\n",
    "            array.append([temp, j+1, strain_split[(i)*(number_of_ND) + (j)], \n",
    "                          error_strain[(i)*(number_of_ND) + (j)], FWHM[0, (i)*(number_of_ND) + (j)],\n",
    "                          error_FWHM[0, (i)*(number_of_ND) + (j)], FWHM[1,(i)*(number_of_ND) + (j)],\n",
    "                          error_FWHM[1, (i)*(number_of_ND) + (j)]])\n",
    "    \n",
    "    array = np.array(array)        \n",
    "    return(array)"
   ]
  },
  {
   "cell_type": "code",
   "execution_count": 66,
   "metadata": {},
   "outputs": [],
   "source": [
    "def get_index_values(data, ND):\n",
    "    \n",
    "    index = []\n",
    "    for i in range(len(compile_data)):\n",
    "        if compile_data[i,1] == ND:\n",
    "            index.append(i)\n",
    "            \n",
    "    return(index)"
   ]
  },
  {
   "cell_type": "code",
   "execution_count": 78,
   "metadata": {},
   "outputs": [],
   "source": [
    "def create_strain_scatters(compile_data, indicies, ND):\n",
    "   \n",
    "    fig1, ax1 = plot.subplots()  \n",
    "    ax1.errorbar(compile_data[indicies,0], compile_data[indicies,2]*1000, compile_data[indicies,3]*1000,\n",
    "                    label = 'strain in ND cluster ' + str(ND), fmt = 'x')\n",
    "    \n",
    "    ax1.set_ylabel('Strain Splitting (MHz)')\n",
    "    ax1.set_xlabel('Temperature (oC)') \n",
    "    ax1.legend()\n",
    "    return(fig1)"
   ]
  },
  {
   "cell_type": "code",
   "execution_count": 79,
   "metadata": {},
   "outputs": [],
   "source": [
    "def create_FWHM_scatters(compile_data, indicies, ND):\n",
    "    \n",
    "    fig2, ax2 = plot.subplots()\n",
    "    ax2.errorbar(compile_data[indicies,0], compile_data[indicies,4]*1000, compile_data[indicies,5]*1000,\n",
    "                    label = 'FWHM for ND cluster ' + str(ND), fmt = 'x')\n",
    "    \n",
    "    ax2.set_ylabel('FWHM (MHz)')\n",
    "    ax2.set_xlabel('Temperature (oC)')\n",
    "    ax2.legend()\n",
    "    return(fig2)"
   ]
  },
  {
   "cell_type": "code",
   "execution_count": 80,
   "metadata": {},
   "outputs": [],
   "source": [
    "def save_figures(fig1, fig2, ND):\n",
    "    \n",
    "    destination_folder = 'C:\\\\Users\\\\Ryan\\\\Desktop\\\\20200623_Thermometry\\\\FWHM_and_Strain' + '\\\\'\n",
    "    # Checking to see if the folder exists in which to save the data, and creating it if it does not\n",
    "    if not os.path.exists(destination_folder):\n",
    "        os.makedirs(destination_folder)\n",
    "    \n",
    "    fig1.savefig(destination_folder + 'ND_' + str(ND) + '_Strain_scatter.png', transparent = True)    \n",
    "    fig2.savefig(destination_folder + 'ND_' + str(ND) + '_FWHM_scatter.png', transparent = True)"
   ]
  },
  {
   "cell_type": "code",
   "execution_count": 81,
   "metadata": {
    "scrolled": false
   },
   "outputs": [],
   "source": [
    "folder_name, date, file_name = get_file_name()\n",
    "data_set, headers = import_data(folder_name, file_name)\n",
    "\n",
    "number_of_ND = 5\n",
    "Temperature_steps = 6\n",
    "strain_split, error_strain = get_strain_splitting(data_set)\n",
    "FWHM, error_FWHM = get_FWHM(data_set)\n",
    "\n",
    "compile_data = create_array(number_of_ND, Temperature_steps, strain_split,\n",
    "                            error_strain, FWHM, error_FWHM)\n",
    "\n",
    "indicies = []\n",
    "for i in range(number_of_ND):\n",
    "    ND = i + 1\n",
    "    indicies = get_index_values(compile_data, ND)\n",
    "    fig1 = create_strain_scatters(compile_data, indicies, ND)\n",
    "    fig2 = create_FWHM_scatters(compile_data,indicies, ND)\n",
    "    save_figures(fig1, fig2, ND)\n",
    "    plot.close(fig1)\n",
    "    plot.close(fig2)"
   ]
  },
  {
   "cell_type": "code",
   "execution_count": null,
   "metadata": {},
   "outputs": [],
   "source": []
  }
 ],
 "metadata": {
  "kernelspec": {
   "display_name": "Python 3",
   "language": "python",
   "name": "python3"
  },
  "language_info": {
   "codemirror_mode": {
    "name": "ipython",
    "version": 3
   },
   "file_extension": ".py",
   "mimetype": "text/x-python",
   "name": "python",
   "nbconvert_exporter": "python",
   "pygments_lexer": "ipython3",
   "version": "3.7.1"
  }
 },
 "nbformat": 4,
 "nbformat_minor": 4
}
