{
 "cells": [
  {
   "cell_type": "markdown",
   "id": "composite-effort",
   "metadata": {},
   "source": [
    "# 6 Point ODMR Analsysis\n",
    "\n",
    "This script is used to analyse the 6 point ODMR scan (and hopefully will be general enough for 11 point ODMR) data. \n",
    "\n",
    "The data contained within the .dat file contains the fluorescence intensity recorded from a nanodiamond (cluster) while 6 (or 11) microwave frequnecies are applied to the sample. The frequencies are chosen to be around the resonant frequnecy of the NV centre. \n",
    "\n",
    "This program works by: \n",
    "1. First loading in the CW ODMR measurement from which the 6 point ODMR microwave frequnecies were determined. \n",
    "1. The data is then averaged to give a singal line scan, the ODMR scan is then normalised about its off-resonant fluorescnt signal. \n",
    "1. The Lorentz fitting is then generated for the mean ODMR values. \n",
    "1. A plot is then made from these values. \n",
    "1. The 6 point ODMR data is then loaded in, as is the frequnecy list used for the 6 point ODMR measurement. \n",
    "1. The 6 point ODMR curve data set has 11 points per applied frequnecy. So the mean and the standard deviation of these data points will be calculated. This will give a 2D dataset with \n",
    "1. From this point, I will generate a graph that has: \n",
    "    1. The fitted Lorentzian lineshape for the ODMR curve. \n",
    "    1. The CW ODMR values that correspond to the 6 frequency points used in the 6 point ODMR curve. \n",
    "    1. The normalised 6 point ODMR dataset fluorescent values plus their standard deviation. \n",
    "1. I will calculate the difference between the CW ODMR value and the 6 point ODMR value for the applied frequnecies. Hopefully any variation will be small, consistent across all the frequnecies and be smaller than the standard deviation of the 6 point ODMR scan. "
   ]
  },
  {
   "cell_type": "code",
   "execution_count": 9,
   "id": "incoming-studio",
   "metadata": {},
   "outputs": [],
   "source": [
    "import numpy as np \n",
    "import scipy.optimize as opt \n",
    "import matplotlib.pyplot as plot \n",
    "import os \n",
    "import pandas as pd"
   ]
  },
  {
   "cell_type": "code",
   "execution_count": 10,
   "id": "structural-payment",
   "metadata": {},
   "outputs": [],
   "source": [
    "def load_data(file_path):\n",
    "    '''Downloads the data from a .dat file and saves it into a numpy array.'''\n",
    "    data_array = np.loadtxt(file_path)\n",
    "    return(data_array)"
   ]
  },
  {
   "cell_type": "code",
   "execution_count": 11,
   "id": "cutting-booth",
   "metadata": {},
   "outputs": [],
   "source": [
    "def load_params(file_path):\n",
    "    '''load in the params data.''' \n",
    "    params_data = pd.read_table(file_path, names = ['Parameter name', 'Parameter value']) \n",
    "    return(params_data)"
   ]
  },
  {
   "cell_type": "code",
   "execution_count": 12,
   "id": "fifth-macintosh",
   "metadata": {},
   "outputs": [],
   "source": [
    "def create_freq_scan(start, stop, step_size):\n",
    "    '''takes the scan parameters from the params data file. '''\n",
    "    step_size_GHz = step_size/1000\n",
    "    number_of_steps = int((stop-start)/step_size_GHz)+1\n",
    "    freq = np.linspace(start, stop, number_of_steps)\n",
    "    \n",
    "    return(freq)"
   ]
  },
  {
   "cell_type": "code",
   "execution_count": 13,
   "id": "actual-friendship",
   "metadata": {},
   "outputs": [],
   "source": [
    "def set_plot_params():\n",
    "    '''formats the plot parameters '''\n",
    "    plot.rcParams.update({'font.size' : 20})\n",
    "    plot.rcParams.update({'figure.figsize' :[12, 8]})"
   ]
  },
  {
   "cell_type": "code",
   "execution_count": 14,
   "id": "green-underwear",
   "metadata": {},
   "outputs": [],
   "source": [
    "def mean_data(odmr_data):\n",
    "    '''find the mean of the data '''\n",
    "    mean_odmr_data =  np.mean(odmr_data, axis=0)\n",
    "    return(mean_odmr_data)"
   ]
  },
  {
   "cell_type": "code",
   "execution_count": 16,
   "id": "upset-bumper",
   "metadata": {},
   "outputs": [],
   "source": [
    "def normalise_data(mean_odmr_data):\n",
    "    ''' normalise the data to the maximum value of the mean dataset.''' \n",
    "    norm_odmr_data = mean_odmr_data/(np.mean(mean_odmr_data[0:50]))\n",
    "    return(norm_odmr_data)"
   ]
  },
  {
   "cell_type": "code",
   "execution_count": 17,
   "id": "worse-cache",
   "metadata": {},
   "outputs": [],
   "source": [
    "def scatter_plot(freq,mean_data):\n",
    "    '''Creates a scatter plot for experimental data.''' \n",
    "    fig2, ax2 = plot.subplots()\n",
    "    ax2.scatter(freq, mean_data, marker = 'x',color = 'r', label = \"ODMR Data\")\n",
    "    ax2.set_xlim(np.min(freq),np.max(freq))\n",
    "    return(fig2, ax2)"
   ]
  },
  {
   "cell_type": "code",
   "execution_count": 18,
   "id": "alive-pilot",
   "metadata": {},
   "outputs": [],
   "source": [
    "def get_init_params(odmr_data, freq):\n",
    "    ''' find the minima of the ODMR spectra and ODMR dip contrast and \n",
    "    flourenscent baseline.'''\n",
    "    \n",
    "    half_data_length = int((len(freq)-1)/2) - 5 # This brings the mid-value to 2.87GHz \n",
    "    \n",
    "    # find the indices for the lowest frequency value\n",
    "    low_freq_min_index = np.where(odmr_data[0:half_data_length] == np.min(odmr_data[0:half_data_length]))\n",
    "    high_freq_min_index = np.where(odmr_data[half_data_length:len(odmr_data)-1] == \n",
    "                                   np.min(odmr_data[half_data_length:len(odmr_data)-1]))\n",
    "   \n",
    "    # frequencies corresponding to ODMR minima\n",
    "    freq_mins = [np.float(freq[low_freq_min_index[0]]),\n",
    "                 np.float(freq[high_freq_min_index[0]+half_data_length])]\n",
    "    \n",
    "    # manually set frequencies. \n",
    "    \n",
    "    #freq_mins = [2.78, 2.96]\n",
    "    \n",
    "    flourescent_baseline = np.mean(odmr_data)\n",
    "    \n",
    "    # approximate dip_depth\n",
    "    dip_depth = [odmr_data[low_freq_min_index[0][0]]  - flourescent_baseline, \n",
    "                 odmr_data[high_freq_min_index[0][0]+half_data_length]  - flourescent_baseline]\n",
    "    \n",
    "    #contrast = [np.float((1-odmr_data[low_freq_min_index[0]]/flourescent_baseline)), \n",
    "    #            np.float((1-odmr_data[high_freq_min_index[0]+half_data_length]/flourescent_baseline))]\n",
    "\n",
    "    return(freq_mins, dip_depth, flourescent_baseline)"
   ]
  },
  {
   "cell_type": "code",
   "execution_count": 19,
   "id": "french-russia",
   "metadata": {},
   "outputs": [],
   "source": [
    "def optimised_lorentz_fit(freq, mean_data, init_params, lower_bounds, upper_bounds):\n",
    "    '''A method to find the fitting prameters for the ODMR dataset.''' \n",
    "    y_error = np.sqrt(mean_data) # poissonian noise\n",
    "    coeffs, confidence = opt.curve_fit(double_lorentz, freq, mean_data, init_params, \n",
    "                                       sigma = y_error, bounds = (lower_bounds, upper_bounds))\n",
    "    opt_error = np.sqrt(np.diag(confidence))\n",
    "    \n",
    "    return(coeffs, opt_error)"
   ]
  },
  {
   "cell_type": "code",
   "execution_count": 20,
   "id": "elementary-headset",
   "metadata": {},
   "outputs": [],
   "source": [
    "def double_lorentz(x, A1, X01, sig1, A2, X02, sig2, offset): #P0[0], P0[1], P0[2], P0[3], P0[4], P0[5], P0[6]):\n",
    "    ''' A1 = Amplitude 1, X01 = Resonance 1, sig1 = FWHM 1\n",
    "     A2 = Amplitude 2, X02 = Resonance 2, sig2 = FWHM 2, offset = offset'''\n",
    "    \n",
    "    first_peak = (A1/np.pi)*((sig1**2)/(sig1**2 +(2*x-2*X01)**2))\n",
    "    second_peak = (A2/np.pi)*((sig2**2)/(sig2**2 +(2*x-2*X02)**2))\n",
    "    \n",
    "    return (first_peak + second_peak + offset)"
   ]
  },
  {
   "cell_type": "code",
   "execution_count": 21,
   "id": "conservative-concept",
   "metadata": {},
   "outputs": [],
   "source": [
    "def plot_fitting(ax2, freq, fitting_params):\n",
    "    ''' plot the y fit. '''\n",
    "    \n",
    "    high_res_freq = np.linspace(freq[0], freq[len(freq)-1], 10*len(freq)+1)\n",
    "    \n",
    "    # create the double lorentz fit array\n",
    "    y_fit_high_res = double_lorentz(high_res_freq, fitting_params[0], fitting_params[1], fitting_params[2], \n",
    "                  fitting_params[3], fitting_params[4], fitting_params[5], fitting_params[6])\n",
    "    \n",
    "    y_fit = double_lorentz(freq, fitting_params[0], fitting_params[1], fitting_params[2], \n",
    "                  fitting_params[3], fitting_params[4], fitting_params[5], fitting_params[6])\n",
    "    \n",
    "    ax2.plot(high_res_freq, y_fit_high_res, color='k', label='Double Lorentz \\nfitting')\n",
    "    ax2.legend()\n",
    "    ax2.set_xlabel('Microwave Frequency (GHz)', fontsize = 18)\n",
    "    ax2.set_ylabel('Normalised Counts', fontsize = 18)\n",
    "    \n",
    "    return(ax2, y_fit)\n",
    " "
   ]
  },
  {
   "cell_type": "code",
   "execution_count": 22,
   "id": "controlling-surgeon",
   "metadata": {},
   "outputs": [],
   "source": [
    "def get_r_squared(x, y_data, y_fitting):\n",
    "    '''This is a function used to generate the goodness of fit metric r^2.\n",
    "    This value will be used to judge the effectiveness of the curve fitting \n",
    "    used to find the resonant frequencies of the NV centre.'''\n",
    "    \n",
    "    y_data_mean = np.mean(y_data)\n",
    "    SStot = np.sum((y_data - y_data_mean)**2) # Find the variation in experimental y values.\n",
    "    SSres = np.sum((y_data - y_fitting)**2) # Find the variation betweem the experimental and fitted y values. \n",
    "    \n",
    "    r_squared = 1 - (SSres/SStot) # Calculate R^2\n",
    "    \n",
    "    return(r_squared)"
   ]
  },
  {
   "cell_type": "markdown",
   "id": "inner-biology",
   "metadata": {},
   "source": [
    "In the below cell, I run the code that is required to retrieve the ODMR data from a .dat file, find the mean fluorescence intensity value for each applied frequnecy and normalise the whole mean linescan to the off-resonant signal. \n",
    "\n",
    "These values are plotted and a double lorentzian curve fit for the data generated and plotted on the same graph. "
   ]
  },
  {
   "cell_type": "code",
   "execution_count": 23,
   "id": "substantial-reverse",
   "metadata": {},
   "outputs": [
    {
     "data": {
      "image/png": "[encoded data removed]",
      "text/plain": [
       "<Figure size 864x576 with 1 Axes>"
      ]
     },
     "metadata": {
      "needs_background": "light"
     },
     "output_type": "display_data"
    }
   ],
   "source": [
    "'''######\n",
    " # This portion of the code produced the ODMR data plotting and the double lorentz fitting and \n",
    " # Saves this data into a text file and the 2 plots generated. \n",
    "#######'''\n",
    "\n",
    "# Load in the data file into an np array, and freqeuncy scan parameters \n",
    "# into a pandas array.\n",
    "folder_path = 'I:\\\\Science\\\\Physics-Nanobiophotonics\\\\Group\\\\User Data\\\\ODMR\\\\ODMR and imaging\\\\'\n",
    "date = '20210303'\n",
    "file_name = date + '_NVScan_04'\n",
    "nd_number = int(file_name[-2:]) - 1\n",
    "#nd = np.remainder(nd_number, 5) + 1\n",
    "\n",
    "#print(nd)\n",
    "\n",
    "odmr_data = load_data(folder_path + date + '\\\\' + file_name + '.dat')\n",
    "params_file = load_params(folder_path + date + '\\\\' + file_name + 'Params.dat')\n",
    "params_values = params_file['Parameter value']\n",
    "\n",
    "# Create the freqeuncy scan array. \n",
    "freq = create_freq_scan(params_values[0], params_values[1], params_values[2])\n",
    "\n",
    "# Set Plot parameters. \n",
    "set_plot_params()\n",
    "\n",
    "# find the mean of the ODMR data\n",
    "mean_odmr_data = mean_data(odmr_data)\n",
    "\n",
    "# Normalise the dataset\n",
    "norm_mean_odmr = normalise_data(mean_odmr_data)\n",
    "#norm_mean_odmr = mean_odmr_data\n",
    "\n",
    "# scatter plot of data\n",
    "fig2, ax2 = scatter_plot(freq, norm_mean_odmr)\n",
    "\n",
    "# find the freqeuncy points with the highest ODMR contrast\n",
    "freq_mins, dip_depth, flourescent_baseline = get_init_params(norm_mean_odmr, freq)\n",
    "\n",
    "# create the initial parameters for ODMR double lorentzian \n",
    "# line fitting\n",
    "init_params = [dip_depth[0], freq_mins[0], 0.005, dip_depth[1], freq_mins[1], 0.005, flourescent_baseline]\n",
    "#init_params = [dip_depth[0], 2.865, 0.001, dip_depth[1], 2.87, 0.001, flourescent_baseline]\n",
    "\n",
    "lower_bounds = [-np.inf, init_params[1] - 0.01, 0, -np.inf, init_params[4] - 0.01, 0, 0]\n",
    "upper_bounds = [np.inf, init_params[1] + 0.01, 1, np.inf, init_params[4] + 0.01, 1, np.inf]\n",
    "\n",
    "# generate the optimised curve fit parameters. \n",
    "fitting_params, error_in_fit = optimised_lorentz_fit(freq, norm_mean_odmr, init_params,\n",
    "                                                    lower_bounds, upper_bounds)\n",
    "\n",
    "ax2, y_fit = plot_fitting(ax2, freq, fitting_params)"
   ]
  },
  {
   "cell_type": "markdown",
   "id": "deluxe-block",
   "metadata": {},
   "source": [
    "From this point on, I will be writing new code that is designed to retrieve the 6 point ODMR data and do all the other things highlighted at the start. "
   ]
  },
  {
   "cell_type": "code",
   "execution_count": null,
   "id": "compressed-factory",
   "metadata": {},
   "outputs": [],
   "source": [
    "def num_of_freqs_applied(freq_array):\n",
    "    '''Here we find out how many different frequencies were used in the \n",
    "    measurement and the index at which the frequnecies change.'''\n",
    "    \n",
    "    index = [0]\n",
    "    num_of_freqs = 1\n",
    "    new_freq = freq_array[0]\n",
    "    \n",
    "    for i in range(len(freq_array)):\n",
    "        if freq_array[i] != new_freq: \n",
    "            index.append(i)\n",
    "            num_of_freqs = num_of_freqs + 1\n",
    "            new_freq = freq_array[i]\n",
    "            \n",
    "    index.append(len(freq_array)-1)\n",
    "    \n",
    "    return(num_of_freqs, index)"
   ]
  },
  {
   "cell_type": "code",
   "execution_count": null,
   "id": "talented-access",
   "metadata": {},
   "outputs": [],
   "source": [
    "def collect_6_point_data(six_point_data, num_of_freqs, freq_change_index):\n",
    "    '''This method takes the 6 point ODMR data, finds the mean fluorescence intensity value for \n",
    "    each applied frequnecy and the standard deviation for this mean value.  '''\n",
    "    \n",
    "    mean_values = np.empty([num_of_freqs,1])\n",
    "    std = np.empty([num_of_freqs,1])\n",
    "    \n",
    "    x,y = six_point_data.shape\n",
    "    \n",
    "    for i in range(num_of_freqs):\n",
    "        mean_values[i] = np.mean(six_point_data[0:x, freq_change_index[i]:freq_change_index[i+1]])\n",
    "        std[i] = np.std(six_point_data[0:x, freq_change_index[i]:freq_change_index[i+1]])\n",
    "        root_error = np.mean(np.sqrt(six_point_data[0:x, freq_change_index[i]:freq_change_index[i+1]]))\n",
    "        \n",
    "    return(mean_values, std, root_error)"
   ]
  },
  {
   "cell_type": "code",
   "execution_count": null,
   "id": "congressional-median",
   "metadata": {},
   "outputs": [],
   "source": []
  },
  {
   "cell_type": "code",
   "execution_count": null,
   "id": "lesser-model",
   "metadata": {},
   "outputs": [],
   "source": []
  },
  {
   "cell_type": "code",
   "execution_count": null,
   "id": "caring-filling",
   "metadata": {},
   "outputs": [],
   "source": []
  },
  {
   "cell_type": "code",
   "execution_count": null,
   "id": "cheap-generator",
   "metadata": {},
   "outputs": [],
   "source": []
  },
  {
   "cell_type": "code",
   "execution_count": 8,
   "id": "advised-coverage",
   "metadata": {},
   "outputs": [
    {
     "ename": "NameError",
     "evalue": "name 'date' is not defined",
     "output_type": "error",
     "traceback": [
      "\u001b[1;31m---------------------------------------------------------------------------\u001b[0m",
      "\u001b[1;31mNameError\u001b[0m                                 Traceback (most recent call last)",
      "\u001b[1;32m<ipython-input-8-7f5f6b5e0945>\u001b[0m in \u001b[0;36m<module>\u001b[1;34m\u001b[0m\n\u001b[0;32m      2\u001b[0m \u001b[1;33m\u001b[0m\u001b[0m\n\u001b[0;32m      3\u001b[0m \u001b[1;31m# file names for the ODMR data and the frequncy scan data.\u001b[0m\u001b[1;33m\u001b[0m\u001b[1;33m\u001b[0m\u001b[1;33m\u001b[0m\u001b[0m\n\u001b[1;32m----> 4\u001b[1;33m \u001b[0mfile_name\u001b[0m \u001b[1;33m=\u001b[0m \u001b[0mdate\u001b[0m \u001b[1;33m+\u001b[0m \u001b[1;34m'_NVScan_6points_06'\u001b[0m\u001b[1;33m\u001b[0m\u001b[1;33m\u001b[0m\u001b[0m\n\u001b[0m\u001b[0;32m      5\u001b[0m \u001b[0mfrequency_file\u001b[0m \u001b[1;33m=\u001b[0m \u001b[1;34m'20210303_NVScan_04_6_ODMR_points'\u001b[0m\u001b[1;33m\u001b[0m\u001b[1;33m\u001b[0m\u001b[0m\n\u001b[0;32m      6\u001b[0m \u001b[1;33m\u001b[0m\u001b[0m\n",
      "\u001b[1;31mNameError\u001b[0m: name 'date' is not defined"
     ]
    }
   ],
   "source": [
    "'''This part of the code is used to retrieve the 6 point ODMR curve data and do stuff with it.'''\n",
    "\n",
    "# file names for the ODMR data and the frequncy scan data. \n",
    "file_name = date + '_NVScan_6points_06'\n",
    "frequency_file = '20210303_NVScan_04_6_ODMR_points'\n",
    "\n",
    "# Get the data from the 6 point scan and the frequency scan. \n",
    "six_point_data = load_data(folder_path + date + '\\\\' + file_name + '.dat')\n",
    "six_point_freq_scan_data =  load_params(folder_path + date + '\\\\' + frequency_file + '.txt')\n",
    "\n",
    "six_point_freq_array = np.array(six_point_freq_scan_data['Parameter name'])\n",
    "\n",
    "num_of_freqs, freq_change_index = num_of_freqs_applied(six_point_freq_array)\n",
    "\n",
    "six_point_freqs = six_point_freq_array[freq_change_index[0:-1]]*10**-9\n",
    "\n",
    "six_point_odmr, six_point_std, root_error = collect_6_point_data(six_point_data, num_of_freqs, freq_change_index)\n",
    "\n",
    "norm_six_point_odmr = six_point_odmr/(0.5*(six_point_odmr[0]+six_point_odmr[-1]))\n",
    "\n",
    "#std = (six_point_std/six_point_odmr)"
   ]
  },
  {
   "cell_type": "code",
   "execution_count": null,
   "id": "genetic-faith",
   "metadata": {},
   "outputs": [],
   "source": []
  },
  {
   "cell_type": "code",
   "execution_count": null,
   "id": "integrated-bikini",
   "metadata": {},
   "outputs": [],
   "source": []
  },
  {
   "cell_type": "code",
   "execution_count": 132,
   "id": "frank-accommodation",
   "metadata": {},
   "outputs": [
    {
     "data": {
      "text/plain": [
       "<matplotlib.legend.Legend at 0x28b6b1e4a88>"
      ]
     },
     "execution_count": 132,
     "metadata": {},
     "output_type": "execute_result"
    },
    {
     "data": {
      "image/png": "[encoded data removed]",
      "text/plain": [
       "<Figure size 864x576 with 1 Axes>"
      ]
     },
     "metadata": {
      "needs_background": "light"
     },
     "output_type": "display_data"
    }
   ],
   "source": [
    "fig1, ax1 = plot.subplots()\n",
    "ax1, y_fit  =  plot_fitting(ax1, freq, fitting_params)\n",
    "ax1.errorbar(six_point_freqs, six_point_odmr, root_error, marker = 'x',\n",
    "            label = '6 point ODMR \\ndata points', linestyle = '', \n",
    "            color = 'r', linewidth = 2)\n",
    "\n",
    "indie = [0]\n",
    "for i in range(num_of_freqs-1):\n",
    "    indie.append(int((six_point_freqs[i+1]-six_point_freqs[0])*1000))\n",
    "\n",
    "#ax1.scatter(freq[indie], norm_mean_odmr[indie], marker = 'o', \n",
    "#            label = 'CW ODMR data \\nat 6 frequnecies')\n",
    "\n",
    "ax1.legend(loc = 'lower left')"
   ]
  },
  {
   "cell_type": "code",
   "execution_count": null,
   "id": "solar-butler",
   "metadata": {},
   "outputs": [],
   "source": [
    "print(six_point_odmr, std)"
   ]
  },
  {
   "cell_type": "code",
   "execution_count": null,
   "id": "outer-shakespeare",
   "metadata": {},
   "outputs": [],
   "source": []
  }
 ],
 "metadata": {
  "kernelspec": {
   "display_name": "Python 3",
   "language": "python",
   "name": "python3"
  },
  "language_info": {
   "codemirror_mode": {
    "name": "ipython",
    "version": 3
   },
   "file_extension": ".py",
   "mimetype": "text/x-python",
   "name": "python",
   "nbconvert_exporter": "python",
   "pygments_lexer": "ipython3",
   "version": "3.7.7"
  }
 },
 "nbformat": 4,
 "nbformat_minor": 5
}
