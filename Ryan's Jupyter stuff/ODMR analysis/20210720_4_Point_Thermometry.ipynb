{
 "cells": [
  {
   "cell_type": "markdown",
   "id": "secondary-dylan",
   "metadata": {},
   "source": [
    "# 4 point Thermometry Analysis ONLY\n",
    "\n",
    "This script will be used purely to analyse the results of the 4 point ODMR measurements using only the temperature sensing algorithms as defined in the papers:\n",
    "1. Singam et al (2019) - Nitrogen-vacancy nanodiamond based local thermometry using frequency-jump modulation\n",
    "2. Fujiwaraet al (2020) - Real-time nanodiamond thermometry probing in vivo thermogenic responses. \n",
    "\n",
    "The aim of writing this script is to tidy up the original frankenstien script currently at the time of writing called: \n",
    "20210617_Analysis_Referenced_4_point_ODMR.ipynb\n",
    "\n",
    "Unfortunately, I think I need to call in basically all the same functions and perform basically all the same analysis, but I will have fewer outputs and will structure everything a little bit nicer so that I can run everything from a single \"main\" cell at the bottom of the script and know that everything will get pulled in properly... I might have it so that any full CW ODMR script analysis is done in a separate cell just so I don't end up bogging down the whole script everytime it runs. "
   ]
  },
  {
   "cell_type": "code",
   "execution_count": 1,
   "id": "acute-invention",
   "metadata": {},
   "outputs": [],
   "source": [
    "import scipy.optimize as opt \n",
    "import numpy as np \n",
    "import matplotlib.pyplot as plot \n",
    "import os \n",
    "import pandas as pd\n",
    "from scipy.signal import find_peaks"
   ]
  },
  {
   "cell_type": "markdown",
   "id": "characteristic-sellers",
   "metadata": {},
   "source": [
    "Pull in the data files and the associated params file. Also make the plots big enough to actually be able to see what's going on and read what's on the graphs. "
   ]
  },
  {
   "cell_type": "code",
   "execution_count": 2,
   "id": "contrary-breeding",
   "metadata": {},
   "outputs": [],
   "source": [
    "def load_data(file_path): \n",
    "    # load the ODMR data file in to an np array \n",
    "    data_array = np.loadtxt(file_path)\n",
    "    return(data_array)"
   ]
  },
  {
   "cell_type": "code",
   "execution_count": 3,
   "id": "practical-source",
   "metadata": {},
   "outputs": [],
   "source": [
    "def load_params(file_path):\n",
    "    # load in the params data. \n",
    "    params_data = pd.read_table(file_path, names = ['Parameter name', 'Parameter value']) \n",
    "    return(params_data)"
   ]
  },
  {
   "cell_type": "code",
   "execution_count": 4,
   "id": "vulnerable-treasury",
   "metadata": {},
   "outputs": [],
   "source": [
    "def set_plot_params():\n",
    "    # formats the plot parameters \n",
    "    plot.rcParams.update({'font.size' : 16})\n",
    "    plot.rcParams.update({'figure.figsize' :[12, 8]})"
   ]
  },
  {
   "cell_type": "markdown",
   "id": "interested-damage",
   "metadata": {},
   "source": [
    "Creates a numpy array with the microwave frequency scan range from the params file. "
   ]
  },
  {
   "cell_type": "code",
   "execution_count": 5,
   "id": "vocational-deficit",
   "metadata": {},
   "outputs": [],
   "source": [
    "def create_freq_scan(start, stop, step_size):\n",
    "    # takes the scan parameters from the params data file. \n",
    "    step_size_GHz = step_size/1000\n",
    "    number_of_steps = int((stop-start)/step_size_GHz)+1\n",
    "    freq = np.linspace(start, stop, number_of_steps)\n",
    "    return(freq)"
   ]
  },
  {
   "cell_type": "markdown",
   "id": "owned-infection",
   "metadata": {},
   "source": [
    "Here we have the code to reshape the ODMR data into a 3D dataset according to the parameters that are given in the Params.txt file. \n",
    "\n",
    "Once the ODMR and reference Datasets have been restructured, then we can perform the normalisation of the ODMR dataset to the reference dataset.  "
   ]
  },
  {
   "cell_type": "code",
   "execution_count": 6,
   "id": "automated-spelling",
   "metadata": {},
   "outputs": [],
   "source": [
    "def reshape_data(reference_data, odmr_data, params_values):\n",
    "    '''Here we re-shape the reference and the ODMR datasets into a 3D array, \n",
    "    based on the number of line scans, frequnecy points and repeats per frequnecy \n",
    "    have been used to build the ODMR dataset.'''\n",
    "    \n",
    "    # Create variables with the frequnecy scan parameters. \n",
    "    num_of_line_scans = int(params_values[4])\n",
    "    num_of_freqs =  int(1000*(params_values[1]-params_values[0])/params_values[2] + 1)\n",
    "    points_per_freq = int(params_values[8])\n",
    "    print(num_of_line_scans, num_of_freqs, points_per_freq)\n",
    "    # Reshape the ODMR and reference datasets. \n",
    "    odmr_shape_3D = odmr_data.reshape(num_of_line_scans, num_of_freqs, points_per_freq)\n",
    "    reference_data_3D = reference_data.reshape(num_of_line_scans, num_of_freqs, points_per_freq)\n",
    "    \n",
    "    return(odmr_shape_3D, reference_data_3D)"
   ]
  },
  {
   "cell_type": "code",
   "execution_count": 7,
   "id": "beneficial-accessory",
   "metadata": {},
   "outputs": [],
   "source": [
    "def normalise_data(reference_data, odmr_data):\n",
    "    '''Here we normalise the ODMR dataset to the reference data.'''\n",
    "\n",
    "    norm_odmr_data = odmr_data/reference_data\n",
    "    return(norm_odmr_data)"
   ]
  },
  {
   "cell_type": "markdown",
   "id": "excellent-skating",
   "metadata": {},
   "source": [
    "Find the mean of the ODMR dataset."
   ]
  },
  {
   "cell_type": "code",
   "execution_count": 8,
   "id": "nonprofit-relative",
   "metadata": {},
   "outputs": [],
   "source": [
    "def mean_data(odmr_data):\n",
    "    # find the mean data \n",
    "    mean_odmr_data_points =  np.mean(odmr_data, axis = 2)\n",
    "    mean_odmr_data_points_and_linescans =  np.mean(mean_odmr_data_points, axis = 0)\n",
    "    return(mean_odmr_data_points, mean_odmr_data_points_and_linescans)"
   ]
  },
  {
   "cell_type": "markdown",
   "id": "dynamic-packing",
   "metadata": {},
   "source": [
    "Plot the Normalised ODMR data to a graph."
   ]
  },
  {
   "cell_type": "code",
   "execution_count": 9,
   "id": "elegant-player",
   "metadata": {},
   "outputs": [],
   "source": [
    "def normalised_scatter_plot(freq, mean_data):\n",
    "    # Creates a scatter plot for experimental data and plot parameters. \n",
    "    fig2, ax2 = plot.subplots()\n",
    "    ax2.scatter(freq, mean_data, marker = 'x',color = 'r', label = \"ODMR Data\")\n",
    "    \n",
    "    ax2.set_xlim(np.min(freq),np.max(freq))\n",
    "    ax2.set_xlabel('Microwave Frequency (GHz)', fontsize = 18)\n",
    "    ax2.set_ylabel('Normalised Counts (A.U.)', fontsize = 18)\n",
    "    return(fig2, ax2)"
   ]
  },
  {
   "cell_type": "markdown",
   "id": "altered-studio",
   "metadata": {},
   "source": [
    "Get the fitting parameters from the ODMR dataset and use these to fit a double Lorentzian lineshape to the normalised ODMR dataset."
   ]
  },
  {
   "cell_type": "code",
   "execution_count": 10,
   "id": "tamil-withdrawal",
   "metadata": {},
   "outputs": [],
   "source": [
    "def get_init_params(odmr_data, freq):\n",
    "    # find the minima of the ODMR spectra and ODMR dip contrast and \n",
    "    # flourenscent baseline.\n",
    "    \n",
    "    half_data_length = int((len(freq)-1)/2) - 5 # This brings the mid-value to 2.87GHz \n",
    "    \n",
    "    #find the indices for the lowest frequency value\n",
    "    low_freq_min_index = np.where(odmr_data[0:half_data_length] == np.min(odmr_data[0:half_data_length]))\n",
    "    high_freq_min_index = np.where(odmr_data[half_data_length:len(odmr_data)-1] == \n",
    "                                   np.min(odmr_data[half_data_length:len(odmr_data)-1]))\n",
    "   \n",
    "    # frequencies corresponding to ODMR minima\n",
    "    freq_mins = [np.float(freq[low_freq_min_index[0]]),\n",
    "                 np.float(freq[high_freq_min_index[0]+half_data_length])]\n",
    "    \n",
    "    # manually set frequencies. \n",
    "    \n",
    "    #freq_mins = [2.78, 2.96]\n",
    "    \n",
    "    flourescent_baseline = np.mean(odmr_data)\n",
    "    \n",
    "    # approximate dip_depth\n",
    "    dip_depth = [odmr_data[low_freq_min_index[0][0]]  - flourescent_baseline, \n",
    "                 odmr_data[high_freq_min_index[0][0]+half_data_length]  - flourescent_baseline]\n",
    "    \n",
    "    #contrast = [np.float((1-odmr_data[low_freq_min_index[0]]/flourescent_baseline)), \n",
    "    #            np.float((1-odmr_data[high_freq_min_index[0]+half_data_length]/flourescent_baseline))]\n",
    "\n",
    "    return(freq_mins, dip_depth, flourescent_baseline)"
   ]
  },
  {
   "cell_type": "code",
   "execution_count": 11,
   "id": "neither-subsection",
   "metadata": {},
   "outputs": [],
   "source": [
    "def optimised_lorentz_fit(freq, mean_data, init_params, lower_bounds, upper_bounds):\n",
    "    # A method to find the fitting prameters for the ODMR dataset. \n",
    "    y_error = np.sqrt(mean_data) # poissonian noise\n",
    "    coeffs, confidence = opt.curve_fit(double_lorentz, freq, mean_data, init_params, \n",
    "                                       sigma = y_error, bounds = (lower_bounds, upper_bounds))\n",
    "    opt_error = np.sqrt(np.diag(confidence))\n",
    "    \n",
    "    return(coeffs, opt_error)"
   ]
  },
  {
   "cell_type": "code",
   "execution_count": 12,
   "id": "republican-marina",
   "metadata": {},
   "outputs": [],
   "source": [
    "def double_lorentz(x, A1, X01, sig1, A2, X02, sig2, offset): #P0[0], P0[1], P0[2], P0[3], P0[4], P0[5], P0[6]):\n",
    "    # A1 = Amplitude 1, X01 = Resonance 1, sig1 = FWHM 1\n",
    "    # A2 = Amplitude 2, X02 = Resonance 2, sig2 = FWHM 2, offset = offset\n",
    "    \n",
    "    first_peak = (A1/np.pi)*((sig1**2)/(sig1**2 +(2*x-2*X01)**2))\n",
    "    second_peak = (A2/np.pi)*((sig2**2)/(sig2**2 +(2*x-2*X02)**2))\n",
    "    \n",
    "    return (first_peak + second_peak + offset)"
   ]
  },
  {
   "cell_type": "code",
   "execution_count": 13,
   "id": "increased-poultry",
   "metadata": {},
   "outputs": [],
   "source": [
    "def plot_fitting(ax2, freq, dwell_time):\n",
    "    # plot the y fit. \n",
    "    \n",
    "    high_res_freq = np.linspace(freq[0], freq[len(freq)-1], 10*len(freq)+1)\n",
    "    \n",
    "    # create the double lorentz fit array\n",
    "    y_fit_high_res = double_lorentz(high_res_freq, fitting_params[0], fitting_params[1], fitting_params[2], \n",
    "                  fitting_params[3], fitting_params[4], fitting_params[5], fitting_params[6])\n",
    "    \n",
    "    y_fit = double_lorentz(freq, fitting_params[0], fitting_params[1], fitting_params[2], \n",
    "                  fitting_params[3], fitting_params[4], fitting_params[5], fitting_params[6])\n",
    "    \n",
    "    ax2.plot(high_res_freq, y_fit_high_res, color='k', label='Double Lorentz \\nfitting')\n",
    "    ax2.legend()\n",
    "    \n",
    "    return(ax2, y_fit)"
   ]
  },
  {
   "cell_type": "markdown",
   "id": "completed-gauge",
   "metadata": {},
   "source": [
    "*************************************************************************************************************************************************************************************"
   ]
  },
  {
   "cell_type": "markdown",
   "id": "capable-concept",
   "metadata": {},
   "source": [
    "### Full CW ODMR Analysis\n",
    "\n",
    "This should be a fairly base level referenced ODMR dataset analysis. From this, we should be able to reshape, normalise and plot the ODMR data.  \n",
    "Additionally, I should be able to extract the Double Lorentz fitting of the dataset as it is needed for some of the further analysis."
   ]
  },
  {
   "cell_type": "markdown",
   "id": "varying-gregory",
   "metadata": {},
   "source": [
    "*****************************************************************"
   ]
  },
  {
   "cell_type": "code",
   "execution_count": 14,
   "id": "combined-february",
   "metadata": {},
   "outputs": [
    {
     "name": "stdout",
     "output_type": "stream",
     "text": [
      "1 261 100\n"
     ]
    },
    {
     "data": {
      "image/png": "[encoded data removed]",
      "text/plain": [
       "<Figure size 864x576 with 1 Axes>"
      ]
     },
     "metadata": {
      "needs_background": "light"
     },
     "output_type": "display_data"
    }
   ],
   "source": [
    "#######\n",
    " # This portion of the code produced the ODMR data plotting and the double lorentz fitting and \n",
    " # Saves this data into a text file and the 2 plots generated. \n",
    "#######\n",
    "\n",
    "date = '20210707' # Date on folder in which the experimental data is saved. \n",
    "set_plot_params()\n",
    "\n",
    "# Load in the data file into an np array, and freqeuncy scan parameters \n",
    "# into a pandas array.\n",
    "folder_path = 'I:\\\\Science\\\\Physics-Nanobiophotonics\\\\Group\\\\User Data\\\\ODMR\\\\ODMR and imaging\\\\' + date + '\\\\'\n",
    "#folder_path = 'I:\\\\Science\\\\Physics-Nanobiophotonics\\\\Group\\\\User Data\\\\ODMR\\\\Imaging\\\\'\n",
    "\n",
    "data_set = '_referenced_odmr_09' # Short hand for the file name. \n",
    "\n",
    "# Set the file names for all 4 data sets recorded from the experiment. \n",
    "file_name_ODMR1 = date + data_set + '_ODMR1.dat'\n",
    "file_name_ODMR2 = date + data_set + '_ODMR2.dat'\n",
    "file_name_Ref1 = date + data_set  + '_Ref1.dat'\n",
    "file_name_Ref2 = date + data_set  + '_Ref2.dat'\n",
    "\n",
    "# Extract the ODMR and reference datasets from the data we are looking at. \n",
    "odmr_data = load_data(folder_path + file_name_ODMR1)\n",
    "reference_data = load_data(folder_path + file_name_Ref1)\n",
    "\n",
    "# Get the parameters for the experiment. \n",
    "params_file = load_params(folder_path + date  + data_set + '_Params.txt')\n",
    "params_values = params_file['Parameter value']\n",
    "\n",
    "# Create the freqeuncy scan array. \n",
    "# Freq scan = frequency scan actually used in experiment, frreq = scan without triggering problems. \n",
    "freq = create_freq_scan(params_values[0], params_values[1], params_values[2])\n",
    "\n",
    "# Dwell time of the measurment \n",
    "dwell_time = params_values[3]\n",
    "\n",
    "# Reshape the ODMR and reference datasets. \n",
    "odmr_data, reference_data = reshape_data(reference_data, odmr_data, params_values)\n",
    "\n",
    "# Normalise the ODMR data against the reference data. \n",
    "normalised_ODMR = normalise_data(reference_data, odmr_data)\n",
    "\n",
    "# Mean of the normalise dataset. \n",
    "# mean_odmr_freq_points = mean for all the points recorded per frequnecy, but not linescans. \n",
    "# mean_norm_odmr_full = Mean fluorescence value for all ODMR data points taken per freq. \n",
    "mean_odmr_freq_points, mean_norm_odmr_full_disordered = mean_data(normalised_ODMR)\n",
    "mean_norm_odmr_full = np.roll(mean_norm_odmr_full_disordered, 1)\n",
    "\n",
    "# Plot the mean normalised dataset as a scatter plot. \n",
    "fig1, ax1 = normalised_scatter_plot(freq, mean_norm_odmr_full)\n",
    "\n",
    "# find the freqeuncy points with the highest ODMR contrast\n",
    "freq_mins, dip_depth, flourescent_baseline = get_init_params(mean_norm_odmr_full, freq)\n",
    "\n",
    "# create the initial parameters for ODMR double lorentzian \n",
    "# line fitting\n",
    "init_params = [dip_depth[0], freq_mins[0], 0.005, dip_depth[1], freq_mins[1], 0.005, flourescent_baseline]\n",
    "#init_params = [-0.8, 2.86, 0.005, dip_depth[1], 2.87, 0.005, flourescent_baseline]\n",
    "\n",
    "# Set the upper and lower bounds for the fitting algorithm. \n",
    "lower_bounds = [-np.inf, init_params[1] - 0.01, 0, -np.inf, init_params[4] - 0.01, 0, 0]\n",
    "upper_bounds = [np.inf, init_params[1] + 0.01, 1, np.inf, init_params[4] + 0.01, 1, np.inf]\n",
    "\n",
    "# generate the optimised curve fit parameters. \n",
    "fitting_params, error_in_fit = optimised_lorentz_fit(freq, mean_norm_odmr_full, init_params,\n",
    "                                                    lower_bounds, upper_bounds)\n",
    "\n",
    "# plot the fitting to ax1\n",
    "ax1, y_fit = plot_fitting(ax1, freq, params_values[3])"
   ]
  },
  {
   "cell_type": "markdown",
   "id": "formed-miracle",
   "metadata": {},
   "source": [
    "***"
   ]
  },
  {
   "cell_type": "markdown",
   "id": "alien-doctrine",
   "metadata": {},
   "source": [
    "### Begin the 4 point ODMR Analysis\n",
    "\n",
    "Here I plan to:\n",
    "1. Read in the 4 point ODMR data and the corresponding reference dataset.\n",
    "2. Plot the normalised 4 point ODMR dataset against the fitted double Lorentz curve along with the intensitied of the 4 frequency points as expected from the fitted curve. \n",
    "3. Perform the analysis of the 4 point ODMR data using the method propsed by Fujiwara et al (2020).\n",
    "4. perform the analysis of the 4 point ODMR dataset using the method proposed by Singam et al (2019). \n",
    "\n",
    "I will aim to make both the analysis methods such that it can take both a single mean value from the dataset and can analyse the full dataset to give a mean value for the T (or $\\delta$D) and the standard deviation in the recorded values. This allows us to apply an error value to the recorded datapoints, which is probably a good thing.  "
   ]
  },
  {
   "cell_type": "markdown",
   "id": "twelve-slope",
   "metadata": {},
   "source": [
    "***"
   ]
  },
  {
   "cell_type": "code",
   "execution_count": 15,
   "id": "patent-plain",
   "metadata": {},
   "outputs": [],
   "source": [
    "def fujiwara_analysis(four_freqs, mean_norm_4_point_odmr_full):\n",
    "    '''Here we perform the analysis of the 4 point ODMR dataset using the method outlined in Fujiwara's paper from 2020'''\n",
    "    \n",
    "    # Find the frequency step (delta omega) used to split the 4 points away from the mid-point of the linear portion of the ODMR curve fitting. \n",
    "    freq_step = 0.5*((four_freqs[1]-four_freqs[0])*1000) # MHz conversion\n",
    "    \n",
    "    # The expected dD/dT from the paper published by Acosta et al 2013. \n",
    "    delta_D_delta_T = -0.075 # MHz/K\n",
    "    \n",
    "    # Calculate the numerator and denomiator for the equation used to determine the $\\delta$ T for this experiment \n",
    "    numerator = (mean_norm_4_point_odmr_full[0] + mean_norm_4_point_odmr_full[1]) - (mean_norm_4_point_odmr_full[2] + mean_norm_4_point_odmr_full[3])\n",
    "    denominator = (mean_norm_4_point_odmr_full[0] - mean_norm_4_point_odmr_full[1]) - (mean_norm_4_point_odmr_full[2] - mean_norm_4_point_odmr_full[3]) \n",
    "\n",
    "    # Calcuate dT and dD for this dataset. \n",
    "    deltaT1 = freq_step * (1/delta_D_delta_T) * numerator/denominator\n",
    "    deltaD1 = deltaT1 * -0.075\n",
    "\n",
    "\n",
    "    return(deltaD1, deltaT1)"
   ]
  },
  {
   "cell_type": "code",
   "execution_count": 16,
   "id": "mathematical-disposal",
   "metadata": {},
   "outputs": [],
   "source": [
    "def singam_freq_diff(four_freqs, f_step):\n",
    "    '''Here we work to find the mean applied frequency for the 4 points applied to the negative and positive striaght line fittings. '''\n",
    "    \n",
    "    # Find the mean applied frequency of the 4 points.\n",
    "    f_minus = (four_freqs[0]+four_freqs[1])/2\n",
    "    f_plus = (four_freqs[2]+four_freqs[3])/2\n",
    "    \n",
    "    # Find the difference in frequency points applied. \n",
    "    delta_applied_f = f_plus - f_minus\n",
    "    \n",
    "    # Find the frequency difference in terms of indicies in the frequency array. \n",
    "    indice_shift = int(delta_applied_f/(f_step*0.001))\n",
    "    \n",
    "    return(f_minus, f_plus, indice_shift)\n",
    "    "
   ]
  },
  {
   "cell_type": "code",
   "execution_count": 17,
   "id": "sitting-circulation",
   "metadata": {},
   "outputs": [],
   "source": [
    "def singam_subtraction_array(y_fit, f_step, freq, index_shift):\n",
    "    '''We create the arrays for the subtraction curve used as a reference to determine the shift in the frequency of the ODMR curve.'''\n",
    "    \n",
    "    subtraction_curve_length = len(freq) - index_shift\n",
    "    \n",
    "    # Create variables\n",
    "    y_fit_subtract = []\n",
    "    \n",
    "    for i in range(subtraction_curve_length):\n",
    "        y_fit_subtract.append(y_fit[i] - y_fit[i + index_shift])\n",
    "    \n",
    "    y_fit_subtract = np.array(y_fit_subtract)\n",
    "\n",
    "    \n",
    "    # create a frequnecy subtraction array for the above. \n",
    "    freq_sub_array = np.linspace(0, subtraction_curve_length-1, subtraction_curve_length)\n",
    "    freq_sub_array = (freq_sub_array - int(subtraction_curve_length/2))*f_step\n",
    "    \n",
    "    return(y_fit_subtract, freq_sub_array)"
   ]
  },
  {
   "cell_type": "code",
   "execution_count": 18,
   "id": "smaller-burns",
   "metadata": {},
   "outputs": [],
   "source": [
    "def singam_extract_linear(f_step, y_fit_subtract):\n",
    "    '''Here we extract the linear part of the subtracting curve as created in the above method.'''\n",
    "    \n",
    "    # How many frequnecy steps are needed to generate a +/- 3MHz region of the data\n",
    "    pm_3_mhz = int(3/f_step)\n",
    "    \n",
    "    # find the max and min for the subtracted ODMR curve. \n",
    "    maxima = np.where(y_fit_subtract == np.max(y_fit_subtract))[0]\n",
    "    minima = np.where(y_fit_subtract == np.min(y_fit_subtract))[0]\n",
    "    \n",
    "    # find the frequnecy equvilent to the point at which I(f1) and I(f4) are equal. \n",
    "    zero_intensity_freq = np.abs(y_fit_subtract[maxima[0]:minima[0]] - 0.00).argmin() + maxima[0]\n",
    "\n",
    "    # the limits of the straight line portion of the subtracted ODMR curve. \n",
    "    min_index = zero_intensity_freq-pm_3_mhz\n",
    "    max_index = zero_intensity_freq+pm_3_mhz\n",
    "    \n",
    "    return(zero_intensity_freq, max_index, min_index)"
   ]
  },
  {
   "cell_type": "code",
   "execution_count": 19,
   "id": "legitimate-blame",
   "metadata": {},
   "outputs": [],
   "source": [
    "def straight_line(x, m, c):\n",
    "    '''y = mx + c'''\n",
    "    y = m*x + c\n",
    "    return(y)"
   ]
  },
  {
   "cell_type": "code",
   "execution_count": 20,
   "id": "abstract-uzbekistan",
   "metadata": {},
   "outputs": [],
   "source": [
    "def singam_analysis(freq_high_res, mean_norm_4_point_odmr_full, two_freq_locs, linear_fit):\n",
    "    '''Here we perform the analysis of the 4 point ODMR dataset using the method outlined in Singam's paper from 2019'''\n",
    "    \n",
    "    # Difference in intensity from the mean of (I(f1) + I(f2)) and (I(f3) + I(f4)) from the 4 point ODMR measurement \n",
    "    I_diff_mean = (mean_norm_4_point_odmr_full[3] + mean_norm_4_point_odmr_full[2])/2 - (mean_norm_4_point_odmr_full[0] + mean_norm_4_point_odmr_full[1])/2\n",
    "\n",
    "    # The reference difference between the mean (I(f1+f2)) and (I(f3+f4)) from the lorentz fitting. \n",
    "    I_diff_mean_ref = y_fit[two_freq_locs[1]] - y_fit[two_freq_locs[0]] \n",
    "\n",
    "    # Find the index for frequnecy difference that corresponds to the differnec between (I(f1+f2)) and (I(f3+f4))\n",
    "    I_diff_mean_freq_shift = (np.abs(linear_fit - I_diff_mean).argmin())\n",
    "\n",
    "    # Find the reference frequnecy difference that corresponds to the differnec between (I(f1) + I(f2)) and (I(f3) + I(f4))\n",
    "    I_diff_mean_freq_shift_ref = (np.abs(linear_fit - I_diff_mean_ref).argmin())\n",
    "    \n",
    "    # two_point_freq_shift - The change in resonant frequency calculated from the Singam method. \n",
    "    two_point_freq_shift = freq_high_res[I_diff_mean_freq_shift]\n",
    "    \n",
    "    #singam_reference_value - return the reference value used to determine the shift in frequency due to temp change. \n",
    "    singam_reference_value = freq_high_res[I_diff_mean_freq_shift_ref]\n",
    "    \n",
    "    return(I_diff_mean, I_diff_mean_ref, two_point_freq_shift, singam_reference_value)"
   ]
  },
  {
   "cell_type": "markdown",
   "id": "extra-disco",
   "metadata": {},
   "source": [
    "*** \n",
    "### Here we analyse the 4 point referenced ODMR data\n",
    "***"
   ]
  },
  {
   "cell_type": "code",
   "execution_count": 64,
   "id": "biblical-kenya",
   "metadata": {},
   "outputs": [
    {
     "name": "stdout",
     "output_type": "stream",
     "text": [
      "1 4 1000\n"
     ]
    },
    {
     "data": {
      "text/plain": [
       "Text(0, 0.5, 'Normalised Counts (A.U.)')"
      ]
     },
     "execution_count": 64,
     "metadata": {},
     "output_type": "execute_result"
    },
    {
     "data": {
      "image/png": "[encoded data removed]",
      "text/plain": [
       "<Figure size 864x576 with 1 Axes>"
      ]
     },
     "metadata": {
      "needs_background": "light"
     },
     "output_type": "display_data"
    }
   ],
   "source": [
    "#######\n",
    " # This portion of the code produced the ODMR data plotting and the double lorentz fitting and \n",
    "#######\n",
    "\n",
    "# Load in the data file into an np array, and freqeuncy scan parameters \n",
    "# into a pandas array.\n",
    "\n",
    "four_point_data_set = '_4_point_referenced_odmr_39' # Short hand for the file name. \n",
    "\n",
    "# Set the file names for all 4 data sets recorded from the experiment. \n",
    "four_point_file_name_ODMR1 = date + four_point_data_set + '_ODMR1.dat'\n",
    "four_point_file_name_ODMR2 = date + four_point_data_set + '_ODMR2.dat'\n",
    "four_point_file_name_Ref1 = date + four_point_data_set  + '_Ref1.dat'\n",
    "four_point_file_name_Ref2 = date + four_point_data_set  + '_Ref2.dat'\n",
    "\n",
    "# Extract the ODMR and reference datasets from the data we are looking at. \n",
    "four_point_odmr_data = load_data(folder_path + four_point_file_name_ODMR1)\n",
    "four_point_reference_data = load_data(folder_path + four_point_file_name_Ref1)\n",
    "\n",
    "# Get the parameters for the experiment. \n",
    "four_point_params_file = load_params(folder_path + date  + four_point_data_set + '_Params.txt')\n",
    "four_point_params_values = four_point_params_file['Parameter value']\n",
    "\n",
    "# Reshape the data so that it can be used for the following script. \n",
    "four_point_odmr_data, four_point_reference_data = reshape_data(four_point_reference_data, four_point_odmr_data, four_point_params_values)\n",
    "\n",
    "# Need to have the four_freqs array layered as follows [F1, F2, F3, F4] due to riggering problems in the software.  \n",
    "four_freqs = [2.857 ,2.859, 2.877, 2.879]\n",
    "\n",
    "# Normalise the ODMR data against the reference data. \n",
    "norm_odmr_4_point = normalise_data(four_point_reference_data, four_point_odmr_data)\n",
    "\n",
    "# Mean of the normalise dataset. \n",
    "# mean_odmr_freq_points = mean for all the points recorded per frequnecy, but not linescans. \n",
    "# mean_norm_odmr_full = Mean fluorescence value for all ODMR data points taken per freq. \n",
    "mean_odmr_4_point_freq_points, mean_norm_4_point_odmr = mean_data(norm_odmr_4_point)\n",
    "mean_norm_4_point_odmr = np.roll(mean_norm_4_point_odmr, 1)\n",
    "\n",
    "plot.plot(freq[45*2:90*2], y_fit[45*2:90*2], color = 'k')\n",
    "\n",
    "indices = []\n",
    "indices.append(np.where((np.round(freq, 4) == four_freqs[0]))[0])\n",
    "indices.append(np.where((np.round(freq, 4) == four_freqs[1]))[0])\n",
    "indices.append(np.where((np.round(freq, 4) == four_freqs[2]))[0])\n",
    "indices.append(np.where((np.round(freq, 4) == four_freqs[3]))[0])\n",
    "\n",
    "indices = np.array(indices)\n",
    "\n",
    "#plot.scatter(freq[50:85], y_fit[50:85])\n",
    "plot.scatter(freq[indices], y_fit[indices], marker = 'o')\n",
    "\n",
    "plot.scatter(four_freqs, mean_norm_4_point_odmr, color = 'r', marker = 'x')\n",
    "plot.xlabel('Microwave Frequency (GHz)')\n",
    "plot.ylabel('Normalised Counts (A.U.)')"
   ]
  },
  {
   "cell_type": "markdown",
   "id": "emotional-principal",
   "metadata": {},
   "source": [
    "***"
   ]
  },
  {
   "cell_type": "markdown",
   "id": "popular-tongue",
   "metadata": {},
   "source": [
    "### Fujiwara Analysis\n",
    "\n",
    "***"
   ]
  },
  {
   "cell_type": "code",
   "execution_count": 65,
   "id": "particular-clearing",
   "metadata": {},
   "outputs": [
    {
     "name": "stdout",
     "output_type": "stream",
     "text": [
      "[0.19492606428152864, -0.138706525276547]\n",
      "[-2.599014190420382, 1.8494203370206268]\n"
     ]
    }
   ],
   "source": [
    "# Run the Fuijiwara protocol. \n",
    "zumi_dD, zumi_dT = fujiwara_analysis(four_freqs, mean_norm_4_point_odmr)\n",
    "\n",
    "try: \n",
    "    zumi_dD_store.append(zumi_dD)\n",
    "    zumi_dT_store.append(zumi_dT)\n",
    "except:\n",
    "    zumi_dD_store = []\n",
    "    zumi_dT_store = []\n",
    "    zumi_dD_store.append(zumi_dD) # MHz\n",
    "    zumi_dT_store.append(zumi_dT) # Kelvin\n",
    "\n",
    "print(zumi_dD_store)\n",
    "print(zumi_dT_store)"
   ]
  },
  {
   "cell_type": "code",
   "execution_count": 88,
   "id": "unlike-module",
   "metadata": {},
   "outputs": [],
   "source": [
    "## Used to clear the _store variables. \n",
    "#zumi_dD_store = []\n",
    "#zumi_dT_store = []\n",
    "\n",
    "# Perfrom the referencing to the start value. \n",
    "#for i in range(len(zumi_dD_store)-1):\n",
    "#    print(zumi_dD_store[i+1]-zumi_dD_store[i])\n"
   ]
  },
  {
   "cell_type": "raw",
   "id": "confident-dominant",
   "metadata": {},
   "source": [
    "## This section of the code is designed to perform the full Fujiwara analysis on the whole dataset. \n",
    "\n",
    "\n",
    "zumi_dD = np.zeros([1,norm_odmr_4_point.shape[2]])\n",
    "zumi_dT = np.zeros([1,norm_odmr_4_point.shape[2]])\n",
    "\n",
    "for i in range(int(norm_odmr_4_point.shape[2]/500)):\n",
    "    zumi_dD[0,i], zumi_dT[0,i] = fujiwara_analysis(four_freqs, np.mean(norm_odmr_4_point[0, :, (i*500):(i+1)*500], axis = 1))\n",
    "\n",
    "print(zumi_dT[0,0:20])\n",
    "\n",
    "print(np.mean(zumi_dT))\n",
    "print(np.std(zumi_dT))"
   ]
  },
  {
   "cell_type": "markdown",
   "id": "knowing-production",
   "metadata": {},
   "source": [
    "***"
   ]
  },
  {
   "cell_type": "markdown",
   "id": "killing-reason",
   "metadata": {},
   "source": [
    "### Singam Analysis\n",
    "***"
   ]
  },
  {
   "cell_type": "code",
   "execution_count": 67,
   "id": "postal-heating",
   "metadata": {},
   "outputs": [
    {
     "name": "stdout",
     "output_type": "stream",
     "text": [
      "2.900900900900901 3.069069069069069\n",
      "[0.16216216216216228, -0.16816816816816793]\n",
      "[-2.162162162162164, 2.2422422422422392]\n"
     ]
    },
    {
     "data": {
      "image/png": "[encoded data removed]",
      "text/plain": [
       "<Figure size 864x576 with 1 Axes>"
      ]
     },
     "metadata": {
      "needs_background": "light"
     },
     "output_type": "display_data"
    }
   ],
   "source": [
    "# Analysis of the 4 point ODMR is a little more challenging using the Singam protocol.\n",
    "\n",
    "# Get the mean frequency values and the number of frequency steps between the two mean freq values. \n",
    "f_minus, f_plus, index_shift = singam_freq_diff(four_freqs, params_values[2])\n",
    "# Create the subtraction plots (see plot for what this looks like).\n",
    "y_fit_subtract, freq_sub_array = singam_subtraction_array(y_fit, params_values[2], freq, index_shift)\n",
    "\n",
    "# Find the indicies corresponding to the maxima and minima of the y_fit subtracted lineshape.\n",
    "# Also have the index corresponding to I(f1) - I(f2) = 0\n",
    "zero_intensity_freq, max_index, min_index = singam_extract_linear(params_values[2], y_fit_subtract)\n",
    "\n",
    "# Fit a straight line fit to the linear part of the subtraction curve. \n",
    "p0 = [0,0]\n",
    "fit_coeffs, confidence = opt.curve_fit(straight_line, freq_sub_array[min_index:max_index], y_fit_subtract[min_index:max_index], p0)\n",
    "\n",
    "# Generate a high resolution x and y straight line fit for the linear portion of the subtraction curve. \n",
    "freq_high_res = np.linspace(freq_sub_array[min_index], freq_sub_array[max_index], 1000)\n",
    "linear_fit = straight_line(freq_high_res, fit_coeffs[0], fit_coeffs[1])\n",
    "\n",
    "# Find the location of F_plus and F_minus in the normal frequency array. \n",
    "two_freq_locs = []\n",
    "for i in range(2):\n",
    "    a = ((four_freqs[i*2] + four_freqs[i*2 + 1])/2)\n",
    "    two_freq_locs.append(np.abs(np.round(freq, 4) - a).argmin())\n",
    "\n",
    "# Plot the high resolution straight line fit.\n",
    "plot.plot(freq_high_res, linear_fit)\n",
    "# Plot the points used to generate the original y_fit_subtraction curve. \n",
    "plot.scatter(freq_sub_array[min_index:max_index], y_fit_subtract[min_index:max_index])    \n",
    "    \n",
    "# Perform the Singam analysis for the mean of the 2 mean values from the 4 point ODMR data. \n",
    "I_diff_2_points, I_diff_mean_ref, two_point_freq_shift, singam_reference_value = singam_analysis(freq_high_res, \n",
    "                                                                                             mean_norm_4_point_odmr, \n",
    "                                                                                             two_freq_locs, linear_fit)    \n",
    "\n",
    "# plot the reference value and the subtraction curve sampling points. \n",
    "plot.scatter(two_point_freq_shift, I_diff_2_points, marker = 'x')\n",
    "plot.scatter(singam_reference_value, I_diff_mean_ref, marker = 'x')\n",
    "plot.xlabel('Frequnecy Difference (MHz)')\n",
    "plot.ylabel('Intensity Difference (Normalised Counts)')\n",
    "plot.title('Singam et al. T sensing calibration graph')\n",
    "\n",
    "# find the change in the resonant frequnecy of the NV centres from the reference.\n",
    "delta_f_singam =  two_point_freq_shift - singam_reference_value # MHz\n",
    "\n",
    "# Find the temperature change in the sample. \n",
    "delta_T_singam = delta_f_singam/(-0.075)\n",
    "\n",
    "try: \n",
    "    delta_f_singam_store.append(delta_f_singam) # MHz\n",
    "    delta_T_singam_store.append(delta_T_singam) # Kelvin\n",
    "except:\n",
    "    delta_f_singam_store = []\n",
    "    delta_T_singam_store = []\n",
    "    delta_f_singam_store.append(delta_f_singam)\n",
    "    delta_T_singam_store.append(delta_T_singam)\n",
    "\n",
    "print(two_point_freq_shift, singam_reference_value)\n",
    "\n",
    "print(delta_f_singam_store)\n",
    "print(delta_T_singam_store)"
   ]
  },
  {
   "cell_type": "code",
   "execution_count": 68,
   "id": "buried-flesh",
   "metadata": {},
   "outputs": [
    {
     "name": "stdout",
     "output_type": "stream",
     "text": [
      "-0.3303303303303302\n"
     ]
    }
   ],
   "source": [
    "## Used to clear the delta_f_singam_store variable. \n",
    "\n",
    "#delta_f_singam_store = []\n",
    "#delta_T_singam_store = []\n",
    "print(delta_f_singam_store[1]-delta_f_singam_store[0])\n",
    "\n",
    "# Perfrom the referencing to the start value. \n",
    "#for i in range(len(zumi_dD_store)-1):\n",
    "#    print(delta_f_singam_store[i+1]-delta_f_singam_store[i])\n"
   ]
  },
  {
   "cell_type": "markdown",
   "id": "registered-showcase",
   "metadata": {},
   "source": [
    "***"
   ]
  },
  {
   "cell_type": "code",
   "execution_count": null,
   "id": "incident-economy",
   "metadata": {},
   "outputs": [],
   "source": []
  }
 ],
 "metadata": {
  "kernelspec": {
   "display_name": "Python 3",
   "language": "python",
   "name": "python3"
  },
  "language_info": {
   "codemirror_mode": {
    "name": "ipython",
    "version": 3
   },
   "file_extension": ".py",
   "mimetype": "text/x-python",
   "name": "python",
   "nbconvert_exporter": "python",
   "pygments_lexer": "ipython3",
   "version": "3.7.7"
  }
 },
 "nbformat": 4,
 "nbformat_minor": 5
}
