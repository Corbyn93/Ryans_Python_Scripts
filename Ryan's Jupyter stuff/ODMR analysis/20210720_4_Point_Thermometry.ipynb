{
 "cells": [
  {
   "cell_type": "markdown",
   "metadata": {},
   "source": [
    "# 4 point Thermometry Analysis ONLY\n",
    "\n",
    "This script will be used purely to analyse the results of the 4 point ODMR measurements using only the temperature sensing algorithms as defined in the papers:\n",
    "1. Singam et al (2019) - Nitrogen-vacancy nanodiamond based local thermometry using frequency-jump modulation\n",
    "2. Fujiwaraet al (2020) - Real-time nanodiamond thermometry probing in vivo thermogenic responses. \n",
    "\n",
    "The aim of writing this script is to tidy up the original frankenstien script currently at the time of writing called: \n",
    "20210617_Analysis_Referenced_4_point_ODMR.ipynb\n",
    "\n",
    "Unfortunately, I think I need to call in basically all the same functions and perform basically all the same analysis, but I will have fewer outputs and will structure everything a little bit nicer so that I can run everything from a single \"main\" cell at the bottom of the script and know that everything will get pulled in properly... I might have it so that any full CW ODMR script analysis is done in a separate cell just so I don't end up bogging down the whole script everytime it runs. "
   ]
  },
  {
   "cell_type": "code",
   "execution_count": 1,
   "metadata": {},
   "outputs": [],
   "source": [
    "import scipy.optimize as opt \n",
    "import numpy as np \n",
    "import matplotlib.pyplot as plot \n",
    "import os \n",
    "import pandas as pd\n",
    "from scipy.signal import find_peaks"
   ]
  },
  {
   "cell_type": "markdown",
   "metadata": {},
   "source": [
    "Pull in the data files and the associated params file. Also make the plots big enough to actually be able to see what's going on and read what's on the graphs. "
   ]
  },
  {
   "cell_type": "code",
   "execution_count": 2,
   "metadata": {},
   "outputs": [],
   "source": [
    "def load_data(file_path): \n",
    "    # load the ODMR data file in to an np array \n",
    "    data_array = np.loadtxt(file_path)\n",
    "    return(data_array)"
   ]
  },
  {
   "cell_type": "code",
   "execution_count": 3,
   "metadata": {},
   "outputs": [],
   "source": [
    "def load_params(file_path):\n",
    "    # load in the params data. \n",
    "    params_data = pd.read_table(file_path, names = ['Parameter name', 'Parameter value']) \n",
    "    return(params_data)"
   ]
  },
  {
   "cell_type": "code",
   "execution_count": 4,
   "metadata": {},
   "outputs": [],
   "source": [
    "def set_plot_params():\n",
    "    # formats the plot parameters \n",
    "    plot.rcParams.update({'font.size' : 16})\n",
    "    plot.rcParams.update({'figure.figsize' :[12, 8]})"
   ]
  },
  {
   "cell_type": "markdown",
   "metadata": {},
   "source": [
    "Creates a numpy array with the microwave frequency scan range from the params file. "
   ]
  },
  {
   "cell_type": "code",
   "execution_count": 5,
   "metadata": {},
   "outputs": [],
   "source": [
    "def create_freq_scan(start, stop, step_size):\n",
    "    # takes the scan parameters from the params data file. \n",
    "    step_size_GHz = step_size/1000\n",
    "    number_of_steps = int((stop-start)/step_size_GHz)+1\n",
    "    freq = np.linspace(start, stop, number_of_steps)\n",
    "    return(freq)"
   ]
  },
  {
   "cell_type": "markdown",
   "metadata": {},
   "source": [
    "Here we have the code to reshape the ODMR data into a 3D dataset according to the parameters that are given in the Params.txt file. \n",
    "\n",
    "Once the ODMR and reference Datasets have been restructured, then we can perform the normalisation of the ODMR dataset to the reference dataset.  "
   ]
  },
  {
   "cell_type": "code",
   "execution_count": 6,
   "metadata": {},
   "outputs": [],
   "source": [
    "def reshape_data(reference_data, odmr_data, params_values):\n",
    "    '''Here we re-shape the reference and the ODMR datasets into a 3D array, \n",
    "    based on the number of line scans, frequnecy points and repeats per frequnecy \n",
    "    have been used to build the ODMR dataset.'''\n",
    "    \n",
    "    # Create variables with the frequnecy scan parameters. \n",
    "    num_of_line_scans = int(params_values[4])\n",
    "    num_of_freqs =  int(1000*(params_values[1]-params_values[0])/params_values[2]) + 1\n",
    "    points_per_freq = int(params_values[8])\n",
    "    print(num_of_line_scans, num_of_freqs, points_per_freq)\n",
    "    # Reshape the ODMR and reference datasets. \n",
    "\n",
    "    odmr_shape_3D = odmr_data[0:num_of_freqs*points_per_freq].reshape(num_of_line_scans, num_of_freqs, points_per_freq)\n",
    "    reference_data_3D = reference_data[0:num_of_freqs*points_per_freq].reshape(num_of_line_scans, num_of_freqs, points_per_freq)\n",
    "    \n",
    "    return(odmr_shape_3D, reference_data_3D)"
   ]
  },
  {
   "cell_type": "code",
   "execution_count": 7,
   "metadata": {},
   "outputs": [],
   "source": [
    "def normalise_data(reference_data, odmr_data):\n",
    "    '''Here we normalise the ODMR dataset to the reference data.'''\n",
    "\n",
    "    norm_odmr_data = odmr_data/reference_data\n",
    "    return(norm_odmr_data)"
   ]
  },
  {
   "cell_type": "markdown",
   "metadata": {},
   "source": [
    "Find the mean of the ODMR dataset."
   ]
  },
  {
   "cell_type": "code",
   "execution_count": 8,
   "metadata": {},
   "outputs": [],
   "source": [
    "def mean_data(odmr_data):\n",
    "    # find the mean data \n",
    "    mean_odmr_data_points =  np.mean(odmr_data, axis = 2)\n",
    "    mean_odmr_data_points_and_linescans =  np.mean(mean_odmr_data_points, axis = 0)\n",
    "    return(mean_odmr_data_points, mean_odmr_data_points_and_linescans)"
   ]
  },
  {
   "cell_type": "markdown",
   "metadata": {},
   "source": [
    "Plot the Normalised ODMR data to a graph."
   ]
  },
  {
   "cell_type": "code",
   "execution_count": 9,
   "metadata": {},
   "outputs": [],
   "source": [
    "def normalised_scatter_plot(freq, mean_data):\n",
    "    # Creates a scatter plot for experimental data and plot parameters. \n",
    "    fig2, ax2 = plot.subplots()\n",
    "    ax2.scatter(freq, mean_data, marker = 'x',color = 'r', label = \"ODMR Data\")\n",
    "    \n",
    "    ax2.set_xlim(np.min(freq),np.max(freq))\n",
    "    ax2.set_xlabel('Microwave Frequency (GHz)', fontsize = 18)\n",
    "    ax2.set_ylabel('Normalised Counts (A.U.)', fontsize = 18)\n",
    "    return(fig2, ax2)"
   ]
  },
  {
   "cell_type": "markdown",
   "metadata": {},
   "source": [
    "Get the fitting parameters from the ODMR dataset and use these to fit a double Lorentzian lineshape to the normalised ODMR dataset."
   ]
  },
  {
   "cell_type": "code",
   "execution_count": 10,
   "metadata": {},
   "outputs": [],
   "source": [
    "def get_init_params(odmr_data, freq):\n",
    "    # find the minima of the ODMR spectra and ODMR dip contrast and \n",
    "    # flourenscent baseline.\n",
    "    \n",
    "    half_data_length = int((len(freq)-1)/2) # This brings the mid-value to 2.87GHz \n",
    "    \n",
    "    #find the indices for the lowest frequency value\n",
    "    low_freq_min_index = np.where(odmr_data[0:half_data_length] == np.min(odmr_data[0:half_data_length]))\n",
    "    high_freq_min_index = np.where(odmr_data[half_data_length:len(odmr_data)-1] == \n",
    "                                   np.min(odmr_data[half_data_length:len(odmr_data)-1]))\n",
    "   \n",
    "    # frequencies corresponding to ODMR minima\n",
    "    freq_mins = [np.float(freq[low_freq_min_index[0]]),\n",
    "                 np.float(freq[high_freq_min_index[0]+half_data_length])]\n",
    "    \n",
    "    # manually set frequencies. \n",
    "    \n",
    "    #freq_mins = [2.78, 2.96]\n",
    "    \n",
    "    flourescent_baseline = np.mean(odmr_data)\n",
    "    \n",
    "    # approximate dip_depth\n",
    "    dip_depth = [odmr_data[low_freq_min_index[0][0]]  - flourescent_baseline, \n",
    "                 odmr_data[high_freq_min_index[0][0]+half_data_length]  - flourescent_baseline]\n",
    "    \n",
    "    #contrast = [np.float((1-odmr_data[low_freq_min_index[0]]/flourescent_baseline)), \n",
    "    #            np.float((1-odmr_data[high_freq_min_index[0]+half_data_length]/flourescent_baseline))]\n",
    "\n",
    "    return(freq_mins, dip_depth, flourescent_baseline)"
   ]
  },
  {
   "cell_type": "code",
   "execution_count": 11,
   "metadata": {},
   "outputs": [],
   "source": [
    "def optimised_lorentz_fit(freq, mean_data, init_params, lower_bounds, upper_bounds):\n",
    "    # A method to find the fitting prameters for the ODMR dataset. \n",
    "    y_error = np.sqrt(mean_data) # poissonian noise\n",
    "    coeffs, confidence = opt.curve_fit(double_lorentz, freq, mean_data, init_params, \n",
    "                                       sigma = y_error, bounds = (lower_bounds, upper_bounds))\n",
    "    opt_error = np.sqrt(np.diag(confidence))\n",
    "    \n",
    "    return(coeffs, opt_error)"
   ]
  },
  {
   "cell_type": "code",
   "execution_count": 12,
   "metadata": {},
   "outputs": [],
   "source": [
    "def double_lorentz(x, A1, X01, sig1, A2, X02, sig2, offset): #P0[0], P0[1], P0[2], P0[3], P0[4], P0[5], P0[6]):\n",
    "    # A1 = Amplitude 1, X01 = Resonance 1, sig1 = FWHM 1\n",
    "    # A2 = Amplitude 2, X02 = Resonance 2, sig2 = FWHM 2, offset = offset\n",
    "    \n",
    "    first_peak = (A1/np.pi)*((sig1**2)/(sig1**2 +(2*x-2*X01)**2))\n",
    "    second_peak = (A2/np.pi)*((sig2**2)/(sig2**2 +(2*x-2*X02)**2))\n",
    "    \n",
    "    return (first_peak + second_peak + offset)"
   ]
  },
  {
   "cell_type": "code",
   "execution_count": 13,
   "metadata": {},
   "outputs": [],
   "source": [
    "def plot_fitting(ax2, freq, dwell_time):\n",
    "    # plot the y fit. \n",
    "    \n",
    "    high_res_freq = np.linspace(freq[0], freq[len(freq)-1], 10*len(freq)+1)\n",
    "    \n",
    "    # create the double lorentz fit array\n",
    "    y_fit_high_res = double_lorentz(high_res_freq, fitting_params[0], fitting_params[1], fitting_params[2], \n",
    "                  fitting_params[3], fitting_params[4], fitting_params[5], fitting_params[6])\n",
    "    \n",
    "    y_fit = double_lorentz(freq, fitting_params[0], fitting_params[1], fitting_params[2], \n",
    "                  fitting_params[3], fitting_params[4], fitting_params[5], fitting_params[6])\n",
    "    \n",
    "    ax2.plot(high_res_freq, y_fit_high_res, color='k', label='Double Lorentz \\nfitting')\n",
    "    ax2.legend()\n",
    "    \n",
    "    return(ax2, y_fit)"
   ]
  },
  {
   "cell_type": "markdown",
   "metadata": {},
   "source": [
    "*************************************************************************************************************************************************************************************"
   ]
  },
  {
   "cell_type": "markdown",
   "metadata": {},
   "source": [
    "### Full CW ODMR Analysis\n",
    "\n",
    "This should be a fairly base level referenced ODMR dataset analysis. From this, we should be able to reshape, normalise and plot the ODMR data.  \n",
    "Additionally, I should be able to extract the Double Lorentz fitting of the dataset as it is needed for some of the further analysis."
   ]
  },
  {
   "cell_type": "markdown",
   "metadata": {},
   "source": [
    "*****************************************************************"
   ]
  },
  {
   "cell_type": "code",
   "execution_count": 14,
   "metadata": {},
   "outputs": [
    {
     "name": "stdout",
     "output_type": "stream",
     "text": [
      "1 131 100\n",
      "[2.863, 2.865]\n",
      "10000.0\n",
      "0.010473770012061916 0.014791257797366755\n"
     ]
    },
    {
     "data": {
      "image/png": "[encoded data removed]",
      "text/plain": [
       "<Figure size 864x576 with 1 Axes>"
      ]
     },
     "metadata": {
      "needs_background": "light"
     },
     "output_type": "display_data"
    }
   ],
   "source": [
    "#######\n",
    " # This portion of the code produced the ODMR data plotting and the double lorentz fitting and \n",
    " # Saves this data into a text file and the 2 plots generated. \n",
    "#######\n",
    "\n",
    "date = '20210920' # Date on folder in which the experimental data is saved. \n",
    "set_plot_params()\n",
    "\n",
    "# Load in the data file into an np array, and freqeuncy scan parameters \n",
    "# into a pandas array.\n",
    "folder_path = 'I:\\\\Science\\\\Physics-Nanobiophotonics\\\\Group\\\\User Data\\\\ODMR\\\\ODMR and imaging\\\\2021\\\\' + date + '\\\\'\n",
    "#folder_path = 'I:\\\\Science\\\\Physics-Nanobiophotonics\\\\Group\\\\User Data\\\\ODMR\\\\Imaging\\\\'\n",
    "\n",
    "data_set = '_referenced_odmr_19' # Short hand for the file name. \n",
    "\n",
    "# Set the file names for all 4 data sets recorded from the experiment. \n",
    "file_name_ODMR1 = date + data_set + '_ODMR1.dat'\n",
    "file_name_ODMR2 = date + data_set + '_ODMR2.dat'\n",
    "file_name_Ref1 = date + data_set  + '_Ref1.dat'\n",
    "file_name_Ref2 = date + data_set  + '_Ref2.dat'\n",
    "\n",
    "# Extract the ODMR and reference datasets from the data we are looking at. \n",
    "odmr_data = load_data(folder_path + file_name_ODMR1)\n",
    "reference_data = load_data(folder_path + file_name_Ref1)\n",
    "\n",
    "# Get the parameters for the experiment. \n",
    "params_file = load_params(folder_path + date  + data_set + '_Params.txt')\n",
    "params_values = params_file['Parameter value']\n",
    "\n",
    "# Create the freqeuncy scan array. \n",
    "# Freq scan = frequency scan actually used in experiment, frreq = scan without triggering problems. \n",
    "freq = create_freq_scan(params_values[0], params_values[1], params_values[2])\n",
    "\n",
    "# Dwell time of the measurment \n",
    "dwell_time = params_values[3]\n",
    "\n",
    "# Reshape the ODMR and reference datasets. \n",
    "odmr_data, reference_data = reshape_data(reference_data, odmr_data, params_values)\n",
    "\n",
    "# Normalise the ODMR data against the reference data. \n",
    "normalised_ODMR = normalise_data(reference_data, odmr_data)\n",
    "\n",
    "# Mean of the normalise dataset. \n",
    "# mean_odmr_freq_points = mean for all the points recorded per frequnecy, but not linescans. \n",
    "# mean_norm_odmr_full = Mean fluorescence value for all ODMR data points taken per freq. \n",
    "mean_odmr_freq_points, mean_norm_odmr_full_disordered = mean_data(normalised_ODMR)\n",
    "mean_norm_odmr_full = np.roll(mean_norm_odmr_full_disordered, 1)\n",
    "\n",
    "# Plot the mean normalised dataset as a scatter plot. \n",
    "fig1, ax1 = normalised_scatter_plot(freq, mean_norm_odmr_full)\n",
    "\n",
    "# find the freqeuncy points with the highest ODMR contrast\n",
    "freq_mins, dip_depth, flourescent_baseline = get_init_params(mean_norm_odmr_full, freq)\n",
    "print(freq_mins)\n",
    "\n",
    "\n",
    "# create the initial parameters for ODMR double lorentzian \n",
    "# line fitting\n",
    "init_params = [dip_depth[0], freq_mins[0], 0.005, dip_depth[1], freq_mins[1], 0.005, flourescent_baseline]\n",
    "#init_params = [-0.8, 2.86, 0.005, dip_depth[1], 2.87, 0.005, flourescent_baseline]\n",
    "\n",
    "# Set the upper and lower bounds for the fitting algorithm. \n",
    "lower_bounds = [-np.inf, init_params[1] - 0.01, 0, -np.inf, init_params[4] - 0.01, 0, 0]\n",
    "upper_bounds = [np.inf, init_params[1] + 0.01, 1, np.inf, init_params[4] + 0.01, 1, np.inf]\n",
    "\n",
    "# generate the optimised curve fit parameters. \n",
    "fitting_params, error_in_fit = optimised_lorentz_fit(freq, mean_norm_odmr_full, init_params,\n",
    "                                                    lower_bounds, upper_bounds)\n",
    "\n",
    "# plot the fitting to ax1\n",
    "ax1, y_fit = plot_fitting(ax1, freq, params_values[3])\n",
    "print(dwell_time)\n",
    "print(fitting_params[2], fitting_params[5])"
   ]
  },
  {
   "cell_type": "markdown",
   "metadata": {},
   "source": [
    "***"
   ]
  },
  {
   "cell_type": "markdown",
   "metadata": {},
   "source": [
    "### Begin the 4 point ODMR Analysis\n",
    "\n",
    "Here I plan to:\n",
    "1. Read in the 4 point ODMR data and the corresponding reference dataset.\n",
    "2. Plot the normalised 4 point ODMR dataset against the fitted double Lorentz curve along with the intensitied of the 4 frequency points as expected from the fitted curve. \n",
    "3. Perform the analysis of the 4 point ODMR data using the method propsed by Fujiwara et al (2020).\n",
    "4. perform the analysis of the 4 point ODMR dataset using the method proposed by Singam et al (2019). \n",
    "\n",
    "I will aim to make both the analysis methods such that it can take both a single mean value from the dataset and can analyse the full dataset to give a mean value for the T (or $\\delta$D) and the standard deviation in the recorded values. This allows us to apply an error value to the recorded datapoints, which is probably a good thing.  "
   ]
  },
  {
   "cell_type": "code",
   "execution_count": 196,
   "metadata": {},
   "outputs": [],
   "source": [
    "def normalise_data_error_propogation(norm_odmr_4_point, four_points_ODMR_error, four_points_reference_error,\n",
    "                                    four_point_reference_data, four_point_odmr_data):\n",
    "    '''Calculating the error associated with each of the individual repeats of the 4 frequnecy points in the dataset.'''\n",
    "    \n",
    "    delta_I_odmr = four_points_ODMR_error/four_point_odmr_data\n",
    "    delta_I_ref = four_points_reference_error/four_point_reference_data\n",
    "    \n",
    "    delta_I_normalised = norm_odmr_4_point * np.sqrt(delta_I_odmr**2 + delta_I_ref**2)\n",
    "    \n",
    "    return(delta_I_normalised)"
   ]
  },
  {
   "cell_type": "code",
   "execution_count": 292,
   "metadata": {},
   "outputs": [],
   "source": [
    "def error_mean_values(norm_odmr_4_point, norm_ODMR_errors, mean_norm_4_point_odmr):\n",
    "    'fghb'\n",
    "    \n",
    "    num_of_freq_points = norm_odmr_4_point.shape[1]\n",
    "    num_of_measurements = norm_odmr_4_point.shape[2]\n",
    "    \n",
    "    square_error_store = np.zeros([num_of_freq_points, 1])\n",
    "    \n",
    "    for i in range(num_of_freq_points):\n",
    "        for j in range(num_of_measurements):\n",
    "            square_error_store[i,0] = square_error_store[i,0] + np.power((norm_ODMR_errors[0,i,j] / norm_odmr_4_point[0,i,j]), 2)\n",
    "        \n",
    "        #print(square_error_store[i,0])\n",
    "        #print(np.sqrt((square_error_store[i,0])))\n",
    "        #print(mean_norm_4_point_odmr[i])\n",
    "        #print(num_of_measurements)\n",
    "        square_error_store[i,0] = mean_norm_4_point_odmr[i] * np.sqrt((square_error_store[i,0])) / num_of_measurements\n",
    "        \n",
    "       # square_error_store[i,0] = mean_norm_4_point_odmr[i] * np.mean(norm_ODMR_errors[0,i,:]) / np.sqrt(num_of_measurements)\n",
    "   \n",
    "    #print(np.mean(norm_ODMR_errors, axis = 2) )\n",
    "    #print(np.sqrt(num_of_measurements))\n",
    "    #print(mean_norm_4_point_odmr)\n",
    "    \n",
    "    print(square_error_store)\n",
    "    return(square_error_store)\n",
    "    #return(mean_norm_4_point_odmr * np.mean(norm_ODMR_errors, axis = 2) / np.sqrt(num_of_measurements))"
   ]
  },
  {
   "cell_type": "code",
   "execution_count": 303,
   "metadata": {},
   "outputs": [],
   "source": [
    "def fujiwara_analysis(four_freqs, mean_norm_4_point_odmr_full, error_four_points):\n",
    "    '''Here we perform the analysis of the 4 point ODMR dataset using the method outlined in Fujiwara's paper from 2020'''\n",
    "    \n",
    "    # Find the frequency step (delta omega) used to split the 4 points away from the mid-point of the linear portion of the ODMR curve fitting. \n",
    "    freq_step = 0.5*((four_freqs[1]-four_freqs[0])*1000) # MHz conversion\n",
    "    \n",
    "    # The expected dD/dT from the paper published by Acosta et al 2013. \n",
    "    delta_D_delta_T = -0.075 # MHz/K\n",
    "    \n",
    "    # Calculate the numerator and denomiator for the equation used to determine the $\\delta$ T for this experiment \n",
    "    numerator = (mean_norm_4_point_odmr_full[0] + mean_norm_4_point_odmr_full[1]) - (mean_norm_4_point_odmr_full[2] + mean_norm_4_point_odmr_full[3])\n",
    "    denominator = (mean_norm_4_point_odmr_full[0] - mean_norm_4_point_odmr_full[1]) - (mean_norm_4_point_odmr_full[2] - mean_norm_4_point_odmr_full[3]) \n",
    "    \n",
    "    # Error for the denominator and Numerator is the same as they are both additions and subtractions\n",
    "    error = np.sqrt(np.power(error_four_points[0]/mean_norm_4_point_odmr_full[0], 2) +\n",
    "                    np.power(error_four_points[1]/mean_norm_4_point_odmr_full[1], 2)) + np.sqrt(np.power(error_four_points[2]/mean_norm_4_point_odmr_full[2], 2) +\n",
    "                    np.power(error_four_points[3]/mean_norm_4_point_odmr_full[3], 2))\n",
    "    \n",
    "    \n",
    "    # Calcuate dT and dD for this dataset. \n",
    "    deltaT1 = freq_step * (1/delta_D_delta_T) * numerator/denominator\n",
    "    deltaD1 = deltaT1 * -0.075\n",
    "    \n",
    "    error_deltaT1 = deltaT1 * np.sqrt(np.power(error/numerator, 2) + np.power(error/denominator, 2))\n",
    "    error_deltaD1 = deltaD1 * np.sqrt(np.power(error/numerator, 2) + np.power(error/denominator, 2))\n",
    "\n",
    "    return(deltaD1, deltaT1, error_deltaD1, error_deltaT1)"
   ]
  },
  {
   "cell_type": "code",
   "execution_count": null,
   "metadata": {},
   "outputs": [],
   "source": [
    "def error_fuji(deltaD1, deltaT1, four_points, error_four_points):\n",
    "    '''Here we look to calculate the error in the 4 point ODMR data when analysed using the fujiwara dataset.'''\n",
    "    \n",
    "    numerator = (four_points[0] + four_points[1]) - (four_points[2] + four_points[3])\n",
    "    denominator = (four_points[0] - four_points[1]) - (four_points[2] - four_points[3]) \n",
    "\n",
    "    "
   ]
  },
  {
   "cell_type": "code",
   "execution_count": 235,
   "metadata": {},
   "outputs": [],
   "source": [
    "def singam_freq_diff(four_freqs, f_step):\n",
    "    '''Here we work to find the mean applied frequency for the 4 points applied to the negative and positive striaght line fittings. '''\n",
    "    \n",
    "    # Find the mean applied frequency of the 4 points.\n",
    "    f_minus = (four_freqs[0]+four_freqs[1])/2\n",
    "    f_plus = (four_freqs[2]+four_freqs[3])/2\n",
    "    \n",
    "    # Find the difference in frequency points applied. \n",
    "    delta_applied_f = f_plus - f_minus\n",
    "    \n",
    "    # Find the frequency difference in terms of indicies in the frequency array. \n",
    "    indice_shift = int(delta_applied_f/(f_step*0.001))\n",
    "    \n",
    "    return(f_minus, f_plus, indice_shift)\n",
    "    "
   ]
  },
  {
   "cell_type": "code",
   "execution_count": 236,
   "metadata": {},
   "outputs": [],
   "source": [
    "def singam_subtraction_array(y_fit, f_step, freq, index_shift):\n",
    "    '''We create the arrays for the subtraction curve used as a reference to determine the shift in the frequency of the ODMR curve.'''\n",
    "    \n",
    "    subtraction_curve_length = len(freq) - index_shift\n",
    "    \n",
    "    # Create variables\n",
    "    y_fit_subtract = []\n",
    "    \n",
    "    for i in range(subtraction_curve_length):\n",
    "        y_fit_subtract.append(y_fit[i] - y_fit[i + index_shift])\n",
    "    \n",
    "    y_fit_subtract = np.array(y_fit_subtract)\n",
    "\n",
    "    \n",
    "    # create a frequnecy subtraction array for the above. \n",
    "    freq_sub_array = np.linspace(0, subtraction_curve_length-1, subtraction_curve_length)\n",
    "    freq_sub_array = (freq_sub_array - int(subtraction_curve_length/2))*f_step\n",
    "    \n",
    "    return(y_fit_subtract, freq_sub_array)"
   ]
  },
  {
   "cell_type": "code",
   "execution_count": 237,
   "metadata": {},
   "outputs": [],
   "source": [
    "def singam_extract_linear(f_step, y_fit_subtract):\n",
    "    '''Here we extract the linear part of the subtracting curve as created in the above method.'''\n",
    "    \n",
    "    # How many frequnecy steps are needed to generate a +/- 3MHz region of the data\n",
    "    pm_3_mhz = int(3/f_step)\n",
    "    \n",
    "    # find the max and min for the subtracted ODMR curve. \n",
    "    maxima = np.where(y_fit_subtract == np.max(y_fit_subtract))[0]\n",
    "    minima = np.where(y_fit_subtract == np.min(y_fit_subtract))[0]\n",
    "    \n",
    "    # find the frequnecy equvilent to the point at which I(f1) and I(f4) are equal. \n",
    "    zero_intensity_freq = np.abs(y_fit_subtract[maxima[0]:minima[0]] - 0.00).argmin() + maxima[0]\n",
    "\n",
    "    # the limits of the straight line portion of the subtracted ODMR curve. \n",
    "    min_index = zero_intensity_freq-pm_3_mhz\n",
    "    max_index = zero_intensity_freq+pm_3_mhz\n",
    "    \n",
    "    return(zero_intensity_freq, max_index, min_index)"
   ]
  },
  {
   "cell_type": "code",
   "execution_count": 238,
   "metadata": {},
   "outputs": [],
   "source": [
    "def straight_line(x, m, c):\n",
    "    '''y = mx + c'''\n",
    "    y = m*x + c\n",
    "    return(y)"
   ]
  },
  {
   "cell_type": "code",
   "execution_count": 239,
   "metadata": {},
   "outputs": [],
   "source": [
    "def singam_analysis(freq_high_res, mean_norm_4_point_odmr_full, two_freq_locs, linear_fit):\n",
    "    '''Here we perform the analysis of the 4 point ODMR dataset using the method outlined in Singam's paper from 2019'''\n",
    "    \n",
    "    # Difference in intensity from the mean of (I(f1) + I(f2)) and (I(f3) + I(f4)) from the 4 point ODMR measurement \n",
    "    I_diff_mean = (mean_norm_4_point_odmr_full[3] + mean_norm_4_point_odmr_full[2])/2 - (mean_norm_4_point_odmr_full[0] + mean_norm_4_point_odmr_full[1])/2\n",
    "\n",
    "    # The reference difference between the mean (I(f1+f2)) and (I(f3+f4)) from the lorentz fitting. \n",
    "    I_diff_mean_ref = y_fit[two_freq_locs[1]] - y_fit[two_freq_locs[0]] \n",
    "\n",
    "    # Find the index for frequnecy difference that corresponds to the differnec between (I(f1+f2)) and (I(f3+f4))\n",
    "    I_diff_mean_freq_shift = (np.abs(linear_fit - I_diff_mean).argmin())\n",
    "\n",
    "    # Find the reference frequnecy difference that corresponds to the differnec between (I(f1) + I(f2)) and (I(f3) + I(f4))\n",
    "    I_diff_mean_freq_shift_ref = (np.abs(linear_fit - I_diff_mean_ref).argmin())\n",
    "    \n",
    "    # two_point_freq_shift - The change in resonant frequency calculated from the Singam method. \n",
    "    two_point_freq_shift = freq_high_res[I_diff_mean_freq_shift]\n",
    "    \n",
    "    #singam_reference_value - return the reference value used to determine the shift in frequency due to temp change. \n",
    "    singam_reference_value = freq_high_res[I_diff_mean_freq_shift_ref]\n",
    "    \n",
    "    return(I_diff_mean, I_diff_mean_ref, two_point_freq_shift, singam_reference_value)"
   ]
  },
  {
   "cell_type": "code",
   "execution_count": 240,
   "metadata": {},
   "outputs": [],
   "source": [
    "def save_data(file_ID, date, dwell_time, deltaD, deltaT, mean_intensity, analysis_type):\n",
    "    '''Save the data in a .txt file. The analysis method determines what file the data is saved to. \n",
    "    We are saving: the file name, Dwell time in ms, Resonant frequency from temperature measurement theory D(T), STD(D(T)), Approx temperature change T, \n",
    "    STD(T), mean Intensity per measurement, sqrt Intensity'''\n",
    "    \n",
    "    destination_folder = 'I:\\\\Science\\\\Physics-Nanobiophotonics\\\\Group\\\\User Data Analysis\\\\Ryans Data (2018-2021)\\\\ODMR\\\\' + date + '\\\\' \n",
    "    output_data_file = destination_folder + date + '_' + analysis_type + '_reference_4_point_analysis.dat'\n",
    "    \n",
    "    # Checking to see if the folder exists in which to save the data, and creating it if it does not\n",
    "    if not os.path.exists(destination_folder):\n",
    "        os.makedirs(destination_folder)\n",
    "        # Checking the output file exists and creating and initialising it if not\n",
    "    \n",
    "    if os.path.isfile(output_data_file) == False:\n",
    "        with open(output_data_file, \"w\") as wf:\n",
    "            wf.write('File name'  + ' \\t' + 'Dwell Time (ms)' + ' \\t' + 'Calculated change in res freq (kHz)' + ' \\t' + \n",
    "                     'Change in Temp (oC)' + ' \\t' + 'Mean Intensity (counts per dwell time)' + ' \\t' +\n",
    "                     'SQRT(Mean Intensity (sqrt(counts per dwell time)))' + '\\n')\n",
    "\n",
    "    with open(output_data_file, \"a\") as wf:\n",
    "        wf.write(date+file_ID  + '\\t' +\n",
    "                 str(dwell_time) + \" \\t\"  + str(deltaD*1000) + \" \\t\" +  \n",
    "                 str(deltaT)  + \" \\t\" + str(mean_intensity) + \" \\t\"  + \n",
    "                 str(np.sqrt(np.round(mean_intensity, 3))) + '\\n')        \n",
    "    "
   ]
  },
  {
   "cell_type": "markdown",
   "metadata": {},
   "source": [
    "*** \n",
    "### Here we analyse the 4 point referenced ODMR data\n",
    "***"
   ]
  },
  {
   "cell_type": "code",
   "execution_count": 300,
   "metadata": {},
   "outputs": [
    {
     "name": "stdout",
     "output_type": "stream",
     "text": [
      "1 4 1000\n",
      "[[0.00040002]\n",
      " [0.00039442]\n",
      " [0.00039621]\n",
      " [0.00039803]]\n",
      "(4,)\n",
      "(4, 1)\n",
      "[2.801 2.802]\n",
      "[58 60 79 81]\n",
      "[0.9679821  0.95559146 0.95904406 0.96618095]\n"
     ]
    },
    {
     "data": {
      "image/png": "[encoded data removed]",
      "text/plain": [
       "<Figure size 864x576 with 1 Axes>"
      ]
     },
     "metadata": {
      "needs_background": "light"
     },
     "output_type": "display_data"
    }
   ],
   "source": [
    "#######\n",
    " # This portion of the code produced the ODMR data plotting and the double lorentz fitting and \n",
    "#######\n",
    "\n",
    "# Load in the data file into an np array, and freqeuncy scan parameters \n",
    "# into a pandas array.\n",
    "\n",
    "four_point_data_set = '_4_point_referenced_odmr_35' # Short hand for the file name. \n",
    "\n",
    "# Set the file names for all 4 data sets recorded from the experiment. \n",
    "four_point_file_name_ODMR1 = date + four_point_data_set + '_ODMR1.dat'\n",
    "four_point_file_name_ODMR2 = date + four_point_data_set + '_ODMR2.dat'\n",
    "four_point_file_name_Ref1 = date + four_point_data_set  + '_Ref1.dat'\n",
    "four_point_file_name_Ref2 = date + four_point_data_set  + '_Ref2.dat'\n",
    "\n",
    "# Extract the ODMR and reference datasets from the data we are looking at. \n",
    "four_point_odmr_data = load_data(folder_path + four_point_file_name_ODMR1)\n",
    "four_point_reference_data = load_data(folder_path + four_point_file_name_Ref1)\n",
    "\n",
    "# Get the parameters for the experiment. \n",
    "four_point_params_file = load_params(folder_path + date  + four_point_data_set + '_Params.txt')\n",
    "four_point_params_values = four_point_params_file['Parameter value']\n",
    "\n",
    "# Reshape the data so that it can be used for the following script. \n",
    "four_point_odmr_data, four_point_reference_data = reshape_data(four_point_reference_data, four_point_odmr_data, four_point_params_values)\n",
    "\n",
    "# Generate the error arrays for the ODMR and reference data. \n",
    "four_points_ODMR_error = np.sqrt(four_point_odmr_data) # shot noise limit approximation\n",
    "four_points_reference_error = np.sqrt(four_point_reference_data) # shot noise limit approximation\n",
    "\n",
    "\n",
    "# Need to have the four_freqs array layered as follows [F1, F2, F3, F4] due to riggering problems in the software.  \n",
    "four_freqs = [2.858 ,2.860, 2.879, 2.881]\n",
    "\n",
    "\n",
    "# Normalise the ODMR data against the reference data. \n",
    "norm_odmr_4_point = normalise_data(four_point_reference_data, four_point_odmr_data)\n",
    "\n",
    "norm_ODMR_errors = normalise_data_error_propogation(norm_odmr_4_point, four_points_ODMR_error, four_points_reference_error,\n",
    "                                    four_point_reference_data, four_point_odmr_data)\n",
    "\n",
    "# Mean of the normalise dataset. \n",
    "# mean_odmr_freq_points = mean for all the points recorded per frequnecy, but not linescans. \n",
    "# mean_norm_odmr_full = Mean fluorescence value for all ODMR data points taken per freq. \n",
    "mean_odmr_4_point_freq_points, mean_norm_4_point_odmr = mean_data(norm_odmr_4_point)\n",
    "\n",
    "\n",
    "mean_norm_4_point_odmr = np.roll(mean_norm_4_point_odmr, 1)\n",
    "\n",
    "four_point_mean_norm_error = error_mean_values(norm_odmr_4_point, norm_ODMR_errors, mean_norm_4_point_odmr)\n",
    "\n",
    "print(mean_norm_4_point_odmr.shape)\n",
    "print(four_point_mean_norm_error.shape)\n",
    "#plot.plot(freq[45*7:90*7], y_fit[45*7:90*7], color = 'k')\n",
    "print(freq[1:3])\n",
    "indices = []\n",
    "indices.append((np.abs(freq - four_freqs[0])).argmin())\n",
    "indices.append((np.abs(freq - four_freqs[1])).argmin())\n",
    "indices.append((np.abs(freq - four_freqs[2])).argmin())\n",
    "indices.append((np.abs(freq - four_freqs[3])).argmin())\n",
    "\n",
    "indices = np.array(indices)\n",
    "print(indices)\n",
    "plot.scatter(freq[45:90], y_fit[45:90])\n",
    "plot.scatter(freq[indices], y_fit[indices], marker = 'o')\n",
    "\n",
    "plot.errorbar(four_freqs, mean_norm_4_point_odmr, four_point_mean_norm_error[:,0], color = 'r', marker = 'x',\n",
    "             linestyle = '')\n",
    "plot.xlabel('Microwave Frequency (GHz)')\n",
    "plot.ylabel('Normalised Counts (A.U.)')\n",
    "print(mean_norm_4_point_odmr)"
   ]
  },
  {
   "cell_type": "code",
   "execution_count": null,
   "metadata": {},
   "outputs": [],
   "source": []
  },
  {
   "cell_type": "markdown",
   "metadata": {},
   "source": [
    "***"
   ]
  },
  {
   "cell_type": "markdown",
   "metadata": {},
   "source": [
    "### Fujiwara Analysis\n",
    "\n",
    "***"
   ]
  },
  {
   "cell_type": "code",
   "execution_count": 306,
   "metadata": {},
   "outputs": [
    {
     "name": "stdout",
     "output_type": "stream",
     "text": [
      "-0.08456987055827205 1.127598274110294 [-0.06000081] [0.80001083]\n",
      "\n",
      "\n",
      "[-0.0896262281873076, -0.08956808992681216, 0.015113325963892107, 0.12632894054578722, -0.14711483194868738, 0.29766418943076733, -0.36386052890396287, 0.20632206811581597, -0.45812133184543613, -0.17089215167986377, -0.2737292709588158, -0.2639694070993144, -0.29802360528379734, -0.3114717896383747, -0.17358551670984648, -0.12136696344693461, -0.04744177294041664, -0.2515478800890297, -0.28829335242344184, 0.020349374490222123, -0.04380774542090992, -0.05177447169502145, -0.23028407523104955, -0.11009630749385102, -0.25240533853215547, -0.10440762276858717, -0.21328955124904825, -0.16833201106552212, -0.13851796484881398, -0.31079898728083116, -0.04705113711385839, -0.19270276985106474, -0.11047899289501156, -0.3621088808057738, -0.08456987055827205, -0.15719200534935507, -0.0829776942238303, -0.29320054152427544, -0.10871773384986318, -0.08456987055827205, -0.08456987055827205, -0.08456987055827205]\n",
      "[1.1950163758307681, 1.1942411990241621, -0.20151101285189477, -1.6843858739438295, 1.9615310926491651, -3.9688558590768976, 4.851473718719505, -2.7509609082108795, 6.108284424605816, 2.2785620223981837, 3.6497236127842108, 3.519592094657525, 3.9736480704506314, 4.152957195178329, 2.3144735561312864, 1.6182261792924615, 0.6325569725388885, 3.353971734520396, 3.8439113656458916, -0.27132499320296166, 0.584103272278799, 0.6903262892669527, 3.0704543364139942, 1.4679507665846803, 3.365404513762073, 1.3921016369144956, 2.8438606833206435, 2.2444268142069617, 1.8469061979841865, 4.143986497077749, 0.6273484948514452, 2.569370264680863, 1.4730532386001542, 4.828118410743651, 1.127598274110294, 2.0958934046580677, 1.1063692563177374, 3.9093405536570063, 1.4495697846648423, 1.127598274110294, 1.127598274110294, 1.127598274110294]\n"
     ]
    }
   ],
   "source": [
    "# Run the Fuijiwara protocol. \n",
    "\n",
    "zumi_dD, zumi_dT, error_zumi_dD, error_zumi_dT  = fujiwara_analysis(four_freqs, mean_norm_4_point_odmr, four_point_mean_norm_error)\n",
    "print(zumi_dD, zumi_dT, error_zumi_dD, error_zumi_dT)\n",
    "print('\\n')\n",
    "try:\n",
    "    zumi_dD_store.append(zumi_dD)\n",
    "    zumi_dT_store.append(zumi_dT)\n",
    "except:\n",
    "    zumi_dD_store = []\n",
    "    zumi_dT_store = []\n",
    "    zumi_dD_store.append(zumi_dD) # MHz\n",
    "    zumi_dT_store.append(zumi_dT) # Kelvin\n",
    "\n",
    "\n",
    "    \n",
    "analysis_type = 'Fujiwara_2020_'\n",
    "    \n",
    "#save_data(four_point_data_set, date, four_point_params_values[3]/1000, zumi_dD,  zumi_dT, np.mean(four_point_reference_data), analysis_type)\n",
    "\n",
    "print(zumi_dD_store)\n",
    "print(zumi_dT_store)"
   ]
  },
  {
   "cell_type": "code",
   "execution_count": 182,
   "metadata": {},
   "outputs": [],
   "source": [
    "## Used to clear the _store variables. \n",
    "#zumi_dD_store = []\n",
    "#zumi_dT_store = []\n",
    "\n",
    "# Perfrom the referencing to the start value. \n",
    "#for i in range(len(zumi_dD_store)-1):\n",
    "#    print(zumi_dD_store[i+1]-zumi_dD_store[i])\n",
    "#print(params_file)"
   ]
  },
  {
   "cell_type": "raw",
   "metadata": {},
   "source": [
    "## This section of the code is designed to perform the full Fujiwara analysis on the whole dataset. \n",
    "\n",
    "divider = 100\n",
    "\n",
    "zumi_dD = np.zeros([1,int(norm_odmr_4_point.shape[2]/divider)])\n",
    "zumi_dT = np.zeros([1,int(norm_odmr_4_point.shape[2]/divider)])\n",
    "\n",
    "for i in range(int(norm_odmr_4_point.shape[2]/divider)):\n",
    "    zumi_dD[0,i], zumi_dT[0,i] = fujiwara_analysis(four_freqs, np.roll(np.mean(norm_odmr_4_point[0, :, (i*divider):(i+1)*divider], axis = 1),1))\n",
    "\n",
    "print(zumi_dT)\n",
    "\n",
    "print(np.mean(zumi_dT))\n",
    "print(np.std(zumi_dD))"
   ]
  },
  {
   "cell_type": "markdown",
   "metadata": {},
   "source": [
    "***"
   ]
  },
  {
   "cell_type": "markdown",
   "metadata": {},
   "source": [
    "### Singam Analysis\n",
    "***"
   ]
  },
  {
   "cell_type": "code",
   "execution_count": 183,
   "metadata": {},
   "outputs": [
    {
     "name": "stdout",
     "output_type": "stream",
     "text": [
      "4.081081081081081 4.021021021021021\n",
      "[0.06606606606606658, 0.08408408408408441, 0.18618618618618665, 0.25225225225225323, 0.042042042042042205, 0.43243243243243334, -0.07207207207207178, 0.2642642642642645, -0.22822822822822797, 0.006006006006006537, -0.13213213213213182, -0.16816816816816793, -0.08408408408408397, -0.12612612612612573, 0.012012012012012185, 0.04804804804804874, 0.12612612612612661, -0.11411411411411398, -0.10810810810810789, 0.18618618618618665, 0.12612612612612661, 0.12012012012012008, -0.03603603603603567, 0.05405405405405439, -0.07807807807807787, 0.06606606606606658, -0.04204204204204176, 0.018018018018018722, 0.036036036036036556, -0.08408408408408397, 0.12612612612612661, 0.012012012012012185, 0.06606606606606658, -0.19819819819819795, 0.09009009009009006, 0.012012012012012185, 0.08408408408408441, -0.11411411411411398, 0.06006006006006004]\n",
      "[-0.8808808808808877, -1.1211211211211256, -2.4824824824824887, -3.3633633633633764, -0.5605605605605628, -5.765765765765778, 0.9609609609609571, -3.523523523523527, 3.0430430430430397, -0.08008008008008716, 1.7617617617617576, 2.2422422422422392, 1.1211211211211196, 1.6816816816816764, -0.1601601601601625, -0.64064064064065, -1.6816816816816882, 1.5215215215215199, 1.4414414414414387, -2.4824824824824887, -1.6816816816816882, -1.601601601601601, 0.4804804804804756, -0.7207207207207252, 1.0410410410410385, -0.8808808808808877, 0.5605605605605568, -0.24024024024024965, -0.4804804804804874, 1.1211211211211196, -1.6816816816816882, -0.1601601601601625, -0.8808808808808877, 2.6426426426426395, -1.2012012012012008, -0.1601601601601625, -1.1211211211211256, 1.5215215215215199, -0.8008008008008005]\n"
     ]
    },
    {
     "data": {
      "image/png": "[encoded data removed]",
      "text/plain": [
       "<Figure size 864x576 with 1 Axes>"
      ]
     },
     "metadata": {
      "needs_background": "light"
     },
     "output_type": "display_data"
    }
   ],
   "source": [
    "# Analysis of the 4 point ODMR is a little more challenging using the Singam protocol.\n",
    "\n",
    "# Get the mean frequency values and the number of frequency steps between the two mean freq values. \n",
    "f_minus, f_plus, index_shift = singam_freq_diff(four_freqs, params_values[2])\n",
    "# Create the subtraction plots (see plot for what this looks like).\n",
    "y_fit_subtract, freq_sub_array = singam_subtraction_array(y_fit, params_values[2], freq, index_shift)\n",
    "\n",
    "# Find the indicies corresponding to the maxima and minima of the y_fit subtracted lineshape.\n",
    "# Also have the index corresponding to I(f1) - I(f2) = 0\n",
    "zero_intensity_freq, max_index, min_index = singam_extract_linear(params_values[2], y_fit_subtract)\n",
    "\n",
    "# Fit a straight line fit to the linear part of the subtraction curve. \n",
    "p0 = [0,0]\n",
    "fit_coeffs, confidence = opt.curve_fit(straight_line, freq_sub_array[min_index:max_index], y_fit_subtract[min_index:max_index], p0)\n",
    "\n",
    "# Generate a high resolution x and y straight line fit for the linear portion of the subtraction curve. \n",
    "freq_high_res = np.linspace(freq_sub_array[min_index], freq_sub_array[max_index], 1000)\n",
    "linear_fit = straight_line(freq_high_res, fit_coeffs[0], fit_coeffs[1])\n",
    "\n",
    "# Find the location of F_plus and F_minus in the normal frequency array. \n",
    "two_freq_locs = []\n",
    "for i in range(2):\n",
    "    a = ((four_freqs[i*2] + four_freqs[i*2 + 1])/2)\n",
    "    two_freq_locs.append(np.abs(np.round(freq, 4) - a).argmin())\n",
    "    \n",
    "\n",
    "# Plot the high resolution straight line fit.\n",
    "plot.plot(freq_high_res, linear_fit)\n",
    "# Plot the points used to generate the original y_fit_subtraction curve. \n",
    "plot.scatter(freq_sub_array[min_index:max_index], y_fit_subtract[min_index:max_index])    \n",
    "    \n",
    "# Perform the Singam analysis for the mean of the 2 mean values from the 4 point ODMR data. \n",
    "I_diff_2_points, I_diff_mean_ref, two_point_freq_shift, singam_reference_value = singam_analysis(freq_high_res, \n",
    "                                                                                             mean_norm_4_point_odmr, \n",
    "                                                                                             two_freq_locs, linear_fit)    \n",
    "\n",
    "# plot the reference value and the subtraction curve sampling points. \n",
    "plot.scatter(two_point_freq_shift, I_diff_2_points, marker = 'x', label = 'T shift')\n",
    "plot.scatter(singam_reference_value, I_diff_mean_ref, marker = 'x', label = 'ref')\n",
    "plot.xlabel('Frequnecy Difference (MHz)')\n",
    "plot.ylabel('Intensity Difference (Normalised Counts)')\n",
    "plot.title('Singam et al. T sensing calibration graph')\n",
    "plot.legend()\n",
    "\n",
    "# find the change in the resonant frequnecy of the NV centres from the reference.\n",
    "delta_f_singam =  two_point_freq_shift - singam_reference_value # MHz\n",
    "\n",
    "# Find the temperature change in the sample. \n",
    "delta_T_singam = delta_f_singam/(-0.075)\n",
    "\n",
    "try: \n",
    "    delta_f_singam_store.append(delta_f_singam) # MHz\n",
    "    delta_T_singam_store.append(delta_T_singam) # Kelvin\n",
    "except:\n",
    "    delta_f_singam_store = []\n",
    "    delta_T_singam_store = []\n",
    "    delta_f_singam_store.append(delta_f_singam)\n",
    "    delta_T_singam_store.append(delta_T_singam)\n",
    "\n",
    "print(two_point_freq_shift, singam_reference_value)\n",
    "\n",
    "analysis_type = 'Singam_2019_'\n",
    "    \n",
    "save_data(four_point_data_set, date, four_point_params_values[3]/1000, delta_f_singam,  delta_T_singam, np.mean(four_point_reference_data), analysis_type)\n",
    "\n",
    "print(delta_f_singam_store)\n",
    "print(delta_T_singam_store)"
   ]
  },
  {
   "cell_type": "code",
   "execution_count": 111,
   "metadata": {},
   "outputs": [],
   "source": [
    "## Used to clear the delta_f_singam_store variable. \n",
    "\n",
    "#delta_f_singam_store = []\n",
    "#delta_T_singam_store = []\n",
    "#print(delta_f_singam_store[1]-delta_f_singam_store[0])\n",
    "\n",
    "# Perfrom the referencing to the start value. \n",
    "#for i in range(len(zumi_dD_store)-1):\n",
    "#    print(delta_f_singam_store[i+1]-delta_f_singam_store[i])\n"
   ]
  },
  {
   "cell_type": "markdown",
   "metadata": {},
   "source": [
    "***"
   ]
  },
  {
   "cell_type": "code",
   "execution_count": 73,
   "metadata": {},
   "outputs": [
    {
     "name": "stdout",
     "output_type": "stream",
     "text": [
      "[0.042042042042042205, 0.2702702702702702, 0.19819819819819795, 0.09009009009009006, 0.0960960960960966]\n"
     ]
    }
   ],
   "source": [
    "a = []\n",
    "for i in range(len(delta_f_singam_store)-1):\n",
    "    a.append(delta_f_singam_store[i] - delta_f_singam_store[i+1])\n",
    "print(a)"
   ]
  },
  {
   "cell_type": "code",
   "execution_count": 272,
   "metadata": {},
   "outputs": [
    {
     "name": "stdout",
     "output_type": "stream",
     "text": [
      "[[[11541. 11325. 11325. 11467. 11374. 11579. 11362. 11276. 11734. 11527.\n",
      "   11663. 11204. 11339. 11587. 11038. 11459. 11070. 10927. 11470. 11535.\n",
      "   11371. 11761. 11104. 11424. 11790. 11691. 11906. 11179. 11402. 11415.\n",
      "   11359. 11448. 11540. 11579. 11247. 11810. 11755. 11679. 11553. 11494.\n",
      "   11385. 11230. 11562. 11401. 11512. 11465. 11450. 11297. 11510. 11042.\n",
      "   11267. 11208. 11230. 11230. 11037. 10978. 11009. 10607. 10915. 10587.\n",
      "   11010. 10545. 10797. 11081. 10621. 11103. 10950. 10592. 10945. 10602.\n",
      "   10883. 10904. 11064. 10781. 10816. 11051. 10955. 10845. 11402. 11250.\n",
      "   10724. 10684. 10891. 10734. 10941. 10737. 10954. 10917. 10820. 11156.\n",
      "   10889. 11125. 11118. 11086. 10914. 10966. 10923. 10971. 10786. 10865.]\n",
      "  [10965. 11019. 11124. 11151. 11180. 11326. 11412. 11108. 10963. 11116.\n",
      "   10937. 11127. 11059. 10966. 11225. 11006. 10837. 11065. 11227. 11070.\n",
      "   11022. 10892. 10746. 11001. 11170. 10926. 10953. 10762. 10936. 10964.\n",
      "   11387. 11248. 10683. 11328. 10803. 10975. 10745. 11031. 10801. 11128.\n",
      "   10778. 11165. 10969. 10968. 10778. 10606. 11054. 10698. 10736. 10960.\n",
      "   11041. 10599. 10883. 10889. 11119. 10852. 11162. 11256. 11051. 11131.\n",
      "   10937. 11073. 11039. 10827. 10889. 11039. 10892. 10886. 10602. 10894.\n",
      "   10818. 11010. 10492. 10729. 11120. 10944. 10565. 10686. 11096. 10340.\n",
      "   10771. 10515. 11221. 11085. 11093. 11288. 10990. 11319. 11099. 11170.\n",
      "   10589. 10718. 10896. 10753. 10864. 10758. 11238. 11107. 11250. 10695.]\n",
      "  [10817. 10799. 10993. 10642. 10983. 10449. 10726. 10531. 10868. 11086.\n",
      "   11361. 11107. 10933. 10940. 11101. 11034. 11079. 10364. 10733. 10679.\n",
      "   10433. 10793. 10968. 10993. 10689. 10746. 10882. 10765. 10863. 10710.\n",
      "   10768. 10856. 10758. 10827. 11097. 10925. 11248. 11101. 10891. 10871.\n",
      "   10706. 11212. 11090. 11010. 11293. 10790. 11099. 10907. 10496. 10973.\n",
      "   10976. 10799. 10733. 10625. 10950. 11007. 10489. 10637. 10956. 10499.\n",
      "   10857. 10680. 11013. 10937. 11081. 11269. 10754. 10752. 11042. 10573.\n",
      "   10552. 10602. 10578. 11252. 10721. 10879. 10792. 10785. 10578. 10959.\n",
      "   10924. 10841. 10560. 10986. 10600. 10678. 10663. 10549. 10818. 10969.\n",
      "   11037. 11270. 10877. 10649. 10842. 10962. 11103. 10506. 11118. 10484.]\n",
      "  [10940. 10670. 10745. 10410. 11165. 10938. 11022. 10718. 10696. 10655.\n",
      "   10664. 10810. 10597. 10575. 10370. 11255. 11073. 11224. 11182. 11583.\n",
      "   11480. 11361. 11257. 11165. 11035. 11147. 10795. 10992. 11448. 10841.\n",
      "   10696. 11040. 10886. 11000. 11051. 11092. 10993. 10859. 10889. 11105.\n",
      "   11016. 10988. 10930. 11347. 11376. 11499. 11069. 11123. 11367. 11137.\n",
      "   11192. 11249. 11087. 11194. 11149. 11256. 11326. 11372. 11052. 11356.\n",
      "   10893. 10994. 11318. 11136. 10962. 10991. 11042. 11540. 11385. 10973.\n",
      "   11121. 11197. 11524. 11503. 11005. 10916. 11327. 10978. 11029. 10989.\n",
      "   10907. 11152. 10805. 11082. 11033. 11222. 10979. 11174. 10704. 11042.\n",
      "   10834. 10760. 10873. 11025. 10901. 11169. 10875. 11408. 11033. 11071.]]]\n"
     ]
    }
   ],
   "source": [
    "print(four_point_reference_data)"
   ]
  },
  {
   "cell_type": "code",
   "execution_count": null,
   "metadata": {},
   "outputs": [],
   "source": []
  },
  {
   "cell_type": "markdown",
   "metadata": {},
   "source": [
    "#### 0.986*np.sqrt(np.power((108/11700), 2) + np.power((108/11800), 2))"
   ]
  },
  {
   "cell_type": "code",
   "execution_count": 273,
   "metadata": {},
   "outputs": [
    {
     "name": "stdout",
     "output_type": "stream",
     "text": [
      "0.014015574274123456\n",
      "0.012105522686313508\n",
      "0.013101109499539479\n"
     ]
    }
   ],
   "source": [
    "print(np.max(norm_ODMR_errors))\n",
    "print(np.min(norm_ODMR_errors))\n",
    "print(np.mean(norm_ODMR_errors))"
   ]
  },
  {
   "cell_type": "code",
   "execution_count": 274,
   "metadata": {},
   "outputs": [
    {
     "name": "stdout",
     "output_type": "stream",
     "text": [
      "0.00036257760989481146\n"
     ]
    }
   ],
   "source": [
    "print(np.std(norm_ODMR_errors))"
   ]
  },
  {
   "cell_type": "code",
   "execution_count": null,
   "metadata": {},
   "outputs": [],
   "source": []
  }
 ],
 "metadata": {
  "kernelspec": {
   "display_name": "Python 3",
   "language": "python",
   "name": "python3"
  },
  "language_info": {
   "codemirror_mode": {
    "name": "ipython",
    "version": 3
   },
   "file_extension": ".py",
   "mimetype": "text/x-python",
   "name": "python",
   "nbconvert_exporter": "python",
   "pygments_lexer": "ipython3",
   "version": "3.9.0"
  }
 },
 "nbformat": 4,
 "nbformat_minor": 5
}
