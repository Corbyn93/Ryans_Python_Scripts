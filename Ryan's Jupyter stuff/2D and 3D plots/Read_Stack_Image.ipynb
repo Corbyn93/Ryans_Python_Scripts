{
 "cells": [
  {
   "cell_type": "code",
   "execution_count": 1,
   "metadata": {},
   "outputs": [],
   "source": [
    "import sys\n",
    "import os"
   ]
  },
  {
   "cell_type": "code",
   "execution_count": 2,
   "metadata": {},
   "outputs": [],
   "source": [
    "import scipy.misc\n",
    "import numpy as np \n",
    "from itkwidgets import view "
   ]
  },
  {
   "cell_type": "code",
   "execution_count": 3,
   "metadata": {},
   "outputs": [
    {
     "name": "stdout",
     "output_type": "stream",
     "text": [
      "1\n",
      "(7686, 127)\n"
     ]
    }
   ],
   "source": [
    "with open('C:\\\\Users\\\\Ryan\\\\Desktop\\\\20190902_01.dat', 'r') as array3D:\n",
    "    content = array3D.read()\n",
    "    print(\"1\")\n",
    "    \n",
    "image_data = []\n",
    "\n",
    "lines = content.splitlines()[6:]\n",
    "for line in lines:\n",
    "    columns = line.split('\\t')\n",
    "    if len(columns) < 20:\n",
    "        continue \n",
    "    image_data.append(columns) \n",
    "    \n",
    "Array = np.array(image_data)\n",
    "print(Array.shape)\n"
   ]
  },
  {
   "cell_type": "code",
   "execution_count": 4,
   "metadata": {},
   "outputs": [
    {
     "name": "stdout",
     "output_type": "stream",
     "text": [
      "(7686, 126)\n"
     ]
    }
   ],
   "source": [
    "Arr = Array[:, 0:126]\n",
    "print(Arr.shape)"
   ]
  },
  {
   "cell_type": "code",
   "execution_count": 5,
   "metadata": {},
   "outputs": [],
   "source": [
    "Image_data = Arr.reshape(61,126,126)\n",
    "Image_data = Image_data.astype(np.float)"
   ]
  },
  {
   "cell_type": "code",
   "execution_count": 6,
   "metadata": {
    "scrolled": false
   },
   "outputs": [
    {
     "data": {
      "application/vnd.jupyter.widget-view+json": {
       "model_id": "643f6ab4ece241eba042ae0b56e720fb",
       "version_major": 2,
       "version_minor": 0
      },
      "text/plain": [
       "Viewer(geometries=[], gradient_opacity=0.22, point_sets=[], rendered_image=<itk.itkImagePython.itkImageD3; pro…"
      ]
     },
     "metadata": {},
     "output_type": "display_data"
    }
   ],
   "source": [
    "view(Image_data)"
   ]
  },
  {
   "cell_type": "code",
   "execution_count": null,
   "metadata": {},
   "outputs": [],
   "source": []
  },
  {
   "cell_type": "code",
   "execution_count": null,
   "metadata": {},
   "outputs": [],
   "source": []
  }
 ],
 "metadata": {
  "kernelspec": {
   "display_name": "Python 3",
   "language": "python",
   "name": "python3"
  },
  "language_info": {
   "codemirror_mode": {
    "name": "ipython",
    "version": 3
   },
   "file_extension": ".py",
   "mimetype": "text/x-python",
   "name": "python",
   "nbconvert_exporter": "python",
   "pygments_lexer": "ipython3",
   "version": "3.7.7"
  }
 },
 "nbformat": 4,
 "nbformat_minor": 2
}
