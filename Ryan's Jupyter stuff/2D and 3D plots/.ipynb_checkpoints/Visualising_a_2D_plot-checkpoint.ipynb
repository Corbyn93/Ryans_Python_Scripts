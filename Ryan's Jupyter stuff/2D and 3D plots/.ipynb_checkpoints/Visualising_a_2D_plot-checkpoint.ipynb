{
 "cells": [
  {
   "cell_type": "code",
   "execution_count": 1,
   "metadata": {},
   "outputs": [],
   "source": [
    "import os \n",
    "import matplotlib.pyplot as plot\n",
    "from mpl_toolkits.axes_grid1.anchored_artists import AnchoredSizeBar\n",
    "import seaborn as sns\n",
    "import pandas as pd\n",
    "import csv \n",
    "import numpy as np "
   ]
  },
  {
   "cell_type": "code",
   "execution_count": 2,
   "metadata": {},
   "outputs": [],
   "source": [
    "def get_data(file_name):\n",
    "    with open(file_name, 'r') as array3D:\n",
    "        content = array3D.read()\n",
    "    \n",
    "    # Sort data into two variables , one with the image data (scan_array)\n",
    "    # and another with the meta data for the image. \n",
    "    scan_array = []\n",
    "    meta_data = []\n",
    "\n",
    "    lines = content.splitlines()#[6:]\n",
    "    for line in lines:\n",
    "        columns = line.split('\\t')\n",
    "        if len(columns) < 20:\n",
    "            meta_data.append(columns)\n",
    "            continue \n",
    "        scan_array.append(columns[0:len(columns)-1]) \n",
    "\n",
    "    # convert the scan_array list into a float array. \n",
    "    image_array = np.array(scan_array, dtype = np.float)\n",
    "    \n",
    "    max_fluorescence = np.max(image_array)\n",
    "    \n",
    "    return(image_array, meta_data, max_fluorescence)\n",
    "    #background = np.mean(image_data)\n",
    "    #print(background)"
   ]
  },
  {
   "cell_type": "code",
   "execution_count": 22,
   "metadata": {},
   "outputs": [],
   "source": [
    "def xyz_scales(meta_data):\n",
    "    # Extract the XYZ scaling information from the meta_data list. \n",
    "    xyz = meta_data[10]\n",
    "    XYZscaling = np.array(xyz[0:len(xyz)-1], dtype = np.float)\n",
    "    #find the maximum scan length\n",
    "    scan_maxima = [XYZscaling[2]-XYZscaling[1], \n",
    "                   XYZscaling[5]- XYZscaling[4],\n",
    "                   XYZscaling[8]- XYZscaling[7]]\n",
    "    #find the size of each voxel/pixel\n",
    "    voxel_size = np.array([0,3])\n",
    "    for i in range(len(scan_maxima)):\n",
    "        voxel_size[0,i] = scan_maxima[i]/int(XYZscaling[0,i*3+3]) \n",
    "\n",
    "    # Create the pixle arrays for both the x and y range.\n",
    "    x_scan = np.linspace(0, scan_maxima[0], int(XYZscaling[3]))\n",
    "    y_scan = np.linspace(0, scan_maxima[1], int(XYZscaling[6]))\n",
    "    #z_scan = np.linspace(0, scan_maxima[2], int(XYZscaling[9]))\n",
    "\n",
    "    return(x_scan, y_scan, voxel_size)"
   ]
  },
  {
   "cell_type": "code",
   "execution_count": 4,
   "metadata": {},
   "outputs": [],
   "source": [
    "def two_d_meshgrid(x_scan, y_scan, image_data):\n",
    "    # create a mesh grid fo the heatmap\n",
    "    X, Y = np.meshgrid(x_scan, y_scan)\n",
    "    # Put all the data into a pandas data frame. \n",
    "    data_array = pd.DataFrame({'x':X.ravel(), 'y':Y.ravel(), 'Counts':image_data.ravel()})\n",
    "    #the data_array needs to be pivoted to display properly in the heatmap.\n",
    "    image_frame = data_array.pivot('y', 'x','Counts')\n",
    "    return(image_frame)"
   ]
  },
  {
   "cell_type": "code",
   "execution_count": 5,
   "metadata": {},
   "outputs": [],
   "source": [
    "def get_tick_labels(scan_data):\n",
    "    # Get the values for tick marks incase they are needed for plotting. \n",
    "    ticks = [] \n",
    "    indicies = []\n",
    "    for i in range(len(scan_data)):\n",
    "        if i/20 == np.floor(i/20):\n",
    "            ticks.append(scan_data[i])\n",
    "            indicies.append(i)\n",
    "    \n",
    "    return(ticks)"
   ]
  },
  {
   "cell_type": "code",
   "execution_count": 6,
   "metadata": {},
   "outputs": [],
   "source": [
    "def get_scalebar(x_scan, voxel_size, ax):\n",
    "    # defines the length of the scale bar and its caption.\n",
    "    scale_bar_pixel_length = 0.1* len(x_scan)\n",
    "    scale_bar_si_length = round(scale_bar_pixel_length*voxel_size, 1)\n",
    "    \n",
    "    #Generate scale bar\n",
    "    bar = AnchoredSizeBar(ax.transData, scale_bar_pixel_length, \n",
    "                          str(scale_bar_si_length) + r'$\\mu$m', \n",
    "                          4, size_vertical = 1, pad = 0.25)\n",
    "   # Add scalebar to image\n",
    "    ax.add_artist(bar)\n",
    "    \n",
    "    return(int(scale_bar_pixel_length), scale_bar_si_length)"
   ]
  },
  {
   "cell_type": "code",
   "execution_count": 7,
   "metadata": {},
   "outputs": [],
   "source": [
    "def plot_heatmap(image_frame, xticks, yticks, max_fluorescence):\n",
    "    ## This section produces a seaborn heatmap with no x and y labels or tick marks.\n",
    "\n",
    "    #generate a subpolt.\n",
    "    fig, ax = plot.subplots()\n",
    "    # change the plot text sizes. \n",
    "    sns.set(rc={'figure.figsize':(12,8)}, font_scale = 1.5)\n",
    "    # generate the heatmap \n",
    "    heat_map = sns.heatmap(image_frame, vmin =0 , vmax = 0.90*max_fluorescence, \n",
    "                           cbar_kws = {'label':'\\n Counts (per int time)'},\n",
    "                           xticklabels = 20, yticklabels = 20, cmap = 'viridis')\n",
    "    # set the tick marks for the heat map.\n",
    "    ax.set_yticklabels(yticks, rotation = 0)\n",
    "    ax.set_xticklabels(xticks, rotation = 0)\n",
    "    # set the x and y labels. \n",
    "    ax.set_ylabel('y ' + r'($\\mu$m)')\n",
    "    ax.set_xlabel('x ' + r'($\\mu$m)')\n",
    "\n",
    "    return(fig, ax)\n"
   ]
  },
  {
   "cell_type": "code",
   "execution_count": 8,
   "metadata": {},
   "outputs": [],
   "source": [
    "def save_figure(fig):\n",
    "    fig.savefig('C:\\\\Users\\\\Ryan\\\\Desktop\\\\20190902_02_xy_labels.jpg')"
   ]
  },
  {
   "cell_type": "code",
   "execution_count": 23,
   "metadata": {},
   "outputs": [
    {
     "ename": "IndexError",
     "evalue": "too many indices for array",
     "output_type": "error",
     "traceback": [
      "\u001b[1;31m---------------------------------------------------------------------------\u001b[0m",
      "\u001b[1;31mIndexError\u001b[0m                                Traceback (most recent call last)",
      "\u001b[1;32m<ipython-input-23-b5ea1776e88a>\u001b[0m in \u001b[0;36m<module>\u001b[1;34m\u001b[0m\n\u001b[0;32m      2\u001b[0m \u001b[0mfile_name\u001b[0m \u001b[1;33m=\u001b[0m \u001b[1;34m'C:\\\\Users\\\\Ryan\\\\Desktop\\\\20190902_02.dat'\u001b[0m\u001b[1;33m\u001b[0m\u001b[1;33m\u001b[0m\u001b[0m\n\u001b[0;32m      3\u001b[0m \u001b[0mimage_array\u001b[0m\u001b[1;33m,\u001b[0m \u001b[0mmeta_data\u001b[0m\u001b[1;33m,\u001b[0m \u001b[0mmax_fluorescence\u001b[0m \u001b[1;33m=\u001b[0m \u001b[0mget_data\u001b[0m\u001b[1;33m(\u001b[0m\u001b[0mfile_name\u001b[0m\u001b[1;33m)\u001b[0m\u001b[1;33m\u001b[0m\u001b[1;33m\u001b[0m\u001b[0m\n\u001b[1;32m----> 4\u001b[1;33m \u001b[0mx_scan\u001b[0m\u001b[1;33m,\u001b[0m \u001b[0my_scan\u001b[0m\u001b[1;33m,\u001b[0m \u001b[0mvoxel_size\u001b[0m \u001b[1;33m=\u001b[0m \u001b[0mxyz_scales\u001b[0m\u001b[1;33m(\u001b[0m\u001b[0mmeta_data\u001b[0m\u001b[1;33m)\u001b[0m\u001b[1;33m\u001b[0m\u001b[1;33m\u001b[0m\u001b[0m\n\u001b[0m\u001b[0;32m      5\u001b[0m \u001b[0mimage_frame\u001b[0m \u001b[1;33m=\u001b[0m \u001b[0mtwo_d_meshgrid\u001b[0m\u001b[1;33m(\u001b[0m\u001b[0mx_scan\u001b[0m\u001b[1;33m,\u001b[0m \u001b[0my_scan\u001b[0m\u001b[1;33m,\u001b[0m \u001b[0mimage_array\u001b[0m\u001b[1;33m)\u001b[0m\u001b[1;33m\u001b[0m\u001b[1;33m\u001b[0m\u001b[0m\n\u001b[0;32m      6\u001b[0m \u001b[1;31m#indicies = []\u001b[0m\u001b[1;33m\u001b[0m\u001b[1;33m\u001b[0m\u001b[1;33m\u001b[0m\u001b[0m\n",
      "\u001b[1;32m<ipython-input-22-8f324be09fb6>\u001b[0m in \u001b[0;36mxyz_scales\u001b[1;34m(meta_data)\u001b[0m\n\u001b[0;32m     10\u001b[0m     \u001b[0mvoxel_size\u001b[0m \u001b[1;33m=\u001b[0m \u001b[0mnp\u001b[0m\u001b[1;33m.\u001b[0m\u001b[0marray\u001b[0m\u001b[1;33m(\u001b[0m\u001b[1;33m[\u001b[0m\u001b[1;36m0\u001b[0m\u001b[1;33m,\u001b[0m\u001b[1;36m3\u001b[0m\u001b[1;33m]\u001b[0m\u001b[1;33m)\u001b[0m\u001b[1;33m\u001b[0m\u001b[1;33m\u001b[0m\u001b[0m\n\u001b[0;32m     11\u001b[0m     \u001b[1;32mfor\u001b[0m \u001b[0mi\u001b[0m \u001b[1;32min\u001b[0m \u001b[0mrange\u001b[0m\u001b[1;33m(\u001b[0m\u001b[0mlen\u001b[0m\u001b[1;33m(\u001b[0m\u001b[0mscan_maxima\u001b[0m\u001b[1;33m)\u001b[0m\u001b[1;33m)\u001b[0m\u001b[1;33m:\u001b[0m\u001b[1;33m\u001b[0m\u001b[1;33m\u001b[0m\u001b[0m\n\u001b[1;32m---> 12\u001b[1;33m         \u001b[0mvoxel_size\u001b[0m\u001b[1;33m[\u001b[0m\u001b[1;36m0\u001b[0m\u001b[1;33m,\u001b[0m\u001b[0mi\u001b[0m\u001b[1;33m]\u001b[0m \u001b[1;33m=\u001b[0m \u001b[0mscan_maxima\u001b[0m\u001b[1;33m[\u001b[0m\u001b[0mi\u001b[0m\u001b[1;33m]\u001b[0m\u001b[1;33m/\u001b[0m\u001b[0mint\u001b[0m\u001b[1;33m(\u001b[0m\u001b[0mXYZscaling\u001b[0m\u001b[1;33m[\u001b[0m\u001b[1;36m0\u001b[0m\u001b[1;33m,\u001b[0m\u001b[0mi\u001b[0m\u001b[1;33m*\u001b[0m\u001b[1;36m3\u001b[0m\u001b[1;33m+\u001b[0m\u001b[1;36m3\u001b[0m\u001b[1;33m]\u001b[0m\u001b[1;33m)\u001b[0m\u001b[1;33m\u001b[0m\u001b[1;33m\u001b[0m\u001b[0m\n\u001b[0m\u001b[0;32m     13\u001b[0m \u001b[1;33m\u001b[0m\u001b[0m\n\u001b[0;32m     14\u001b[0m     \u001b[1;31m# Create the pixle arrays for both the x and y range.\u001b[0m\u001b[1;33m\u001b[0m\u001b[1;33m\u001b[0m\u001b[1;33m\u001b[0m\u001b[0m\n",
      "\u001b[1;31mIndexError\u001b[0m: too many indices for array"
     ]
    }
   ],
   "source": [
    "# Dedicate a file name and then copy all the information into a variable. \n",
    "file_name = 'C:\\\\Users\\\\Ryan\\\\Desktop\\\\20190902_02.dat'\n",
    "image_array, meta_data, max_fluorescence = get_data(file_name)\n",
    "x_scan, y_scan, voxel_size = xyz_scales(meta_data)\n",
    "image_frame = two_d_meshgrid(x_scan, y_scan, image_array)\n",
    "#indicies = []\n",
    "x_ticks = get_tick_labels(x_scan)\n",
    "y_ticks = get_tick_labels(y_scan)\n",
    "fig, ax = plot_heatmap(image_frame, x_ticks, y_ticks, max_fluorescence)\n",
    "scale_bar_pix, scale_bar_si = get_scalebar(x_scan, voxel_size[0], ax)\n",
    "#save_figure(fig)"
   ]
  },
  {
   "cell_type": "code",
   "execution_count": 51,
   "metadata": {},
   "outputs": [
    {
     "name": "stdout",
     "output_type": "stream",
     "text": [
      "[0.]\n"
     ]
    }
   ],
   "source": [
    "## This is code is used to create a altair heat map. \n",
    "## This was not persued further due to difficulties in finding the required to\n",
    "## adapt the plot as required. This heat map may be interesting to persue in future. \n",
    "\n",
    "#alt.data_transformers.disable_max_rows()\n",
    "\n",
    "#alt.Chart(data_array).mark_rect().encode(\n",
    "#    x='x (um):O',\n",
    "#    y='y (um):O',\n",
    "#    color='Counts:Q', \n",
    "#).properties(width=500, height=500)"
   ]
  },
  {
   "cell_type": "code",
   "execution_count": null,
   "metadata": {},
   "outputs": [],
   "source": []
  }
 ],
 "metadata": {
  "kernelspec": {
   "display_name": "Python 3",
   "language": "python",
   "name": "python3"
  },
  "language_info": {
   "codemirror_mode": {
    "name": "ipython",
    "version": 3
   },
   "file_extension": ".py",
   "mimetype": "text/x-python",
   "name": "python",
   "nbconvert_exporter": "python",
   "pygments_lexer": "ipython3",
   "version": "3.7.7"
  }
 },
 "nbformat": 4,
 "nbformat_minor": 4
}
