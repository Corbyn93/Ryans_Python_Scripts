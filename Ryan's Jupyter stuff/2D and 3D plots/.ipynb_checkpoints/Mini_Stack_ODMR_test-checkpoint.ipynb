{
 "cells": [
  {
   "cell_type": "code",
   "execution_count": null,
   "metadata": {},
   "outputs": [],
   "source": [
    "import os \n",
    "import matplotlib.pyplot as plot\n",
    "from mpl_toolkits.axes_grid1.anchored_artists import AnchoredSizeBar\n",
    "from matplotlib.collections import PatchCollection\n",
    "import pandas as pd\n",
    "import numpy as np \n",
    "import seaborn as sns\n",
    "import skimage.feature as si"
   ]
  },
  {
   "cell_type": "code",
   "execution_count": 2,
   "metadata": {},
   "outputs": [],
   "source": [
    "def get_data(file_name):\n",
    "    with open(file_name, 'r') as array3D:\n",
    "        content = array3D.read()\n",
    "    \n",
    "    # Sort data into two variables , one with the image data (scan_array)\n",
    "    # and another with the meta data for the image. \n",
    "    scan_array = []\n",
    "    meta_data = []\n",
    "\n",
    "    lines = content.splitlines()#[6:]\n",
    "    for line in lines:\n",
    "        columns = line.split('\\t')\n",
    "        if len(columns) < 20:\n",
    "            meta_data.append(columns)\n",
    "            continue \n",
    "        scan_array.append(columns[0:len(columns)-1]) \n",
    "\n",
    "    # convert the scan_array list into a float array. \n",
    "    image_array = np.array(scan_array, dtype = np.float)\n",
    "    \n",
    "    max_fluorescence = np.max(image_array)\n",
    "    \n",
    "    return(image_array, meta_data, max_fluorescence)"
   ]
  },
  {
   "cell_type": "code",
   "execution_count": 3,
   "metadata": {},
   "outputs": [],
   "source": [
    "def xyz_scales(meta_data):\n",
    "    # Extract the XYZ scaling information from the meta_data list. \n",
    "    xyz = meta_data[10]\n",
    "    XYZscaling = np.array(xyz[0:len(xyz)-1], dtype = np.float)\n",
    "    #find the maximum scan length\n",
    "    scan_maxima = [XYZscaling[2]-XYZscaling[1], \n",
    "                   XYZscaling[5]- XYZscaling[4],\n",
    "                   XYZscaling[8]- XYZscaling[7]]\n",
    "    #find the size of each voxel/pixel\n",
    "    voxel_size = np.zeros([3])\n",
    "    for i in range(len(scan_maxima)):\n",
    "        if scan_maxima[i] == 0:\n",
    "            continue \n",
    "        else:\n",
    "            voxel_size[i] = scan_maxima[i]/int(XYZscaling[i*3+3]) \n",
    "\n",
    "    # Create the pixle arrays for both the x and y range.\n",
    "    x_scan = np.linspace(0, scan_maxima[0], int(XYZscaling[3]))\n",
    "    y_scan = np.linspace(0, scan_maxima[1], int(XYZscaling[6]))\n",
    "    z_scan = np.linspace(0, scan_maxima[2], int(XYZscaling[9]))\n",
    "\n",
    "    return(x_scan, y_scan, z_scan, voxel_size)"
   ]
  },
  {
   "cell_type": "code",
   "execution_count": 4,
   "metadata": {},
   "outputs": [],
   "source": [
    "def resize_image_data(image_array, x_d, y_d, z_d):\n",
    "    \n",
    "    image_array_3D = image_array.reshape(z_d, y_d, x_d)\n",
    "    return(image_array_3D)"
   ]
  },
  {
   "cell_type": "code",
   "execution_count": 5,
   "metadata": {},
   "outputs": [],
   "source": [
    "def get_tick_labels(scan_data, no_of_ticks):\n",
    "    # Get the values for tick marks incase they are needed for plotting. \n",
    "    ticks = [] \n",
    "    indicies = []\n",
    "    \n",
    "    divider = np.floor(len(scan_data)/no_of_ticks)\n",
    "    \n",
    "    for i in range(len(scan_data)):\n",
    "        if i/divider == np.floor(i/divider):\n",
    "            ticks.append(scan_data[i])\n",
    "            indicies.append(i)\n",
    "    \n",
    "    return(ticks)"
   ]
  },
  {
   "cell_type": "code",
   "execution_count": 6,
   "metadata": {},
   "outputs": [],
   "source": [
    "def find_NDs(image_frame, min_dis, num_NDs):\n",
    "    # Uses the skimage package to locate the local maxima of an image. \n",
    "    ND_Locations = []\n",
    "    for i in range(len(image_frame[:,0,0])):\n",
    "        ND_Locations.append(si.peak_local_max(image_frame[i, :, :], min_distance = min_dis, \n",
    "                                              exclude_border = True, num_peaks = num_NDs))\n",
    "    ND_Locations = np.array(ND_Locations)\n",
    "    return(ND_Locations)"
   ]
  },
  {
   "cell_type": "code",
   "execution_count": 7,
   "metadata": {},
   "outputs": [],
   "source": [
    "def subtract_background(image_array):\n",
    "    # Find the background fluorescence value.\n",
    "    background = np.mean(image_array)\n",
    "    image_array_zero = image_array - background\n",
    "    return(image_array_zero, background)"
   ]
  },
  {
   "cell_type": "code",
   "execution_count": 42,
   "metadata": {},
   "outputs": [],
   "source": [
    "def ROI_comparison(image_array, image_array_2, ND_locs):\n",
    "    # Here we compare the different intensities of the \n",
    "    # NDs from two different ND maps. \n",
    "    fluor_drop = []\n",
    "    for i in range(len(ND_locs)):\n",
    "        y, x = ND_locs[i]\n",
    "        fluor_drop.append(image_array_2[x,y]/image_array[x,y])\n",
    "\n",
    "    return(fluor_drop)"
   ]
  },
  {
   "cell_type": "code",
   "execution_count": 9,
   "metadata": {},
   "outputs": [],
   "source": [
    "def find_useful_NDs(ROI_contrast, limit):\n",
    "    # identify NDs with a contrast above a limit\n",
    "    ODMR_NDs = []\n",
    "    for i in range(len(ROI_contrast)):\n",
    "        if (1-ROI_contrast[i]) > limit:\n",
    "            ODMR_NDs.append(i)\n",
    "    return(ODMR_NDs)"
   ]
  },
  {
   "cell_type": "code",
   "execution_count": 10,
   "metadata": {},
   "outputs": [],
   "source": [
    "def plot_roi(nd_locs, ax, color, radius):\n",
    "    ## I have grabbed/ammended this function from: \n",
    "    # https://stackoverflow.com/questions/51672327/skimage-peak-local-max-finds-multiple-spots-in-close-proximity-due-to-image-impu\n",
    "    # I am sure that this isn't an issue for copyright/IP or anything, but better to be safe. \n",
    "\n",
    "    # This function plots all of the regions of interest onto the heatmap. \n",
    "    patches = []\n",
    "    a = 1\n",
    "    for nd in nd_locs:\n",
    "        y, x = nd\n",
    "        c = plot.Circle((x, y), radius)\n",
    "        ax.annotate('ND ' + str(a), xy = [x-2, y + 10], color = color)\n",
    "        patches.append(c)\n",
    "        a += 1\n",
    "        \n",
    "    ax.add_collection(PatchCollection(patches, facecolors = \"None\", edgecolors = color, alpha = 0.5, linewidths = 3))\n",
    "    return(ax)"
   ]
  },
  {
   "cell_type": "code",
   "execution_count": 11,
   "metadata": {},
   "outputs": [],
   "source": [
    "def plot_heatmap(image_frame, divider, yticks, xticks, max_fluorescence):\n",
    "    ## This section produces a seaborn heatmap with no x and y labels or tick marks.\n",
    "\n",
    "    #generate a subpolt.\n",
    "    fig, ax = plot.subplots()\n",
    "    # change the plot text sizes. \n",
    "    sns.set(rc={'figure.figsize':(12,8)}, font_scale = 1.5)\n",
    "    # generate the heatmap \n",
    "    \n",
    "    #Code for making a cube-helix colour map\n",
    "    #cmap = sns.cubehelix_palette(start = 0.5, rot = .3, reverse = True, dark=0.3, light=1, as_cmap=True)\n",
    "    cmap = 'viridis'\n",
    "\n",
    "    heat_map = sns.heatmap(image_frame, vmin =0 , vmax = 0.90*max_fluorescence,\n",
    "                           cbar_kws = {'label':'\\n Counts (per int time)'},\n",
    "                           xticklabels = divider, yticklabels = divider, cmap = cmap)\n",
    "    \n",
    "    # set the tick marks for the heat map.\n",
    "    ax.set_yticklabels(yticks, rotation = 0)\n",
    "    ax.set_xticklabels(xticks, rotation = 0)\n",
    "    # set the x and y labels. \n",
    "    ax.set_ylabel('y ' + r'($\\mu$m)')\n",
    "    ax.set_xlabel('x ' + r'($\\mu$m)')\n",
    "\n",
    "    return(fig, ax)"
   ]
  },
  {
   "cell_type": "code",
   "execution_count": 47,
   "metadata": {
    "scrolled": true
   },
   "outputs": [
    {
     "data": {
      "text/plain": [
       "<matplotlib.axes._subplots.AxesSubplot at 0x1f8c999a048>"
      ]
     },
     "execution_count": 47,
     "metadata": {},
     "output_type": "execute_result"
    },
    {
     "data": {
      "image/png": "[encoded data removed]",
      "text/plain": [
       "<Figure size 864x576 with 2 Axes>"
      ]
     },
     "metadata": {},
     "output_type": "display_data"
    }
   ],
   "source": [
    "# Get the location of the file of interest in the directory. \n",
    "folder_name = 'I:\\\\Science\\\\Physics-Nanobiophotonics\\\\Group\\\\User Data\\\\ODMR\\\\ODMR and imaging\\\\20200821\\\\'\n",
    "date = '20200821'\n",
    "file_name = folder_name + date + '_04.dat'\n",
    "\n",
    "# Sort the image data and the meta data into different variables, extract the max fluorescence value. \n",
    "image_array, meta_data, max_fluorescence = get_data(file_name)\n",
    "# Generate arrays describing the 2D scans used to create the image. \n",
    "x_scan, y_scan, z_scan, voxel_size = xyz_scales(meta_data)\n",
    "\n",
    "# Turn the image_array into a 3D array and then store this in a pandas data frame.\n",
    "image_array_3D = resize_image_data(image_array, len(x_scan), \n",
    "                                  len(y_scan), len(z_scan))  \n",
    "\n",
    "image_array_3D_sb, background = subtract_background(image_array_3D)# subtract the background from the image. \n",
    "\n",
    "# Get labels for tick marks.\n",
    "x_ticks = get_tick_labels(x_scan, 10)\n",
    "y_ticks = get_tick_labels(y_scan, 10)\n",
    "\n",
    "tick_divider = int(np.floor(len(x_scan)/10))\n",
    "\n",
    "fig, ax = plot_heatmap(image_array_3D_sb[1,:,:], tick_divider,\n",
    "                       y_ticks, x_ticks, max_fluorescence)\n",
    "\n",
    "radius = int(np.ceil(0.25/voxel_size[0]))+1\n",
    "NDS = find_NDs(image_array_3D_sb, radius, 2)\n",
    "\n",
    "plot_roi(NDS[0], ax, 'r', radius = radius)"
   ]
  },
  {
   "cell_type": "code",
   "execution_count": 48,
   "metadata": {},
   "outputs": [
    {
     "name": "stdout",
     "output_type": "stream",
     "text": [
      "[[[43 45]\n",
      "  [26 11]]\n",
      "\n",
      " [[43 45]\n",
      "  [26 10]]\n",
      "\n",
      " [[43 45]\n",
      "  [26 11]]]\n"
     ]
    }
   ],
   "source": [
    "print(NDS)"
   ]
  },
  {
   "cell_type": "code",
   "execution_count": 49,
   "metadata": {},
   "outputs": [],
   "source": [
    "folder_name = 'I:\\\\Science\\\\Physics-Nanobiophotonics\\\\Group\\\\User Data\\\\ODMR\\\\ODMR and imaging\\\\20200821\\\\'\n",
    "date = '20200821'\n",
    "file_name = folder_name + date + '_07.dat'\n",
    "\n",
    "# Sort the image data and the meta data into different variables, extract the max fluorescence value. \n",
    "image_array_2, meta_data_2, max_fluorescence_2 = get_data(file_name)\n",
    "\n",
    "# Put the image data into a 3D pandas array.\n",
    "image_array_3D_2 = resize_image_data(image_array_2, len(x_scan), \n",
    "                                  len(y_scan), len(z_scan))  \n",
    "# Subtract background\n",
    "image_array_3D_sb_2, background = subtract_background(image_array_3D_2)# subtract the background from the image. "
   ]
  },
  {
   "cell_type": "code",
   "execution_count": 52,
   "metadata": {},
   "outputs": [
    {
     "name": "stdout",
     "output_type": "stream",
     "text": [
      "0.35712994758720407\n"
     ]
    }
   ],
   "source": [
    "contrast = ROI_comparison(image_array_3D_sb[1,:,:], image_array_3D_sb_2[1,:,:], NDS[1])\n",
    "print(contrast)"
   ]
  },
  {
   "cell_type": "code",
   "execution_count": null,
   "metadata": {},
   "outputs": [],
   "source": []
  }
 ],
 "metadata": {
  "kernelspec": {
   "display_name": "Python 3",
   "language": "python",
   "name": "python3"
  },
  "language_info": {
   "codemirror_mode": {
    "name": "ipython",
    "version": 3
   },
   "file_extension": ".py",
   "mimetype": "text/x-python",
   "name": "python",
   "nbconvert_exporter": "python",
   "pygments_lexer": "ipython3",
   "version": "3.7.7"
  }
 },
 "nbformat": 4,
 "nbformat_minor": 4
}
