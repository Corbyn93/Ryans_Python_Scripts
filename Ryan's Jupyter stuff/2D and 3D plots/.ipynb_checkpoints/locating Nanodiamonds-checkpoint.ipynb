{
 "cells": [
  {
   "cell_type": "code",
   "execution_count": 1,
   "metadata": {},
   "outputs": [],
   "source": [
    "import os \n",
    "import matplotlib.pyplot as plot\n",
    "from mpl_toolkits.axes_grid1.anchored_artists import AnchoredSizeBar\n",
    "from matplotlib.collections import PatchCollection\n",
    "import seaborn as sns\n",
    "import pandas as pd\n",
    "import csv \n",
    "import numpy as np \n",
    "import skimage.feature as si"
   ]
  },
  {
   "cell_type": "code",
   "execution_count": 2,
   "metadata": {},
   "outputs": [],
   "source": [
    "def get_data(file_name):\n",
    "    with open(file_name, 'r') as array3D:\n",
    "        content = array3D.read()\n",
    "    \n",
    "    # Sort data into two variables , one with the image data (scan_array)\n",
    "    # and another with the meta data for the image. \n",
    "    scan_array = []\n",
    "    meta_data = []\n",
    "\n",
    "    lines = content.splitlines()#[6:]\n",
    "    for line in lines:\n",
    "        columns = line.split('\\t')\n",
    "        if len(columns) < 20:\n",
    "            meta_data.append(columns)\n",
    "            continue \n",
    "        scan_array.append(columns[0:len(columns)-1]) \n",
    "\n",
    "    # convert the scan_array list into a float array. \n",
    "    image_array = np.array(scan_array, dtype = np.float)\n",
    "    \n",
    "    max_fluorescence = np.max(image_array)\n",
    "    \n",
    "    return(image_array, meta_data, max_fluorescence)\n",
    "    #background = np.mean(image_data)\n",
    "    #print(background)"
   ]
  },
  {
   "cell_type": "code",
   "execution_count": 3,
   "metadata": {},
   "outputs": [],
   "source": [
    "def xy_scales(meta_data):\n",
    "    # Extract the XYZ scaling information from the meta_data list. \n",
    "    xy = meta_data[10]\n",
    "    XYscaling = np.array(xy[0:len(xy)-1], dtype = np.float)\n",
    "    #find the maximum scan length\n",
    "    scan_maxima = [XYscaling[2]-XYscaling[1], \n",
    "                   XYscaling[5]- XYscaling[4]]\n",
    "    \n",
    "    voxel_size = np.empty([len(scan_maxima)])\n",
    "    #find the size of each voxel/pixel\n",
    "    for i in range(len(scan_maxima)):\n",
    "        voxel_size[i] = scan_maxima[i]/int(XYscaling[i*3+3]) \n",
    "\n",
    "    # Create the pixle arrays for both the x and y range.\n",
    "    x_scan = np.linspace(0, scan_maxima[0], int(XYscaling[3]))\n",
    "    y_scan = np.linspace(0, scan_maxima[1], int(XYscaling[6]))\n",
    "    \n",
    "    return(x_scan, y_scan, voxel_size)"
   ]
  },
  {
   "cell_type": "code",
   "execution_count": 4,
   "metadata": {},
   "outputs": [],
   "source": [
    "def two_d_meshgrid(x_scan, y_scan, image_data):\n",
    "    # create a mesh grid fo the heatmap\n",
    "    X, Y = np.meshgrid(x_scan, y_scan)\n",
    "    # Put all the data into a pandas data frame. \n",
    "    data_array = pd.DataFrame({'x':X.ravel(), 'y':Y.ravel(), 'Counts':image_data.ravel()})\n",
    "    #the data_array needs to be pivoted to display properly in the heatmap.\n",
    "    image_frame = data_array.pivot('y', 'x','Counts')\n",
    "    return(image_frame)"
   ]
  },
  {
   "cell_type": "code",
   "execution_count": 5,
   "metadata": {},
   "outputs": [],
   "source": [
    "def get_tick_labels(scan_data):\n",
    "    # Get the values for tick marks incase they are needed for plotting. \n",
    "    ticks = [] \n",
    "    indicies = []\n",
    "    for i in range(len(scan_data)):\n",
    "        if i/20 == np.floor(i/20):\n",
    "            ticks.append(scan_data[i])\n",
    "            indicies.append(i)\n",
    "    \n",
    "    return(ticks)"
   ]
  },
  {
   "cell_type": "code",
   "execution_count": 6,
   "metadata": {},
   "outputs": [],
   "source": [
    "def get_scalebar(x_scan, voxel_size, ax):\n",
    "    # defines the length of the scale bar and its caption.\n",
    "    scale_bar_pixel_length = 0.1* len(x_scan)\n",
    "    scale_bar_si_length = round(scale_bar_pixel_length*voxel_size, 1)\n",
    "    \n",
    "    #Generate scale bar\n",
    "    bar = AnchoredSizeBar(ax.transData, scale_bar_pixel_length, \n",
    "                          str(scale_bar_si_length) + r'$\\mu$m', \n",
    "                          4, size_vertical = 1, pad = 0.25)\n",
    "   # Add scalebar to image\n",
    "    ax.add_artist(bar)\n",
    "    \n",
    "    return(int(scale_bar_pixel_length), scale_bar_si_length)"
   ]
  },
  {
   "cell_type": "code",
   "execution_count": 7,
   "metadata": {},
   "outputs": [],
   "source": [
    "def find_NDs(image_frame, min_dis, num_NDs):\n",
    "    # Uses the skimage package to locate the local maxima of an image. \n",
    "    nd_locations = si.peak_local_max(image_frame, min_distance = min_dis, exclude_border = True, num_peaks = num_NDs)\n",
    "    return(nd_locations)"
   ]
  },
  {
   "cell_type": "code",
   "execution_count": 8,
   "metadata": {},
   "outputs": [],
   "source": [
    "def plot_heatmap(image_frame, xticks, yticks, max_fluorescence):\n",
    "    ## This section produces a seaborn heatmap with no x and y labels or tick marks.\n",
    "\n",
    "    #generate a subpolt.\n",
    "    fig, ax = plot.subplots()\n",
    "    # change the plot text sizes. \n",
    "    sns.set(rc={'figure.figsize':(12,8)}, font_scale = 1.5)\n",
    "    # generate the heatmap \n",
    "    \n",
    "    #Code for making a cube-helix colour map\n",
    "    #cmap = sns.cubehelix_palette(start = 0.5, rot = .3, reverse = True, dark=0.3, light=1, as_cmap=True)\n",
    "    cmap = 'viridis'\n",
    "    \n",
    "    heat_map = sns.heatmap(image_frame, vmin =0 , vmax = 0.90*max_fluorescence,\n",
    "                           cbar_kws = {'label':'\\n Counts (per int time)'},\n",
    "                           xticklabels = 20, yticklabels = 20, cmap = cmap)\n",
    "    # set the tick marks for the heat map.\n",
    "    ax.set_yticklabels(yticks, rotation = 0)\n",
    "    ax.set_xticklabels(xticks, rotation = 0)\n",
    "    # set the x and y labels. \n",
    "    ax.set_ylabel('y ' + r'($\\mu$m)')\n",
    "    ax.set_xlabel('x ' + r'($\\mu$m)')\n",
    "\n",
    "    return(fig, ax)"
   ]
  },
  {
   "cell_type": "code",
   "execution_count": 13,
   "metadata": {},
   "outputs": [],
   "source": [
    "def plot_roi(nd_locs, ax, color, radius):\n",
    "    ## I have grabbed/ammended this function from: \n",
    "    # https://stackoverflow.com/questions/51672327/skimage-peak-local-max-finds-multiple-spots-in-close-proximity-due-to-image-impu\n",
    "    # I am sure that this isn't an issue for copyright/IP or anything, but better to be safe. \n",
    "\n",
    "    # This function plots all of the regions of interest onto the heatmap. \n",
    "    patches = []\n",
    "    a = 1\n",
    "    for nd in nd_locs:\n",
    "        y, x = nd\n",
    "        c = plot.Circle((x, y), radius)\n",
    "        ax.annotate('ND ' + str(a), xy = [x-2, y + 10], color = color)\n",
    "        patches.append(c)\n",
    "        a += 1\n",
    "        \n",
    "    ax.add_collection(PatchCollection(patches, facecolors = \"None\", edgecolors = color, alpha = 0.5, linewidths = 3))\n"
   ]
  },
  {
   "cell_type": "code",
   "execution_count": 38,
   "metadata": {},
   "outputs": [],
   "source": [
    "def draw_rectangle(voxel_size, ax):\n",
    "    # plots a rectangle on the graph. \n",
    "    rectangle = plot.Rectangle((15.5/voxel_size[0], 15.5/voxel_size[1]),\n",
    "                           10/voxel_size[0], 10/voxel_size[1], \n",
    "                           fill = False, ec = 'Yellow', linewidth = 2)\n",
    "    \n",
    "    plot.gca().add_patch(rectangle)\n",
    "    return(ax)"
   ]
  },
  {
   "cell_type": "code",
   "execution_count": 39,
   "metadata": {},
   "outputs": [
    {
     "data": {
      "text/plain": [
       "<matplotlib.axes._subplots.AxesSubplot at 0x1e931edf648>"
      ]
     },
     "execution_count": 39,
     "metadata": {},
     "output_type": "execute_result"
    },
    {
     "data": {
      "image/png": "[encoded data removed]",
      "text/plain": [
       "<Figure size 864x576 with 2 Axes>"
      ]
     },
     "metadata": {},
     "output_type": "display_data"
    }
   ],
   "source": [
    "# Get the location of the file of interest in the directory. \n",
    "folder_name = 'I:\\\\Science\\\\Physics-Nanobiophotonics\\\\Group\\\\User Data\\\\ODMR\\\\Thermometry\\\\'\n",
    "date = '20200124'\n",
    "file_name = folder_name + date + '\\\\' + date + '_01.dat'\n",
    "\n",
    "# Sort the image data and the meta data into different variables, extract the max fluorescence value. \n",
    "image_array, meta_data, max_fluorescence = get_data(file_name)\n",
    "# Generate arrays describing the 2D scans used to create the image. \n",
    "x_scan, y_scan, voxel_size = xy_scales(meta_data)\n",
    "# Store scan and image data into a pandas data frame. \n",
    "image_frame = two_d_meshgrid(x_scan, y_scan, image_array)\n",
    "\n",
    "# Locate the nanodiamonds within an image. \n",
    "#find_NDs(image_array, Minimum distance to check for another maxima, number of NDs to search for.)\n",
    "nd_locs = find_NDs(image_array, 3, 12)\n",
    "\n",
    "# Get labels for tick marks.\n",
    "x_ticks = get_tick_labels(x_scan)\n",
    "y_ticks = get_tick_labels(y_scan)\n",
    "\n",
    "#Plot the heatmap\n",
    "fig, ax = plot_heatmap(image_frame, x_ticks, y_ticks, max_fluorescence)\n",
    "\n",
    "# Generate and plot the scale bar.\n",
    "scale_bar_pix, scale_bar_si = get_scalebar(x_scan, voxel_size[0], ax)\n",
    "\n",
    "#Select the nanodiamonds in plot used for experiment\n",
    "#NDS = [1, 5, 8, 10, 9]\n",
    "#Plot the nanodiamonds as regions of interest. \n",
    "#plot_roi(nd_locs[NDS, :], ax, 'yellow', radius = 5)\n",
    "\n",
    "\n",
    "draw_rectangle(voxel_size, ax)\n",
    "\n",
    "\n",
    "## Could add in another funtion here that will ignore/not plot any ROI's that are over 0.8*max_fluorescence\n",
    "## This would allow us to identify the smaller nanodiamonds in a large image, excluding the brighter clusters. \n",
    "## Not really efficient though as the peak_local_max function will have already run with the maximum values present. \n",
    "## It would be nice to modify the code to have a cut off fluorescence value, where anything over x counts per int time\n",
    "## is automatically ingnored. "
   ]
  },
  {
   "cell_type": "code",
   "execution_count": 36,
   "metadata": {},
   "outputs": [],
   "source": [
    "fig.savefig('C:\\\\Users\\\\Ryan\\\\Desktop\\\\' + date + '_NDs_map1' + '.pdf')"
   ]
  },
  {
   "cell_type": "code",
   "execution_count": null,
   "metadata": {},
   "outputs": [],
   "source": []
  }
 ],
 "metadata": {
  "kernelspec": {
   "display_name": "Python 3",
   "language": "python",
   "name": "python3"
  },
  "language_info": {
   "codemirror_mode": {
    "name": "ipython",
    "version": 3
   },
   "file_extension": ".py",
   "mimetype": "text/x-python",
   "name": "python",
   "nbconvert_exporter": "python",
   "pygments_lexer": "ipython3",
   "version": "3.7.7"
  }
 },
 "nbformat": 4,
 "nbformat_minor": 4
}
