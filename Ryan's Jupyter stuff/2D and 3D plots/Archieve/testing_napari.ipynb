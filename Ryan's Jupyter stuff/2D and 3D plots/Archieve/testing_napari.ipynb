{
 "cells": [
  {
   "cell_type": "code",
   "execution_count": 1,
   "metadata": {},
   "outputs": [],
   "source": [
    "import os \n",
    "import matplotlib.pyplot as plot\n",
    "from mpl_toolkits.axes_grid1.anchored_artists import AnchoredSizeBar\n",
    "import pandas as pd\n",
    "import numpy as np "
   ]
  },
  {
   "cell_type": "code",
   "execution_count": 2,
   "metadata": {},
   "outputs": [],
   "source": [
    "def get_data(file_name):\n",
    "    with open(file_name, 'r') as array3D:\n",
    "        content = array3D.read()\n",
    "    \n",
    "    # Sort data into two variables , one with the image data (scan_array)\n",
    "    # and another with the meta data for the image. \n",
    "    scan_array = []\n",
    "    meta_data = []\n",
    "\n",
    "    lines = content.splitlines()#[6:]\n",
    "    for line in lines:\n",
    "        columns = line.split('\\t')\n",
    "        if len(columns) < 20:\n",
    "            meta_data.append(columns)\n",
    "            continue \n",
    "        scan_array.append(columns[0:len(columns)-1]) \n",
    "\n",
    "    # convert the scan_array list into a float array. \n",
    "    image_array = np.array(scan_array, dtype = np.float)\n",
    "    \n",
    "    max_fluorescence = np.max(image_array)\n",
    "    \n",
    "    return(image_array, meta_data, max_fluorescence)"
   ]
  },
  {
   "cell_type": "code",
   "execution_count": 3,
   "metadata": {},
   "outputs": [],
   "source": [
    "def xyz_scales(meta_data):\n",
    "    # Extract the XYZ scaling information from the meta_data list. \n",
    "    xyz = meta_data[10]\n",
    "    XYZscaling = np.array(xyz[0:len(xyz)-1], dtype = np.float)\n",
    "    #find the maximum scan length\n",
    "    scan_maxima = [XYZscaling[2]-XYZscaling[1], \n",
    "                   XYZscaling[5]- XYZscaling[4],\n",
    "                   XYZscaling[8]- XYZscaling[7]]\n",
    "    #find the size of each voxel/pixel\n",
    "    voxel_size = np.zeros([3])\n",
    "    for i in range(len(scan_maxima)):\n",
    "        if scan_maxima[i] == 0:\n",
    "            continue \n",
    "        else:\n",
    "            voxel_size[i] = scan_maxima[i]/int(XYZscaling[i*3+3]) \n",
    "\n",
    "    # Create the pixle arrays for both the x and y range.\n",
    "    x_scan = np.linspace(0, scan_maxima[0], int(XYZscaling[3]))\n",
    "    y_scan = np.linspace(0, scan_maxima[1], int(XYZscaling[6]))\n",
    "    z_scan = np.linspace(0, scan_maxima[2], int(XYZscaling[9]))\n",
    "\n",
    "    return(x_scan, y_scan, z_scan, voxel_size)"
   ]
  },
  {
   "cell_type": "code",
   "execution_count": 4,
   "metadata": {},
   "outputs": [],
   "source": [
    "def resize_image_data(image_array, x_d, y_d, z_d):\n",
    "    \n",
    "    image_array_3D = image_array.reshape(z_d, y_d, x_d)\n",
    "    return(image_array_3D)"
   ]
  },
  {
   "cell_type": "code",
   "execution_count": 5,
   "metadata": {},
   "outputs": [],
   "source": [
    "def create_data_frame(image_array, x_scan, y_scan, z_scan):\n",
    "    \n",
    "    # create a mesh grid fo the heatmap\n",
    "    X, Y, Z = np.meshgrid(x_scan, y_scan, z_scan)\n",
    "    # Put all the data into a pandas data frame. \n",
    "    data_array = pd.DataFrame({'x':X.ravel(), 'y':Y.ravel(), 'z':Z.ravel(), 'Counts':image_array.ravel()})\n",
    "    #the data_array needs to be pivoted to display properly in the heatmap.\n",
    "    image_frame = data_array.pivot('z', 'y', 'x','Counts')\n",
    "    return(image_frame)\n",
    "    "
   ]
  },
  {
   "cell_type": "code",
   "execution_count": 7,
   "metadata": {},
   "outputs": [
    {
     "name": "stdout",
     "output_type": "stream",
     "text": [
      "(7686, 126)\n"
     ]
    }
   ],
   "source": [
    "file_name = ('I:\\\\Science\\\\Physics-Nanobiophotonics\\\\Group\\\\User Data\\\\' + \n",
    "             'ODMR\\\\ODMR and imaging\\\\20190902\\\\20190902_01.dat')\n",
    "\n",
    "# Get the image data from the data file and the x, y and z parameters\n",
    "image_array, meta_data, max_fluorescence = get_data(file_name)\n",
    "# Generate the x, y, and z scans for the meshgrid. \n",
    "# Also generate the voxel size.\n",
    "x_scan, y_scan, z_scan, voxel_size = xyz_scales(meta_data)\n",
    "# Turn the image_array into a 3D array and then store this in a pandas data frame.\n",
    "image_array_3D = resize_image_data(image_array, len(x_scan), \n",
    "                                  len(y_scan), len(z_scan)) \n"
   ]
  },
  {
   "cell_type": "code",
   "execution_count": 7,
   "metadata": {},
   "outputs": [],
   "source": [
    "import napari"
   ]
  },
  {
   "cell_type": "code",
   "execution_count": 8,
   "metadata": {},
   "outputs": [],
   "source": [
    "# Generate a qt gui environment for napari. This is required to make napari run.\n",
    "%gui qt"
   ]
  },
  {
   "cell_type": "code",
   "execution_count": 3,
   "metadata": {},
   "outputs": [],
   "source": [
    "# This uses pandas array to generate a 3D image in napari.\n",
    "# A graphics card is required for napari.\n",
    "viewer = napari.view_image(image_array_3d)"
   ]
  },
  {
   "cell_type": "code",
   "execution_count": 9,
   "metadata": {},
   "outputs": [],
   "source": []
  },
  {
   "cell_type": "code",
   "execution_count": null,
   "metadata": {},
   "outputs": [],
   "source": []
  }
 ],
 "metadata": {
  "kernelspec": {
   "display_name": "Python 3",
   "language": "python",
   "name": "python3"
  },
  "language_info": {
   "codemirror_mode": {
    "name": "ipython",
    "version": 3
   },
   "file_extension": ".py",
   "mimetype": "text/x-python",
   "name": "python",
   "nbconvert_exporter": "python",
   "pygments_lexer": "ipython3",
   "version": "3.7.7"
  }
 },
 "nbformat": 4,
 "nbformat_minor": 4
}
