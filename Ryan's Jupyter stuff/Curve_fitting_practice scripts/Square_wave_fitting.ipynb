{
 "cells": [
  {
   "cell_type": "code",
   "execution_count": null,
   "id": "soviet-microphone",
   "metadata": {},
   "outputs": [],
   "source": []
  },
  {
   "cell_type": "code",
   "execution_count": null,
   "id": "hybrid-procedure",
   "metadata": {},
   "outputs": [],
   "source": []
  },
  {
   "cell_type": "code",
   "execution_count": null,
   "id": "placed-american",
   "metadata": {},
   "outputs": [],
   "source": []
  },
  {
   "cell_type": "code",
   "execution_count": 3,
   "id": "complex-calculator",
   "metadata": {},
   "outputs": [],
   "source": [
    "import numpy as np \n",
    "import scipy.optimize as opt \n",
    "import matplotlib.pyplot as plot \n",
    "import scipy.signal as sig"
   ]
  },
  {
   "cell_type": "code",
   "execution_count": 4,
   "id": "applied-vehicle",
   "metadata": {},
   "outputs": [],
   "source": [
    "plot.rcParams.update({'font.size' : 20})\n",
    "plot.rcParams.update({'figure.figsize' :[12, 8]})"
   ]
  },
  {
   "cell_type": "code",
   "execution_count": 5,
   "id": "atmospheric-porter",
   "metadata": {},
   "outputs": [],
   "source": [
    "def load_data(file_path): \n",
    "    # load the ODMR data file in to an np array \n",
    "    data_array = np.loadtxt(file_path)\n",
    "    return(data_array)"
   ]
  },
  {
   "cell_type": "code",
   "execution_count": 12,
   "id": "popular-asbestos",
   "metadata": {},
   "outputs": [],
   "source": [
    "def create_square_wave(x, A, B, C, D, phi):\n",
    "    # generate a sqaure wave \n",
    "    # A = amplitude, B = frequency, C = Y offset.\n",
    "    y = A*sig.square(2*np.pi*B*x + phi, duty = D) + C\n",
    "    return(y)"
   ]
  },
  {
   "cell_type": "code",
   "execution_count": 20,
   "id": "looking-potential",
   "metadata": {},
   "outputs": [],
   "source": [
    "def optimise_square(t, y, freq, duty, phase):\n",
    "    \n",
    "    p0 = [0.5*(np.max(y) - np.min(y)), freq, np.mean(y), duty, phase]\n",
    "    \n",
    "    print('Initial Guess \\n' + \n",
    "        'Amplitude = ' + str(p0[0]) + '\\n' +\n",
    "          'Frequency = ' + str(p0[1]) + '\\n' +\n",
    "          'Offset = ' + str(p0[2]) + '\\n' +\n",
    "          'Duty Cycle = ' + str(p0[3]) + '\\n' + \n",
    "          'Phase constant = ' + str(p0[4]) )\n",
    "    \n",
    "    lower_bound = [p0[0]*0.5, freq*0.99, 0, duty-0.1, -np.pi]\n",
    "    upper_bound = [p0[0]*1.5, freq*1.01, np.max(y), duty+0.1, np.pi]\n",
    "    \n",
    "    opt_params, confidence = opt.curve_fit(create_square_wave, t, y, \n",
    "                                          p0, bounds = (lower_bound, upper_bound))\n",
    "    \n",
    "    y_fit = create_square_wave(t, opt_params[0], opt_params[1], opt_params[2], \n",
    "                              opt_params[3], opt_params[4])\n",
    "    print('\\n First Pass optimisation \\n' +\n",
    "        'Amplitude = ' + str(opt_params[0]) + '\\n' +\n",
    "          'Frequency = ' + str(opt_params[1]) + '\\n' +\n",
    "          'Offset = ' + str(opt_params[2]) + '\\n' +\n",
    "          'Duty Cycle = ' + str(opt_params[3]) + '\\n' + \n",
    "          'Phase constant = ' + str(opt_params[4]) )\n",
    "          \n",
    "    return(y_fit)"
   ]
  },
  {
   "cell_type": "code",
   "execution_count": 14,
   "id": "patent-lecture",
   "metadata": {},
   "outputs": [],
   "source": [
    "def find_phase_constant(y, sample_frequnecy, freq):\n",
    "    \n",
    "    points = int(sample_frequnecy/freq)\n",
    "    mean_counts = np.mean(y)\n",
    "    ratio = []\n",
    "    \n",
    "    for i in range(points):\n",
    "        if y[i] > mean_counts:\n",
    "            ratio.append(1)\n",
    "        else:\n",
    "            ratio.append(0)\n",
    "    ratio = np.array(ratio)\n",
    "    find_indicies = np.where(ratio==1)[0]\n",
    "    print(find_indicies)\n",
    "    index = []\n",
    "    \n",
    "    for i in range(len(find_indicies)-1):\n",
    "        if find_indicies[i]+1 != find_indicies[i+1]:\n",
    "            index.append(i+1)\n",
    "    \n",
    "    if index == []:\n",
    "        index.append(find_indicies[0])\n",
    "    print(index)\n",
    "    phase_constant_guess = (index[0]*(np.pi))/points\n",
    "    \n",
    "    return(phase_constant_guess)"
   ]
  },
  {
   "cell_type": "code",
   "execution_count": 15,
   "id": "negative-truck",
   "metadata": {},
   "outputs": [],
   "source": [
    "# load in square wave data\n",
    "\n",
    "data = load_data('I:\\\\Science\\\\Physics-Nanobiophotonics\\\\Group\\\\User Data\\\\ODMR\\\\ODMR and imaging\\\\20201211\\\\20201211_NVScan_03.dat')\n",
    "square_wave = data[0,0:100]"
   ]
  },
  {
   "cell_type": "code",
   "execution_count": 18,
   "id": "geographic-humanity",
   "metadata": {},
   "outputs": [],
   "source": [
    "points = len(square_wave)\n",
    "dwelltime = 10**-4 #s\n",
    "\n",
    "sample_frequnecy = 10000\n",
    "\n",
    "duty = 0.5\n",
    "\n",
    "time = np.linspace(0, points*dwelltime, points)\n",
    "freq = 1000 # hertz \n",
    "\n",
    "#y_fit = optimise_square(time, square_wave, freq, duty, phase = 0)"
   ]
  },
  {
   "cell_type": "code",
   "execution_count": 21,
   "id": "satisfactory-impossible",
   "metadata": {},
   "outputs": [
    {
     "name": "stdout",
     "output_type": "stream",
     "text": [
      "[0 1 2 3 8 9]\n",
      "[4]\n",
      "1.2566370614359172\n",
      "Initial Guess \n",
      "Amplitude = 49.5\n",
      "Frequency = 1000\n",
      "Offset = 76.01\n",
      "Duty Cycle = 0.5\n",
      "Phase constant = 1.2566370614359172\n",
      "\n",
      " First Pass optimisation \n",
      "Amplitude = 24.750000017755273\n",
      "Frequency = 1000.0\n",
      "Offset = 76.00999972769335\n",
      "Duty Cycle = 0.5\n",
      "Phase constant = 1.2566370614359172\n"
     ]
    },
    {
     "data": {
      "text/plain": [
       "[<matplotlib.lines.Line2D at 0x271a0957dc8>]"
      ]
     },
     "execution_count": 21,
     "metadata": {},
     "output_type": "execute_result"
    },
    {
     "data": {
      "image/png": "[encoded data removed]",
      "text/plain": [
       "<Figure size 864x576 with 1 Axes>"
      ]
     },
     "metadata": {
      "needs_background": "light"
     },
     "output_type": "display_data"
    }
   ],
   "source": [
    "plot.scatter(time, square_wave, marker = 'x', color = 'k')\n",
    "#plot.plot(time, y_fit, color = 'r')\n",
    "\n",
    "phi_guess = find_phase_constant(square_wave, sample_frequnecy, freq)\n",
    "\n",
    "y_fit_2 = optimise_square(time, square_wave, freq, duty, phase = phi_guess)\n",
    "\n",
    "plot.plot(time, y_fit_2, color = 'b')"
   ]
  },
  {
   "cell_type": "code",
   "execution_count": 129,
   "id": "tamil-virtue",
   "metadata": {},
   "outputs": [],
   "source": [
    "time = np.linspace(0, 10, 100)\n",
    "f = 1\n",
    "phi = 0#np.pi/2"
   ]
  },
  {
   "cell_type": "code",
   "execution_count": 130,
   "id": "australian-stockholm",
   "metadata": {},
   "outputs": [],
   "source": [
    "def square_approx(t, f, phi):\n",
    "    \n",
    "    y = []\n",
    "    for i in range (10):\n",
    "        denom = 2*(i+1)-1\n",
    "        y.append((4/np.pi)*(np.sin(2*np.pi*denom*f*t + phi)/denom))\n",
    "            \n",
    "    y = np.array(y)\n",
    "    y = np.sum(y, axis = 0)\n",
    "    return(y)"
   ]
  },
  {
   "cell_type": "code",
   "execution_count": 131,
   "id": "described-double",
   "metadata": {},
   "outputs": [
    {
     "data": {
      "text/plain": [
       "[<matplotlib.lines.Line2D at 0x135780e4188>]"
      ]
     },
     "execution_count": 131,
     "metadata": {},
     "output_type": "execute_result"
    },
    {
     "data": {
      "image/png": "[encoded data removed]",
      "text/plain": [
       "<Figure size 432x288 with 1 Axes>"
      ]
     },
     "metadata": {
      "needs_background": "light"
     },
     "output_type": "display_data"
    }
   ],
   "source": [
    "y = square_approx(time, f, phi)\n",
    "\n",
    "plot.plot(time, y)"
   ]
  },
  {
   "cell_type": "code",
   "execution_count": null,
   "id": "atlantic-beaver",
   "metadata": {},
   "outputs": [],
   "source": []
  },
  {
   "cell_type": "code",
   "execution_count": null,
   "id": "august-tumor",
   "metadata": {},
   "outputs": [],
   "source": []
  }
 ],
 "metadata": {
  "kernelspec": {
   "display_name": "Python 3",
   "language": "python",
   "name": "python3"
  },
  "language_info": {
   "codemirror_mode": {
    "name": "ipython",
    "version": 3
   },
   "file_extension": ".py",
   "mimetype": "text/x-python",
   "name": "python",
   "nbconvert_exporter": "python",
   "pygments_lexer": "ipython3",
   "version": "3.7.7"
  }
 },
 "nbformat": 4,
 "nbformat_minor": 5
}
