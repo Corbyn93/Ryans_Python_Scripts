{
 "cells": [
  {
   "cell_type": "code",
   "execution_count": null,
   "metadata": {},
   "outputs": [],
   "source": []
  },
  {
   "cell_type": "code",
   "execution_count": 1,
   "metadata": {},
   "outputs": [],
   "source": [
    "import numpy as np \n",
    "import pandas as pd \n",
    "import matplotlib.pyplot as plot \n",
    "import scipy.optimize as opt\n",
    "import os"
   ]
  },
  {
   "cell_type": "code",
   "execution_count": 2,
   "metadata": {},
   "outputs": [],
   "source": [
    "def load_data(file_path): \n",
    "    # load the ODMR data file in to an np array \n",
    "    data_array = np.loadtxt(file_path)\n",
    "    return(data_array)"
   ]
  },
  {
   "cell_type": "code",
   "execution_count": 3,
   "metadata": {},
   "outputs": [],
   "source": [
    "def load_params(file_path):\n",
    "    # load in the params data. \n",
    "    params_data = pd.read_table(file_path, names = ['Parameter name', 'Parameter value']) \n",
    "    return(params_data)"
   ]
  },
  {
   "cell_type": "code",
   "execution_count": 4,
   "metadata": {},
   "outputs": [],
   "source": [
    "def create_freq_scan(start, stop, step_size):\n",
    "    # takes the scan parameters from the params data file. \n",
    "    step_size_GHz = step_size/1000\n",
    "    number_of_steps = int((stop-start)/step_size_GHz)+1\n",
    "    freq = np.linspace(start, stop, number_of_steps)\n",
    "    return(freq)"
   ]
  },
  {
   "cell_type": "code",
   "execution_count": 5,
   "metadata": {},
   "outputs": [],
   "source": [
    " def set_plot_params():\n",
    "    # formats the plot parameters \n",
    "    plot.rcParams.update({'font.size' : 20})\n",
    "    plot.rcParams.update({'figure.figsize' :[12, 8]})"
   ]
  },
  {
   "cell_type": "code",
   "execution_count": 6,
   "metadata": {},
   "outputs": [],
   "source": [
    "def plot_heat_map(freq, odmr_data, dwell_time):\n",
    "    # plot the full ODMR data as a heatmap. \n",
    "    number_of_scans = len(odmr_data)\n",
    "    Y = np.linspace(1, number_of_scans, number_of_scans) \n",
    "    \n",
    "    fig1, ax1 = plot.subplots()\n",
    "    \n",
    "    hm = ax1.pcolormesh(freq, Y, odmr_data[:,0:len(freq)], cmap = 'viridis')\n",
    "    fig1.colorbar(hm, label = '\\ncounts per ' + str(np.around(dwell_time*10**6)) + r' $\\mu$s')\n",
    "    ax1.set_xlim(np.min(freq),np.max(freq))\n",
    "    ax1.set_xticks(np.arange(np.min(freq), np.max(freq), 0.05))\n",
    "    ax1.set_xlabel('Microwave Frequency (GHz)')\n",
    "    ax1.set_ylabel('Number of scans')\n",
    "    ax1.set_title('Heat map of all ODMR data')\n",
    "    \n",
    "    return(fig1, ax1)"
   ]
  },
  {
   "cell_type": "code",
   "execution_count": 7,
   "metadata": {},
   "outputs": [],
   "source": [
    "def demodulate_signal(odmr_data, mod_freq, dwell_time):\n",
    "    # For lock-in detection to work, I am going to need to demodulate the \n",
    "    # signal recorded by multiplying it by a sine wave with a frequency of mod_freq.\n",
    "    # This is done using the whole line scan, so phase error can creep in. \n",
    "    time = np.arange(0, dwell_time*(len(odmr_data[1,:])), dwell_time)\n",
    "    p0 = [np.mean(odmr_data), mod_freq, np.pi/4, 0]\n",
    "    x, y = odmr_data.shape\n",
    "    demod_signal = pd.DataFrame()\n",
    "    \n",
    "    for i in range(len(odmr_data)):\n",
    "        mod_signal_params, confidence = opt.curve_fit(sine_curve, time, odmr_data[i,:], p0)\n",
    "        mod_signal = sine_curve(time, 1, mod_signal_params[1],\n",
    "                        mod_signal_params[2], 0)\n",
    "        \n",
    "        demod_signal[str(i)] = pd.Series(odmr_data[i,:]*mod_signal)\n",
    "    \n",
    "    print(mod_signal_params)\n",
    "    #fig2, ax2 = plot.subplots()\n",
    "    #ax2.plot(time[0:100], odmr_data[1,0:100])\n",
    "    #ax2.plot(time[0:100], mod_signal[0:100])\n",
    "    return(demod_signal)"
   ]
  },
  {
   "cell_type": "code",
   "execution_count": 18,
   "metadata": {},
   "outputs": [],
   "source": [
    "def demod_LPF_signal_2_edit(odmr_data, mod_freq, microwave_dwell_time, pixel_dwell_time):\n",
    "    # I am going to try and correct for the phase error that will arise as a result \n",
    "    # of not having the AOM and the microwave generator synched up properly.\n",
    "    # To account for this, I need to perform a sine curve fit to all the data within a \n",
    "    # single microwave frequnecy and then stitch this data together in the end.  \n",
    "    \n",
    "    x, y  = odmr_data.shape # get the shape of the ODMR variable.\n",
    "    time = np.arange(0, pixel_dwell_time*(y), pixel_dwell_time) # a time array value\n",
    "    p0 = [np.mean(odmr_data), mod_freq, 0, np.mean(odmr_data)/2] # initial parameter\n",
    "    point_per_microwave_freq = int(microwave_dwell_time/pixel_dwell_time) # How many pixel values per microwave frequency. \n",
    "    y_reduced = int((y-1)/point_per_microwave_freq) # Get the size of the microwave frequnecy array. \n",
    "    lpf_signal = np.zeros([y_reduced, x]) # create the low pass filter variable.  \n",
    "    phase = np.zeros([y_reduced, x]) # create the low pass filter variable.\n",
    "    \n",
    "    for j in range(x): # len(x)\n",
    "        for i in range(y_reduced):\n",
    "            a = (i+0)*point_per_microwave_freq\n",
    "            b= ((i+1)*point_per_microwave_freq)-1\n",
    "            # fit a sine curve to the microwave frequency data.\n",
    "            mod_signal_params, confidence = opt.curve_fit(sine_curve, time[a:b], \n",
    "                                                          odmr_data[j, a:b], p0) \n",
    "            mod_signal = sine_curve(time[a:b], 1, mod_signal_params[1], \n",
    "                                    mod_signal_params[2], 0) # create the modulation sine wave. \n",
    "\n",
    "            \n",
    "            demod_signal = odmr_data[j,a:b]*mod_signal # Demodulate the signal\n",
    "             # Low pass filter (averaging) and normalise it. \n",
    "            lpf_signal[i,j] = np.sqrt(np.power(np.mean(demod_signal),2)) \n",
    "#            phase[i,j] = mod_signal_params[2]\n",
    "            \n",
    "#            if phase[i,j] > np.pi:\n",
    "#                while phase[i,j] > np.pi:\n",
    "#                    phase[i,j] = phase[i,j] - np.pi\n",
    "#            if phase[i,j] < -np.pi:\n",
    "#                while phase[i,j] <-np.pi:\n",
    "#                    phase[i,j] = phase[i,j] + np.pi\n",
    "                    \n",
    "#    fig3, ax3 = plot.subplots()\n",
    "#    t = np.linspace(2.75, 3.00, y_reduced)\n",
    "#    ax3.scatter(t, phase[:,1])\n",
    "#    ax3.set_xlabel('Frequency (GHz)')\n",
    "#    ax3.set_ylabel('Phase (Radians)')\n",
    "#    ax3.set_title('Sine fitting phase for each microwave frequency\\nvs applied microwave frequnecy')\n",
    "    return(lpf_signal)"
   ]
  },
  {
   "cell_type": "code",
   "execution_count": 9,
   "metadata": {},
   "outputs": [],
   "source": [
    "def sine_curve(x, A, f, phi, C):\n",
    "    # generates a sine curve with a phase offset. \n",
    "    # A = amaplitude, f = frequency, phi = phase offest , C = y offset\n",
    "    y = A*np.sin(2*np.pi*f*x+phi) + C\n",
    "    return(y)"
   ]
  },
  {
   "cell_type": "code",
   "execution_count": 10,
   "metadata": {},
   "outputs": [],
   "source": [
    "def low_pass_filter(demod_signal, mod_freq, microwave_dwell_time, pixel_dwell_time):\n",
    "    \n",
    "    # Average over a number of data points to recover the ODMR signal. \n",
    "    average_points = int(microwave_dwell_time/pixel_dwell_time)\n",
    "    lpf_odmr = pd.DataFrame()\n",
    "    averaged_data = []\n",
    "    for i in range(demod_signal.shape[1]):\n",
    "        try:\n",
    "            intensity = demod_signal[i]\n",
    "        except: \n",
    "            intensity = demod_signal[str(i)]\n",
    "        for j in range(int(len(intensity)/average_points)):\n",
    "            averaged_data.append(np.mean(intensity[average_points*j:average_points*j+(average_points-1)]))\n",
    "            averaged_data2 = np.sqrt(np.power(averaged_data,2))\n",
    "        lpf_odmr[str(i)] = pd.Series(averaged_data2)\n",
    "        averaged_data = [] \n",
    "    return(lpf_odmr)"
   ]
  },
  {
   "cell_type": "code",
   "execution_count": 35,
   "metadata": {},
   "outputs": [],
   "source": [
    "def plot_lpf_signal(start_freq, stop_freq, dwell_time, lpf_odmr,  total_scans): \n",
    "    # Plot the demodulated signal as a scatter graph.\n",
    "    \n",
    "    mean_lpf_odmr = lpf_odmr.mean(axis = 1)\n",
    "    freq = np.linspace(start_freq, stop_freq, len(mean_lpf_odmr))\n",
    "    \n",
    "    fig2, ax2 = plot.subplots()\n",
    "    ax2.scatter(freq, mean_lpf_odmr, marker = 'x', color = 'k',\n",
    "               label = 'Lock-in ODMR data')\n",
    "    ax2.set_xlabel('Microwave Frequency (GHz)')\n",
    "    ax2.set_ylabel('Counts (per ' + str(round(((dwell_time*10**(6))/2),3)) + r' $\\mu$s)')\n",
    "    ax2.set_title('Lock-in ODMR signal,\\nLinescans = ' + str(total_scans))\n",
    "    ax2.legend(loc = 'lower left')\n",
    "    \n",
    "   # lock_in_data = pd.DataFrame([freq, mean_lpf_odmr], columns = ['Frequency (GHz)', 'Lock-in Signal (counts per '+ str(round((dwell_time/2),3)) + r' $\\mu$s)'])\n",
    "    \n",
    "    return(fig2, ax2, freq)"
   ]
  },
  {
   "cell_type": "code",
   "execution_count": 12,
   "metadata": {},
   "outputs": [],
   "source": [
    "def drift_check_plot(lpf_odmr, dwell_time):\n",
    "    # create a plot of the average fluorescence intensity recorded per \n",
    "    # line-scan to check for drift in the sample. \n",
    "    \n",
    "    mean_fluorescence_per_line = lpf_odmr.mean(axis = 0)\n",
    "    scan_array = np.arange(0, len(mean_fluorescence_per_line), 1)\n",
    "    fig3, ax3 = plot.subplots()\n",
    "    ax3.scatter(scan_array, mean_fluorescence_per_line, marker = 'x', \n",
    "               color='k', label='mean fluorescence \\nintensity per line scan')\n",
    "    ax3.set_xlabel('Line Scan number')\n",
    "    ax3.set_title('Fluorescent intensity drift over line scans')\n",
    "    ax3.set_ylabel('Counts (per ' + str(round((dwell_time/2),3)) + r' $\\mu$s)')\n",
    "    ax3.legend(loc='lower left')\n",
    "    return(fig3, ax3)"
   ]
  },
  {
   "cell_type": "code",
   "execution_count": 23,
   "metadata": {},
   "outputs": [],
   "source": [
    "def save_data(date, file_ID, frequency, intensity, dwell_time, fig1, fig2, fig3):\n",
    "    \n",
    "    #destination_folder = 'H:\\\\My Documents\\\\Strathclyde_Back_up\\\\Graphs_and_analysis\\\\ODMR\\\\' + date + '\\\\' +'Lock_in_adaptive\\\\'\n",
    "    destination_folder = 'I:\\\\Science\\\\Physics-Nanobiophotonics\\\\Group\\\\User Data Analysis\\\\Ryans Data (2018-2021)\\\\ODMR\\\\' + date + '\\\\' +'Lock_in_adaptive\\\\'\n",
    "    output_data_file = destination_folder + file_ID + '_averaged_results_lock_in.dat'\n",
    "    \n",
    "    # Checking to see if the folder exists in which to save the data, and creating it if it does not\n",
    "    if not os.path.exists(destination_folder):\n",
    "        os.makedirs(destination_folder)\n",
    "        # Checking the output file exists and creating and initialising it if not\n",
    "    \n",
    "    if os.path.isfile(output_data_file) == False:\n",
    "        with open(output_data_file, \"w\") as wf:\n",
    "            wf.write('Frequency (GHz)' + '\\t' + 'Counts (per ' + str(round((dwell_time/2),3)) + r' $\\mu$s)' + '\\n')\n",
    "    # Writing contrast dip description to the .dat file\n",
    "    \n",
    "    for i in range(len(frequency)):\n",
    "        with open(output_data_file, \"a\") as wf:\n",
    "            wf.write(str(frequency[i]) + \" \\t\"  + str(intensity[i]) + \" \\n\")\n",
    "        \n",
    "    # Saving a plot of the raw data to a folder. \n",
    "    fig1.savefig(destination_folder + '_plot' + file_ID + '_lock_in_' +'_Heat_Map' + '.png')\n",
    "    fig1.savefig(destination_folder + '_plot' + file_ID + '_lock_in_' +'_Heat_Map' + '.pdf')\n",
    "\n",
    "    fig2.savefig(destination_folder + '_plot' + file_ID + '_Lock-in_scatter' + '.png')\n",
    "    fig2.savefig(destination_folder + '_plot' + file_ID + '_Lock-in_scatter' + '.pdf')\n",
    "\n",
    "    fig3.savefig(destination_folder + '_plot' + file_ID + '_lock_in_drift' + '.png')\n",
    "    fig3.savefig(destination_folder + '_plot' + file_ID + '_lock_in_drift' + '.pdf')"
   ]
  },
  {
   "cell_type": "code",
   "execution_count": 37,
   "metadata": {},
   "outputs": [
    {
     "name": "stderr",
     "output_type": "stream",
     "text": [
      "<ipython-input-6-249b8f03de5e>:8: MatplotlibDeprecationWarning: shading='flat' when X and Y have the same dimensions as C is deprecated since 3.3.  Either specify the corners of the quadrilaterals with X and Y, or pass shading='auto', 'nearest' or 'gouraud', or set rcParams['pcolor.shading'].  This will become an error two minor releases later.\n",
      "  hm = ax1.pcolormesh(freq, Y, odmr_data[:,0:len(freq)], cmap = 'viridis')\n"
     ]
    },
    {
     "ename": "IndexError",
     "evalue": "only integers, slices (`:`), ellipsis (`...`), numpy.newaxis (`None`) and integer or boolean arrays are valid indices",
     "output_type": "error",
     "traceback": [
      "\u001b[1;31m---------------------------------------------------------------------------\u001b[0m",
      "\u001b[1;31mIndexError\u001b[0m                                Traceback (most recent call last)",
      "\u001b[1;32m<ipython-input-10-223c754a9833>\u001b[0m in \u001b[0;36mlow_pass_filter\u001b[1;34m(demod_signal, mod_freq, microwave_dwell_time, pixel_dwell_time)\u001b[0m\n\u001b[0;32m      8\u001b[0m         \u001b[1;32mtry\u001b[0m\u001b[1;33m:\u001b[0m\u001b[1;33m\u001b[0m\u001b[1;33m\u001b[0m\u001b[0m\n\u001b[1;32m----> 9\u001b[1;33m             \u001b[0mintensity\u001b[0m \u001b[1;33m=\u001b[0m \u001b[0mdemod_signal\u001b[0m\u001b[1;33m[\u001b[0m\u001b[0mi\u001b[0m\u001b[1;33m]\u001b[0m\u001b[1;33m\u001b[0m\u001b[1;33m\u001b[0m\u001b[0m\n\u001b[0m\u001b[0;32m     10\u001b[0m         \u001b[1;32mexcept\u001b[0m\u001b[1;33m:\u001b[0m\u001b[1;33m\u001b[0m\u001b[1;33m\u001b[0m\u001b[0m\n",
      "\u001b[1;31mIndexError\u001b[0m: index 10 is out of bounds for axis 0 with size 10",
      "\nDuring handling of the above exception, another exception occurred:\n",
      "\u001b[1;31mIndexError\u001b[0m                                Traceback (most recent call last)",
      "\u001b[1;32m<ipython-input-37-745299a3016a>\u001b[0m in \u001b[0;36m<module>\u001b[1;34m\u001b[0m\n\u001b[0;32m     29\u001b[0m     \u001b[1;31m#print(odmr_data.shape)\u001b[0m\u001b[1;33m\u001b[0m\u001b[1;33m\u001b[0m\u001b[1;33m\u001b[0m\u001b[0m\n\u001b[0;32m     30\u001b[0m     \u001b[1;31m#mean_odmr = np.mean(odmr_data, axis = 0)\u001b[0m\u001b[1;33m\u001b[0m\u001b[1;33m\u001b[0m\u001b[1;33m\u001b[0m\u001b[0m\n\u001b[1;32m---> 31\u001b[1;33m     \u001b[0mlpf_odmr\u001b[0m \u001b[1;33m=\u001b[0m \u001b[0mlow_pass_filter\u001b[0m\u001b[1;33m(\u001b[0m\u001b[0modmr_data\u001b[0m\u001b[1;33m,\u001b[0m \u001b[0mmod_freq\u001b[0m\u001b[1;33m,\u001b[0m \u001b[0mmicrowave_dwell_time\u001b[0m\u001b[1;33m,\u001b[0m \u001b[0mpixel_dwell_time\u001b[0m\u001b[1;33m)\u001b[0m\u001b[1;33m\u001b[0m\u001b[1;33m\u001b[0m\u001b[0m\n\u001b[0m\u001b[0;32m     32\u001b[0m \u001b[1;32melse\u001b[0m\u001b[1;33m:\u001b[0m\u001b[1;33m\u001b[0m\u001b[1;33m\u001b[0m\u001b[0m\n\u001b[0;32m     33\u001b[0m     \u001b[1;31m# demodulate the signal\u001b[0m\u001b[1;33m\u001b[0m\u001b[1;33m\u001b[0m\u001b[1;33m\u001b[0m\u001b[0m\n",
      "\u001b[1;32m<ipython-input-10-223c754a9833>\u001b[0m in \u001b[0;36mlow_pass_filter\u001b[1;34m(demod_signal, mod_freq, microwave_dwell_time, pixel_dwell_time)\u001b[0m\n\u001b[0;32m      9\u001b[0m             \u001b[0mintensity\u001b[0m \u001b[1;33m=\u001b[0m \u001b[0mdemod_signal\u001b[0m\u001b[1;33m[\u001b[0m\u001b[0mi\u001b[0m\u001b[1;33m]\u001b[0m\u001b[1;33m\u001b[0m\u001b[1;33m\u001b[0m\u001b[0m\n\u001b[0;32m     10\u001b[0m         \u001b[1;32mexcept\u001b[0m\u001b[1;33m:\u001b[0m\u001b[1;33m\u001b[0m\u001b[1;33m\u001b[0m\u001b[0m\n\u001b[1;32m---> 11\u001b[1;33m             \u001b[0mintensity\u001b[0m \u001b[1;33m=\u001b[0m \u001b[0mdemod_signal\u001b[0m\u001b[1;33m[\u001b[0m\u001b[0mstr\u001b[0m\u001b[1;33m(\u001b[0m\u001b[0mi\u001b[0m\u001b[1;33m)\u001b[0m\u001b[1;33m]\u001b[0m\u001b[1;33m\u001b[0m\u001b[1;33m\u001b[0m\u001b[0m\n\u001b[0m\u001b[0;32m     12\u001b[0m         \u001b[1;32mfor\u001b[0m \u001b[0mj\u001b[0m \u001b[1;32min\u001b[0m \u001b[0mrange\u001b[0m\u001b[1;33m(\u001b[0m\u001b[0mint\u001b[0m\u001b[1;33m(\u001b[0m\u001b[0mlen\u001b[0m\u001b[1;33m(\u001b[0m\u001b[0mintensity\u001b[0m\u001b[1;33m)\u001b[0m\u001b[1;33m/\u001b[0m\u001b[0maverage_points\u001b[0m\u001b[1;33m)\u001b[0m\u001b[1;33m)\u001b[0m\u001b[1;33m:\u001b[0m\u001b[1;33m\u001b[0m\u001b[1;33m\u001b[0m\u001b[0m\n\u001b[0;32m     13\u001b[0m             \u001b[0maveraged_data\u001b[0m\u001b[1;33m.\u001b[0m\u001b[0mappend\u001b[0m\u001b[1;33m(\u001b[0m\u001b[0mnp\u001b[0m\u001b[1;33m.\u001b[0m\u001b[0mmean\u001b[0m\u001b[1;33m(\u001b[0m\u001b[0mintensity\u001b[0m\u001b[1;33m[\u001b[0m\u001b[0maverage_points\u001b[0m\u001b[1;33m*\u001b[0m\u001b[0mj\u001b[0m\u001b[1;33m:\u001b[0m\u001b[0maverage_points\u001b[0m\u001b[1;33m*\u001b[0m\u001b[0mj\u001b[0m\u001b[1;33m+\u001b[0m\u001b[1;33m(\u001b[0m\u001b[0maverage_points\u001b[0m\u001b[1;33m-\u001b[0m\u001b[1;36m1\u001b[0m\u001b[1;33m)\u001b[0m\u001b[1;33m]\u001b[0m\u001b[1;33m)\u001b[0m\u001b[1;33m)\u001b[0m\u001b[1;33m\u001b[0m\u001b[1;33m\u001b[0m\u001b[0m\n",
      "\u001b[1;31mIndexError\u001b[0m: only integers, slices (`:`), ellipsis (`...`), numpy.newaxis (`None`) and integer or boolean arrays are valid indices"
     ]
    },
    {
     "data": {
      "image/png": "[encoded data removed]",
      "text/plain": [
       "<Figure size 864x576 with 2 Axes>"
      ]
     },
     "metadata": {
      "needs_background": "light"
     },
     "output_type": "display_data"
    }
   ],
   "source": [
    "#######\n",
    " # This portion of the code produced the ODMR data plotting and the double lorentz fitting and \n",
    " # Saves this data into a text file and the 2 plots generated. \n",
    "#######\n",
    "\n",
    "# Load in the data file into an np array, and freqeuncy scan parameters \n",
    "# into a pandas array.\n",
    "folder_path = 'I:\\\\Science\\\\Physics-Nanobiophotonics\\\\Group\\\\User Data\\\\ODMR\\\\ODMR and imaging\\\\'\n",
    "date = '20201125'\n",
    "file_name = date + '_NVScan_12'\n",
    "\n",
    "odmr_data = load_data(folder_path + date + '\\\\' + file_name + '.dat')\n",
    "params_file = load_params(folder_path + date + '\\\\' + file_name + 'Params.dat')\n",
    "params_values = params_file['Parameter value']\n",
    "\n",
    "# Create the freqeuncy scan array. \n",
    "freq = create_freq_scan(params_values[0], params_values[1], params_values[2])\n",
    "\n",
    "# plot a colour map of the ODMR data and set plot format for the program. \n",
    "set_plot_params()\n",
    "\n",
    "pixel_dwell_time = params_values[3]*10**(-6) # Pixel Dwell time in microseconds\n",
    "microwave_dwell_time = params_values[6]*10**(-6) # Microwave Dwell time in microseconds\n",
    "mod_freq = params_values[7] # AOM modulation frequnecy.\n",
    "\n",
    "fig1, ax1 = plot_heat_map(freq, odmr_data, pixel_dwell_time)\n",
    "\n",
    "if mod_freq == 0:\n",
    "    lpf_odmr = pd.DataFrame(np.transpose(odmr_data))\n",
    "else:\n",
    "    # demodulate the signal\n",
    "    lpf_odmr = demod_LPF_signal_2_edit(odmr_data, mod_freq, microwave_dwell_time, pixel_dwell_time)\n",
    "\n",
    "### Perform Low-pass filtering (averaging)\n",
    "#lpf_odmr = low_pass_filter(demod_odmr, mod_freq, microwave_dwell_time, pixel_dwell_time)\n",
    "print(lpf_odmr.shape)\n",
    "fig2, ax2, freq = plot_lpf_signal(params_values[0], params_values[1], pixel_dwell_time, lpf_odmr, params_values[4])\n",
    "\n",
    "fig3, ax3 = drift_check_plot(lpf_odmr, pixel_dwell_time*10**(6))\n",
    "\n",
    "#save_data(date, file_name, freq, lpf_odmr.mean(axis = 1), pixel_dwell_time*10**(6), fig1, fig2, fig3)"
   ]
  },
  {
   "cell_type": "code",
   "execution_count": 32,
   "metadata": {},
   "outputs": [
    {
     "name": "stdout",
     "output_type": "stream",
     "text": [
      "41.57173026157908\n"
     ]
    }
   ],
   "source": [
    "print(mean_odmr)"
   ]
  },
  {
   "cell_type": "code",
   "execution_count": null,
   "metadata": {},
   "outputs": [],
   "source": []
  },
  {
   "cell_type": "code",
   "execution_count": null,
   "metadata": {},
   "outputs": [],
   "source": []
  }
 ],
 "metadata": {
  "kernelspec": {
   "display_name": "Python 3",
   "language": "python",
   "name": "python3"
  },
  "language_info": {
   "codemirror_mode": {
    "name": "ipython",
    "version": 3
   },
   "file_extension": ".py",
   "mimetype": "text/x-python",
   "name": "python",
   "nbconvert_exporter": "python",
   "pygments_lexer": "ipython3",
   "version": "3.9.0"
  }
 },
 "nbformat": 4,
 "nbformat_minor": 4
}
