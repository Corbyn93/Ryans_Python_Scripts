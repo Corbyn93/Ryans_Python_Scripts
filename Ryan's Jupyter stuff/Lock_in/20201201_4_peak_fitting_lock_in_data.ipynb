{
 "cells": [
  {
   "cell_type": "markdown",
   "metadata": {},
   "source": [
    "Created: 01/12/2020\n",
    "Author: Ryan Corbyn \n",
    "\n",
    "Edited: Date, Name \n",
    "\n",
    "\n",
    "This code is designed to plot the mean lock-in amplification ODMR line scan data. \n",
    "From here, a curve-fit is applied to the data and the parameters of the curve fit are saved in the same folder location as the lock-in data. \n"
   ]
  },
  {
   "cell_type": "code",
   "execution_count": 3,
   "metadata": {},
   "outputs": [],
   "source": [
    "import pandas as pd \n",
    "import numpy as np \n",
    "import matplotlib.pyplot as plot\n",
    "import os \n",
    "import scipy.optimize as opt"
   ]
  },
  {
   "cell_type": "code",
   "execution_count": 4,
   "metadata": {},
   "outputs": [],
   "source": [
    "def get_data(file_location):\n",
    "    # Gets the data from the folder location and saves it to a pandas \n",
    "    # Data frame. \n",
    "    \n",
    "    data = pd.read_table(file_location)\n",
    "    return(data)"
   ]
  },
  {
   "cell_type": "code",
   "execution_count": 5,
   "metadata": {},
   "outputs": [],
   "source": [
    "def set_plot_params():\n",
    "    # formats the plot parameters \n",
    "    plot.rcParams.update({'font.size' : 20})\n",
    "    plot.rcParams.update({'figure.figsize' :[12, 8]})"
   ]
  },
  {
   "cell_type": "code",
   "execution_count": 6,
   "metadata": {},
   "outputs": [],
   "source": [
    "def normalise_data(mean_odmr_data):\n",
    "    # normalise the data to the maximum value of the mean dataset. \n",
    "    norm_odmr_data = mean_odmr_data/(np.mean(mean_odmr_data[0:50]))\n",
    "    return(norm_odmr_data)"
   ]
  },
  {
   "cell_type": "code",
   "execution_count": 7,
   "metadata": {},
   "outputs": [],
   "source": [
    "def scatter_plot(freq, mean_data):\n",
    "    # Creates a scatter plot for experimental data and plot parameters. \n",
    "    fig2, ax2 = plot.subplots()\n",
    "    plot.rcParams.update({'font.size' : 16})\n",
    "    plot.rcParams.update({'figure.figsize' :[12, 8]})\n",
    "    ax2.scatter(freq, mean_data, marker = 'x',color = 'r', label = \"ODMR Data\")\n",
    "    ax2.set_xlim(np.min(freq),np.max(freq))\n",
    "    return(fig2, ax2)"
   ]
  },
  {
   "cell_type": "code",
   "execution_count": 8,
   "metadata": {},
   "outputs": [],
   "source": [
    "def get_init_params(odmr_data, freq):\n",
    "    # find the minima of the ODMR spectra and ODMR dip contrast and \n",
    "    # flourenscent baseline.\n",
    "    half_data_length = int((len(freq)-1)/2)\n",
    "    \n",
    "    #find the indices for the lowest frequency value\n",
    "    low_freq_min_index = np.where(odmr_data[0:half_data_length] == np.min(odmr_data[0:half_data_length]))\n",
    "    high_freq_min_index = np.where(odmr_data[half_data_length:len(odmr_data)-1] == \n",
    "                                   np.min(odmr_data[half_data_length:len(odmr_data)-1]))\n",
    "   \n",
    "    # frequencies corresponding to ODMR minima\n",
    "    freq_mins = [np.float(freq[low_freq_min_index[0]]),\n",
    "                 np.float(freq[high_freq_min_index[0]+half_data_length])]\n",
    "    \n",
    "    # manually set frequencies. \n",
    "    \n",
    "    #freq_mins = [2.78, 2.96]\n",
    "    \n",
    "    flourescent_baseline = np.mean(odmr_data)\n",
    "    \n",
    "    # approximate contrast for ODMR peaks\n",
    "    contrast = [np.float((1-odmr_data[low_freq_min_index[0]]/flourescent_baseline)), \n",
    "                np.float((1-odmr_data[high_freq_min_index[0]+half_data_length]/flourescent_baseline))]\n",
    "\n",
    "    return(freq_mins, contrast, flourescent_baseline)"
   ]
  },
  {
   "cell_type": "code",
   "execution_count": 17,
   "metadata": {},
   "outputs": [],
   "source": [
    "def optimised_lorentz_fit(freq, mean_data, init_params):\n",
    "    # A method to find the fitting prameters for the ODMR dataset. \n",
    "    y_error = np.sqrt(mean_data) # poissonian noise\n",
    "    try:\n",
    "        coeffs, confidence = opt.curve_fit(quad_lorentz, freq, mean_data, init_params, sigma = y_error)\n",
    "        opt_error = np.sqrt(np.diag(confidence))\n",
    "    except:\n",
    "        coeffs = []\n",
    "        opt_error = []\n",
    "        for i in range(len(init_params)):\n",
    "            coeffs.append(0)\n",
    "            opt_error.append(0)\n",
    "    \n",
    "    return(coeffs, opt_error)"
   ]
  },
  {
   "cell_type": "code",
   "execution_count": null,
   "metadata": {},
   "outputs": [],
   "source": []
  },
  {
   "cell_type": "code",
   "execution_count": 10,
   "metadata": {},
   "outputs": [],
   "source": [
    "def quad_lorentz(x, A1, X01, sig1, A2, X02, sig2, A3, X03, sig3, A4, X04, sig4, offset): \n",
    "    #P0[0], P0[1], P0[2], P0[3], P0[4], P0[5], P0[6]):\n",
    "    # A1 = Amplitude 1, X01 = Resonance 1, sig1 = FWHM 1\n",
    "    # A2 = Amplitude 2, X02 = Resonance 2, sig2 = FWHM 2, offset = offset\n",
    "    \n",
    "    first_peak = (A1/np.pi)*((sig1**2)/(sig1**2 +(2*x-2*X01)**2))\n",
    "    second_peak = (A2/np.pi)*((sig2**2)/(sig2**2 +(2*x-2*X02)**2))\n",
    "    third_peak = (A3/np.pi)*((sig3**2)/(sig3**2 +(2*x-2*X03)**2))\n",
    "    forth_peak = (A4/np.pi)*((sig4**2)/(sig4**2 +(2*x-2*X04)**2))\n",
    "\n",
    "    return (first_peak + second_peak + third_peak + forth_peak + offset)"
   ]
  },
  {
   "cell_type": "code",
   "execution_count": 11,
   "metadata": {},
   "outputs": [],
   "source": [
    "def plot_fitting(ax2, freq, y_fit):\n",
    "    # plot the y fit. \n",
    "    \n",
    "    ax2.plot(freq, y_fit, color='k', label='Double Lorentz \\nfitting')\n",
    "    ax2.legend()\n",
    "    ax2.set_xlabel('Microwave Frequency (GHz)', fontsize = 18)\n",
    "    ax2.set_ylabel('Normalised Counts', fontsize = 18)\n",
    "    \n",
    "    return(ax2)"
   ]
  },
  {
   "cell_type": "code",
   "execution_count": 12,
   "metadata": {},
   "outputs": [],
   "source": [
    "def get_r_squared(x, y_data, y_fitting):\n",
    "    # This is a function used to generate the goodness of fit metric r^2.\n",
    "    # This value will be used to judge the effectiveness of the curve fitting \n",
    "    # used to find the resonant frequencies of the NV centre.\n",
    "    \n",
    "    y_data_mean = np.mean(y_data)\n",
    "    SStot = np.sum((y_data - y_data_mean)**2) # Find the variation in experimental y values.\n",
    "    SSres = np.sum((y_data - y_fitting)**2) # Find the variation betweem the experimental and fitted y values. \n",
    "    \n",
    "    r_squared = 1 - (SSres/SStot) # Calculate R^2\n",
    "    \n",
    "    return(r_squared)"
   ]
  },
  {
   "cell_type": "code",
   "execution_count": 1,
   "metadata": {},
   "outputs": [],
   "source": [
    "def get_chi_squared(y_data, y_fit):\n",
    "    # calculate the chi squared value for the goodness of \n",
    "    # fit for the Lorentz curve. \n",
    "    \n",
    "    chi_squared_array = []\n",
    "    for i in range(len(y_data)):\n",
    "        chi_squared_array.append(np.power(y_data[i]-y_fit[i],2)/y_fit[i])\n",
    "    \n",
    "    chi_squared = np.sum(chi_squared_array)\n",
    "    print(chi_squared)\n",
    "    return(chi_squared)"
   ]
  },
  {
   "cell_type": "code",
   "execution_count": 2,
   "metadata": {},
   "outputs": [],
   "source": [
    "def get_RMS_error(y_data, y_fit):\n",
    "    # Calculate the RMS error for the fitting vs the actual ODMR data (y_data). \n",
    "    \n",
    "    rms_error = np.sqrt(np.sum(np.power(y_data-y_fit,2))/len(y_data))\n",
    "    print(rms_error)\n",
    "    return(rms_error)"
   ]
  },
  {
   "cell_type": "code",
   "execution_count": 13,
   "metadata": {},
   "outputs": [],
   "source": [
    "def get_fitting_contrast(res_freq1, res_freq2, res_freq3, res_freq4, freq, y_fit, baseline, step):\n",
    "    \n",
    "    step = str(step/1000) # step size in GHz and string\n",
    "    decimals = step[::-1].find('.') # find the number of decimal points in the steps. \n",
    "    \n",
    "    first_freq_min_index = (np.abs(freq-round(res_freq1, decimals))).argmin()\n",
    "    second_freq_min_index =(np.abs(freq-round(res_freq2, decimals))).argmin()\n",
    "    third_freq_min_index =(np.abs(freq-round(res_freq3, decimals))).argmin()\n",
    "    forth_freq_min_index =(np.abs(freq-round(res_freq4, decimals))).argmin()\n",
    "\n",
    "    contrast = [(baseline - y_fit[first_freq_min_index])/baseline, \n",
    "                (baseline - y_fit[second_freq_min_index])/baseline,\n",
    "                (baseline - y_fit[third_freq_min_index])/baseline,\n",
    "                (baseline - y_fit[forth_freq_min_index])/baseline]\n",
    "    \n",
    "    return(contrast)"
   ]
  },
  {
   "cell_type": "code",
   "execution_count": 26,
   "metadata": {},
   "outputs": [],
   "source": [
    "def save_data(date, file_ID, nd, fitted_contrast, coeffs, opt_error, r_squared, fig1, fig2):\n",
    "    \n",
    "    destination_folder = 'I:\\\\Science\\\\Physics-Nanobiophotonics\\\\Group\\\\User Data Analysis\\\\Ryans Data (2018-2021)\\\\ODMR\\\\20201117\\\\Lock_in\\\\'\n",
    "    output_data_file = destination_folder + date + '_NVScan_double_peak_analysis.dat'\n",
    "    \n",
    "    # Checking to see if the folder exists in which to save the data, and creating it if it does not\n",
    "    if not os.path.exists(destination_folder):\n",
    "        os.makedirs(destination_folder)\n",
    "        # Checking the output file exists and creating and initialising it if not\n",
    "    \n",
    "    if os.path.isfile(output_data_file) == False:\n",
    "        with open(output_data_file, \"w\") as wf:\n",
    "            wf.write('File name' +  '\\t' + 'ND' + '\\t' +\n",
    "                     'Resonant frequency 1 (GHz)' + '\\t' + 'Error Resonant frequency 1 (GHz)' + '\\t' + \n",
    "                     'Resonant frequency 1 contrast (%)' + '\\t' + \n",
    "                     'FWHM 1 (MHz)' + '\\t' + 'FWHM 1 error (MHz)' + '\\t' + \n",
    "                     'Resonant frequency 2 (GHz)' + '\\t' + 'Error Resonant frequency 2 (GHz)' + '\\t' + \n",
    "                     'Resonant frequency2 contrast (%)' + '\\t' + \n",
    "                     'FWHM 2 (MHz)' + '\\t' + 'FWHM 2 error (MHz)' + '\\t' + \n",
    "                     'Off Res Fluorescence intensity (per dwell time)' + '\\t' +'R^2 for fitting' +'\\n')\n",
    "    # Writing contrast dip description to the .dat file\n",
    "    \n",
    "    with open(output_data_file, \"a\") as wf:\n",
    "        wf.write(file_ID + ' \\t' +  str(nd) + '\\t' +\n",
    "                 str(coeffs[1]) + \" \\t\"  + str(opt_error[1]) + \" \\t\" + \n",
    "                 str(fitted_contrast[0]*100) + \" \\t\"  +  \n",
    "                 str(abs(coeffs[2])*1000) + \" \\t\" + str(opt_error[2]*1000) + \" \\t\" + \n",
    "                 str(coeffs[4]) + \" \\t\"  + str(opt_error[4]) + \" \\t\" + \n",
    "                 str(fitted_contrast[1]*100) + \" \\t\" +\n",
    "                 str(abs(coeffs[5])*1000) + \" \\t\" + str(opt_error[5]*1000) + \" \\t\" + \n",
    "                 str(coeffs[6]) + \" \\t\" +str(r_squared) + '\\n')\n",
    "        \n",
    "    # Saving a plot of the raw data to a folder. \n",
    "    fig1.savefig(destination_folder + file_ID + '_heatmap.pdf', transparent = True)    \n",
    "    fig1.savefig(destination_folder + file_ID + '_heatmap.png', transparent = True) \n",
    "    \n",
    "    fig2.savefig(destination_folder + file_ID + '.pdf', transparent = True)    \n",
    "    fig2.savefig(destination_folder + file_ID + '.png', transparent = True) \n",
    "    "
   ]
  },
  {
   "cell_type": "code",
   "execution_count": 25,
   "metadata": {},
   "outputs": [
    {
     "name": "stdout",
     "output_type": "stream",
     "text": [
      "0.7367729808259496\n",
      "[1.0114011246741843, 1.0114011246741843, 1.0114011246741843, 1.0114011246741843]\n"
     ]
    },
    {
     "name": "stderr",
     "output_type": "stream",
     "text": [
      "<ipython-input-17-4d1187dc764a>:6: RuntimeWarning: invalid value encountered in sqrt\n",
      "  opt_error = np.sqrt(np.diag(confidence))\n"
     ]
    },
    {
     "data": {
      "image/png": "[encoded data removed]",
      "text/plain": [
       "<Figure size 864x576 with 1 Axes>"
      ]
     },
     "metadata": {
      "needs_background": "light"
     },
     "output_type": "display_data"
    }
   ],
   "source": [
    "# The main script.\n",
    "# Set the file and folder locations.\n",
    "folder_location = 'I:\\\\Science\\\\Physics-Nanobiophotonics\\\\Group\\\\User Data Analysis\\\\Ryans Data (2018-2021)\\\\ODMR\\\\20201117\\\\Lock_in\\\\'\n",
    "date = '20201117'\n",
    "file_name = '20201117_NVScan_13_lock_in_averaged_results'\n",
    "\n",
    "# Set the plot parameters\n",
    "set_plot_params()\n",
    "\n",
    "# Get the data from the file. \n",
    "data_frame = get_data(folder_location + file_name + '.dat')\n",
    "freq = data_frame['Frequency (GHz)']\n",
    "step = np.round(freq[2]-freq[1], 5)\n",
    "intensity = data_frame.iloc[:,1]\n",
    "\n",
    "# Normalise the dataset\n",
    "#norm_mean_odmr = normalise_data(intensity)\n",
    "norm_mean_odmr = intensity\n",
    "\n",
    "# Plot the data\n",
    "fig1, ax1 = scatter_plot(freq, intensity)\n",
    "\n",
    "# find the freqeuncy points with the highest ODMR contrast\n",
    "freq_mins, contrast, flourescent_baseline = get_init_params(norm_mean_odmr, freq)\n",
    "\n",
    "# create the initial parameters for ODMR double lorentzian \n",
    "# line fitting\n",
    "#init_params = [contrast[0], freq_mins[0], 0.001, -90, freq_mins[1], 0.01, flourescent_baseline]\n",
    "init_params = [contrast[0], 2.835, 0.001, contrast[1], 2.86, 0.001, \n",
    "               contrast[0], 2.88, 0.001, contrast[1], 2.89, 0.001, flourescent_baseline]\n",
    "\n",
    "# generate the optimised curve fit parameters. \n",
    "fitting_params, error_in_fit = optimised_lorentz_fit(freq, norm_mean_odmr, init_params)\n",
    "\n",
    "# create the double lorentz fit array\n",
    "if fitting_params[1] == 0:\n",
    "    y_fit = 0\n",
    "    fitted_contrast = [0, 0]\n",
    "else:\n",
    "    y_fit = quad_lorentz(freq, fitting_params[0], fitting_params[1], fitting_params[2], \n",
    "                  fitting_params[3], fitting_params[4], fitting_params[5], \n",
    "                     fitting_params[6], fitting_params[7], fitting_params[8],\n",
    "                     fitting_params[9], fitting_params[10], fitting_params[11], fitting_params[12])\n",
    "\n",
    "    # plot the fitting to ax1\n",
    "    ax1 = plot_fitting(ax1, freq, y_fit)\n",
    "    # get the r^2 value for the fitting \n",
    "    r_squared = get_r_squared(freq, norm_mean_odmr, y_fit)\n",
    "    print(r_squared)\n",
    "    fitted_contrast = get_fitting_contrast(fitting_params[1], fitting_params[4], fitting_params[7], fitting_params[10],\n",
    "                                       freq, y_fit,  \n",
    "                                       fitting_params[12], step)\n",
    "    print(fitted_contrast)\n",
    "    \n",
    "    chi_squared = get_chi_squared(norm_mean_odmr/np.mean(norm_mean_odmr), y_fit/np.mean(y_fit))\n",
    "    rms_error = get_RMS_error(norm_mean_odmr/np.mean(norm_mean_odmr), y_fit/np.mean(y_fit))\n",
    "    \n",
    "#save_data(date, file_name, nd, fitted_contrast, fitting_params, error_in_fit, r_squared, fig1, fig2)"
   ]
  },
  {
   "cell_type": "code",
   "execution_count": 19,
   "metadata": {},
   "outputs": [
    {
     "name": "stdout",
     "output_type": "stream",
     "text": [
      "0.001\n"
     ]
    }
   ],
   "source": [
    "print(step)"
   ]
  },
  {
   "cell_type": "code",
   "execution_count": null,
   "metadata": {},
   "outputs": [],
   "source": []
  }
 ],
 "metadata": {
  "kernelspec": {
   "display_name": "Python 3",
   "language": "python",
   "name": "python3"
  },
  "language_info": {
   "codemirror_mode": {
    "name": "ipython",
    "version": 3
   },
   "file_extension": ".py",
   "mimetype": "text/x-python",
   "name": "python",
   "nbconvert_exporter": "python",
   "pygments_lexer": "ipython3",
   "version": "3.9.0"
  }
 },
 "nbformat": 4,
 "nbformat_minor": 4
}
