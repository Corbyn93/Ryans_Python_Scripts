{
 "cells": [
  {
   "cell_type": "markdown",
   "metadata": {},
   "source": [
    "This is a script that can be used to analyse the results of a 4 point thermometry experiment. \n",
    "\n",
    "The way this script works is: \n",
    "1. Load the linear fit data used to determine the 4 frequencies that will be used for thermometry. \n",
    "2. Load in the thermometry data as a pandas data frame. \n",
    "3. Load in the Params data and determine get the length of time the experiment wa performed for. (Important to note that currently we do not save the 4 frequencies used in this experiment. Just a 4 step freqeuncy scan with arbitrary frequency values.)\n",
    "4. Determine the mean fluorescent intensity and the standard deviation for the 4 frequency points. \n",
    "5. Find the temperature change from the initial temperature that the full CW ODMR measurement was recoreded for both the mean data and for the individual line scans. \n",
    "6. I can reverse this process to find the change in resonant frequnecy with temperature. This is done by recording change in the resonant frequnecy over a known shift in temperature. \n",
    "7. Print/save the mean temperature change for the measurement in the text file with the file name and the associated error (standard deviation).\n",
    "8. Plot the change in temperature over the time of a full 4 point experiment and save as .png and .pdf."
   ]
  },
  {
   "cell_type": "code",
   "execution_count": 1,
   "metadata": {},
   "outputs": [],
   "source": [
    "import numpy as np \n",
    "import scipy \n",
    "import matplotlib.pyplot as plot \n",
    "import pandas as pd "
   ]
  },
  {
   "cell_type": "code",
   "execution_count": 51,
   "metadata": {},
   "outputs": [],
   "source": [
    "def get_initial_data(folder_ID, file_ID):\n",
    "    # get the information from the datafile and save it in a Pandas data frame. \n",
    "    # Values of the gradient and y intercept for the position and negative gradients \n",
    "    # from the linear fit to the ODMR array are then saved within an np array. \n",
    "    # The fluorescence intensity offset and frequency step (delta omega) are also extracted. \n",
    "    initial_df = pd.read_table(folder_ID + file_ID)\n",
    "    linear_fit_data = []\n",
    "    linear_fit_data.append([float(initial_df.values[1]), float(initial_df.values[3])])\n",
    "    linear_fit_data.append([float(initial_df.values[6]), float(initial_df.values[8])])\n",
    "    linear_fit_data = np.array(linear_fit_data)\n",
    "   \n",
    "    intensity_offset = float(initial_df.values[16])\n",
    "    delta_omega = float(initial_df.values[11])\n",
    "    \n",
    "    return(linear_fit_data, intensity_offset, delta_omega)"
   ]
  },
  {
   "cell_type": "code",
   "execution_count": null,
   "metadata": {},
   "outputs": [],
   "source": [
    "def get_four_point_data(folder_ID, file_ID):\n",
    "    # get the data from the four point themometry data file and save into an np array. \n",
    "    thermometry_data = np.loadtxt(folder_ID + file_ID)\n",
    "    return(thermometry_data)"
   ]
  },
  {
   "cell_type": "code",
   "execution_count": 47,
   "metadata": {},
   "outputs": [],
   "source": [
    "def normalise_data(data_set):\n",
    "    # normalises the data_set to the mean off resonant fluorescence intensty. \n",
    "    # Assumes that the off resonant frequnecy is applied first. \n",
    "    \n",
    "    off_res_signal = np.mean(data_set[:,0])\n",
    "    normailised_data = data_set/off_res_signal\n",
    "    \n",
    "    return(normalised_data)"
   ]
  },
  {
   "cell_type": "code",
   "execution_count": null,
   "metadata": {},
   "outputs": [],
   "source": [
    "def mean_data(data_set):\n",
    "    # find the mean values for each of the frequencies in the given data set\n",
    "    \n",
    "    mean_data = np.mean(data_set[1:len(data_set, axis = 1), :], axis = 0)\n",
    "    standard_deviation = np.std(data_set[1:len(data_set, axis = 1), :], dtype=np.float64)\n",
    "    \n",
    "    return(mean_data, standard_deviation)"
   ]
  },
  {
   "cell_type": "code",
   "execution_count": 52,
   "metadata": {},
   "outputs": [],
   "source": [
    "def find_delta_T(four_point_data, flourescence_offset, delta_omega, dD_by_dT):\n",
    "    # determine the change in temperature from the resonant frequency of the NV centre. \n",
    "    \n",
    "    point = len(four_point_data, axis = 0)\n",
    "    dT = np.zeros([1,points])\n",
    "    for i in range(points):\n",
    "        numerator = (four_point_data[1] + four_point_data[2]) - (four_point_data[3] + four_point_data[4])\n",
    "        denominator = (four_point_data[1] - four_point_data[2]) - (four_point_data[3] - four_point_data[4])\n",
    "        fraction = numerator/denominator\n",
    "        dT(i) = detla_omega*np.power(dD_by_dT, -1)*(fraction)\n",
    "    \n",
    "    return(dT)"
   ]
  },
  {
   "cell_type": "code",
   "execution_count": null,
   "metadata": {},
   "outputs": [],
   "source": [
    "def find_dD_by_dT(four_point_data, flourescence_offset, delta_omega, dT):\n",
    "    # determine the change in temperature from the resonant frequency of the NV centre. \n",
    "    \n",
    "    point = len(four_point_data, axis = 0)\n",
    "    dD_by_dT = np.zeros([1,points])\n",
    "    for i in range(points):\n",
    "        numerator = (four_point_data[1] + four_point_data[2]) - (four_point_data[3] + four_point_data[4])\n",
    "        denominator = (four_point_data[1] - four_point_data[2]) - (four_point_data[3] - four_point_data[4])\n",
    "        fraction = numerator/denominator\n",
    "        dD_by_dT(i) = (detla_omega*fraction)/dT\n",
    "    \n",
    "    return(dD_by_dT)"
   ]
  },
  {
   "cell_type": "code",
   "execution_count": 54,
   "metadata": {},
   "outputs": [],
   "source": [
    "def get_scan_time(params_file):\n",
    "    # Using the params data file, I can get the time for each line scan. \n",
    "    params_df = pd.read_table(folder_ID + file_ID)\n",
    "    dwell_time = params_df.values[3]\n",
    "    scan_repeats = params_df.values[4]\n",
    "    \n",
    "    time_for_scan = np.linspace(0, dwell_time*5*scan_repeats, scan_repeats)\n",
    "    return(time_for_scan)"
   ]
  },
  {
   "cell_type": "code",
   "execution_count": 57,
   "metadata": {},
   "outputs": [],
   "source": [
    "def plot_dt_vs_time(time, dT):\n",
    "    # plot the change in temperature with time. \n",
    "    fig, ax = plot.subplots()\n",
    "    plot.time(time, dT, label= r'measured $\\delta$T')\n",
    "    plot.legend\n",
    "    return(fig, ax)"
   ]
  },
  {
   "cell_type": "code",
   "execution_count": 60,
   "metadata": {},
   "outputs": [],
   "source": [
    "def save_dT_data(file_ID, mean_dT, dT_std, fig):\n",
    "    # Save the data for the measurement of the change in temperature meaasured by 4 point themrometry. \n",
    "    \n",
    "    destination_folder = 'H:\\\\My Documents\\\\Strathclyde_Back_up\\\\Graphs_and_analysis\\\\Thermometry\\\\' + date + '\\\\'\n",
    "    output_data_file = destination_folder + date + '_4_point_dT_analysis.dat'\n",
    "    # Checking to see if the folder exists in which to save the data, and creating it if it does not\n",
    "    if not os.path.exists(destination_folder):\n",
    "        os.makedirs(destination_folder)\n",
    "        # Checking the output file exists and creating and initialising it if not\n",
    "    if os.path.isfile(output_data_file) == False:\n",
    "        with open(output_data_file, \"w\") as wf:\n",
    "            wf.write('File name' +  ', \\t' + 'mean dT (K)' + '\\t' + 'std(dT) (K)' +'\\n')\n",
    "    # Writing contrast dip description to the .dat file\n",
    "    \n",
    "    with open(output_data_file, \"a\") as wf:\n",
    "        wf.write(file_ID + ' \\t' +  str(mean_dT) + \" \\t\"  + str(dT_std) + '\\n')\n",
    "    # Saving a plot of the raw data to a folder. \n",
    "    plot.savefig(destination_folder + file_ID + '.pdf', transparent = True)    \n",
    "    plot.savefig(destination_folder + file_ID + '.png', transparent = True) \n",
    "    "
   ]
  },
  {
   "cell_type": "code",
   "execution_count": null,
   "metadata": {},
   "outputs": [],
   "source": [
    "def save_dD_by_dT_data(file_ID, mean_dD_by_dT, dD_by_dT_std, fig):\n",
    "    # Save the data for the measurement of the change in temperature meaasured by 4 point themrometry. \n",
    "    \n",
    "    destination_folder = 'H:\\\\My Documents\\\\Strathclyde_Back_up\\\\Graphs_and_analysis\\\\Thermometry\\\\' + date + '\\\\'\n",
    "    output_data_file = destination_folder + date + '_4_point_dD_by_dT_analysis.dat'\n",
    "    # Checking to see if the folder exists in which to save the data, and creating it if it does not\n",
    "    if not os.path.exists(destination_folder):\n",
    "        os.makedirs(destination_folder)\n",
    "        # Checking the output file exists and creating and initialising it if not\n",
    "    if os.path.isfile(output_data_file) == False:\n",
    "        with open(output_data_file, \"w\") as wf:\n",
    "            wf.write('File name' +  ', \\t' + 'mean dD_by_dT (K)' + '\\t' + 'std(dD_by_dT) (K)' +'\\n')\n",
    "    # Writing contrast dip description to the .dat file\n",
    "    \n",
    "    with open(output_data_file, \"a\") as wf:\n",
    "        wf.write(file_ID + ' \\t' +  str(mean_dD_by_dT) + \" \\t\"  + str(dD_by_dT_std) + '\\n')\n",
    "        \n",
    "    # Saving a plot of the raw data to a folder. --- Not sure if I need the folllowing figures\n",
    "    #plot.savefig(destination_folder + file_ID + '_4_point_time_trace.pdf', transparent = True)    \n",
    "    #plot.savefig(destination_folder + file_ID + '_4_point_time_trace.png', transparent = True) "
   ]
  },
  {
   "cell_type": "code",
   "execution_count": 53,
   "metadata": {},
   "outputs": [
    {
     "ename": "NameError",
     "evalue": "name 'get_four_point_data' is not defined",
     "output_type": "error",
     "traceback": [
      "\u001b[1;31m---------------------------------------------------------------------------\u001b[0m",
      "\u001b[1;31mNameError\u001b[0m                                 Traceback (most recent call last)",
      "\u001b[1;32m<ipython-input-53-d9069c76db66>\u001b[0m in \u001b[0;36m<module>\u001b[1;34m\u001b[0m\n\u001b[0;32m     13\u001b[0m \u001b[0mfour_point_file_ID\u001b[0m \u001b[1;33m=\u001b[0m \u001b[1;34m'20200916_NVScan_01.dat'\u001b[0m\u001b[1;33m\u001b[0m\u001b[1;33m\u001b[0m\u001b[0m\n\u001b[0;32m     14\u001b[0m \u001b[1;33m\u001b[0m\u001b[0m\n\u001b[1;32m---> 15\u001b[1;33m \u001b[0mfour_point_data\u001b[0m \u001b[1;33m=\u001b[0m \u001b[0mget_four_point_data\u001b[0m\u001b[1;33m(\u001b[0m\u001b[0mfour_point_folder_ID\u001b[0m\u001b[1;33m,\u001b[0m \u001b[0mfour_point_file_ID\u001b[0m\u001b[1;33m)\u001b[0m\u001b[1;33m\u001b[0m\u001b[1;33m\u001b[0m\u001b[0m\n\u001b[0m\u001b[0;32m     16\u001b[0m \u001b[1;33m\u001b[0m\u001b[0m\n\u001b[0;32m     17\u001b[0m \u001b[1;31m# normailise data to the off resonant signal.\u001b[0m\u001b[1;33m\u001b[0m\u001b[1;33m\u001b[0m\u001b[1;33m\u001b[0m\u001b[0m\n",
      "\u001b[1;31mNameError\u001b[0m: name 'get_four_point_data' is not defined"
     ]
    }
   ],
   "source": [
    "# First we have to decide if we are doing a calibration of the NV thermometer, or a\n",
    "# temperature measurement. \n",
    "#dD_by_dt = ??? # Temeprature measurement: what is the known change in res frequency with temperature. \n",
    "dt = 2 # Calibration: What is the change in temperauture from the original measurement (in Kelvin). \n",
    "\n",
    "\n",
    "# Get the data from the initial CW ODMR measurement used to get the 4 frequency points used. \n",
    "init_folder_ID = 'H:\\\\My Documents\\\\Strathclyde_Back_up\\\\Graphs_and_analysis\\\\Thermometry\\\\20200916\\\\'\n",
    "date = '20200916'\n",
    "init_file_ID = '20200916_NVScan_06_4_point_thermometry_fitting' +'.dat'\n",
    "\n",
    "linear_fit_data, intensity_offset, delta_omega = get_initial_data(init_folder_ID, init_file_ID)\n",
    "\n",
    "# get the data from the 4 point temperture measurement data file. \n",
    "four_point_folder_ID = 'I:\\\\Science\\\\Physics-Nanobiophotonics\\\\Group\\\\User Data\\\\ODMR\\\\ODMR and imaging\\\\20200916\\\\'\n",
    "four_point_file_ID = '20200916_NVScan_01'\n",
    "\n",
    "four_point_data = get_four_point_data(four_point_folder_ID, four_point_file_ID + '.dat')\n",
    "\n",
    "# normailise data to the off resonant signal. \n",
    "normalised_four_point_data = normalise_data(four_point_data)\n",
    "\n",
    "## mean of normalised 4 point thermometry data\n",
    "#mean_four_point_data = mean_data(normalised_four_point_data)\n",
    "\n",
    "# find change in temperature for each line scan\n",
    "dT = find_delta_T(normalised_four_point_data, flourescence_offset, delta_omega, dD_by_dT)\n",
    "\n",
    "# find the change in resonant frequnecy by temperature. \n",
    "dD_by_dT = find_dD_by_dT(normalised_four_point_data, flourescence_offset, delta_omega, dT)\n",
    "\n",
    "# The mean value for temperature change and the standard deviation across the measurement. \n",
    "mean_dT, dT_std = mean_data(dT)\n",
    "\n",
    "# find the mean value and the standard deviation for dD_by_dT across the four point measurement. \n",
    "mean_dD_by_dT, dD_by_dT_std = mean_data(dD_by_dT)\n",
    "\n",
    "# Get the length of time for the full four point scan. \n",
    "scan_time_array = get_scan_time(four_point_folder_ID + four_point_file_ID + 'Params.dat')\n",
    "\n",
    "fig, ax = plot_dt_vs_time(scan_time_array, dT)\n",
    "\n",
    "# Save the data into a text file.\n",
    "save_dT_data(file_ID, mean_dT, dT_std, fig)\n",
    "save_dD_by_dT_data(file_ID, mean_dD_by_dT, dD_by_dT_std, fig)"
   ]
  },
  {
   "cell_type": "code",
   "execution_count": null,
   "metadata": {},
   "outputs": [],
   "source": []
  }
 ],
 "metadata": {
  "kernelspec": {
   "display_name": "Python 3",
   "language": "python",
   "name": "python3"
  },
  "language_info": {
   "codemirror_mode": {
    "name": "ipython",
    "version": 3
   },
   "file_extension": ".py",
   "mimetype": "text/x-python",
   "name": "python",
   "nbconvert_exporter": "python",
   "pygments_lexer": "ipython3",
   "version": "3.7.7"
  }
 },
 "nbformat": 4,
 "nbformat_minor": 4
}
