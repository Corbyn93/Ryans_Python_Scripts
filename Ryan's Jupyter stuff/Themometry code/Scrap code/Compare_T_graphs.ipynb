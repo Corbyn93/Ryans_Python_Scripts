{
 "cells": [
  {
   "cell_type": "code",
   "execution_count": 2,
   "metadata": {},
   "outputs": [],
   "source": [
    "import numpy as np \n",
    "import scipy.optimize as opt\n",
    "import matplotlib.pyplot as plot\n",
    "import os"
   ]
  },
  {
   "cell_type": "code",
   "execution_count": 25,
   "metadata": {},
   "outputs": [],
   "source": [
    "def load_data(folder_path, date, file_ID):\n",
    "    \n",
    "    \n",
    "    file_name = folder_path + file_ID \n",
    "    # Load data from file and perfrom a mean of the value. \n",
    "    data = np.loadtxt(file_name + '.dat')\n",
    "    \n",
    "    mean_data = np.mean(data, axis=0)\n",
    "    # load data from params file. \n",
    "    params_file = folder_path + file_ID + 'Params' + '.dat'\n",
    "    params = np.loadtxt(params_file, delimiter = '\\t', usecols = 1)\n",
    "    \n",
    "    start = params[0]\n",
    "    stop = params[1]\n",
    "#   step = params[2]*0.001\n",
    "    no_of_steps = len(mean_data)\n",
    "   \n",
    "    # Creates a variable containing the applied frequencies. \n",
    "    if start < stop:\n",
    "        freq = np.linspace(start, stop, no_of_steps)\n",
    "    else:\n",
    "        freq = np.linspace(stop, start, no_of_steps)\n",
    "        mean_data = mean_data[::-1]\n",
    "    \n",
    "    mean_data = mean_data/np.mean(mean_data[0:20])\n",
    "    \n",
    "    return(freq, mean_data, data)   "
   ]
  },
  {
   "cell_type": "code",
   "execution_count": 4,
   "metadata": {},
   "outputs": [],
   "source": [
    "def scatter_plot(freq,mean_data):\n",
    "    # Creates a scatter plot for experimental data and plot parameters. \n",
    "    fig, ax = plot.subplots()\n",
    "    plot.rcParams.update({'font.size' : 16})\n",
    "    plot.rcParams.update({'figure.figsize' :[12, 8]})\n",
    "    ax.scatter(freq, mean_data, marker = 'x',color = 'r', label = \"Experiment Data\")\n",
    "    \n",
    "    return(fig, ax)"
   ]
  },
  {
   "cell_type": "code",
   "execution_count": 27,
   "metadata": {},
   "outputs": [],
   "source": [
    "def Analysis(freq, mean_data):    \n",
    "    end_point = int(len(mean_data))\n",
    "    #   Determines the mean fluorescenet baseline signal. \n",
    "    fluor_baseline = np.mean(mean_data[int(np.floor(0.9*end_point)):end_point])\n",
    "    fluor_min = np.min(mean_data)\n",
    "\n",
    "    # First guesses for the curve fittings\n",
    "#    A = (fluor_min-fluor_baseline)*0.1\n",
    "#    x0 = 2.89\n",
    "#    gamma = 0.001\n",
    "#    offset = fluor_baseline\n",
    "#    A2 = (fluor_min-fluor_baseline)*0.1\n",
    "#    x02 = 2.86\n",
    "#    gamma2 = 0.001\n",
    "\n",
    "    A = 1\n",
    "    x0 = 2.89\n",
    "    gamma = 0.001\n",
    "    offset = 1 \n",
    "    A2 = 1\n",
    "    x02 = 2.86\n",
    "    gamma2 = 0.001\n",
    "\n",
    "\n",
    "#    P1 = [A, x0, gamma, offset]\n",
    "    P2 = [A, x0, gamma, A2, x02, gamma2, offset]\n",
    "   \n",
    "#    x, y, opt_error, contrast, contrast_error = single_peak(freq, mean_data, P1)\n",
    "    analysis = multi_peak(freq, mean_data, P2)\n",
    "\n",
    "    return(analysis)"
   ]
  },
  {
   "cell_type": "code",
   "execution_count": 6,
   "metadata": {},
   "outputs": [],
   "source": [
    "def single_peak(freq, mean_data, P1):\n",
    "    # Apply curve fitting optimisation \n",
    "#    coeffs, confidence = opt.curve_fit(gaussian, freq, mean_data, P1)    \n",
    "    coeffs, confidence = opt.curve_fit(lorentz, freq, mean_data, P1)\n",
    "    opt_error = np.sqrt(np.diag(confidence))\n",
    "    \n",
    "    x = np.linspace(np.min(freq), np.max(freq), 1000)\n",
    "    # Generate fit. \n",
    "#    y = gaussian(x, coeffs[0], coeffs[1], coeffs[2], coeffs[3])\n",
    "    y = lorentz(x, coeffs[0], coeffs[1], coeffs[2], coeffs[3])  \n",
    "    \n",
    "    contrast = (1-(np.min(mean_data)/coeffs[4]))*100\n",
    "    contrast_error = (np.sqrt(coeffs[4])/coeffs[4])*contrast\n",
    "\n",
    "    return(x, y, coeffs, opt_error, contrast, contrast_error)"
   ]
  },
  {
   "cell_type": "code",
   "execution_count": 22,
   "metadata": {},
   "outputs": [],
   "source": [
    "def multi_peak(freq, mean_data, P2):\n",
    "    # Apply curve fitting optimisation \n",
    "#    coeffs, confidence = opt.curve_fit(gaussian_2, freq, mean_data, P0)\n",
    "    coeffs, confidence = opt.curve_fit(lorentz_2, freq, mean_data, P2)\n",
    "    opt_error = np.sqrt(np.diag(confidence))\n",
    "    \n",
    "    x = np.linspace(np.min(freq), np.max(freq), 1000)\n",
    "    y = gaussian_2(x, coeffs[0], coeffs[1], coeffs[2], coeffs[3],coeffs[4], coeffs[5], coeffs[6])\n",
    "#    y = lorentz_2(x, coeffs[0], coeffs[1], coeffs[2], coeffs[3], coeffs[4], coeffs[5], coeffs[6])\n",
    "   \n",
    "    #caculate applied B field\\zero field splitting        \n",
    "    hbar = 6.62*10**(-34)\n",
    "    MuB = 9.24*10**(-24)\n",
    "    ge = 2.002  \n",
    "    \n",
    "    splitting = (coeffs[4]-coeffs[1])*1000 \n",
    "    print(splitting)\n",
    "    B_Field = (splitting*10**6*hbar)/(2*ge*MuB)\n",
    "    print(B_Field)\n",
    "    \n",
    "    contrast = (1-(np.min(mean_data)/coeffs[6]))*100\n",
    "    contrast_error = (np.sqrt(coeffs[6])/coeffs[6])*contrast\n",
    "    \n",
    "    return([x, y, coeffs, opt_error, splitting, B_Field, contrast, contrast_error])"
   ]
  },
  {
   "cell_type": "code",
   "execution_count": 8,
   "metadata": {},
   "outputs": [],
   "source": [
    "def plot_fitting(ax, x, y):    \n",
    "    #Plot  fit and complete graph\n",
    "    plot.plot(x,y, color = 'k', linewidth = 2.0, label = \"Double Gaussian curve fitting\")\n",
    "    ax.set_xlabel('Microwave Frequency  (GHz)')\n",
    "    ax.set_ylabel('Counts (per int. time)')\n",
    "    #axes = plot.gca()\n",
    "    ax.set_xlim(np.min(x), np.max(x))\n",
    "#    axes.set_ylim(0.985*np.min(y), 1.02*np.max(y))\n",
    "    ax.legend(loc = 'lower right')\n",
    "    return(ax)"
   ]
  },
  {
   "cell_type": "code",
   "execution_count": 9,
   "metadata": {},
   "outputs": [],
   "source": [
    "def gaussian(x, height, center, width, offset):\n",
    "    return height*np.exp(-(x - center)**2/(2*width**2)) + offset  "
   ]
  },
  {
   "cell_type": "code",
   "execution_count": 10,
   "metadata": {},
   "outputs": [],
   "source": [
    "def gaussian_2(x, height, center, width, height2, center2, width2, offset):\n",
    "    # P0[0] = Amplitude 1, P0[1] = Resonance 1, P0[2] = FWHM 1\n",
    "    # P0[3] = Amplitude 2, P0[4] = Resonance 2, P0[5] = FWHM 2, P0[6] = offset\n",
    "    \n",
    "    first_peak = height*np.exp(-(x - center)**2/(2*width**2))\n",
    "    second_peak = height2*np.exp(-(x - center2)**2/(2*width2**2)) \n",
    "    return first_peak + second_peak + offset \n"
   ]
  },
  {
   "cell_type": "code",
   "execution_count": 11,
   "metadata": {},
   "outputs": [],
   "source": [
    "def lorentz(x, A, x0, gamma, D):\n",
    "    return (A/np.pi) *(gamma/((x-x0)**2)+gamma**2) + D\n"
   ]
  },
  {
   "cell_type": "code",
   "execution_count": 12,
   "metadata": {},
   "outputs": [],
   "source": [
    "def lorentz_2(x, A1, X01, sig1, A2, X02, sig2, offset):#P0[0], P0[1], P0[2], P0[3], P0[4], P0[5], P0[6]):\n",
    "    # P0[0] = Amplitude 1, P0[1] = Resonance 1, P0[2] = FWHM 1\n",
    "    # P0[3] = Amplitude 2, P0[4] = Resonance 2, P0[5] = FWHM 2, P0[6] = offset\n",
    "    \n",
    "    first_peak = (A1/np.pi)*((sig1**2)/(sig1**2 +(2*x-2*X01)**2))\n",
    "    second_peak = (A2/np.pi)*((sig2**2)/(sig2**2 +(2*x-2*X02)**2))\n",
    "    \n",
    "    return first_peak + second_peak + offset\n"
   ]
  },
  {
   "cell_type": "code",
   "execution_count": 13,
   "metadata": {},
   "outputs": [],
   "source": [
    "def save_data(date, file_ID, contrast, contrast_error, coeffs, opt_error):\n",
    "    \n",
    "    destination_folder = 'H:\\\\My Documents\\\\Strathclyde\\\\Graphs_and_analysis\\\\ODMR\\\\' + date + '\\\\'\n",
    "    output_data_file = destination_folder + date + '_NVScan_analysis.dat'\n",
    "    # Checking to see if the folder exists in which to save the data, and creating it if it does not\n",
    "    if not os.path.exists(destination_folder):\n",
    "        os.makedirs(destination_folder)\n",
    "        # Checking the output file exists and creating and initialising it if not\n",
    "    if os.path.isfile(output_data_file) == False:\n",
    "        with open(output_data_file, \"w\") as wf:\n",
    "            wf.write('File name' +  ', \\t' + 'Max Contrast (%)' + '\\t' + 'Contrast error (%)' + '\\t' + \n",
    "                     'Resonant frequency 1 (GHz)' + '\\t' + 'Error Resonant frequency 1 (GHz)' + '\\t' + \n",
    "                     'FWHM 1 (MHz)' + '\\t' + 'FWHM 1 error (MHz)' + '\\t' + \n",
    "                     'Resonant frequency 2 (GHz)' + '\\t' + 'Error Resonant frequency 2 (GHz)' + '\\t' + \n",
    "                     'FWHM 2 (MHz)' + '\\t' + 'FWHM 2 error (MHz)' + '\\n')\n",
    "    # Writing contrast dip description to the .dat file\n",
    "    \n",
    "    with open(output_data_file, \"a\") as wf:\n",
    "        wf.write(file_ID + ', \\t' +  str(contrast) + \", \\t\"  + str(contrast_error) +\n",
    "                 \", \\t\"  + str(coeffs[1]) + \", \\t\"  + str(opt_error[1]) +\n",
    "                 \", \\t\"  + str(coeffs[4]) + \", \\t\"  + str(opt_error[4]) +\n",
    "                 \", \\t\" +  str(coeffs[2]*1000) + \", \\t\" + str(opt_error[2]*1000) + \", \\t\" + \n",
    "                 str(coeffs[5]*1000) + \", \\t\" + str(opt_error[5]*1000) + '\\n')\n",
    "    # Saving a plot of the raw data to a folder. \n",
    "    plot.savefig(destination_folder + file_ID + '.png', transparent = True)    \n",
    "    \n",
    "  "
   ]
  },
  {
   "cell_type": "code",
   "execution_count": 28,
   "metadata": {},
   "outputs": [
    {
     "name": "stdout",
     "output_type": "stream",
     "text": [
      "30.503298653220323\n",
      "0.0005458065664971354\n"
     ]
    },
    {
     "data": {
      "text/plain": [
       "<matplotlib.axes._subplots.AxesSubplot at 0x2050eaf5208>"
      ]
     },
     "execution_count": 28,
     "metadata": {},
     "output_type": "execute_result"
    },
    {
     "data": {
      "image/png": "[encoded data removed]",
      "text/plain": [
       "<Figure size 864x576 with 1 Axes>"
      ]
     },
     "metadata": {
      "needs_background": "light"
     },
     "output_type": "display_data"
    }
   ],
   "source": [
    "# Create folder and file name\n",
    "folder_path = 'I:\\\\Science\\\\Physics-Nanobiophotonics\\\\Group\\\\User Data\\\\ODMR\\\\Thermometry\\\\20200124\\\\Scan1\\\\'\n",
    "date = '20200124'\n",
    "file_ID1 = '20200124_Thermometry_Scan1_29'\n",
    "\n",
    "freq, mean_data, data = load_data(folder_path, date, file_ID1)\n",
    "fig, ax = scatter_plot(freq, mean_data)\n",
    "analysis = Analysis(freq, mean_data)\n",
    "plot_fitting(ax, analysis[0], analysis[1])\n",
    "#save_data(date, fileID, analysis[6], analysis[7], analysis[2], analysis[3])  "
   ]
  },
  {
   "cell_type": "code",
   "execution_count": null,
   "metadata": {},
   "outputs": [],
   "source": []
  },
  {
   "cell_type": "code",
   "execution_count": null,
   "metadata": {},
   "outputs": [],
   "source": []
  }
 ],
 "metadata": {
  "kernelspec": {
   "display_name": "Python 3",
   "language": "python",
   "name": "python3"
  },
  "language_info": {
   "codemirror_mode": {
    "name": "ipython",
    "version": 3
   },
   "file_extension": ".py",
   "mimetype": "text/x-python",
   "name": "python",
   "nbconvert_exporter": "python",
   "pygments_lexer": "ipython3",
   "version": "3.7.7"
  }
 },
 "nbformat": 4,
 "nbformat_minor": 4
}
