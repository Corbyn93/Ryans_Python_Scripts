{
 "cells": [
  {
   "cell_type": "markdown",
   "metadata": {},
   "source": [
    "This code is designed to take the data from the noise measurements conducted during October/November 2020 and plot the FFT of these measurements to give us the frequencies present in our system. \n",
    "\n",
    "The datasets hold 20 10s line scans with a dwell time of 1ms. \n",
    "\n",
    "I plane to turn this into 4x 50s snippets of code to give us a longer dataset for the low frequency components and also to allow us to perform averaging of the FFT amplitudes which are retuned from scipy's FFT function to reduce the amplitude of noise down at the higher end of the noise spectra. This should also make it clearer which peaks are real and which one's are the result of noise in the FFT for a single line scan. "
   ]
  },
  {
   "cell_type": "code",
   "execution_count": 27,
   "metadata": {},
   "outputs": [],
   "source": [
    "import numpy as np\n",
    "from scipy import fftpack\n",
    "import matplotlib.pyplot as plot \n",
    "import pandas as pd"
   ]
  },
  {
   "cell_type": "code",
   "execution_count": 56,
   "metadata": {},
   "outputs": [],
   "source": [
    "def import_data(file_name):\n",
    "    # import the data file and split it up into 4 sets of 50s datasets. \n",
    "    \n",
    "    data_set = np.loadtxt(file_name)\n",
    "    x,y = data_set.shape\n",
    "    \n",
    "    z = data_set.reshape(int(x/4), int(y*4))\n",
    "    \n",
    "    return(z)"
   ]
  },
  {
   "cell_type": "code",
   "execution_count": 57,
   "metadata": {},
   "outputs": [],
   "source": [
    "def get_params(params_file):\n",
    "    # Extract parameters form data file \n",
    "    params_array = pd.read_table(params_file, names = ['Parameter', 'Value'])\n",
    "    \n",
    "    return(params_array)"
   ]
  },
  {
   "cell_type": "code",
   "execution_count": 125,
   "metadata": {},
   "outputs": [],
   "source": [
    "def find_fft_amplitude(data_set, dwell_time):\n",
    "    # Perform the FFT of the data. \n",
    "    signal_fft = np.fft.fft(data_set, norm = 'ortho')\n",
    "    amplitude = np.abs(signal_fft)\n",
    "    \n",
    "    fft_freq = fftpack.fftfreq(len(data_set[1,:]), dwell_time)\n",
    "    \n",
    "    return(amplitude, fft_freq)"
   ]
  },
  {
   "cell_type": "code",
   "execution_count": null,
   "metadata": {},
   "outputs": [],
   "source": []
  },
  {
   "cell_type": "code",
   "execution_count": null,
   "metadata": {},
   "outputs": [],
   "source": []
  },
  {
   "cell_type": "code",
   "execution_count": null,
   "metadata": {},
   "outputs": [],
   "source": []
  },
  {
   "cell_type": "code",
   "execution_count": null,
   "metadata": {},
   "outputs": [],
   "source": []
  },
  {
   "cell_type": "code",
   "execution_count": 126,
   "metadata": {},
   "outputs": [],
   "source": [
    "folder_path = 'I:\\\\Science\\\\Physics-Nanobiophotonics\\\\Group\\\\User Data\\\\Microscope Noise\\\\'\n",
    "date = '20201023'\n",
    "file_name = '20201023_NoiseScan_1239'\n",
    "\n",
    "noise_data = import_data(folder_path + date + '\\\\' + file_name +'.dat')\n",
    "params = get_params(folder_path + date + '\\\\' + file_name + 'Params.dat')\n",
    "dwell_time = params['Value'][3]*10**(-6) # get dwell time in milliseconds. \n",
    "time = np.arange(0, len(noise_data[1,:])*dwell_time, dwell_time) # create time array\n",
    "\n",
    "fft_amps, freq_array = find_fft_amplitude(noise_data, dwell_time)\n",
    "mean_fft_amps = np.mean(fft_amps, axis = 0)"
   ]
  },
  {
   "cell_type": "code",
   "execution_count": 127,
   "metadata": {},
   "outputs": [
    {
     "data": {
      "text/plain": [
       "[<matplotlib.lines.Line2D at 0x1de60886548>]"
      ]
     },
     "execution_count": 127,
     "metadata": {},
     "output_type": "execute_result"
    },
    {
     "data": {
      "image/png": "[encoded data removed]",
      "text/plain": [
       "<Figure size 432x288 with 1 Axes>"
      ]
     },
     "metadata": {
      "needs_background": "light"
     },
     "output_type": "display_data"
    }
   ],
   "source": [
    "plot.plot(time, noise_data[0,:])"
   ]
  },
  {
   "cell_type": "code",
   "execution_count": 129,
   "metadata": {},
   "outputs": [
    {
     "data": {
      "text/plain": [
       "(0.0, 10000.0)"
      ]
     },
     "execution_count": 129,
     "metadata": {},
     "output_type": "execute_result"
    },
    {
     "data": {
      "image/png": "[encoded data removed]",
      "text/plain": [
       "<Figure size 432x288 with 1 Axes>"
      ]
     },
     "metadata": {
      "needs_background": "light"
     },
     "output_type": "display_data"
    }
   ],
   "source": [
    "plot.plot(freq_array, mean_fft_amps)\n",
    "plot.xlim(0,500)\n",
    "plot.ylim(0, 10000)"
   ]
  },
  {
   "cell_type": "code",
   "execution_count": null,
   "metadata": {},
   "outputs": [],
   "source": []
  }
 ],
 "metadata": {
  "kernelspec": {
   "display_name": "Python 3",
   "language": "python",
   "name": "python3"
  },
  "language_info": {
   "codemirror_mode": {
    "name": "ipython",
    "version": 3
   },
   "file_extension": ".py",
   "mimetype": "text/x-python",
   "name": "python",
   "nbconvert_exporter": "python",
   "pygments_lexer": "ipython3",
   "version": "3.7.7"
  }
 },
 "nbformat": 4,
 "nbformat_minor": 4
}
