{
 "cells": [
  {
   "cell_type": "code",
   "execution_count": null,
   "id": "offshore-syntax",
   "metadata": {},
   "outputs": [],
   "source": []
  },
  {
   "cell_type": "code",
   "execution_count": 1,
   "id": "brief-sword",
   "metadata": {},
   "outputs": [],
   "source": [
    "import numpy as np"
   ]
  },
  {
   "cell_type": "code",
   "execution_count": 2,
   "id": "musical-tradition",
   "metadata": {},
   "outputs": [],
   "source": [
    "# set the number of letters in the word and the number of lives. \n",
    "\n",
    "letters = 5\n",
    "lives = 7 "
   ]
  },
  {
   "cell_type": "code",
   "execution_count": 4,
   "id": "timely-former",
   "metadata": {},
   "outputs": [],
   "source": [
    "alphabet = 26 "
   ]
  },
  {
   "cell_type": "code",
   "execution_count": null,
   "id": "heated-speaker",
   "metadata": {},
   "outputs": [],
   "source": []
  }
 ],
 "metadata": {
  "kernelspec": {
   "display_name": "Python 3",
   "language": "python",
   "name": "python3"
  },
  "language_info": {
   "codemirror_mode": {
    "name": "ipython",
    "version": 3
   },
   "file_extension": ".py",
   "mimetype": "text/x-python",
   "name": "python",
   "nbconvert_exporter": "python",
   "pygments_lexer": "ipython3",
   "version": "3.7.7"
  }
 },
 "nbformat": 4,
 "nbformat_minor": 5
}
