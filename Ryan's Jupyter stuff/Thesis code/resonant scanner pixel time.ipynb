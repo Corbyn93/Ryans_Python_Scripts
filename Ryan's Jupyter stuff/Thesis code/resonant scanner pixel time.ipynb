{
 "cells": [
  {
   "cell_type": "markdown",
   "id": "984d6f2b-ab50-4f44-afe2-d873b300a832",
   "metadata": {},
   "source": [
    "# Resonant scanner pixel dwell time\n",
    "\n",
    "The aim of this script is to determine the minimum pixle dwell time for a given scan range of the resonant scanner. "
   ]
  },
  {
   "cell_type": "code",
   "execution_count": 7,
   "id": "402e3c11-b01e-4ec3-8103-60666b58a4a7",
   "metadata": {},
   "outputs": [],
   "source": [
    "import numpy as np \n",
    "import scipy.optimize as opt\n",
    "import matplotlib.pyplot as plot"
   ]
  },
  {
   "cell_type": "code",
   "execution_count": 9,
   "id": "b9ee3854-4467-4d72-a497-0594e907051b",
   "metadata": {},
   "outputs": [],
   "source": [
    "def position(A, f, t):\n",
    "    \n",
    "    pos = A*np.cos(2*np.pi*f*t)\n",
    "    return(pos)"
   ]
  },
  {
   "cell_type": "code",
   "execution_count": 90,
   "id": "9d94a860-1ec0-450a-b55e-4fc9753ee94a",
   "metadata": {},
   "outputs": [],
   "source": [
    "def velocity(A, f, t):\n",
    "    \n",
    "    vel = (2*np.pi*f)*A*np.sin(2*np.pi*f*t)\n",
    "    \n",
    "    return(vel)"
   ]
  },
  {
   "cell_type": "code",
   "execution_count": null,
   "id": "fbb1e4fd-5d67-4116-a66c-8b2ffeb0aae0",
   "metadata": {},
   "outputs": [],
   "source": []
  },
  {
   "cell_type": "code",
   "execution_count": null,
   "id": "47a210d5-eb0f-455b-9914-0905a2e39090",
   "metadata": {},
   "outputs": [],
   "source": []
  },
  {
   "cell_type": "code",
   "execution_count": null,
   "id": "44b1efb0-9a9c-499f-bdd3-f94c104336a4",
   "metadata": {},
   "outputs": [],
   "source": []
  },
  {
   "cell_type": "code",
   "execution_count": 126,
   "id": "fa5a9c4b-1242-426b-b43f-3066b31d1e4b",
   "metadata": {},
   "outputs": [],
   "source": [
    "f = 16000 #Hz\n",
    "t = 1/(2*f) #s\n",
    "A = 2 # microns\n",
    "\n",
    "steps = int(A / 0.02)\n",
    "\n",
    "t = np.linspace(0, t, steps)\n",
    "\n",
    "pos = position(A, f, t)\n",
    "vel = velocity(A, f, t)\n",
    "\n",
    "#dwell_time = np.abs(pos[1:-2])/vel[1:-2]\n"
   ]
  },
  {
   "cell_type": "code",
   "execution_count": 127,
   "id": "412c1a52-53b1-4d49-b728-14739185072f",
   "metadata": {},
   "outputs": [
    {
     "data": {
      "text/plain": [
       "[<matplotlib.lines.Line2D at 0x1b678775e48>]"
      ]
     },
     "execution_count": 127,
     "metadata": {},
     "output_type": "execute_result"
    },
    {
     "data": {
      "image/png": "[encoded data removed]",
      "text/plain": [
       "<Figure size 432x288 with 1 Axes>"
      ]
     },
     "metadata": {
      "needs_background": "light"
     },
     "output_type": "display_data"
    }
   ],
   "source": [
    "plot.plot(t, pos)\n",
    "plot.plot(t, vel/100000)"
   ]
  },
  {
   "cell_type": "code",
   "execution_count": 128,
   "id": "af45738f-3448-4a08-8a8c-984ce87dd791",
   "metadata": {},
   "outputs": [],
   "source": [
    "d = np.linspace(-A, A, steps)\n",
    "\n",
    "t_time = np.abs(d[1:-1])/vel[1:-1]\n"
   ]
  },
  {
   "cell_type": "code",
   "execution_count": 129,
   "id": "c1a2a4ca-4641-446d-b902-fb5ce99174d2",
   "metadata": {},
   "outputs": [
    {
     "name": "stdout",
     "output_type": "stream",
     "text": [
      "1.0048925430349695e-07\n"
     ]
    },
    {
     "data": {
      "image/png": "[encoded data removed]",
      "text/plain": [
       "<Figure size 432x288 with 1 Axes>"
      ]
     },
     "metadata": {
      "needs_background": "light"
     },
     "output_type": "display_data"
    }
   ],
   "source": [
    "plot.plot(d[1:-1], t_time)\n",
    "print(np.min(t_time))"
   ]
  },
  {
   "cell_type": "code",
   "execution_count": 66,
   "id": "74cbfea8-29f3-4a1c-8406-f0e1ef8545d4",
   "metadata": {},
   "outputs": [
    {
     "name": "stdout",
     "output_type": "stream",
     "text": [
      "2.0010005002502556e-08\n"
     ]
    }
   ],
   "source": [
    "print(d[1]-d[0])"
   ]
  },
  {
   "cell_type": "code",
   "execution_count": 82,
   "id": "902dd23a-4431-403f-825e-8bf03b9c0e5a",
   "metadata": {},
   "outputs": [
    {
     "data": {
      "text/plain": [
       "3.125e-05"
      ]
     },
     "execution_count": 82,
     "metadata": {},
     "output_type": "execute_result"
    }
   ],
   "source": [
    "1/(16000*2)"
   ]
  },
  {
   "cell_type": "code",
   "execution_count": 84,
   "id": "4a7922e0-32d6-4b61-a398-7eef55a95e5b",
   "metadata": {},
   "outputs": [
    {
     "data": {
      "text/plain": [
       "1.28"
      ]
     },
     "execution_count": 84,
     "metadata": {},
     "output_type": "execute_result"
    }
   ],
   "source": [
    "4/3.125"
   ]
  },
  {
   "cell_type": "code",
   "execution_count": 87,
   "id": "7a4a5214-55c4-442a-a281-77b23766f973",
   "metadata": {},
   "outputs": [
    {
     "data": {
      "text/plain": [
       "1.5625e-08"
      ]
     },
     "execution_count": 87,
     "metadata": {},
     "output_type": "execute_result"
    }
   ],
   "source": [
    "(20*10**-9)/1.28"
   ]
  },
  {
   "cell_type": "code",
   "execution_count": 130,
   "id": "5bb16c98-3060-4e42-9228-16c95ec4eee5",
   "metadata": {},
   "outputs": [
    {
     "data": {
      "text/plain": [
       "9.951312773998769"
      ]
     },
     "execution_count": 130,
     "metadata": {},
     "output_type": "execute_result"
    }
   ],
   "source": [
    "1/(np.min(t_time)*(1*10**6))"
   ]
  },
  {
   "cell_type": "code",
   "execution_count": 132,
   "id": "39640693-ccc8-4f59-be34-385aa741db9f",
   "metadata": {},
   "outputs": [
    {
     "data": {
      "text/plain": [
       "0.000625"
      ]
     },
     "execution_count": 132,
     "metadata": {},
     "output_type": "execute_result"
    }
   ],
   "source": [
    "a = 6.25*10**(-5)\n",
    "\n",
    "10*a"
   ]
  },
  {
   "cell_type": "code",
   "execution_count": null,
   "id": "06df9af4-fa74-4bcd-9eec-3fd6d8f78a3c",
   "metadata": {},
   "outputs": [],
   "source": []
  }
 ],
 "metadata": {
  "kernelspec": {
   "display_name": "Python 3",
   "language": "python",
   "name": "python3"
  },
  "language_info": {
   "codemirror_mode": {
    "name": "ipython",
    "version": 3
   },
   "file_extension": ".py",
   "mimetype": "text/x-python",
   "name": "python",
   "nbconvert_exporter": "python",
   "pygments_lexer": "ipython3",
   "version": "3.7.7"
  }
 },
 "nbformat": 4,
 "nbformat_minor": 5
}
