{
 "cells": [
  {
   "cell_type": "markdown",
   "id": "current-floating",
   "metadata": {},
   "source": [
    "# Analysis of the fluoresence intensity from the 4 point ODMR experiments\n",
    "\n",
    "In this script I will read in the data from the .txt file that holds all of the information about the fluorescence intensity. \n",
    "I will create graphs that look at the:\n",
    "1. Change in fluorescence intensity with increased dwell time. \n",
    "2. The change in the fraction error of the recorded data points for the 4 point measurements for the STD of the measurements recorded. \n",
    "3. The change in the fraction error of the recorded data points for the 4 point measurements for the SQRT of the mean recorded counts. "
   ]
  },
  {
   "cell_type": "code",
   "execution_count": 4,
   "id": "bearing-pharmacology",
   "metadata": {},
   "outputs": [],
   "source": [
    "import matplotlib.pyplot as plot\n",
    "import scipy.optimize as opt\n",
    "import os \n",
    "import pandas as pd \n",
    "import numpy as np "
   ]
  },
  {
   "cell_type": "code",
   "execution_count": 5,
   "id": "unnecessary-boundary",
   "metadata": {},
   "outputs": [],
   "source": [
    "def load_data(file_path):\n",
    "    # load in the params data. \n",
    "    four_point_data = pd.read_table(file_path, index_col = False) \n",
    "    return(four_point_data)"
   ]
  },
  {
   "cell_type": "code",
   "execution_count": 6,
   "id": "constant-illness",
   "metadata": {},
   "outputs": [],
   "source": [
    "def set_plot_params():\n",
    "    # formats the plot parameters \n",
    "    plot.rcParams.update({'font.size' : 16})\n",
    "    plot.rcParams.update({'figure.figsize' :[12, 8]})"
   ]
  },
  {
   "cell_type": "code",
   "execution_count": 7,
   "id": "listed-likelihood",
   "metadata": {},
   "outputs": [],
   "source": [
    "def plot_sqrt(x, A, b, c):\n",
    "    '''Creates a Y = A/root(b*T) dataset.'''\n",
    "    sqrt_value = np.sqrt(b*x)\n",
    "    with np.errstate(divide='ignore'):\n",
    "        y = (A /sqrt_value) + c\n",
    "    return(y)"
   ]
  },
  {
   "cell_type": "code",
   "execution_count": 8,
   "id": "handmade-fashion",
   "metadata": {},
   "outputs": [],
   "source": [
    "def plot_linear(x, m, c):\n",
    "    '''Creates a linear fitting'''\n",
    "    \n",
    "    y = m*x + c\n",
    "    return(y)"
   ]
  },
  {
   "cell_type": "markdown",
   "id": "naughty-equation",
   "metadata": {},
   "source": [
    "### Get the data into a pandas variable"
   ]
  },
  {
   "cell_type": "code",
   "execution_count": 20,
   "id": "virtual-moderator",
   "metadata": {},
   "outputs": [],
   "source": [
    "folder_path = 'H:\\\\My Documents\\\\Strathclyde_Back_up\\\\Thesis and Planning\\\\Thesis_plots\\\\20210920\\\\'\n",
    "file_path = folder_path + '20210920_4_point_referenced_odmr_normalised_intensity_analysis.txt'\n",
    "data_set = load_data(file_path)\n",
    "set_plot_params()\n",
    "#print(data_set)"
   ]
  },
  {
   "cell_type": "markdown",
   "id": "homeless-bathroom",
   "metadata": {},
   "source": [
    "### Get the data into arrays"
   ]
  },
  {
   "cell_type": "code",
   "execution_count": 47,
   "id": "wooden-integral",
   "metadata": {},
   "outputs": [],
   "source": [
    "dwell_time = data_set['Dwell time ($\\mu$s)']\n",
    "number_of_repeats = data_set['Number of Repeats']\n",
    "\n",
    "I_1 = data_set['I_1 (per dwell time)']\n",
    "I_1_std = data_set['STD(I_1) (per dwell time)']\n",
    "I_2 = data_set['I_2 (per dwell time)']\n",
    "I_2_std = data_set['STD(I_2) (per dwell time)']\n",
    "I_3 = data_set['I_3 (per dwell time)']\n",
    "I_3_std = data_set['STD(I_3) (per dwell time)']\n",
    "I_4 = data_set['I_4 (per dwell time)']\n",
    "I_4_std = data_set['STD(I_4) (per dwell time)']\n",
    "\n",
    "#I_1 = data_set['I_1_norm ']\n",
    "#I_1_std = data_set['error I_1_norm ']\n",
    "#I_2 = data_set['I_2_norm ']\n",
    "#I_2_std = data_set['error I_2_norm ']\n",
    "#I_3 = data_set['I_3_norm ']\n",
    "#I_3_std = data_set['error I_3_norm ']\n",
    "#I_4 = data_set['I_4_norm ']\n",
    "#I_4_std = data_set['error I_4_norm']\n",
    "#print(I_4[0])\n",
    "#print(I_4_std)"
   ]
  },
  {
   "cell_type": "markdown",
   "id": "eligible-marine",
   "metadata": {},
   "source": [
    "### Analysis for a single measurement \n",
    "This is the code that is used for finding the fittings for the percentage error for these measurements. "
   ]
  },
  {
   "cell_type": "code",
   "execution_count": 48,
   "id": "breeding-domestic",
   "metadata": {},
   "outputs": [
    {
     "name": "stdout",
     "output_type": "stream",
     "text": [
      "[ 4.90173566 10.80807307  1.86697067]\n",
      "[2.82795345e+07 1.24942697e+08 2.19272278e-01]\n"
     ]
    },
    {
     "name": "stderr",
     "output_type": "stream",
     "text": [
      "C:\\Users\\Ryan\\AppData\\Local\\conda\\conda\\envs\\Ryan\\lib\\site-packages\\ipykernel_launcher.py:24: RuntimeWarning: invalid value encountered in sqrt\n"
     ]
    }
   ],
   "source": [
    "f_value = 3\n",
    "I = []\n",
    "line_repeats = []\n",
    "STD_I = []\n",
    "\n",
    "for i in range(int(len(number_of_repeats))):\n",
    "    line_repeats.append(number_of_repeats[i])\n",
    "    I.append([I_1[i], I_2[i], I_3[i], I_4[i]])\n",
    "    STD_I.append([I_1_std[i], I_2_std[i], I_3_std[i], I_4_std[i]])\n",
    "\n",
    "line_repeats = np.array(line_repeats)\n",
    "I = np.array(I)\n",
    "STD_I = np.array(STD_I)\n",
    "fractional_error = 100*(STD_I/I)\n",
    "P0 = [5,0.3, 0.1]\n",
    "\n",
    "##########\n",
    "        ## Basically need to re-write absolutely everything.  \n",
    "##########\n",
    "\n",
    "coeffs, confidence = opt.curve_fit(plot_sqrt, line_repeats, fractional_error[:, f_value], P0)\n",
    "#error = np.diag(confidence)\n",
    "print(coeffs)\n",
    "print(np.diag(np.sqrt(confidence)))\n",
    "\n",
    "#dense_dwell_t = np.linspace(np.min(dwell_t), np.max(dwell_t), 100)\n",
    "\n",
    "y = plot_sqrt(line_repeats, coeffs[0], coeffs[1], coeffs[2])\n",
    "\n",
    "P1 = [0,0]\n",
    "coeffs_1, confidence_1 = opt.curve_fit(plot_linear, line_repeats, I[:, f_value], P1)\n",
    "y2 = plot_linear(line_repeats, coeffs_1[0], coeffs_1[1])\n",
    "#print(I[6,3])"
   ]
  },
  {
   "cell_type": "markdown",
   "id": "arbitrary-joseph",
   "metadata": {},
   "source": [
    "### Plot and save the data. "
   ]
  },
  {
   "cell_type": "code",
   "execution_count": 50,
   "id": "outdoor-toner",
   "metadata": {},
   "outputs": [
    {
     "data": {
      "image/png": "[encoded data removed]",
      "text/plain": [
       "<Figure size 864x576 with 1 Axes>"
      ]
     },
     "metadata": {
      "needs_background": "light"
     },
     "output_type": "display_data"
    },
    {
     "data": {
      "image/png": "[encoded data removed]",
      "text/plain": [
       "<Figure size 864x576 with 1 Axes>"
      ]
     },
     "metadata": {
      "needs_background": "light"
     },
     "output_type": "display_data"
    }
   ],
   "source": [
    "fig, ax = plot.subplots()\n",
    "ax.scatter(line_repeats, fractional_error[:, f_value], marker = 'x', color = 'k', \n",
    "           label = 'Percentage error in measurement', s = 50)\n",
    "ax.set_xlabel('Dwell time (ms)')\n",
    "ax.set_ylabel('Percentage Error (%)')\n",
    "#ax.plot(line_repeats, y, label = 'A/sqrt(b*T) + c', color = 'k',\n",
    "#        linestyle = '--')\n",
    "plot.axis([0, 1100, 0, np.max(fractional_error[:, f_value])+1])\n",
    "ax.legend()\n",
    "\n",
    "if I[3,0] > 1:\n",
    "    fig1, ax1 = plot.subplots()\n",
    "    ax1.scatter(line_repeats, I[:, f_value], marker = 'x', color = 'k', \n",
    "           label = 'Fluoresence intensity', s = 50)\n",
    "    ax1.set_xlabel('Dwell time (ms)')\n",
    "    ax1.set_ylabel('Mean total counts recorded (kCounts)')\n",
    "    #ax1.plot(line_repeats, y2, label = 'Linear Fitting', color = 'k', \n",
    "    #    linestyle = '--')\n",
    "    #plot.axis([0, 110, 0, 100])\n",
    "    ax1.legend()"
   ]
  },
  {
   "cell_type": "code",
   "execution_count": 435,
   "id": "hollywood-phenomenon",
   "metadata": {},
   "outputs": [],
   "source": [
    "if I[3,0] > 1:\n",
    "    fig.savefig(folder_path + 'I_' + str(f_value + 1) + '_percentage_error.pdf')\n",
    "    fig1.savefig(folder_path + 'I_' + str(f_value + 1) + '_Intensity_plot.pdf')\n",
    "else:\n",
    "    fig.savefig(folder_path + 'I_' + str(f_value + 1) + 'normailised_I_percentage_error.pdf')"
   ]
  },
  {
   "cell_type": "code",
   "execution_count": 423,
   "id": "particular-youth",
   "metadata": {},
   "outputs": [],
   "source": [
    "if I[3,0] > 1:\n",
    "    output_data_file1 = folder_path + 'percentage_error_analysis.txt'\n",
    "    output_data_file2 = folder_path + 'Intensity_analysis.txt'\n",
    "else: \n",
    "    output_data_file1 = folder_path + 'Normalised_percentage_error_analysis.txt'\n",
    "    \n",
    "    \n",
    "if os.path.isfile(output_data_file1) == False:\n",
    "        with open(output_data_file1, \"w\") as wf:\n",
    "            wf.write('I(i)'  + '\\t' +\n",
    "                     'Gradient' + '\\t' + 'Time Constant' + '\\t' + \n",
    "                     'Offset' + '\\n')\n",
    "# Writing contrast dip description to the .dat file\n",
    "    \n",
    "with open(output_data_file1, \"a\") as wf:\n",
    "    wf.write(str(f_value)  + '\\t' +\n",
    "             str(coeffs[0]) + \" \\t\"  + str(coeffs[1]) + \" \\t\" + \n",
    "             str(coeffs[2]) + '\\n')\n",
    "            \n",
    "            \n",
    "if I[3,0] > 1:\n",
    "    if os.path.isfile(output_data_file2) == False:\n",
    "        with open(output_data_file2, \"w\") as wf:\n",
    "            wf.write('I(i)'  + '\\t' +\n",
    "                     'Gradient' + '\\t' + \n",
    "                     'Offset' + '\\n')            \n",
    "            \n",
    "        with open(output_data_file2, \"a\") as wf:\n",
    "            wf.write(str(f_value)  + '\\t' +\n",
    "            str(coeffs_1[0]) + \" \\t\"  + str(coeffs_1[1]) +  '\\n') "
   ]
  },
  {
   "cell_type": "code",
   "execution_count": null,
   "id": "persistent-ontario",
   "metadata": {},
   "outputs": [],
   "source": []
  }
 ],
 "metadata": {
  "kernelspec": {
   "display_name": "Python 3",
   "language": "python",
   "name": "python3"
  },
  "language_info": {
   "codemirror_mode": {
    "name": "ipython",
    "version": 3
   },
   "file_extension": ".py",
   "mimetype": "text/x-python",
   "name": "python",
   "nbconvert_exporter": "python",
   "pygments_lexer": "ipython3",
   "version": "3.7.7"
  }
 },
 "nbformat": 4,
 "nbformat_minor": 5
}
