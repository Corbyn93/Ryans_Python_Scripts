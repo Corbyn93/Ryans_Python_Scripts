{
 "cells": [
  {
   "cell_type": "markdown",
   "id": "secondary-sherman",
   "metadata": {},
   "source": [
    "# 4 point dwell time accuracy/precision measurements. \n",
    "\n",
    "A script that determines the accuracy of a four-point measurement by finding the mean of the normalised dataset and comparing this to the fluorescence intensity values from the full CW ODMR curve. "
   ]
  },
  {
   "cell_type": "code",
   "execution_count": 11,
   "id": "processed-launch",
   "metadata": {},
   "outputs": [],
   "source": [
    "import numpy as np \n",
    "import os \n",
    "import pandas as pd"
   ]
  },
  {
   "cell_type": "code",
   "execution_count": 2,
   "id": "behavioral-pollution",
   "metadata": {},
   "outputs": [],
   "source": [
    "def get_data(file_name):\n",
    "    \n",
    "    data = np.loadtxt(file_name)\n",
    "    return(data)"
   ]
  },
  {
   "cell_type": "code",
   "execution_count": 5,
   "id": "extensive-hammer",
   "metadata": {},
   "outputs": [],
   "source": [
    "def load_params(file_path):\n",
    "    # load in the params data. \n",
    "    params_data = pd.read_table(file_path, names = ['Parameter name', 'Parameter value']) \n",
    "    return(params_data)"
   ]
  },
  {
   "cell_type": "code",
   "execution_count": 35,
   "id": "ordered-telescope",
   "metadata": {},
   "outputs": [],
   "source": [
    "def accuracy_measurement(cw_intensity, four_point_intensity):\n",
    "    '''Finds the root mean square difference between the CW intenisty and the four-point measurement.'''\n",
    "    rms_error = []\n",
    "    for i in range(len(cw_intensity)):\n",
    "        rms_error.append(np.sqrt(np.power(cw_intensity[i] - four_point_intensity[i],2)))\n",
    "    return(rms_error)"
   ]
  },
  {
   "cell_type": "code",
   "execution_count": 42,
   "id": "rocky-weekly",
   "metadata": {},
   "outputs": [],
   "source": [
    "def reshape_data(reference_data, odmr_data, params_values):\n",
    "    '''Here we re-shape the reference and the ODMR datasets into a 3D array, \n",
    "    based on the number of line scans, frequnecy points and repeats per frequnecy \n",
    "    have been used to build the ODMR dataset.'''\n",
    "    \n",
    "    # Create variables with the frequnecy scan parameters. \n",
    "    num_of_line_scans = int(params_values[4])\n",
    "    num_of_freqs =  int(1000*(params_values[1]-params_values[0])/params_values[2]) + 1\n",
    "    points_per_freq = int(params_values[8])\n",
    "    #print(num_of_line_scans, num_of_freqs, points_per_freq)\n",
    "    # Reshape the ODMR and reference datasets. \n",
    "\n",
    "    odmr_shape_3D = odmr_data[0:num_of_freqs*points_per_freq].reshape(num_of_line_scans, num_of_freqs, points_per_freq)\n",
    "    reference_data_3D = reference_data[0:num_of_freqs*points_per_freq].reshape(num_of_line_scans, num_of_freqs, points_per_freq)\n",
    "    \n",
    "    return(odmr_shape_3D, reference_data_3D)"
   ]
  },
  {
   "cell_type": "code",
   "execution_count": 43,
   "id": "chief-resolution",
   "metadata": {},
   "outputs": [],
   "source": [
    "def normalise_data(reference_data, odmr_data):\n",
    "    '''Here we normalise the ODMR dataset to the reference data.'''\n",
    "\n",
    "    norm_odmr_data = odmr_data/reference_data\n",
    "    return(norm_odmr_data)"
   ]
  },
  {
   "cell_type": "code",
   "execution_count": 44,
   "id": "interior-congress",
   "metadata": {},
   "outputs": [],
   "source": [
    "def mean_data(odmr_data):\n",
    "    # find the mean data \n",
    "    mean_odmr_data_points =  np.mean(odmr_data, axis = 2)\n",
    "    mean_odmr_data_points_and_linescans =  np.mean(mean_odmr_data_points, axis = 0)\n",
    "    \n",
    "    return(mean_odmr_data_points, mean_odmr_data_points_and_linescans)"
   ]
  },
  {
   "cell_type": "code",
   "execution_count": 69,
   "id": "soviet-population",
   "metadata": {},
   "outputs": [],
   "source": [
    "def save_data(file_name, dwell_time, repeats, mean_ref_intensity, std_ref_intensity, mean_norm_odmr_full,\n",
    "         std_odmr_data, accuracy): \n",
    "    '''save the data into a text file on my H drive.'''\n",
    "    \n",
    "    save_folder = 'H:\\\\My Documents\\\\Strathclyde_Back_up\\\\Thesis and Planning\\\\Thesis_plots\\\\' + date + '_2\\\\'\n",
    "    # Checking to see if the folder exists in which to save the data, and creating it if it does not\n",
    "    if not os.path.exists(save_folder):\n",
    "        os.makedirs(save_folder)\n",
    "        # Checking the output file exists and creating and initialising it if not\n",
    "    \n",
    "    file = save_folder + date  + '_Dwell_time_results_I_'   \n",
    "    \n",
    "    for i in range(4):\n",
    "        output_data_file = file + str(i+1) + '.dat'\n",
    "        if os.path.isfile(output_data_file) == False:\n",
    "            with open(output_data_file, \"w\") as wf:\n",
    "                wf.write('File name'  + '\\t' + 'Number of Repeats' + '\\t' + \n",
    "                         'Dwell time (ms)' + '\\t' + 'Mean counts per single point (N)' + \n",
    "                         '\\t' + 'std(N)' + '\\t' +'Mean Normalised Counts (n)' + \n",
    "                         '\\t' + 'Standard Deviation of n' + \n",
    "                         '\\t' + 'Standard Error of n' + '\\t' + 'Accuracy of measurement |I_CW - I_4point|' + '\\n')\n",
    "        \n",
    "        \n",
    "        with open(output_data_file, \"a\") as wf:\n",
    "            wf.write(date + '_' + file_name  + '\\t' +\n",
    "                 str(repeats) + \"\\t\"  + str(dwell_time) + \"\\t\" + \n",
    "                 str(mean_ref_intensity[i])  + \"\\t\" + str(std_ref_intensity[i]) + \n",
    "                \"\\t\" +  str(mean_norm_odmr_full[i]) + \"\\t\"  + str(std_odmr_data[i]) + \"\\t\" + \n",
    "                 str(std_odmr_data[i]/np.sqrt(repeats)) + '\\t' +str(accuracy[i]) +'\\n')       \n",
    "        \n",
    "    # Writing contrast dip description to the .dat file\n",
    "    "
   ]
  },
  {
   "cell_type": "markdown",
   "id": "radical-investigation",
   "metadata": {},
   "source": [
    "### Start the code analysis"
   ]
  },
  {
   "cell_type": "code",
   "execution_count": 66,
   "id": "yellow-receipt",
   "metadata": {},
   "outputs": [],
   "source": [
    "# set the date and the folder location for the dataset \n",
    "\n",
    "date = '20210921'\n",
    "folder_loc = 'I:\\\\Science\\\\Physics-Nanobiophotonics\\\\Group\\\\User Data\\\\ODMR\\\\ODMR and imaging\\\\2021\\\\' + date + '\\\\'\n",
    "\n",
    "cw_intensities = np.array([0.96696511, 0.95464444, 0.95375027, 0.96396645])"
   ]
  },
  {
   "cell_type": "code",
   "execution_count": 123,
   "id": "structural-stopping",
   "metadata": {},
   "outputs": [],
   "source": [
    "# set file name \n",
    "file_name = '20210921_4_point_referenced_odmr_49'\n",
    "\n",
    "odmr_data = get_data(folder_loc + file_name + '_ODMR1.dat')\n",
    "reference_data = get_data(folder_loc + file_name + '_REF1.dat')\n",
    "params_file= load_params(folder_loc + file_name + '_Params.txt')\n",
    "params_values = params_file['Parameter value']\n",
    "\n",
    "dwell_time = params_values[3]/1000\n",
    "repeats = params_values[8]\n",
    "# reshape the data into a nice format. \n",
    "odmr_data, reference_data = reshape_data(reference_data, odmr_data, params_values)\n",
    "\n",
    " # Normalise the ODMR data against the reference data. \n",
    "normalised_ODMR = normalise_data(reference_data, odmr_data)\n",
    "\n",
    "# Mean of the normalise dataset. \n",
    "# mean_odmr_freq_points = mean for all the points recorded per frequnecy, but not linescans. \n",
    "# mean_norm_odmr_full = Mean fluorescence value for all ODMR data points taken per freq. \n",
    "mean_odmr_freq_points, mean_norm_odmr_full_disordered = mean_data(normalised_ODMR)\n",
    "mean_norm_odmr_full = np.roll(mean_norm_odmr_full_disordered, 1)\n",
    "\n",
    "accuracy = accuracy_measurement(cw_intensities, mean_norm_odmr_full)\n",
    "std_odmr_data = np.std(normalised_ODMR, axis = 2)\n",
    "\n",
    "mean_ref_intensity = np.mean(reference_data, axis = 2)\n",
    "std_ref_intensity = np.std(reference_data, axis = 2)\n",
    "\n",
    "save_data(file_name, dwell_time, repeats, mean_ref_intensity[0], std_ref_intensity[0], mean_norm_odmr_full,\n",
    "         std_odmr_data[0], accuracy)"
   ]
  },
  {
   "cell_type": "code",
   "execution_count": 78,
   "id": "committed-jungle",
   "metadata": {},
   "outputs": [],
   "source": [
    "#save_data(file_name, dwell_time, repeats, mean_ref_intensity[0], std_ref_intensity[0], mean_norm_odmr_full,\n",
    "#         std_odmr_data[0], accuracy)"
   ]
  },
  {
   "cell_type": "code",
   "execution_count": 55,
   "id": "forty-rogers",
   "metadata": {},
   "outputs": [
    {
     "name": "stdout",
     "output_type": "stream",
     "text": [
      "[[980.   990.23 977.9  972.79]]\n",
      "[[60.960479   57.32344285 56.6101581  55.86435268]]\n",
      "[0.96039144 0.96409588 0.94210431 0.95878488]\n",
      "[[0.08516241 0.08754808 0.08390335 0.07185605]]\n",
      "[0.006573674926617423, 0.009451441326185361, 0.011645956767228238, 0.005181571340644009]\n"
     ]
    }
   ],
   "source": [
    "print(mean_ref_intensity)\n",
    "print(std_ref_intensity)\n",
    "print(mean_norm_odmr_full)\n",
    "print(std_odmr_data)\n",
    "print(accuracy)"
   ]
  },
  {
   "cell_type": "code",
   "execution_count": null,
   "id": "resistant-wednesday",
   "metadata": {},
   "outputs": [],
   "source": []
  }
 ],
 "metadata": {
  "kernelspec": {
   "display_name": "Python 3",
   "language": "python",
   "name": "python3"
  },
  "language_info": {
   "codemirror_mode": {
    "name": "ipython",
    "version": 3
   },
   "file_extension": ".py",
   "mimetype": "text/x-python",
   "name": "python",
   "nbconvert_exporter": "python",
   "pygments_lexer": "ipython3",
   "version": "3.7.7"
  }
 },
 "nbformat": 4,
 "nbformat_minor": 5
}
