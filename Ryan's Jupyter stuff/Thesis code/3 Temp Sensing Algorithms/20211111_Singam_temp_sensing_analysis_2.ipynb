{
 "cells": [
  {
   "cell_type": "markdown",
   "id": "flying-organic",
   "metadata": {},
   "source": [
    "# 4 point Thermometry Analysis ONLY\n",
    "\n",
    "This script will be used purely to analyse the results of the 4 point ODMR measurements using only the temperature sensing algorithms as defined in the papers:\n",
    "1. Singam et al (2019) - Nitrogen-vacancy nanodiamond based local thermometry using frequency-jump modulation\n",
    "2. Fujiwaraet al (2020) - Real-time nanodiamond thermometry probing in vivo thermogenic responses. \n",
    "\n",
    "The aim of writing this script is to tidy up the original frankenstien script currently at the time of writing called: \n",
    "20210617_Analysis_Referenced_4_point_ODMR.ipynb\n",
    "\n",
    "Unfortunately, I think I need to call in basically all the same functions and perform basically all the same analysis, but I will have fewer outputs and will structure everything a little bit nicer so that I can run everything from a single \"main\" cell at the bottom of the script and know that everything will get pulled in properly... I might have it so that any full CW ODMR script analysis is done in a separate cell just so I don't end up bogging down the whole script everytime it runs. "
   ]
  },
  {
   "cell_type": "code",
   "execution_count": 1,
   "id": "handled-season",
   "metadata": {},
   "outputs": [],
   "source": [
    "import scipy.optimize as opt \n",
    "import numpy as np \n",
    "import matplotlib.pyplot as plot \n",
    "import os \n",
    "import pandas as pd\n",
    "from scipy.signal import find_peaks"
   ]
  },
  {
   "cell_type": "markdown",
   "id": "increasing-cookie",
   "metadata": {},
   "source": [
    "Pull in the data files and the associated params file. Also make the plots big enough to actually be able to see what's going on and read what's on the graphs. "
   ]
  },
  {
   "cell_type": "code",
   "execution_count": 2,
   "id": "elder-perry",
   "metadata": {},
   "outputs": [],
   "source": [
    "def load_data(file_path): \n",
    "    # load the ODMR data file in to an np array \n",
    "    data_array = np.loadtxt(file_path)\n",
    "    return(data_array)"
   ]
  },
  {
   "cell_type": "code",
   "execution_count": 3,
   "id": "amber-brunswick",
   "metadata": {},
   "outputs": [],
   "source": [
    "def load_params(file_path):\n",
    "    # load in the params data. \n",
    "    params_data = pd.read_table(file_path, names = ['Parameter name', 'Parameter value']) \n",
    "    return(params_data)"
   ]
  },
  {
   "cell_type": "code",
   "execution_count": 4,
   "id": "prompt-style",
   "metadata": {},
   "outputs": [],
   "source": [
    "def set_plot_params():\n",
    "    # formats the plot parameters \n",
    "    plot.rcParams.update({'font.size' : 16})\n",
    "    plot.rcParams.update({'figure.figsize' :[12, 8]})"
   ]
  },
  {
   "cell_type": "markdown",
   "id": "suspected-respondent",
   "metadata": {},
   "source": [
    "Creates a numpy array with the microwave frequency scan range from the params file. "
   ]
  },
  {
   "cell_type": "code",
   "execution_count": 5,
   "id": "suffering-beverage",
   "metadata": {},
   "outputs": [],
   "source": [
    "def create_freq_scan(start, stop, step_size):\n",
    "    # takes the scan parameters from the params data file. \n",
    "    step_size_GHz = step_size/1000\n",
    "    number_of_steps = int((stop-start)/step_size_GHz)+1\n",
    "    freq = np.linspace(start, stop, number_of_steps)\n",
    "    return(freq)"
   ]
  },
  {
   "cell_type": "markdown",
   "id": "fiscal-promise",
   "metadata": {},
   "source": [
    "Here we have the code to reshape the ODMR data into a 3D dataset according to the parameters that are given in the Params.txt file. \n",
    "\n",
    "Once the ODMR and reference Datasets have been restructured, then we can perform the normalisation of the ODMR dataset to the reference dataset.  "
   ]
  },
  {
   "cell_type": "code",
   "execution_count": 6,
   "id": "existing-dakota",
   "metadata": {},
   "outputs": [],
   "source": [
    "def reshape_data(reference_data, odmr_data, params_values):\n",
    "    '''Here we re-shape the reference and the ODMR datasets into a 3D array, \n",
    "    based on the number of line scans, frequnecy points and repeats per frequnecy \n",
    "    have been used to build the ODMR dataset.'''\n",
    "    \n",
    "    # Create variables with the frequnecy scan parameters. \n",
    "    num_of_line_scans = int(params_values[4])\n",
    "    num_of_freqs =  int(1000*(params_values[1]-params_values[0])/params_values[2]) + 1\n",
    "    points_per_freq = int(params_values[8])\n",
    "    print(num_of_line_scans, num_of_freqs, points_per_freq)\n",
    "    # Reshape the ODMR and reference datasets. \n",
    "\n",
    "    odmr_shape_3D = odmr_data[0:num_of_freqs*points_per_freq].reshape(num_of_line_scans, num_of_freqs, points_per_freq)\n",
    "    reference_data_3D = reference_data[0:num_of_freqs*points_per_freq].reshape(num_of_line_scans, num_of_freqs, points_per_freq)\n",
    "    \n",
    "    return(odmr_shape_3D, reference_data_3D)"
   ]
  },
  {
   "cell_type": "code",
   "execution_count": 7,
   "id": "thick-voluntary",
   "metadata": {},
   "outputs": [],
   "source": [
    "def normalise_data(reference_data, odmr_data):\n",
    "    '''Here we normalise the ODMR dataset to the reference data.'''\n",
    "\n",
    "    norm_odmr_data = odmr_data/reference_data\n",
    "    return(norm_odmr_data)"
   ]
  },
  {
   "cell_type": "markdown",
   "id": "thorough-israel",
   "metadata": {},
   "source": [
    "Find the mean of the ODMR dataset."
   ]
  },
  {
   "cell_type": "code",
   "execution_count": 8,
   "id": "reported-vegetation",
   "metadata": {},
   "outputs": [],
   "source": [
    "def mean_data(odmr_data):\n",
    "    # find the mean data \n",
    "    mean_odmr_data_points =  np.mean(odmr_data, axis = 2)\n",
    "    mean_odmr_data_points_and_linescans =  np.mean(mean_odmr_data_points, axis = 0)\n",
    "    return(mean_odmr_data_points, mean_odmr_data_points_and_linescans)"
   ]
  },
  {
   "cell_type": "markdown",
   "id": "bibliographic-current",
   "metadata": {},
   "source": [
    "Plot the Normalised ODMR data to a graph."
   ]
  },
  {
   "cell_type": "code",
   "execution_count": 9,
   "id": "radio-dubai",
   "metadata": {},
   "outputs": [],
   "source": [
    "def normalised_scatter_plot(freq, mean_data):\n",
    "    # Creates a scatter plot for experimental data and plot parameters. \n",
    "    fig2, ax2 = plot.subplots()\n",
    "    ax2.scatter(freq, mean_data, marker = 'x',color = 'r', label = \"ODMR Data\")\n",
    "    \n",
    "    ax2.set_xlim(np.min(freq),np.max(freq))\n",
    "    ax2.set_xlabel('Microwave Frequency (GHz)', fontsize = 18)\n",
    "    ax2.set_ylabel('Normalised Counts (A.U.)', fontsize = 18)\n",
    "    return(fig2, ax2)"
   ]
  },
  {
   "cell_type": "markdown",
   "id": "spatial-weight",
   "metadata": {},
   "source": [
    "Get the fitting parameters from the ODMR dataset and use these to fit a double Lorentzian lineshape to the normalised ODMR dataset."
   ]
  },
  {
   "cell_type": "code",
   "execution_count": 10,
   "id": "motivated-envelope",
   "metadata": {},
   "outputs": [],
   "source": [
    "def get_init_params(odmr_data, freq):\n",
    "    # find the minima of the ODMR spectra and ODMR dip contrast and \n",
    "    # flourenscent baseline.\n",
    "    \n",
    "    half_data_length = int((len(freq)-1)/2) # This brings the mid-value to 2.87GHz \n",
    "    \n",
    "    #find the indices for the lowest frequency value\n",
    "    low_freq_min_index = np.where(odmr_data[0:half_data_length] == np.min(odmr_data[0:half_data_length]))\n",
    "    high_freq_min_index = np.where(odmr_data[half_data_length:len(odmr_data)-1] == \n",
    "                                   np.min(odmr_data[half_data_length:len(odmr_data)-1]))\n",
    "   \n",
    "    # frequencies corresponding to ODMR minima\n",
    "    freq_mins = [np.float(freq[low_freq_min_index[0]]),\n",
    "                 np.float(freq[high_freq_min_index[0]+half_data_length])]\n",
    "    \n",
    "    # manually set frequencies. \n",
    "    \n",
    "    #freq_mins = [2.78, 2.96]\n",
    "    \n",
    "    flourescent_baseline = np.mean(odmr_data)\n",
    "    \n",
    "    # approximate dip_depth\n",
    "    dip_depth = [odmr_data[low_freq_min_index[0][0]]  - flourescent_baseline, \n",
    "                 odmr_data[high_freq_min_index[0][0]+half_data_length]  - flourescent_baseline]\n",
    "    \n",
    "    #contrast = [np.float((1-odmr_data[low_freq_min_index[0]]/flourescent_baseline)), \n",
    "    #            np.float((1-odmr_data[high_freq_min_index[0]+half_data_length]/flourescent_baseline))]\n",
    "\n",
    "    return(freq_mins, dip_depth, flourescent_baseline)"
   ]
  },
  {
   "cell_type": "code",
   "execution_count": 11,
   "id": "intended-toyota",
   "metadata": {},
   "outputs": [],
   "source": [
    "def optimised_lorentz_fit(freq, mean_data, init_params, lower_bounds, upper_bounds):\n",
    "    # A method to find the fitting prameters for the ODMR dataset. \n",
    "    y_error = np.sqrt(mean_data) # poissonian noise\n",
    "    coeffs, confidence = opt.curve_fit(double_lorentz, freq, mean_data, init_params, \n",
    "                                       sigma = y_error, bounds = (lower_bounds, upper_bounds))\n",
    "    opt_error = np.sqrt(np.diag(confidence))\n",
    "    \n",
    "    return(coeffs, opt_error)"
   ]
  },
  {
   "cell_type": "code",
   "execution_count": 12,
   "id": "handy-garlic",
   "metadata": {},
   "outputs": [],
   "source": [
    "def double_lorentz(x, A1, X01, sig1, A2, X02, sig2, offset): #P0[0], P0[1], P0[2], P0[3], P0[4], P0[5], P0[6]):\n",
    "    # A1 = Amplitude 1, X01 = Resonance 1, sig1 = FWHM 1\n",
    "    # A2 = Amplitude 2, X02 = Resonance 2, sig2 = FWHM 2, offset = offset\n",
    "    \n",
    "    first_peak = (A1/np.pi)*((sig1**2)/(sig1**2 +(2*x-2*X01)**2))\n",
    "    second_peak = (A2/np.pi)*((sig2**2)/(sig2**2 +(2*x-2*X02)**2))\n",
    "    \n",
    "    return (first_peak + second_peak + offset)"
   ]
  },
  {
   "cell_type": "code",
   "execution_count": 13,
   "id": "original-disney",
   "metadata": {},
   "outputs": [],
   "source": [
    "def plot_fitting(ax2, freq, dwell_time):\n",
    "    # plot the y fit. \n",
    "    \n",
    "    high_res_freq = np.linspace(freq[0], freq[len(freq)-1], 10*len(freq)+1)\n",
    "    \n",
    "    # create the double lorentz fit array\n",
    "    y_fit_high_res = double_lorentz(high_res_freq, fitting_params[0], fitting_params[1], fitting_params[2], \n",
    "                  fitting_params[3], fitting_params[4], fitting_params[5], fitting_params[6])\n",
    "    \n",
    "    y_fit = double_lorentz(freq, fitting_params[0], fitting_params[1], fitting_params[2], \n",
    "                  fitting_params[3], fitting_params[4], fitting_params[5], fitting_params[6])\n",
    "    \n",
    "    ax2.plot(high_res_freq, y_fit_high_res, color='k', label='Double Lorentz \\nfitting')\n",
    "    ax2.legend()\n",
    "    \n",
    "    return(ax2, y_fit)"
   ]
  },
  {
   "cell_type": "markdown",
   "id": "behavioral-survivor",
   "metadata": {},
   "source": [
    "*************************************************************************************************************************************************************************************"
   ]
  },
  {
   "cell_type": "markdown",
   "id": "applicable-recall",
   "metadata": {},
   "source": [
    "### Full CW ODMR Analysis\n",
    "\n",
    "This should be a fairly base level referenced ODMR dataset analysis. From this, we should be able to reshape, normalise and plot the ODMR data.  \n",
    "Additionally, I should be able to extract the Double Lorentz fitting of the dataset as it is needed for some of the further analysis."
   ]
  },
  {
   "cell_type": "markdown",
   "id": "compressed-municipality",
   "metadata": {},
   "source": [
    "*****************************************************************"
   ]
  },
  {
   "cell_type": "code",
   "execution_count": 14,
   "id": "thermal-sample",
   "metadata": {},
   "outputs": [
    {
     "name": "stdout",
     "output_type": "stream",
     "text": [
      "1 131 100\n",
      "[2.864, 2.873]\n",
      "25000.0\n",
      "0.008803335198058867 0.013878369126543064\n"
     ]
    },
    {
     "data": {
      "image/png": "[encoded data removed]",
      "text/plain": [
       "<Figure size 864x576 with 1 Axes>"
      ]
     },
     "metadata": {
      "needs_background": "light"
     },
     "output_type": "display_data"
    }
   ],
   "source": [
    "#######\n",
    " # This portion of the code produced the ODMR data plotting and the double lorentz fitting and \n",
    " # Saves this data into a text file and the 2 plots generated. \n",
    "#######\n",
    "\n",
    "date = '20210928' # Date on folder in which the experimental data is saved. \n",
    "set_plot_params()\n",
    "\n",
    "# Load in the data file into an np array, and freqeuncy scan parameters \n",
    "# into a pandas array.\n",
    "folder_path = 'I:\\\\Science\\\\Physics-Nanobiophotonics\\\\Group\\\\User Data\\\\ODMR\\\\ODMR and imaging\\\\2021\\\\' + date + '\\\\'\n",
    "#folder_path = 'I:\\\\Science\\\\Physics-Nanobiophotonics\\\\Group\\\\User Data\\\\ODMR\\\\Imaging\\\\'\n",
    "\n",
    "data_set = '_referenced_odmr_03' # Short hand for the file name. \n",
    "\n",
    "# Set the file names for all 4 data sets recorded from the experiment. \n",
    "file_name_ODMR1 = date + data_set + '_ODMR1.dat'\n",
    "file_name_ODMR2 = date + data_set + '_ODMR2.dat'\n",
    "file_name_Ref1 = date + data_set  + '_Ref1.dat'\n",
    "file_name_Ref2 = date + data_set  + '_Ref2.dat'\n",
    "\n",
    "# Extract the ODMR and reference datasets from the data we are looking at. \n",
    "odmr_data = load_data(folder_path + file_name_ODMR1)\n",
    "reference_data = load_data(folder_path + file_name_Ref1)\n",
    "\n",
    "# Get the parameters for the experiment. \n",
    "params_file = load_params(folder_path + date  + data_set + '_Params.txt')\n",
    "params_values = params_file['Parameter value']\n",
    "\n",
    "# Create the freqeuncy scan array. \n",
    "# Freq scan = frequency scan actually used in experiment, frreq = scan without triggering problems. \n",
    "freq = create_freq_scan(params_values[0], params_values[1], params_values[2])\n",
    "\n",
    "# Dwell time of the measurment \n",
    "dwell_time = params_values[3]\n",
    "\n",
    "# Reshape the ODMR and reference datasets. \n",
    "odmr_data, reference_data = reshape_data(reference_data, odmr_data, params_values)\n",
    "\n",
    "# Normalise the ODMR data against the reference data. \n",
    "normalised_ODMR = normalise_data(reference_data, odmr_data)\n",
    "\n",
    "# Mean of the normalise dataset. \n",
    "# mean_odmr_freq_points = mean for all the points recorded per frequnecy, but not linescans. \n",
    "# mean_norm_odmr_full = Mean fluorescence value for all ODMR data points taken per freq. \n",
    "mean_odmr_freq_points, mean_norm_odmr_full_disordered = mean_data(normalised_ODMR)\n",
    "mean_norm_odmr_full = np.roll(mean_norm_odmr_full_disordered, 1)\n",
    "\n",
    "# Plot the mean normalised dataset as a scatter plot. \n",
    "fig1, ax1 = normalised_scatter_plot(freq, mean_norm_odmr_full)\n",
    "\n",
    "# find the freqeuncy points with the highest ODMR contrast\n",
    "freq_mins, dip_depth, flourescent_baseline = get_init_params(mean_norm_odmr_full, freq)\n",
    "print(freq_mins)\n",
    "\n",
    "\n",
    "# create the initial parameters for ODMR double lorentzian \n",
    "# line fitting\n",
    "init_params = [dip_depth[0], freq_mins[0], 0.005, dip_depth[1], freq_mins[1], 0.005, flourescent_baseline]\n",
    "#init_params = [-0.8, 2.86, 0.005, dip_depth[1], 2.87, 0.005, flourescent_baseline]\n",
    "\n",
    "# Set the upper and lower bounds for the fitting algorithm. \n",
    "lower_bounds = [-np.inf, init_params[1] - 0.01, 0, -np.inf, init_params[4] - 0.01, 0, 0]\n",
    "upper_bounds = [np.inf, init_params[1] + 0.01, 1, np.inf, init_params[4] + 0.01, 1, np.inf]\n",
    "\n",
    "# generate the optimised curve fit parameters. \n",
    "fitting_params, error_in_fit = optimised_lorentz_fit(freq, mean_norm_odmr_full, init_params,\n",
    "                                                    lower_bounds, upper_bounds)\n",
    "\n",
    "# plot the fitting to ax1\n",
    "ax1, y_fit = plot_fitting(ax1, freq, params_values[3])\n",
    "print(dwell_time)\n",
    "print(fitting_params[2], fitting_params[5])"
   ]
  },
  {
   "cell_type": "markdown",
   "id": "hidden-necklace",
   "metadata": {},
   "source": [
    "***"
   ]
  },
  {
   "cell_type": "markdown",
   "id": "better-joseph",
   "metadata": {},
   "source": [
    "### Begin the 4 point ODMR Analysis\n",
    "\n",
    "Here I plan to:\n",
    "1. Read in the 4 point ODMR data and the corresponding reference dataset.\n",
    "2. Plot the normalised 4 point ODMR dataset against the fitted double Lorentz curve along with the intensitied of the 4 frequency points as expected from the fitted curve. \n",
    "3. Perform the analysis of the 4 point ODMR data using the method propsed by Fujiwara et al (2020).\n",
    "4. perform the analysis of the 4 point ODMR dataset using the method proposed by Singam et al (2019). \n",
    "\n",
    "I will aim to make both the analysis methods such that it can take both a single mean value from the dataset and can analyse the full dataset to give a mean value for the T (or $\\delta$D) and the standard deviation in the recorded values. This allows us to apply an error value to the recorded datapoints, which is probably a good thing.  "
   ]
  },
  {
   "cell_type": "code",
   "execution_count": 15,
   "id": "entitled-threat",
   "metadata": {},
   "outputs": [],
   "source": [
    "def normalise_data_error_propogation(norm_odmr_4_point, four_point_reference_data, four_point_odmr_data, repeats):\n",
    "    '''Calculating the error associated with each of the individual repeats of the 4 frequnecy points in the dataset.'''\n",
    "    \n",
    "    mean_norm_4_point_intensity = np.mean(four_point_odmr_data, axis = 2)\n",
    "    mean_norm_4_point_ref_intensity = np.mean(four_point_reference_data, axis = 2)\n",
    "    \n",
    "    delta_I_odmr = (2.2 * np.sqrt(mean_norm_4_point_intensity))/(mean_norm_4_point_intensity*np.sqrt(repeats))\n",
    "    delta_I_ref = (2.2 * np.sqrt(mean_norm_4_point_ref_intensity))/(mean_norm_4_point_ref_intensity*np.sqrt(repeats))\n",
    "    \n",
    "    delta_I_normalised = norm_odmr_4_point * np.sqrt(delta_I_odmr**2 + delta_I_ref**2)\n",
    "    \n",
    "    return(delta_I_normalised)"
   ]
  },
  {
   "cell_type": "code",
   "execution_count": 16,
   "id": "supported-panel",
   "metadata": {},
   "outputs": [],
   "source": [
    "def get_two_freqs(four_freqs, f_step):\n",
    "    '''Find the mean applied frequencies needed for Singam analysis. '''\n",
    "    \n",
    "    # Calculate the mean applied frequencies\n",
    "    f_minus = (four_freqs[0] + four_freqs[1])/2\n",
    "    f_plus = (four_freqs[2] + four_freqs[3])/2\n",
    "    \n",
    "    # Find the difference in frequency points applied. \n",
    "    delta_applied_f = f_plus - f_minus\n",
    "    \n",
    "    # Find the frequency difference in terms of indicies in the frequency array. \n",
    "    indice_shift = int(delta_applied_f/(f_step*0.001))\n",
    "    \n",
    "    return(f_minus, f_plus, indice_shift)   "
   ]
  },
  {
   "cell_type": "code",
   "execution_count": 17,
   "id": "legislative-pizza",
   "metadata": {},
   "outputs": [],
   "source": [
    "def get_two_reference_intensities(two_freqs, y_fit, freq):\n",
    "    '''From the double lonentz fitting for the ODMR curve get the two intensities \n",
    "    that correspond to the two applied frequencies.'''\n",
    "    \n",
    "    indicies = []\n",
    "    \n",
    "    # Find the two frequencies indices in the frequency array. \n",
    "    indicies.append(np.abs(freq - two_freqs[0]).argmin())\n",
    "    indicies.append(np.abs(freq - two_freqs[1]).argmin())\n",
    "    \n",
    "    # Find the reference intensities from the y fit\n",
    "    reference_intensities = np.array([y_fit[indicies[0]], y_fit[indicies[1]]])\n",
    "    \n",
    "    # Ccalculate the reference intensity differences\n",
    "    reference_I_diff = reference_intensities[0] - reference_intensities[1]\n",
    "\n",
    "    return(reference_intensities, reference_I_diff)"
   ]
  },
  {
   "cell_type": "code",
   "execution_count": 18,
   "id": "greater-spank",
   "metadata": {},
   "outputs": [],
   "source": [
    "def get_two_measured_intensities(four_freq_intensities, intensity_errors):\n",
    "    '''Get the two Intensities corresponding to the two frequencies used in the singam analysis'''\n",
    "    \n",
    "    # Caluclate the mean intensity for the straight line plots on the \n",
    "    # negative gradient of the ODMR dip. \n",
    "    I_minus = (four_freq_intensities[0] + four_freq_intensities[1])/2\n",
    "    I_minus_error = np.sqrt(np.power(intensity_errors[0],2) + np.power(intensity_errors[1],2))\n",
    "    \n",
    "    I_plus = (four_freq_intensities[2] + four_freq_intensities[3])/2\n",
    "    I_plus_error = np.sqrt(np.power(intensity_errors[2],2) + np.power(intensity_errors[3],2))\n",
    "    \n",
    "    return(I_minus, I_minus_error, I_plus, I_plus_error)"
   ]
  },
  {
   "cell_type": "code",
   "execution_count": 19,
   "id": "foreign-gender",
   "metadata": {},
   "outputs": [],
   "source": [
    "def calc_measured_I_diff(I_minus, I_minus_error, I_plus, I_plus_error):\n",
    "    '''Find the difference in the measured intensity from the 4 point ODMR measurement.'''\n",
    "    \n",
    "    I_diff = (I_minus - I_plus)\n",
    "    error_I_diff = np.sqrt(np.power(I_minus_error, 2) + np.power(I_plus_error, 2))\n",
    "    \n",
    "    return(I_diff, error_I_diff)"
   ]
  },
  {
   "cell_type": "code",
   "execution_count": 20,
   "id": "dutch-album",
   "metadata": {},
   "outputs": [],
   "source": [
    "def singam_subtraction_array(y_fit, f_step, freq, index_shift):\n",
    "    '''We create the arrays for the subtraction curve used as a reference to determine the shift in the frequency of the ODMR curve.'''\n",
    "    \n",
    "    # find the length of the array - the difference between \n",
    "    # indcies for f_plus and f_minus\n",
    "    subtraction_curve_length = len(freq) - index_shift\n",
    "    \n",
    "    # Create variables for subtraction plot. \n",
    "    y_fit_subtract = []\n",
    "    \n",
    "    # Here we create an array for the double lorentz fitting \n",
    "    # in which we perform the following calc. \n",
    "    # I_subtract = I(0) - I(index shift)\n",
    "    for i in range(subtraction_curve_length):\n",
    "        y_fit_subtract.append(y_fit[i] - y_fit[i + index_shift])\n",
    "    \n",
    "    # Turn the list into an array. \n",
    "    y_fit_subtract = np.array(y_fit_subtract)\n",
    "\n",
    "    \n",
    "    # create a frequnecy subtraction array for the above. \n",
    "    freq_sub_array = np.linspace(0, subtraction_curve_length-1, subtraction_curve_length)\n",
    "    freq_sub_array = (freq_sub_array - int(subtraction_curve_length/2))*f_step\n",
    "    \n",
    "    return(y_fit_subtract, freq_sub_array)"
   ]
  },
  {
   "cell_type": "code",
   "execution_count": 21,
   "id": "bored-romania",
   "metadata": {},
   "outputs": [],
   "source": [
    "def singam_extract_linear(f_step, y_fit_subtract):\n",
    "    '''Here we extract the linear part of the subtracting curve as created in the above method.'''\n",
    "    \n",
    "    # How many frequnecy steps are needed to generate a +/- 3MHz region of the data\n",
    "    pm_3_mhz = int(3/f_step)\n",
    "    \n",
    "    # find the max and min for the subtracted ODMR curve. \n",
    "    maxima = np.where(y_fit_subtract == np.max(y_fit_subtract))[0]\n",
    "    minima = np.where(y_fit_subtract == np.min(y_fit_subtract))[0]\n",
    "    \n",
    "    # find the frequnecy equvilent to the point at which I(f1) and I(f4) are equal. \n",
    "    zero_intensity_freq = np.abs(y_fit_subtract[maxima[0]:minima[0]] - 0.00).argmin() + maxima[0]\n",
    "\n",
    "    # the limits of the straight line portion of the subtracted ODMR curve. \n",
    "    min_index = zero_intensity_freq-pm_3_mhz\n",
    "    max_index = zero_intensity_freq+pm_3_mhz\n",
    "    \n",
    "    return(zero_intensity_freq, max_index, min_index)"
   ]
  },
  {
   "cell_type": "code",
   "execution_count": 22,
   "id": "verbal-planning",
   "metadata": {},
   "outputs": [],
   "source": [
    "def straight_line(x, m, c):\n",
    "    '''y = mx + c'''\n",
    "    y = m*x + c\n",
    "    return(y)"
   ]
  },
  {
   "cell_type": "code",
   "execution_count": 23,
   "id": "cordless-employer",
   "metadata": {},
   "outputs": [],
   "source": [
    "def singam_analysis_3(delta_I_measured, error_delta_I, delta_I_ref, linear_fit_params, linear_fit_errors):\n",
    "\n",
    "#(mean_norm_4_point_odmr_full, error_4_points, linear_fit_params, linear_fit_errors, y_fit, nd_locs):\n",
    "    '''Here we perform the analysis of the 4 point ODMR dataset using the method outlined in Singam's paper from 2019'''\n",
    "    \n",
    "    m = linear_fit_params[0]\n",
    "    c = linear_fit_params[1]\n",
    "    delta_m = linear_fit_errors[0]\n",
    "    delta_c = linear_fit_errors[1]\n",
    "    \n",
    "    measured_freq_change = (delta_I_measured - c)/m\n",
    "    error_part_1 = np.sqrt(np.power(error_delta_I, 2) + np.power(delta_c, 2))\n",
    "    \n",
    "    error_part_2 = measured_freq_change * (np.sqrt(np.power((error_part_1/(delta_I_measured - c)), 2) + \n",
    "                                                  np.power((delta_m/m),2)))\n",
    "    \n",
    "    # Calculate the fitting frequency difference. \n",
    "    reference_freq_change = (delta_I_ref - c)/m\n",
    "\n",
    "    return(measured_freq_change, error_part_2, reference_freq_change)"
   ]
  },
  {
   "cell_type": "code",
   "execution_count": 24,
   "id": "numerical-genome",
   "metadata": {},
   "outputs": [],
   "source": [
    "def save_data(file_ID, date, dwell_time, repeats, deltaD, error_deltaD, deltaT, error_deltaT, mean_intensity, analysis_type):\n",
    "    '''Save the data in a .txt file. The analysis method determines what file the data is saved to. \n",
    "    We are saving: the file name, Dwell time in ms, Resonant frequency from temperature measurement theory D(T), STD(D(T)), Approx temperature change T, \n",
    "    STD(T), mean Intensity per measurement, sqrt Intensity'''\n",
    "    \n",
    "    destination_folder = 'I:\\\\Science\\\\Physics-Nanobiophotonics\\\\Group\\\\User Data Analysis\\\\Ryans Data (2018-2021)\\\\ODMR\\\\' + date + '\\\\' \n",
    "    output_data_file = destination_folder + date + '_' + analysis_type + '_reference_4_point_analysis.dat'\n",
    "    \n",
    "    # Checking to see if the folder exists in which to save the data, and creating it if it does not\n",
    "    if not os.path.exists(destination_folder):\n",
    "        os.makedirs(destination_folder)\n",
    "        # Checking the output file exists and creating and initialising it if not\n",
    "    \n",
    "    if os.path.isfile(output_data_file) == False:\n",
    "        with open(output_data_file, \"w\") as wf:\n",
    "            wf.write('File name'  + ' \\t' + 'Dwell Time (ms)' + ' \\t' + 'Repeats per applied freq' + '\\t' + \n",
    "                     'Calculated change in res freq (kHz)' + ' \\t' + 'error Calculated change in res freq (kHz)' + ' \\t' +\n",
    "                     'Change in Temp (oC)' + ' \\t' + 'error Change in Temp (oC)' + ' \\t' + \n",
    "                     'Mean Intensity (counts per dwell time)' + ' \\t' +\n",
    "                     'SQRT(Mean Intensity (sqrt(counts per dwell time)))' + '\\n')\n",
    "\n",
    "    with open(output_data_file, \"a\") as wf:\n",
    "        wf.write(date+file_ID  + '\\t' +\n",
    "                 str(dwell_time) + \" \\t\"  +  str(repeats) + '\\t' +\n",
    "                 str(deltaD*1000) + \" \\t\" +  str(error_deltaD*1000) + ' \\t' +\n",
    "                 str(deltaT) + \" \\t\" +  str(error_deltaT) + \" \\t\" + str(mean_intensity) + \" \\t\"  + \n",
    "                 str(np.sqrt(np.round(mean_intensity, 3))) + '\\n')        \n",
    "    "
   ]
  },
  {
   "cell_type": "markdown",
   "id": "hawaiian-budapest",
   "metadata": {},
   "source": [
    "*** \n",
    "### Here we analyse the 4 point referenced ODMR data\n",
    "***"
   ]
  },
  {
   "cell_type": "code",
   "execution_count": 103,
   "id": "third-french",
   "metadata": {},
   "outputs": [
    {
     "name": "stdout",
     "output_type": "stream",
     "text": [
      "1 4 250\n",
      "[[38428.116 40097.5   40580.004 39039.644]]\n",
      "[[431.2679926  440.53592362 443.17854118 434.68595211]]\n",
      "[2.801 2.802]\n",
      "[60 62 78 80]\n"
     ]
    },
    {
     "data": {
      "text/plain": [
       "Text(0, 0.5, 'Normalised Counts (A.U.)')"
      ]
     },
     "execution_count": 103,
     "metadata": {},
     "output_type": "execute_result"
    },
    {
     "data": {
      "image/png": "[encoded data removed]",
      "text/plain": [
       "<Figure size 864x576 with 1 Axes>"
      ]
     },
     "metadata": {
      "needs_background": "light"
     },
     "output_type": "display_data"
    }
   ],
   "source": [
    "#######\n",
    " # This portion of the code produced the ODMR data plotting and the double lorentz fitting and \n",
    "#######\n",
    "\n",
    "# Load in the data file into an np array, and freqeuncy scan parameters \n",
    "# into a pandas array.\n",
    "\n",
    "four_point_data_set = '_4_point_referenced_odmr_42' # Short hand for the file name. \n",
    "\n",
    "# Set the file names for all 4 data sets recorded from the experiment. \n",
    "four_point_file_name_ODMR1 = date + four_point_data_set + '_ODMR1.dat'\n",
    "four_point_file_name_ODMR2 = date + four_point_data_set + '_ODMR2.dat'\n",
    "four_point_file_name_Ref1 = date + four_point_data_set  + '_Ref1.dat'\n",
    "four_point_file_name_Ref2 = date + four_point_data_set  + '_Ref2.dat'\n",
    "\n",
    "# Extract the ODMR and reference datasets from the data we are looking at. \n",
    "four_point_odmr_data = load_data(folder_path + four_point_file_name_ODMR1)\n",
    "four_point_reference_data = load_data(folder_path + four_point_file_name_Ref1)\n",
    "\n",
    "# Get the parameters for the experiment. \n",
    "four_point_params_file = load_params(folder_path + date  + four_point_data_set + '_Params.txt')\n",
    "four_point_params_values = four_point_params_file['Parameter value']\n",
    "\n",
    "# Need to have the four_freqs array layered as follows [F1, F2, F3, F4] due to riggering problems in the software.  \n",
    "four_freqs = [2.860 ,2.862, 2.878, 2.88]\n",
    "repeats = four_point_params_values[8]\n",
    "\n",
    "# Reshape the data so that it can be used for the following script. \n",
    "four_point_odmr_data, four_point_reference_data = reshape_data(four_point_reference_data, \n",
    "                                                               four_point_odmr_data, four_point_params_values)\n",
    "\n",
    "mean_total_intensity = np.mean(four_point_reference_data)\n",
    "\n",
    "mean_four_point_intensity = np.mean(four_point_odmr_data, axis = 2)\n",
    "mean_reference_intensity = np.mean(four_point_reference_data, axis = 2)\n",
    "\n",
    "# Generate the error arrays for the ODMR and reference data. \n",
    "four_points_ODMR_error = 2.2 * np.sqrt(mean_four_point_intensity) # shot noise limit approximation\n",
    "four_points_reference_error = 2.2 * np.sqrt(mean_reference_intensity) # shot noise limit approximation\n",
    "\n",
    "print(np.mean(four_point_odmr_data, axis = 2))\n",
    "print(four_points_ODMR_error)\n",
    "\n",
    "\n",
    "# Normalise the ODMR data against the reference data. \n",
    "norm_odmr_4_point = normalise_data(four_point_reference_data, four_point_odmr_data)\n",
    "# Mean of the normalise dataset.\n",
    "mean_odmr_4_point_freq_points, mean_norm_4_point_odmr = mean_data(norm_odmr_4_point)\n",
    "\n",
    "# Find the error for the normaised dataset. \n",
    "norm_ODMR_errors = normalise_data_error_propogation(np.mean(norm_odmr_4_point, axis = 2), \n",
    "                                                              four_point_reference_data, four_point_odmr_data,\n",
    "                                                             repeats)\n",
    "\n",
    "# roll the values +1 spaces in the array to correct for problems in the measurement regime. \n",
    "mean_norm_4_point_odmr = np.roll(mean_norm_4_point_odmr, 1)\n",
    "norm_ODMR_errors = np.roll(norm_ODMR_errors, 1)\n",
    "\n",
    "#plot.plot(freq[45*7:90*7], y_fit[45*7:90*7], color = 'k')\n",
    "print(freq[1:3])\n",
    "indices = []\n",
    "indices.append((np.abs(freq - four_freqs[0])).argmin())\n",
    "indices.append((np.abs(freq - four_freqs[1])).argmin())\n",
    "indices.append((np.abs(freq - four_freqs[2])).argmin())\n",
    "indices.append((np.abs(freq - four_freqs[3])).argmin())\n",
    "\n",
    "indices = np.array(indices)\n",
    "print(indices)\n",
    "plot.scatter(freq[45:90], y_fit[45:90])\n",
    "plot.scatter(freq[indices], y_fit[indices], marker = 'o')\n",
    "\n",
    "plot.errorbar(four_freqs, mean_norm_4_point_odmr, norm_ODMR_errors[0], color = 'r', marker = 'x',\n",
    "             linestyle = '')\n",
    "plot.xlabel('Microwave Frequency (GHz)')\n",
    "plot.ylabel('Normalised Counts (A.U.)')\n"
   ]
  },
  {
   "cell_type": "code",
   "execution_count": null,
   "id": "charged-casting",
   "metadata": {},
   "outputs": [],
   "source": []
  },
  {
   "cell_type": "markdown",
   "id": "numerical-nelson",
   "metadata": {},
   "source": [
    "***"
   ]
  },
  {
   "cell_type": "markdown",
   "id": "changed-spyware",
   "metadata": {},
   "source": [
    "### Singam Analysis\n",
    "***"
   ]
  },
  {
   "cell_type": "code",
   "execution_count": 104,
   "id": "former-september",
   "metadata": {},
   "outputs": [
    {
     "data": {
      "image/png": "[encoded data removed]",
      "text/plain": [
       "<Figure size 864x576 with 1 Axes>"
      ]
     },
     "metadata": {
      "needs_background": "light"
     },
     "output_type": "display_data"
    }
   ],
   "source": [
    "# Analyisis type \n",
    "analysis_type = 'Singam_analysis_thesis_script'\n",
    "\n",
    "# Find the mean frequency measured on either side of the ODMR dip.\n",
    "f_minus, f_plus, index_shift = get_two_freqs(four_freqs, params_values[2])\n",
    "\n",
    "# Find the corresponding mean intensity from the four point \n",
    "# ODMR data. \n",
    "I_minus, I_minus_error, I_plus, I_plus_error = get_two_measured_intensities(mean_norm_4_point_odmr, \n",
    "                                                                            norm_ODMR_errors[0])\n",
    "\n",
    "# Find the reference intensity from the y_fit data to be used for the Signam analysis\n",
    "# as well as the intensity difference between the two points for the steady state. \n",
    "reference_intensities, reference_I_diff = get_two_reference_intensities([f_minus, f_plus], y_fit, freq) \n",
    "\n",
    "# Caclulate the difference between the two mean intensities from the \n",
    "# two sides of the ODMR dip. \n",
    "I_diff, error_I_diff = calc_measured_I_diff(I_minus, I_minus_error, I_plus, I_plus_error)\n",
    "\n",
    "# Create the subtraction plots (see plot for what this looks like).\n",
    "y_fit_subtract, freq_sub_array = singam_subtraction_array(y_fit, params_values[2], freq, index_shift)\n",
    "\n",
    "# Find the indicies corresponding to the maxima and minima of the y_fit subtracted lineshape.\n",
    "# Also have the index corresponding to I(f1) - I(f2) = 0\n",
    "zero_intensity_freq, max_index, min_index = singam_extract_linear(params_values[2], y_fit_subtract)\n",
    "\n",
    "# Fit a straight line fit to the linear part of the subtraction curve. \n",
    "p0 = [0,0]\n",
    "fit_coeffs, confidence = opt.curve_fit(straight_line, freq_sub_array[min_index:max_index], y_fit_subtract[min_index:max_index], p0)\n",
    "linear_fit_errors = np.sqrt(np.diag(confidence))\n",
    "\n",
    "# Generate a high resolution x and y straight line fit for the linear portion of the subtraction curve. \n",
    "freq_high_res = np.linspace(freq_sub_array[min_index], freq_sub_array[max_index], 1000)\n",
    "linear_fit = straight_line(freq_high_res, fit_coeffs[0], fit_coeffs[1])\n",
    "\n",
    "plot.plot(freq_sub_array, y_fit_subtract)\n",
    "plot.plot(freq_high_res, linear_fit)\n",
    "\n",
    "measured_freq_change, error_measured_freq_change, reference_freq_change = singam_analysis_3(I_diff, \n",
    "                                                                              error_I_diff, \n",
    "                                                                              reference_I_diff,\n",
    "                                                                              fit_coeffs, linear_fit_errors)\n",
    "\n",
    "calculated_freq_change = reference_freq_change - measured_freq_change\n",
    "\n",
    "# Calculated temperature change and error. \n",
    "# 0.075kHzK^-1 Acosta et al's measurement of change in res freq of NV\n",
    "# with temperature. \n",
    "deltaT = calculated_freq_change / 0.075 \n",
    "error_deltaT = deltaT * (error_measured_freq_change/calculated_freq_change)\n",
    "\n",
    "save_data(four_point_data_set, date, dwell_time, repeats, calculated_freq_change, error_measured_freq_change, \n",
    "          deltaT, error_deltaT, mean_total_intensity, analysis_type)\n",
    "#print(str(measured_freq_change - reference_freq_change) + 'MHz')\n",
    "#print(error_measured_freq_change)"
   ]
  },
  {
   "cell_type": "code",
   "execution_count": 72,
   "id": "horizontal-starter",
   "metadata": {
    "jupyter": {
     "source_hidden": true
    }
   },
   "outputs": [
    {
     "ename": "NameError",
     "evalue": "name 'singam_freq_diff' is not defined",
     "output_type": "error",
     "traceback": [
      "\u001b[1;31m---------------------------------------------------------------------------\u001b[0m",
      "\u001b[1;31mNameError\u001b[0m                                 Traceback (most recent call last)",
      "\u001b[1;32m<ipython-input-72-02b07295acbd>\u001b[0m in \u001b[0;36m<module>\u001b[1;34m\u001b[0m\n\u001b[0;32m      2\u001b[0m \u001b[1;33m\u001b[0m\u001b[0m\n\u001b[0;32m      3\u001b[0m \u001b[1;31m# Get the mean frequency values and the number of frequency steps between the two mean freq values.\u001b[0m\u001b[1;33m\u001b[0m\u001b[1;33m\u001b[0m\u001b[1;33m\u001b[0m\u001b[0m\n\u001b[1;32m----> 4\u001b[1;33m \u001b[0mf_minus\u001b[0m\u001b[1;33m,\u001b[0m \u001b[0mf_plus\u001b[0m\u001b[1;33m,\u001b[0m \u001b[0mindex_shift\u001b[0m \u001b[1;33m=\u001b[0m \u001b[0msingam_freq_diff\u001b[0m\u001b[1;33m(\u001b[0m\u001b[0mfour_freqs\u001b[0m\u001b[1;33m,\u001b[0m \u001b[0mparams_values\u001b[0m\u001b[1;33m[\u001b[0m\u001b[1;36m2\u001b[0m\u001b[1;33m]\u001b[0m\u001b[1;33m)\u001b[0m\u001b[1;33m\u001b[0m\u001b[1;33m\u001b[0m\u001b[0m\n\u001b[0m\u001b[0;32m      5\u001b[0m \u001b[1;31m# Create the subtraction plots (see plot for what this looks like).\u001b[0m\u001b[1;33m\u001b[0m\u001b[1;33m\u001b[0m\u001b[1;33m\u001b[0m\u001b[0m\n\u001b[0;32m      6\u001b[0m \u001b[0my_fit_subtract\u001b[0m\u001b[1;33m,\u001b[0m \u001b[0mfreq_sub_array\u001b[0m \u001b[1;33m=\u001b[0m \u001b[0msingam_subtraction_array\u001b[0m\u001b[1;33m(\u001b[0m\u001b[0my_fit\u001b[0m\u001b[1;33m,\u001b[0m \u001b[0mparams_values\u001b[0m\u001b[1;33m[\u001b[0m\u001b[1;36m2\u001b[0m\u001b[1;33m]\u001b[0m\u001b[1;33m,\u001b[0m \u001b[0mfreq\u001b[0m\u001b[1;33m,\u001b[0m \u001b[0mindex_shift\u001b[0m\u001b[1;33m)\u001b[0m\u001b[1;33m\u001b[0m\u001b[1;33m\u001b[0m\u001b[0m\n",
      "\u001b[1;31mNameError\u001b[0m: name 'singam_freq_diff' is not defined"
     ]
    }
   ],
   "source": [
    "# Analysis of the 4 point ODMR is a little more challenging using the Singam protocol.\n",
    "\n",
    "# Get the mean frequency values and the number of frequency steps between the two mean freq values. \n",
    "f_minus, f_plus, index_shift = singam_freq_diff(four_freqs, params_values[2])\n",
    "# Create the subtraction plots (see plot for what this looks like).\n",
    "y_fit_subtract, freq_sub_array = singam_subtraction_array(y_fit, params_values[2], freq, index_shift)\n",
    "\n",
    "plot.plot(freq_sub_array, y_fit_subtract)\n",
    "plot.xlabel('Subtracted frequency (MHz)')\n",
    "plot.ylabel('Intensity differences (A.U.)')\n",
    "plot.title('Subtracted ODMR curve')\n",
    "plot.show()\n",
    "\n",
    "# Find the indicies corresponding to the maxima and minima of the y_fit subtracted lineshape.\n",
    "# Also have the index corresponding to I(f1) - I(f2) = 0\n",
    "zero_intensity_freq, max_index, min_index = singam_extract_linear(params_values[2], y_fit_subtract)\n",
    "\n",
    "# Fit a straight line fit to the linear part of the subtraction curve. \n",
    "p0 = [0,0]\n",
    "fit_coeffs, confidence = opt.curve_fit(straight_line, freq_sub_array[min_index:max_index], y_fit_subtract[min_index:max_index], p0)\n",
    "linear_fit_errors = np.sqrt(np.diag(confidence))\n",
    "\n",
    "print(fit_coeffs, linear_fit_errors)\n",
    "\n",
    "# Generate a high resolution x and y straight line fit for the linear portion of the subtraction curve. \n",
    "freq_high_res = np.linspace(freq_sub_array[min_index], freq_sub_array[max_index], 1000)\n",
    "linear_fit = straight_line(freq_high_res, fit_coeffs[0], fit_coeffs[1])\n",
    "\n",
    "# Find the location of F_plus and F_minus in the normal frequency array. \n",
    "two_freq_locs = []\n",
    "for i in range(2):\n",
    "    a = ((four_freqs[i*2] + four_freqs[i*2 + 1])/2)\n",
    "    two_freq_locs.append(np.abs(np.round(freq, 5) - a).argmin())\n",
    "\n",
    "\n",
    "\n",
    "# Plot the high resolution straight line fit.\n",
    "plot.plot(freq_high_res, linear_fit)\n",
    "# Plot the points used to generate the original y_fit_subtraction curve. \n",
    "plot.scatter(freq_sub_array[min_index:max_index], y_fit_subtract[min_index:max_index])    \n",
    "\n",
    "# Perform the Singam analysis for the mean of the 2 mean values from the 4 point ODMR data. Plus error analysis. \n",
    "I_diff_2_points, error_I_diff_mean, I_diff_mean_ref, two_point_freq_shift, error_two_point_freq_shift, singam_reference_value = singam_analysis_2(mean_norm_4_point_odmr, \n",
    "                                                                                                                               four_point_mean_norm_error, \n",
    "                                                                                                                               fit_coeffs, \n",
    "                                                                                                                               linear_fit_errors, \n",
    "                                                                                                                               y_fit, two_freq_locs)\n",
    "\n",
    "print(two_point_freq_shift, error_two_point_freq_shift, singam_reference_value)                                                                                                                               \n",
    "\n",
    "# plot the reference value and the subtraction curve sampling points. \n",
    "plot.errorbar(two_point_freq_shift, I_diff_2_points, error_I_diff_mean, \n",
    "              marker = 'x', label = 'T shift', color = 'k')\n",
    "plot.scatter(singam_reference_value, I_diff_mean_ref, marker = 'x', label = 'ref')\n",
    "plot.xlabel('Frequnecy Difference (MHz)')\n",
    "plot.ylabel('Intensity Difference (Normalised Counts)')\n",
    "plot.title('Singam et al. T sensing calibration graph')\n",
    "plot.legend()\n",
    "\n",
    "# find the change in the resonant frequnecy of the NV centres from the reference.\n",
    "delta_f_singam_plus_error =  (two_point_freq_shift + error_two_point_freq_shift) - singam_reference_value # MHz\n",
    "delta_f_singam_minus_error = (two_point_freq_shift - error_two_point_freq_shift) - singam_reference_value # MHz\n",
    "\n",
    "mean_delta_f_singam = (delta_f_singam_plus_error + delta_f_singam_minus_error)/2\n",
    "error_delta_f_singam = np.abs(delta_f_singam_plus_error - delta_f_singam_minus_error)\n",
    "\n",
    "print(delta_f_singam_plus_error, delta_f_singam_minus_error)\n",
    "# Find the temperature change in the sample. \n",
    "delta_T_singam = mean_delta_f_singam/(-0.075)\n",
    "print(delta_T_singam, error_delta_f_singam/(-0.075))\n",
    "\n",
    "try: \n",
    "    delta_f_singam_store.append(mean_delta_f_singam) # MHz\n",
    "    delta_T_singam_store.append(delta_T_singam) # Kelvin\n",
    "except:\n",
    "    delta_f_singam_store = []\n",
    "    delta_T_singam_store = []\n",
    "    delta_f_singam_store.append(mean_delta_f_singam)\n",
    "    delta_T_singam_store.append(delta_T_singam)\n",
    "\n",
    "#print(two_point_freq_shift, singam_reference_value)\n",
    "\n",
    "analysis_type = 'Singam_2019_2__T_sensing_'\n",
    "    \n",
    "#save_data(four_point_data_set, date, four_point_params_values[3]/1000, four_point_params_values[8],\n",
    "#          two_point_freq_shift, error_two_point_freq_shift[0], delta_T_singam[0], error_delta_f_singam[0], np.mean(four_point_reference_data), analysis_type)\n",
    "\n",
    "#print(delta_f_singam_store)\n",
    "#print(delta_T_singam_store)"
   ]
  },
  {
   "cell_type": "markdown",
   "id": "fundamental-clone",
   "metadata": {},
   "source": [
    "***"
   ]
  },
  {
   "cell_type": "code",
   "execution_count": 44,
   "id": "dynamic-deployment",
   "metadata": {},
   "outputs": [
    {
     "name": "stdout",
     "output_type": "stream",
     "text": [
      "-0.12725355779274775\n",
      "0.023286529999436322\n"
     ]
    }
   ],
   "source": [
    "print(np.mean(delta_f_singam_store))\n",
    "print(np.std(delta_f_singam_store))"
   ]
  },
  {
   "cell_type": "code",
   "execution_count": null,
   "id": "varied-chapter",
   "metadata": {},
   "outputs": [],
   "source": []
  },
  {
   "cell_type": "code",
   "execution_count": null,
   "id": "herbal-midwest",
   "metadata": {},
   "outputs": [],
   "source": []
  },
  {
   "cell_type": "code",
   "execution_count": null,
   "id": "annoying-situation",
   "metadata": {},
   "outputs": [],
   "source": []
  }
 ],
 "metadata": {
  "kernelspec": {
   "display_name": "Python 3",
   "language": "python",
   "name": "python3"
  },
  "language_info": {
   "codemirror_mode": {
    "name": "ipython",
    "version": 3
   },
   "file_extension": ".py",
   "mimetype": "text/x-python",
   "name": "python",
   "nbconvert_exporter": "python",
   "pygments_lexer": "ipython3",
   "version": "3.7.7"
  }
 },
 "nbformat": 4,
 "nbformat_minor": 5
}
