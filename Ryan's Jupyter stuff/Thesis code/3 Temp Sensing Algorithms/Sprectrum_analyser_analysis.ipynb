{
 "cells": [
  {
   "cell_type": "markdown",
   "id": "102a4dea-89ad-410c-90ab-9e07735bd600",
   "metadata": {},
   "source": [
    "# Spectrum analyser script\n",
    "\n",
    "Here is a script to analyse the results of measurements recorded using the Aim TTi spectrum analyser. "
   ]
  },
  {
   "cell_type": "code",
   "execution_count": 1,
   "id": "03bfac10-f44c-4e36-b4f4-9eceffc9a821",
   "metadata": {},
   "outputs": [],
   "source": [
    "import numpy as np \n",
    "import scipy.optimize as opt\n",
    "import matplotlib.pyplot as plot \n",
    "import pandas as pd"
   ]
  },
  {
   "cell_type": "code",
   "execution_count": null,
   "id": "a95cbf9e-9e56-4d49-b358-26a9a3a2ba1b",
   "metadata": {},
   "outputs": [],
   "source": [
    "def import_data(file_name):\n",
    "    '''Call in the data-file and save it as a pandas array.'''\n",
    "    \n",
    "    "
   ]
  },
  {
   "cell_type": "code",
   "execution_count": null,
   "id": "6edad223-9e07-4bf8-a8f7-9e81fc8534c2",
   "metadata": {},
   "outputs": [],
   "source": []
  },
  {
   "cell_type": "code",
   "execution_count": null,
   "id": "4b7fb870-0ebd-4007-8f7d-ef6c284bbc29",
   "metadata": {},
   "outputs": [],
   "source": []
  },
  {
   "cell_type": "code",
   "execution_count": null,
   "id": "76c0746d-fee3-4599-9498-bcbc9e02057f",
   "metadata": {},
   "outputs": [],
   "source": []
  }
 ],
 "metadata": {
  "kernelspec": {
   "display_name": "Python 3",
   "language": "python",
   "name": "python3"
  },
  "language_info": {
   "codemirror_mode": {
    "name": "ipython",
    "version": 3
   },
   "file_extension": ".py",
   "mimetype": "text/x-python",
   "name": "python",
   "nbconvert_exporter": "python",
   "pygments_lexer": "ipython3",
   "version": "3.7.7"
  }
 },
 "nbformat": 4,
 "nbformat_minor": 5
}
