{
 "cells": [
  {
   "cell_type": "markdown",
   "id": "copyrighted-congress",
   "metadata": {},
   "source": [
    "# Simulation of Fujiwara temperature analysis for differing gardients. \n",
    "\n",
    "Here I generate a quick simulation of what happens when the ODMR curve gradients are different either side of the central resonant frequeny and show what this does to the estimation of the shift in temperature/resonant frequency. "
   ]
  },
  {
   "cell_type": "code",
   "execution_count": 1,
   "id": "thousand-subcommittee",
   "metadata": {},
   "outputs": [],
   "source": [
    "import numpy as np \n",
    "import matplotlib.pyplot as plot"
   ]
  },
  {
   "cell_type": "code",
   "execution_count": 48,
   "id": "typical-burst",
   "metadata": {},
   "outputs": [],
   "source": [
    "def fuji_calc(I1, I2, I3, I4):\n",
    "    '''The equation for the shift in the resonant frequnecy due to temeprature shift. '''\n",
    "    \n",
    "    numerator = (I1 + I2) - (I3 + I4)\n",
    "    denominator = (I1 - I2) - (I3 - I4)\n",
    "    \n",
    "   # print(numerator , denominator)\n",
    "    y = numerator/denominator\n",
    "    return(y)"
   ]
  },
  {
   "cell_type": "code",
   "execution_count": 51,
   "id": "loving-artist",
   "metadata": {},
   "outputs": [],
   "source": [
    "# Set the intial four intenisty values to be used. \n",
    "I1 = 10000\n",
    "I2 = 9000\n",
    "I3 = 9000\n",
    "I4 = 10000\n",
    "\n",
    "delta_I1I2 = np.linspace(100, 1000, 51)\n",
    "delta_I3I4 = delta_I1I2\n",
    "\n",
    "m1_m2_ratio = np.linspace(0.5, 1.5, 11)\n",
    "\n",
    "delta_T_multiplier = np.zeros([51, 11])\n",
    "\n",
    "for j in range(len(C)):\n",
    "    for i in range(len(m1_m2_ratio)):\n",
    "        I_1 = I1 - delta_I1I2[j]\n",
    "        I_2 = I2 - delta_I1I2[j]\n",
    "        I_3 = I3 + (delta_I3I4[j] * m1_m2_ratio[i])\n",
    "        I_4 = I4 + (delta_I3I4[j] * m1_m2_ratio[i])\n",
    "    \n",
    "        delta_T_multiplier[j,i] = fuji_calc(I_1, I_2, I_3, I_4)\n",
    "    \n",
    "#print(delta_T_multiplier)"
   ]
  },
  {
   "cell_type": "code",
   "execution_count": 55,
   "id": "impressed-background",
   "metadata": {},
   "outputs": [
    {
     "data": {
      "text/plain": [
       "<matplotlib.legend.Legend at 0x169142275c8>"
      ]
     },
     "execution_count": 55,
     "metadata": {},
     "output_type": "execute_result"
    },
    {
     "data": {
      "image/png": "[encoded data removed]",
      "text/plain": [
       "<Figure size 432x288 with 1 Axes>"
      ]
     },
     "metadata": {
      "needs_background": "light"
     },
     "output_type": "display_data"
    }
   ],
   "source": [
    "for i in range(int(len(delta_I3I4)/10)):\n",
    "    plot.plot(m1_m2_ratio, delta_T_multiplier[i*10] , label = str(i*10))\n",
    "plot.legend()"
   ]
  },
  {
   "cell_type": "code",
   "execution_count": 64,
   "id": "bridal-hungarian",
   "metadata": {},
   "outputs": [
    {
     "data": {
      "text/plain": [
       "array([0.01 , 0.012, 0.014, 0.015, 0.017, 0.019, 0.021, 0.023, 0.024,\n",
       "       0.026, 0.028, 0.03 , 0.032, 0.033, 0.035, 0.037, 0.039, 0.041,\n",
       "       0.042, 0.044, 0.046, 0.048, 0.05 , 0.051, 0.053, 0.055, 0.057,\n",
       "       0.059, 0.06 , 0.062, 0.064, 0.066, 0.068, 0.069, 0.071, 0.073,\n",
       "       0.075, 0.077, 0.078, 0.08 , 0.082, 0.084, 0.086, 0.087, 0.089,\n",
       "       0.091, 0.093, 0.095, 0.096, 0.098, 0.1  ])"
      ]
     },
     "execution_count": 64,
     "metadata": {},
     "output_type": "execute_result"
    }
   ],
   "source": [
    "np.round(delta_I1I2/I1,3)"
   ]
  },
  {
   "cell_type": "code",
   "execution_count": 63,
   "id": "metropolitan-stewart",
   "metadata": {},
   "outputs": [
    {
     "name": "stdout",
     "output_type": "stream",
     "text": [
      "[-0.009 -0.011 -0.012 -0.014 -0.016 -0.017 -0.019 -0.021 -0.022 -0.024\n",
      " -0.025 -0.027 -0.029 -0.03  -0.032 -0.034 -0.035 -0.037 -0.039 -0.04\n",
      " -0.042 -0.043 -0.045 -0.047 -0.048 -0.05  -0.052 -0.053 -0.055 -0.057\n",
      " -0.058 -0.06  -0.061 -0.063 -0.065 -0.066 -0.068 -0.07  -0.071 -0.073\n",
      " -0.075 -0.076 -0.078 -0.079 -0.081 -0.083 -0.084 -0.086 -0.088 -0.089\n",
      " -0.091]\n"
     ]
    }
   ],
   "source": [
    "print(np.round((delta_T_multiplier[:,10]-delta_T_multiplier[:,0])/11, 3))"
   ]
  },
  {
   "cell_type": "code",
   "execution_count": null,
   "id": "aggressive-algebra",
   "metadata": {},
   "outputs": [],
   "source": []
  }
 ],
 "metadata": {
  "kernelspec": {
   "display_name": "Python 3",
   "language": "python",
   "name": "python3"
  },
  "language_info": {
   "codemirror_mode": {
    "name": "ipython",
    "version": 3
   },
   "file_extension": ".py",
   "mimetype": "text/x-python",
   "name": "python",
   "nbconvert_exporter": "python",
   "pygments_lexer": "ipython3",
   "version": "3.7.7"
  }
 },
 "nbformat": 4,
 "nbformat_minor": 5
}
