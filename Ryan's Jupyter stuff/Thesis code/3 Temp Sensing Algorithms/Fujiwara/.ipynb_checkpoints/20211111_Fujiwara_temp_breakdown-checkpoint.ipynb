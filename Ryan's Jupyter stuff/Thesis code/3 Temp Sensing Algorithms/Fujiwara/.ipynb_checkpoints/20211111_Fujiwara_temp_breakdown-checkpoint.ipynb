{
 "cells": [
  {
   "cell_type": "markdown",
   "id": "lovely-magazine",
   "metadata": {},
   "source": [
    "# 4 point Thermometry Analysis ONLY\n",
    "\n",
    "This script will be used purely to analyse the results of the 4 point ODMR measurements using only the temperature sensing algorithms as defined in the papers:\n",
    "1. Singam et al (2019) - Nitrogen-vacancy nanodiamond based local thermometry using frequency-jump modulation\n",
    "2. Fujiwaraet al (2020) - Real-time nanodiamond thermometry probing in vivo thermogenic responses. \n",
    "\n",
    "The aim of writing this script is to tidy up the original frankenstien script currently at the time of writing called: \n",
    "20210617_Analysis_Referenced_4_point_ODMR.ipynb\n",
    "\n",
    "Unfortunately, I think I need to call in basically all the same functions and perform basically all the same analysis, but I will have fewer outputs and will structure everything a little bit nicer so that I can run everything from a single \"main\" cell at the bottom of the script and know that everything will get pulled in properly... I might have it so that any full CW ODMR script analysis is done in a separate cell just so I don't end up bogging down the whole script everytime it runs. "
   ]
  },
  {
   "cell_type": "code",
   "execution_count": 1,
   "id": "impaired-slope",
   "metadata": {},
   "outputs": [],
   "source": [
    "import scipy.optimize as opt \n",
    "import numpy as np \n",
    "import matplotlib.pyplot as plot \n",
    "import os \n",
    "import pandas as pd\n",
    "from scipy.signal import find_peaks"
   ]
  },
  {
   "cell_type": "markdown",
   "id": "universal-generator",
   "metadata": {},
   "source": [
    "Pull in the data files and the associated params file. Also make the plots big enough to actually be able to see what's going on and read what's on the graphs. "
   ]
  },
  {
   "cell_type": "code",
   "execution_count": 2,
   "id": "essential-twist",
   "metadata": {},
   "outputs": [],
   "source": [
    "def load_data(file_path): \n",
    "    # load the ODMR data file in to an np array \n",
    "    data_array = np.loadtxt(file_path)\n",
    "    return(data_array)"
   ]
  },
  {
   "cell_type": "code",
   "execution_count": 3,
   "id": "gentle-oakland",
   "metadata": {},
   "outputs": [],
   "source": [
    "def load_params(file_path):\n",
    "    # load in the params data. \n",
    "    params_data = pd.read_table(file_path, names = ['Parameter name', 'Parameter value']) \n",
    "    return(params_data)"
   ]
  },
  {
   "cell_type": "code",
   "execution_count": 4,
   "id": "occasional-alcohol",
   "metadata": {},
   "outputs": [],
   "source": [
    "def set_plot_params():\n",
    "    # formats the plot parameters \n",
    "    plot.rcParams.update({'font.size' : 16})\n",
    "    plot.rcParams.update({'figure.figsize' :[12, 8]})"
   ]
  },
  {
   "cell_type": "markdown",
   "id": "fewer-football",
   "metadata": {},
   "source": [
    "Creates a numpy array with the microwave frequency scan range from the params file. "
   ]
  },
  {
   "cell_type": "code",
   "execution_count": 5,
   "id": "mature-appliance",
   "metadata": {},
   "outputs": [],
   "source": [
    "def create_freq_scan(start, stop, step_size):\n",
    "    # takes the scan parameters from the params data file. \n",
    "    step_size_GHz = step_size/1000\n",
    "    number_of_steps = int((stop-start)/step_size_GHz)+1\n",
    "    freq = np.linspace(start, stop, number_of_steps)\n",
    "    return(freq)"
   ]
  },
  {
   "cell_type": "markdown",
   "id": "military-questionnaire",
   "metadata": {},
   "source": [
    "Here we have the code to reshape the ODMR data into a 3D dataset according to the parameters that are given in the Params.txt file. \n",
    "\n",
    "Once the ODMR and reference Datasets have been restructured, then we can perform the normalisation of the ODMR dataset to the reference dataset.  "
   ]
  },
  {
   "cell_type": "code",
   "execution_count": 6,
   "id": "persistent-queensland",
   "metadata": {},
   "outputs": [],
   "source": [
    "def reshape_data(reference_data, odmr_data, params_values):\n",
    "    '''Here we re-shape the reference and the ODMR datasets into a 3D array, \n",
    "    based on the number of line scans, frequnecy points and repeats per frequnecy \n",
    "    have been used to build the ODMR dataset.'''\n",
    "    \n",
    "    # Create variables with the frequnecy scan parameters. \n",
    "    num_of_line_scans = int(params_values[4])\n",
    "    num_of_freqs =  int(1000*(params_values[1]-params_values[0])/params_values[2]) + 1\n",
    "    points_per_freq = int(params_values[8])\n",
    "    print(num_of_line_scans, num_of_freqs, points_per_freq)\n",
    "    # Reshape the ODMR and reference datasets. \n",
    "\n",
    "    odmr_shape_3D = odmr_data[0:num_of_freqs*points_per_freq].reshape(num_of_line_scans, num_of_freqs, points_per_freq)\n",
    "    reference_data_3D = reference_data[0:num_of_freqs*points_per_freq].reshape(num_of_line_scans, num_of_freqs, points_per_freq)\n",
    "    \n",
    "    return(odmr_shape_3D, reference_data_3D)"
   ]
  },
  {
   "cell_type": "code",
   "execution_count": 7,
   "id": "metropolitan-smith",
   "metadata": {},
   "outputs": [],
   "source": [
    "def normalise_data(reference_data, odmr_data):\n",
    "    '''Here we normalise the ODMR dataset to the reference data.'''\n",
    "\n",
    "    norm_odmr_data = odmr_data/reference_data\n",
    "    return(norm_odmr_data)"
   ]
  },
  {
   "cell_type": "markdown",
   "id": "clean-irrigation",
   "metadata": {},
   "source": [
    "Find the mean of the ODMR dataset."
   ]
  },
  {
   "cell_type": "code",
   "execution_count": 8,
   "id": "naval-organ",
   "metadata": {},
   "outputs": [],
   "source": [
    "def mean_data(odmr_data):\n",
    "    # find the mean data \n",
    "    mean_odmr_data_points =  np.mean(odmr_data, axis = 2)\n",
    "    mean_odmr_data_points_and_linescans =  np.mean(mean_odmr_data_points, axis = 0)\n",
    "    return(mean_odmr_data_points, mean_odmr_data_points_and_linescans)"
   ]
  },
  {
   "cell_type": "markdown",
   "id": "welsh-recorder",
   "metadata": {},
   "source": [
    "Plot the Normalised ODMR data to a graph."
   ]
  },
  {
   "cell_type": "code",
   "execution_count": 9,
   "id": "flexible-economics",
   "metadata": {},
   "outputs": [],
   "source": [
    "def normalised_scatter_plot(freq, mean_data):\n",
    "    # Creates a scatter plot for experimental data and plot parameters. \n",
    "    fig2, ax2 = plot.subplots()\n",
    "    ax2.scatter(freq, mean_data, marker = 'x',color = 'r', label = \"ODMR Data\")\n",
    "    \n",
    "    ax2.set_xlim(np.min(freq),np.max(freq))\n",
    "    ax2.set_xlabel('Microwave Frequency (GHz)', fontsize = 18)\n",
    "    ax2.set_ylabel('Normalised Counts (A.U.)', fontsize = 18)\n",
    "    return(fig2, ax2)"
   ]
  },
  {
   "cell_type": "markdown",
   "id": "sought-accordance",
   "metadata": {},
   "source": [
    "Get the fitting parameters from the ODMR dataset and use these to fit a double Lorentzian lineshape to the normalised ODMR dataset."
   ]
  },
  {
   "cell_type": "code",
   "execution_count": 10,
   "id": "advance-daniel",
   "metadata": {},
   "outputs": [],
   "source": [
    "def get_init_params(odmr_data, freq):\n",
    "    # find the minima of the ODMR spectra and ODMR dip contrast and \n",
    "    # flourenscent baseline.\n",
    "    \n",
    "    half_data_length = int((len(freq)-1)/2) # This brings the mid-value to 2.87GHz \n",
    "    \n",
    "    #find the indices for the lowest frequency value\n",
    "    low_freq_min_index = np.where(odmr_data[0:half_data_length] == np.min(odmr_data[0:half_data_length]))\n",
    "    high_freq_min_index = np.where(odmr_data[half_data_length:len(odmr_data)-1] == \n",
    "                                   np.min(odmr_data[half_data_length:len(odmr_data)-1]))\n",
    "   \n",
    "    # frequencies corresponding to ODMR minima\n",
    "    freq_mins = [np.float(freq[low_freq_min_index[0]]),\n",
    "                 np.float(freq[high_freq_min_index[0]+half_data_length])]\n",
    "    \n",
    "    # manually set frequencies. \n",
    "    \n",
    "    #freq_mins = [2.78, 2.96]\n",
    "    \n",
    "    flourescent_baseline = np.mean(odmr_data)\n",
    "    \n",
    "    # approximate dip_depth\n",
    "    dip_depth = [odmr_data[low_freq_min_index[0][0]]  - flourescent_baseline, \n",
    "                 odmr_data[high_freq_min_index[0][0]+half_data_length]  - flourescent_baseline]\n",
    "    \n",
    "    #contrast = [np.float((1-odmr_data[low_freq_min_index[0]]/flourescent_baseline)), \n",
    "    #            np.float((1-odmr_data[high_freq_min_index[0]+half_data_length]/flourescent_baseline))]\n",
    "\n",
    "    return(freq_mins, dip_depth, flourescent_baseline)"
   ]
  },
  {
   "cell_type": "code",
   "execution_count": 11,
   "id": "annoying-guard",
   "metadata": {},
   "outputs": [],
   "source": [
    "def optimised_lorentz_fit(freq, mean_data, init_params, lower_bounds, upper_bounds):\n",
    "    # A method to find the fitting prameters for the ODMR dataset. \n",
    "    y_error = np.sqrt(mean_data) # poissonian noise\n",
    "    coeffs, confidence = opt.curve_fit(double_lorentz, freq, mean_data, init_params, \n",
    "                                       sigma = y_error, bounds = (lower_bounds, upper_bounds))\n",
    "    opt_error = np.sqrt(np.diag(confidence))\n",
    "    \n",
    "    return(coeffs, opt_error)"
   ]
  },
  {
   "cell_type": "code",
   "execution_count": 12,
   "id": "informative-tobago",
   "metadata": {},
   "outputs": [],
   "source": [
    "def double_lorentz(x, A1, X01, sig1, A2, X02, sig2, offset): #P0[0], P0[1], P0[2], P0[3], P0[4], P0[5], P0[6]):\n",
    "    # A1 = Amplitude 1, X01 = Resonance 1, sig1 = FWHM 1\n",
    "    # A2 = Amplitude 2, X02 = Resonance 2, sig2 = FWHM 2, offset = offset\n",
    "    \n",
    "    first_peak = (A1/np.pi)*((sig1**2)/(sig1**2 +(2*x-2*X01)**2))\n",
    "    second_peak = (A2/np.pi)*((sig2**2)/(sig2**2 +(2*x-2*X02)**2))\n",
    "    \n",
    "    return (first_peak + second_peak + offset)"
   ]
  },
  {
   "cell_type": "code",
   "execution_count": 13,
   "id": "distributed-dispatch",
   "metadata": {},
   "outputs": [],
   "source": [
    "def plot_fitting(ax2, freq, dwell_time):\n",
    "    # plot the y fit. \n",
    "    \n",
    "    high_res_freq = np.linspace(freq[0], freq[len(freq)-1], 10*len(freq)+1)\n",
    "    \n",
    "    # create the double lorentz fit array\n",
    "    y_fit_high_res = double_lorentz(high_res_freq, fitting_params[0], fitting_params[1], fitting_params[2], \n",
    "                  fitting_params[3], fitting_params[4], fitting_params[5], fitting_params[6])\n",
    "    \n",
    "    y_fit = double_lorentz(freq, fitting_params[0], fitting_params[1], fitting_params[2], \n",
    "                  fitting_params[3], fitting_params[4], fitting_params[5], fitting_params[6])\n",
    "    \n",
    "    ax2.plot(high_res_freq, y_fit_high_res, color='k', label='Double Lorentz \\nfitting')\n",
    "    ax2.legend()\n",
    "    \n",
    "    return(ax2, y_fit)"
   ]
  },
  {
   "cell_type": "markdown",
   "id": "cathedral-works",
   "metadata": {},
   "source": [
    "*************************************************************************************************************************************************************************************"
   ]
  },
  {
   "cell_type": "markdown",
   "id": "beginning-single",
   "metadata": {},
   "source": [
    "### Full CW ODMR Analysis\n",
    "\n",
    "This should be a fairly base level referenced ODMR dataset analysis. From this, we should be able to reshape, normalise and plot the ODMR data.  \n",
    "Additionally, I should be able to extract the Double Lorentz fitting of the dataset as it is needed for some of the further analysis."
   ]
  },
  {
   "cell_type": "markdown",
   "id": "figured-pressure",
   "metadata": {},
   "source": [
    "*****************************************************************"
   ]
  },
  {
   "cell_type": "code",
   "execution_count": 16,
   "id": "million-thunder",
   "metadata": {},
   "outputs": [
    {
     "name": "stdout",
     "output_type": "stream",
     "text": [
      "1 131 100\n",
      "[2.864, 2.873]\n",
      "25000.0\n",
      "0.00880327432294381 0.01387842046039287\n"
     ]
    },
    {
     "data": {
      "image/png": "[encoded data removed]",
      "text/plain": [
       "<Figure size 864x576 with 1 Axes>"
      ]
     },
     "metadata": {
      "needs_background": "light"
     },
     "output_type": "display_data"
    }
   ],
   "source": [
    "#######\n",
    " # This portion of the code produced the ODMR data plotting and the double lorentz fitting and \n",
    " # Saves this data into a text file and the 2 plots generated. \n",
    "#######\n",
    "\n",
    "date = '20210928' # Date on folder in which the experimental data is saved. \n",
    "set_plot_params()\n",
    "\n",
    "# Load in the data file into an np array, and freqeuncy scan parameters \n",
    "# into a pandas array.\n",
    "folder_path = 'I:\\\\Science\\\\Physics-Nanobiophotonics\\\\Group\\\\User Data\\\\ODMR\\\\ODMR and imaging\\\\2021\\\\' + date + '\\\\'\n",
    "#folder_path = 'I:\\\\Science\\\\Physics-Nanobiophotonics\\\\Group\\\\User Data\\\\ODMR\\\\Imaging\\\\'\n",
    "\n",
    "data_set = '_referenced_odmr_03' # Short hand for the file name. \n",
    "\n",
    "# Set the file names for all 4 data sets recorded from the experiment. \n",
    "file_name_ODMR1 = date + data_set + '_ODMR1.dat'\n",
    "file_name_ODMR2 = date + data_set + '_ODMR2.dat'\n",
    "file_name_Ref1 = date + data_set  + '_Ref1.dat'\n",
    "file_name_Ref2 = date + data_set  + '_Ref2.dat'\n",
    "\n",
    "# Extract the ODMR and reference datasets from the data we are looking at. \n",
    "odmr_data = load_data(folder_path + file_name_ODMR1)\n",
    "reference_data = load_data(folder_path + file_name_Ref1)\n",
    "\n",
    "# Get the parameters for the experiment. \n",
    "params_file = load_params(folder_path + date  + data_set + '_Params.txt')\n",
    "params_values = params_file['Parameter value']\n",
    "\n",
    "# Create the freqeuncy scan array. \n",
    "# Freq scan = frequency scan actually used in experiment, frreq = scan without triggering problems. \n",
    "freq = create_freq_scan(params_values[0], params_values[1], params_values[2])\n",
    "\n",
    "# Dwell time of the measurment \n",
    "dwell_time = params_values[3]\n",
    "\n",
    "# Reshape the ODMR and reference datasets. \n",
    "odmr_data, reference_data = reshape_data(reference_data, odmr_data, params_values)\n",
    "\n",
    "# Normalise the ODMR data against the reference data. \n",
    "normalised_ODMR = normalise_data(reference_data, odmr_data)\n",
    "\n",
    "# Mean of the normalise dataset. \n",
    "# mean_odmr_freq_points = mean for all the points recorded per frequnecy, but not linescans. \n",
    "# mean_norm_odmr_full = Mean fluorescence value for all ODMR data points taken per freq. \n",
    "mean_odmr_freq_points, mean_norm_odmr_full_disordered = mean_data(normalised_ODMR)\n",
    "mean_norm_odmr_full = np.roll(mean_norm_odmr_full_disordered, 1)\n",
    "\n",
    "# Plot the mean normalised dataset as a scatter plot. \n",
    "fig1, ax1 = normalised_scatter_plot(freq, mean_norm_odmr_full)\n",
    "\n",
    "# find the freqeuncy points with the highest ODMR contrast\n",
    "freq_mins, dip_depth, flourescent_baseline = get_init_params(mean_norm_odmr_full, freq)\n",
    "print(freq_mins)\n",
    "\n",
    "\n",
    "# create the initial parameters for ODMR double lorentzian \n",
    "# line fitting\n",
    "init_params = [dip_depth[0], freq_mins[0], 0.005, dip_depth[1], freq_mins[1], 0.005, flourescent_baseline]\n",
    "init_params = [-0.8, 2.86, 0.005, dip_depth[1], 2.87, 0.005, flourescent_baseline]\n",
    "\n",
    "# Set the upper and lower bounds for the fitting algorithm. \n",
    "lower_bounds = [-np.inf, init_params[1] - 0.01, 0, -np.inf, init_params[4] - 0.01, 0, 0]\n",
    "upper_bounds = [np.inf, init_params[1] + 0.01, 1, np.inf, init_params[4] + 0.01, 1, np.inf]\n",
    "\n",
    "# generate the optimised curve fit parameters. \n",
    "fitting_params, error_in_fit = optimised_lorentz_fit(freq, mean_norm_odmr_full, init_params,\n",
    "                                                    lower_bounds, upper_bounds)\n",
    "\n",
    "# plot the fitting to ax1\n",
    "ax1, y_fit = plot_fitting(ax1, freq, params_values[3])\n",
    "print(dwell_time)\n",
    "print(fitting_params[2], fitting_params[5])"
   ]
  },
  {
   "cell_type": "markdown",
   "id": "protecting-trash",
   "metadata": {},
   "source": [
    "***"
   ]
  },
  {
   "cell_type": "markdown",
   "id": "appropriate-triangle",
   "metadata": {},
   "source": [
    "### Begin the 4 point ODMR Analysis\n",
    "\n",
    "Here I plan to:\n",
    "1. Read in the 4 point ODMR data and the corresponding reference dataset.\n",
    "2. Plot the normalised 4 point ODMR dataset against the fitted double Lorentz curve along with the intensitied of the 4 frequency points as expected from the fitted curve. \n",
    "3. Perform the analysis of the 4 point ODMR data using the method propsed by Fujiwara et al (2020).\n",
    "4. perform the analysis of the 4 point ODMR dataset using the method proposed by Singam et al (2019). \n",
    "\n",
    "I will aim to make both the analysis methods such that it can take both a single mean value from the dataset and can analyse the full dataset to give a mean value for the T (or $\\delta$D) and the standard deviation in the recorded values. This allows us to apply an error value to the recorded datapoints, which is probably a good thing.  "
   ]
  },
  {
   "cell_type": "code",
   "execution_count": 55,
   "id": "enclosed-crash",
   "metadata": {},
   "outputs": [],
   "source": [
    "def normalise_data_error_propogation(norm_odmr_4_point, four_point_reference_data, four_point_odmr_data, repeats):\n",
    "    '''Calculating the error associated with each of the individual repeats of the 4 frequnecy points in the dataset.'''\n",
    "    \n",
    "    mean_norm_4_point_intensity = np.mean(four_point_odmr_data, axis = 2)\n",
    "    mean_norm_4_point_ref_intensity = np.mean(four_point_reference_data, axis = 2)\n",
    "    \n",
    "    delta_I_odmr = (2.2 * np.sqrt(mean_norm_4_point_intensity))/(mean_norm_4_point_intensity*np.sqrt(repeats))\n",
    "    delta_I_ref = (2.2 * np.sqrt(mean_norm_4_point_ref_intensity))/(mean_norm_4_point_ref_intensity*np.sqrt(repeats))\n",
    "    \n",
    "    delta_I_normalised = norm_odmr_4_point * np.sqrt(delta_I_odmr**2 + delta_I_ref**2)\n",
    "    \n",
    "    return(delta_I_normalised)"
   ]
  },
  {
   "cell_type": "code",
   "execution_count": 59,
   "id": "returning-scale",
   "metadata": {},
   "outputs": [],
   "source": [
    "def fujiwara_analysis(four_freqs, mean_norm_4_point_odmr_full, error_four_points):\n",
    "    '''Here we perform the analysis of the 4 point ODMR dataset using the method outlined in Fujiwara's paper from 2020'''\n",
    "    \n",
    "    # Find the frequency step (delta omega) used to split the 4 points away from the mid-point of the linear portion of the ODMR curve fitting. \n",
    "    freq_step = 0.5*((four_freqs[1]-four_freqs[0])*1000) # MHz conversion\n",
    "    \n",
    "    # The expected dD/dT from the paper published by Acosta et al 2013. \n",
    "    delta_D_delta_T = -0.075 # MHz/K\n",
    "    \n",
    "    # Calculate the numerator and denomiator for the equation used to determine the $\\delta$ T for this experiment \n",
    "    numerator = (mean_norm_4_point_odmr_full[0] + mean_norm_4_point_odmr_full[1]) - (mean_norm_4_point_odmr_full[2] + mean_norm_4_point_odmr_full[3])\n",
    "    denominator = (mean_norm_4_point_odmr_full[0] - mean_norm_4_point_odmr_full[1]) - (mean_norm_4_point_odmr_full[2] - mean_norm_4_point_odmr_full[3]) \n",
    "    \n",
    "    # Error for the denominator and Numerator is the same as they are both additions and subtractions\n",
    "    error = np.sqrt(np.power(error_four_points[0]/mean_norm_4_point_odmr_full[0], 2) +\n",
    "                    np.power(error_four_points[1]/mean_norm_4_point_odmr_full[1], 2)) + np.sqrt(\n",
    "                    np.power(error_four_points[2]/mean_norm_4_point_odmr_full[2], 2) +\n",
    "                    np.power(error_four_points[3]/mean_norm_4_point_odmr_full[3], 2))\n",
    "    \n",
    "    \n",
    "    # Calcuate dT and dD for this dataset. \n",
    "    deltaT1 = freq_step * (1/delta_D_delta_T) * numerator/denominator\n",
    "    deltaD1 = deltaT1 * -0.075\n",
    "    \n",
    "    error_deltaT1 = deltaT1 * np.sqrt(np.power(error/numerator, 2) + np.power(error/denominator, 2))\n",
    "    error_deltaD1 = deltaD1 * np.sqrt(np.power(error/numerator, 2) + np.power(error/denominator, 2))\n",
    "\n",
    "    return(deltaD1, deltaT1, error_deltaD1, error_deltaT1)"
   ]
  },
  {
   "cell_type": "code",
   "execution_count": 60,
   "id": "about-cocktail",
   "metadata": {},
   "outputs": [],
   "source": [
    "def save_data(file_ID, date, dwell_time, repeats, deltaD, error_deltaD, deltaT, error_deltaT, mean_intensity, analysis_type):\n",
    "    '''Save the data in a .txt file. The analysis method determines what file the data is saved to. \n",
    "    We are saving: the file name, Dwell time in ms, Resonant frequency from temperature measurement theory D(T), STD(D(T)), Approx temperature change T, \n",
    "    STD(T), mean Intensity per measurement, sqrt Intensity'''\n",
    "    \n",
    "    destination_folder = 'I:\\\\Science\\\\Physics-Nanobiophotonics\\\\Group\\\\User Data Analysis\\\\Ryans Data (2018-2021)\\\\ODMR\\\\' + date + '\\\\' \n",
    "    output_data_file = destination_folder + date + '_' + analysis_type + '_reference_4_point_analysis.dat'\n",
    "    \n",
    "    # Checking to see if the folder exists in which to save the data, and creating it if it does not\n",
    "    if not os.path.exists(destination_folder):\n",
    "        os.makedirs(destination_folder)\n",
    "        # Checking the output file exists and creating and initialising it if not\n",
    "    \n",
    "    if os.path.isfile(output_data_file) == False:\n",
    "        with open(output_data_file, \"w\") as wf:\n",
    "            wf.write('File name'  + ' \\t' + 'Dwell Time (ms)' + ' \\t' + 'Repeats per applied freq' + '\\t' + \n",
    "                     'Calculated change in res freq (kHz)' + ' \\t' + 'error Calculated change in res freq (kHz)' + ' \\t' +\n",
    "                     'Change in Temp (oC)' + ' \\t' + 'error Change in Temp (oC)' + ' \\t' + \n",
    "                     'Mean Intensity (counts per dwell time)' + ' \\t' +\n",
    "                     'SQRT(Mean Intensity (sqrt(counts per dwell time)))' + '\\n')\n",
    "\n",
    "    with open(output_data_file, \"a\") as wf:\n",
    "        wf.write(date+file_ID  + '\\t' +\n",
    "                 str(dwell_time) + \" \\t\"  +  str(repeats) + '\\t' +\n",
    "                 str(deltaD*1000) + \" \\t\" +  str(error_deltaD*1000) + ' \\t' +\n",
    "                 str(deltaT) + \" \\t\" +  str(error_deltaT) + \" \\t\" + str(mean_intensity) + \" \\t\"  + \n",
    "                 str(np.sqrt(np.round(mean_intensity, 3))) + '\\n')        \n",
    "    "
   ]
  },
  {
   "cell_type": "markdown",
   "id": "mighty-parking",
   "metadata": {},
   "source": [
    "*** \n",
    "### Here we analyse the 4 point referenced ODMR data\n",
    "***"
   ]
  },
  {
   "cell_type": "code",
   "execution_count": 148,
   "id": "operational-publication",
   "metadata": {},
   "outputs": [
    {
     "name": "stdout",
     "output_type": "stream",
     "text": [
      "1 4 250\n",
      "[[38428.116 40097.5   40580.004 39039.644]]\n",
      "[[431.2679926  440.53592362 443.17854118 434.68595211]]\n",
      "[2.801 2.802]\n",
      "[60 62 78 80]\n"
     ]
    },
    {
     "data": {
      "text/plain": [
       "Text(0, 0.5, 'Normalised Counts (A.U.)')"
      ]
     },
     "execution_count": 148,
     "metadata": {},
     "output_type": "execute_result"
    },
    {
     "data": {
      "image/png": "[encoded data removed]",
      "text/plain": [
       "<Figure size 864x576 with 1 Axes>"
      ]
     },
     "metadata": {
      "needs_background": "light"
     },
     "output_type": "display_data"
    }
   ],
   "source": [
    "#######\n",
    " # This portion of the code produced the ODMR data plotting and the double lorentz fitting and \n",
    "#######\n",
    "\n",
    "# Load in the data file into an np array, and freqeuncy scan parameters \n",
    "# into a pandas array.\n",
    "\n",
    "four_point_data_set = '_4_point_referenced_odmr_42' # Short hand for the file name. \n",
    "\n",
    "# Set the file names for all 4 data sets recorded from the experiment. \n",
    "four_point_file_name_ODMR1 = date + four_point_data_set + '_ODMR1.dat'\n",
    "four_point_file_name_ODMR2 = date + four_point_data_set + '_ODMR2.dat'\n",
    "four_point_file_name_Ref1 = date + four_point_data_set  + '_Ref1.dat'\n",
    "four_point_file_name_Ref2 = date + four_point_data_set  + '_Ref2.dat'\n",
    "\n",
    "# Need to have the four_freqs array layered as follows [F1, F2, F3, F4] due to riggering problems in the software.  \n",
    "four_freqs = [2.860 ,2.862, 2.878, 2.88]\n",
    "repeats = four_point_params_values[8]\n",
    "\n",
    "# Extract the ODMR and reference datasets from the data we are looking at. \n",
    "four_point_odmr_data = load_data(folder_path + four_point_file_name_ODMR1)\n",
    "four_point_reference_data = load_data(folder_path + four_point_file_name_Ref1)\n",
    "\n",
    "# Get the parameters for the experiment. \n",
    "four_point_params_file = load_params(folder_path + date  + four_point_data_set + '_Params.txt')\n",
    "four_point_params_values = four_point_params_file['Parameter value']\n",
    "#print(four_point_params_file)\n",
    "# Reshape the data so that it can be used for the following script. \n",
    "four_point_odmr_data, four_point_reference_data = reshape_data(four_point_reference_data, \n",
    "                                                               four_point_odmr_data, four_point_params_values)\n",
    "\n",
    "mean_four_point_intensity = np.mean(four_point_odmr_data, axis = 2)\n",
    "mean_reference_intensity = np.mean(four_point_reference_data, axis = 2)\n",
    "\n",
    "# Generate the error arrays for the ODMR and reference data. \n",
    "four_points_ODMR_error = 2.2 * np.sqrt(mean_four_point_intensity) # shot noise limit approximation\n",
    "four_points_reference_error = 2.2 * np.sqrt(mean_reference_intensity) # shot noise limit approximation\n",
    "\n",
    "print(np.mean(four_point_odmr_data, axis = 2))\n",
    "print(four_points_ODMR_error)\n",
    "\n",
    "\n",
    "\n",
    "\n",
    "# Normalise the ODMR data against the reference data. \n",
    "norm_odmr_4_point = normalise_data(four_point_reference_data, four_point_odmr_data)\n",
    "# Mean of the normalise dataset.\n",
    "mean_odmr_4_point_freq_points, mean_norm_4_point_odmr = mean_data(norm_odmr_4_point)\n",
    "\n",
    "# Find the error for the normaised dataset. \n",
    "norm_ODMR_errors = normalise_data_error_propogation(np.mean(norm_odmr_4_point, axis = 2), \n",
    "                                                              four_point_reference_data, four_point_odmr_data,\n",
    "                                                             repeats)\n",
    "\n",
    "# roll the values +1 spaces in the array to correct for problems in the measurement regime. \n",
    "mean_norm_4_point_odmr = np.roll(mean_norm_4_point_odmr, 1)\n",
    "norm_ODMR_errors = (np.roll(norm_ODMR_errors, 1))\n",
    "\n",
    "#plot.plot(freq[45*7:90*7], y_fit[45*7:90*7], color = 'k')\n",
    "print(freq[1:3])\n",
    "indices = []\n",
    "indices.append((np.abs(freq - four_freqs[0])).argmin())\n",
    "indices.append((np.abs(freq - four_freqs[1])).argmin())\n",
    "indices.append((np.abs(freq - four_freqs[2])).argmin())\n",
    "indices.append((np.abs(freq - four_freqs[3])).argmin())\n",
    "\n",
    "indices = np.array(indices)\n",
    "print(indices)\n",
    "plot.scatter(freq[45:90], y_fit[45:90])\n",
    "plot.scatter(freq[indices], y_fit[indices], marker = 'o')\n",
    "\n",
    "plot.errorbar(four_freqs, mean_norm_4_point_odmr, norm_ODMR_errors[0], color = 'r', marker = 'x',\n",
    "             linestyle = '')\n",
    "plot.xlabel('Microwave Frequency (GHz)')\n",
    "plot.ylabel('Normalised Counts (A.U.)')\n"
   ]
  },
  {
   "cell_type": "code",
   "execution_count": null,
   "id": "tropical-spell",
   "metadata": {},
   "outputs": [],
   "source": []
  },
  {
   "cell_type": "markdown",
   "id": "micro-complex",
   "metadata": {},
   "source": [
    "***"
   ]
  },
  {
   "cell_type": "markdown",
   "id": "passing-guitar",
   "metadata": {},
   "source": [
    "### Fujiwara Analysis\n",
    "\n",
    "***"
   ]
  },
  {
   "cell_type": "code",
   "execution_count": 149,
   "id": "focal-conclusion",
   "metadata": {},
   "outputs": [
    {
     "name": "stdout",
     "output_type": "stream",
     "text": [
      "-2.295687495091202 30.609166601216025 -0.2315101548659858 3.086802064879811\n",
      "\n",
      "\n"
     ]
    }
   ],
   "source": [
    "# Run the Fuijiwara protocol. \n",
    "\n",
    "# This protocol outputs the change in resonant frequency of the NV centre in MHz. \n",
    "# In addition the temperature change is also outputted from the dataset. assuming a dD/dT of -75kHz/K. \n",
    "zumi_dD, zumi_dT, error_zumi_dD, error_zumi_dT  = fujiwara_analysis(four_freqs, mean_norm_4_point_odmr, norm_ODMR_errors[0])\n",
    "\n",
    "print(zumi_dD, zumi_dT, error_zumi_dD, error_zumi_dT)\n",
    "print('\\n')\n",
    "try:\n",
    "    zumi_dD_store.append(zumi_dD)\n",
    "    zumi_dT_store.append(zumi_dT)\n",
    "except:\n",
    "    zumi_dD_store = []\n",
    "    zumi_dT_store = []\n",
    "    zumi_dD_store.append(zumi_dD) # MHz\n",
    "    zumi_dT_store.append(zumi_dT) # Kelvin\n",
    "    \n",
    "analysis_type = 'Fujiwara_2020_Thesis_data_'\n",
    "    \n",
    "save_data(four_point_data_set, date, four_point_params_values[3]/1000, four_point_params_values[8],\n",
    "          zumi_dD, np.array(error_zumi_dD), zumi_dT, np.array(error_zumi_dT), np.mean(four_point_reference_data), analysis_type)\n",
    "\n",
    "#print(zumi_dD_store)\n",
    "#print(error_zumi_dD)\n",
    "#print(zumi_dT_store)"
   ]
  },
  {
   "cell_type": "code",
   "execution_count": null,
   "id": "patent-moral",
   "metadata": {},
   "outputs": [],
   "source": []
  },
  {
   "cell_type": "code",
   "execution_count": null,
   "id": "functioning-sacramento",
   "metadata": {},
   "outputs": [],
   "source": []
  }
 ],
 "metadata": {
  "kernelspec": {
   "display_name": "Python 3",
   "language": "python",
   "name": "python3"
  },
  "language_info": {
   "codemirror_mode": {
    "name": "ipython",
    "version": 3
   },
   "file_extension": ".py",
   "mimetype": "text/x-python",
   "name": "python",
   "nbconvert_exporter": "python",
   "pygments_lexer": "ipython3",
   "version": "3.7.7"
  }
 },
 "nbformat": 4,
 "nbformat_minor": 5
}
