{
 "cells": [
  {
   "cell_type": "markdown",
   "metadata": {},
   "source": [
    "# Referenced ODMR Analysis\n",
    "\n",
    "Author: Ryan Corbyn, 28th May 2021\n",
    "\n",
    "This code makes use of many of the same methods as the CW ODMR dataset to analyse the datasets that are recorded with the microwave switch in place to allow for each ODMR frequency pixel point to be referenced to either a fixed ODMR frequnecy or to a empty channel with no microwaves applied. "
   ]
  },
  {
   "cell_type": "code",
   "execution_count": 28,
   "metadata": {},
   "outputs": [],
   "source": [
    "import scipy.optimize as opt \n",
    "import numpy as np \n",
    "import matplotlib.pyplot as plot \n",
    "import os \n",
    "import pandas as pd\n",
    "import skimage.feature as si"
   ]
  },
  {
   "cell_type": "markdown",
   "metadata": {},
   "source": [
    "We start the code by loading in the dataset, the parameters file and the plot parameters.  "
   ]
  },
  {
   "cell_type": "code",
   "execution_count": 2,
   "metadata": {},
   "outputs": [],
   "source": [
    "def load_data(file_path): \n",
    "    # load the ODMR data file in to an np array \n",
    "    data_array = np.loadtxt(file_path)\n",
    "    return(data_array)"
   ]
  },
  {
   "cell_type": "code",
   "execution_count": 3,
   "metadata": {},
   "outputs": [],
   "source": [
    "def load_params(file_path):\n",
    "    # load in the params data. \n",
    "    params_data = pd.read_table(file_path, names = ['Parameter name', 'Parameter value']) \n",
    "    return(params_data)"
   ]
  },
  {
   "cell_type": "code",
   "execution_count": 4,
   "metadata": {},
   "outputs": [],
   "source": [
    "def set_plot_params():\n",
    "    # formats the plot parameters \n",
    "    plot.rcParams.update({'font.size' : 16})\n",
    "    plot.rcParams.update({'figure.figsize' :[12, 8]})"
   ]
  },
  {
   "cell_type": "markdown",
   "metadata": {},
   "source": [
    "Creates a numpy array with the microwave frequency scan range from the params file. "
   ]
  },
  {
   "cell_type": "code",
   "execution_count": 5,
   "metadata": {},
   "outputs": [],
   "source": [
    "def create_freq_scan(start, stop, step_size):\n",
    "    # takes the scan parameters from the params data file. \n",
    "    step_size_GHz = step_size/1000\n",
    "    number_of_steps = int((stop-start)/step_size_GHz)+1\n",
    "    freq = np.linspace(start, stop, number_of_steps)\n",
    "    \n",
    "    return(freq)"
   ]
  },
  {
   "cell_type": "markdown",
   "metadata": {},
   "source": [
    "Normalise the ODMR data to the Reference data. Then find the mean of the normalised data. "
   ]
  },
  {
   "cell_type": "code",
   "execution_count": 6,
   "metadata": {},
   "outputs": [],
   "source": [
    "def normalise_data(reference_data, odmr_data):\n",
    "    # normalise the data to the maximum value of the mean dataset. \n",
    "    norm_odmr_data = odmr_data/reference_data\n",
    "    return(norm_odmr_data)"
   ]
  },
  {
   "cell_type": "code",
   "execution_count": 7,
   "metadata": {},
   "outputs": [],
   "source": [
    "def mean_data(odmr_data):\n",
    "    # find the mean data \n",
    "    mean_odmr_data =  np.mean(odmr_data, axis=0)\n",
    "    return(mean_odmr_data)"
   ]
  },
  {
   "cell_type": "code",
   "execution_count": null,
   "metadata": {},
   "outputs": [],
   "source": [
    "def reshape_data(reference_data, odmr_data, params_values):\n",
    "    '''Here we re-shape the reference and the ODMR datasets into a 3D array, \n",
    "    based on the number of line scans, frequnecy points and repeats per frequnecy \n",
    "    have been used to build the ODMR dataset.'''\n",
    "    \n",
    "    # Create variables with the frequnecy scan parameters. \n",
    "    num_of_line_scans = int(params_values[4])\n",
    "    num_of_freqs =  int(1000*(params_values[1]-params_values[0])/params_values[2]) + 1\n",
    "    points_per_freq = int(params_values[8])\n",
    "    print(num_of_line_scans, num_of_freqs, points_per_freq)\n",
    "    # Reshape the ODMR and reference datasets. \n",
    "\n",
    "    odmr_shape_3D = odmr_data[0:num_of_freqs*points_per_freq].reshape(num_of_line_scans, num_of_freqs, points_per_freq)\n",
    "    reference_data_3D = reference_data[0:num_of_freqs*points_per_freq].reshape(num_of_line_scans, num_of_freqs, points_per_freq)\n",
    "    \n",
    "    return(odmr_shape_3D, reference_data_3D)"
   ]
  },
  {
   "cell_type": "markdown",
   "metadata": {},
   "source": [
    "Generates a scatter plot of the mean noramlised ODMR data. "
   ]
  },
  {
   "cell_type": "code",
   "execution_count": 8,
   "metadata": {},
   "outputs": [],
   "source": [
    "def scatter_plot(freq, mean_data, dwell_time):\n",
    "    # Creates a scatter plot for experimental data and plot parameters. \n",
    "    fig2, ax2 = plot.subplots()\n",
    "    ax2.scatter(freq, mean_data, marker = 'x',color = 'r', label = \"ODMR Data\")\n",
    "    \n",
    "    ax2.set_xlim(np.min(freq),np.max(freq))\n",
    "    ax2.set_xlabel('Microwave Frequency (GHz)', fontsize = 18)\n",
    "    ax2.set_ylabel('Counts per ' + str(dwell_time) + r'$\\mu$s', fontsize = 18)\n",
    "    return(fig2, ax2)"
   ]
  },
  {
   "cell_type": "code",
   "execution_count": 9,
   "metadata": {},
   "outputs": [],
   "source": [
    "def normalised_scatter_plot(freq, mean_data):\n",
    "    # Creates a scatter plot for experimental data and plot parameters. \n",
    "    fig2, ax2 = plot.subplots()\n",
    "    ax2.scatter(freq, mean_data, marker = 'x',color = 'r', label = \"ODMR Data\")\n",
    "    \n",
    "    ax2.set_xlim(np.min(freq),np.max(freq))\n",
    "    ax2.set_xlabel('Microwave Frequency (GHz)', fontsize = 18)\n",
    "    ax2.set_ylabel('Normalised Counts (A.U.)', fontsize = 18)\n",
    "    return(fig2, ax2)"
   ]
  },
  {
   "cell_type": "markdown",
   "metadata": {},
   "source": [
    "Find the initial parameters for the double lorentz fitting for the dataset, along with the code that is required for the lorentz fitting to be performed. "
   ]
  },
  {
   "cell_type": "code",
   "execution_count": 10,
   "metadata": {},
   "outputs": [],
   "source": [
    "def get_init_params(odmr_data, freq):\n",
    "    # find the minima of the ODMR spectra and ODMR dip contrast and \n",
    "    # flourenscent baseline.\n",
    "    \n",
    "    half_data_length = int((len(freq)-1)/2) - 5 # This brings the mid-value to 2.87GHz \n",
    "    \n",
    "    #find the indices for the lowest frequency value\n",
    "    low_freq_min_index = np.where(odmr_data[0:half_data_length] == np.min(odmr_data[0:half_data_length]))\n",
    "    high_freq_min_index = np.where(odmr_data[half_data_length:len(odmr_data)-1] == \n",
    "                                   np.min(odmr_data[half_data_length:len(odmr_data)-1]))\n",
    "   \n",
    "    # frequencies corresponding to ODMR minima\n",
    "    freq_mins = [np.float(freq[low_freq_min_index[0]]),\n",
    "                 np.float(freq[high_freq_min_index[0]+half_data_length])]\n",
    "    \n",
    "    # manually set frequencies. \n",
    "    \n",
    "    #freq_mins = [2.78, 2.96]\n",
    "    \n",
    "    flourescent_baseline = np.mean(odmr_data)\n",
    "    \n",
    "    # approximate dip_depth\n",
    "    dip_depth = [odmr_data[low_freq_min_index[0][0]]  - flourescent_baseline, \n",
    "                 odmr_data[high_freq_min_index[0][0]+half_data_length]  - flourescent_baseline]\n",
    "    \n",
    "    #contrast = [np.float((1-odmr_data[low_freq_min_index[0]]/flourescent_baseline)), \n",
    "    #            np.float((1-odmr_data[high_freq_min_index[0]+half_data_length]/flourescent_baseline))]\n",
    "\n",
    "    return(freq_mins, dip_depth, flourescent_baseline)"
   ]
  },
  {
   "cell_type": "code",
   "execution_count": 11,
   "metadata": {},
   "outputs": [],
   "source": [
    "def optimised_lorentz_fit(freq, mean_data, init_params, lower_bounds, upper_bounds):\n",
    "    # A method to find the fitting prameters for the ODMR dataset. \n",
    "    y_error = np.sqrt(mean_data) # poissonian noise\n",
    "    coeffs, confidence = opt.curve_fit(double_lorentz, freq, mean_data, init_params, \n",
    "                                       sigma = y_error, bounds = (lower_bounds, upper_bounds))\n",
    "    opt_error = np.sqrt(np.diag(confidence))\n",
    "    \n",
    "    return(coeffs, opt_error)"
   ]
  },
  {
   "cell_type": "code",
   "execution_count": 12,
   "metadata": {},
   "outputs": [],
   "source": [
    "def double_lorentz(x, A1, X01, sig1, A2, X02, sig2, offset): #P0[0], P0[1], P0[2], P0[3], P0[4], P0[5], P0[6]):\n",
    "    # A1 = Amplitude 1, X01 = Resonance 1, sig1 = FWHM 1\n",
    "    # A2 = Amplitude 2, X02 = Resonance 2, sig2 = FWHM 2, offset = offset\n",
    "    \n",
    "    first_peak = (A1/np.pi)*((sig1**2)/(sig1**2 +(2*x-2*X01)**2))\n",
    "    second_peak = (A2/np.pi)*((sig2**2)/(sig2**2 +(2*x-2*X02)**2))\n",
    "    \n",
    "    return (first_peak + second_peak + offset)"
   ]
  },
  {
   "cell_type": "markdown",
   "metadata": {},
   "source": [
    "Plot the fitting of the double lorentzian line shape and adds the labels and legends to the graphs. "
   ]
  },
  {
   "cell_type": "code",
   "execution_count": 13,
   "metadata": {},
   "outputs": [],
   "source": [
    "def plot_fitting(ax2, freq, dwell_time):\n",
    "    # plot the y fit. \n",
    "    \n",
    "    high_res_freq = np.linspace(freq[0], freq[len(freq)-1], 10*len(freq)+1)\n",
    "    \n",
    "    # create the double lorentz fit array\n",
    "    y_fit_high_res = double_lorentz(high_res_freq, fitting_params[0], fitting_params[1], fitting_params[2], \n",
    "                  fitting_params[3], fitting_params[4], fitting_params[5], fitting_params[6])\n",
    "    \n",
    "    y_fit = double_lorentz(freq, fitting_params[0], fitting_params[1], fitting_params[2], \n",
    "                  fitting_params[3], fitting_params[4], fitting_params[5], fitting_params[6])\n",
    "    \n",
    "    ax2.plot(high_res_freq, y_fit_high_res, color='k', label='Double Lorentz \\nfitting')\n",
    "    ax2.legend()\n",
    "    \n",
    "    return(ax2, y_fit)"
   ]
  },
  {
   "cell_type": "code",
   "execution_count": 14,
   "metadata": {},
   "outputs": [],
   "source": [
    "def get_fitting_contrast(res_freq1, res_freq2, freq, y_fit, baseline, step):\n",
    "    \n",
    "    step = str(step/1000) # step size in GHz and string\n",
    "    decimals = step[::-1].find('.') # find the number of decimal points in the steps. \n",
    "    \n",
    "    first_freq_min_index = (np.abs(freq-round(res_freq1, decimals))).argmin()\n",
    "    second_freq_min_index =(np.abs(freq-round(res_freq2, decimals))).argmin()\n",
    "\n",
    "    contrast = [(baseline - y_fit[first_freq_min_index])/baseline, (baseline - y_fit[second_freq_min_index])/baseline]\n",
    "    \n",
    "    return(contrast)"
   ]
  },
  {
   "cell_type": "markdown",
   "metadata": {},
   "source": [
    "Find the R squared value for the fitting verses the actual dataset. "
   ]
  },
  {
   "cell_type": "code",
   "execution_count": 15,
   "metadata": {},
   "outputs": [],
   "source": [
    "def get_r_squared(x, y_data, y_fitting):\n",
    "    # This is a function used to generate the goodness of fit metric r^2.\n",
    "    # This value will be used to judge the effectiveness of the curve fitting \n",
    "    # used to find the resonant frequencies of the NV centre.\n",
    "    \n",
    "    y_data_mean = np.mean(y_data)\n",
    "    SStot = np.sum((y_data - y_data_mean)**2) # Find the variation in experimental y values.\n",
    "    SSres = np.sum((y_data - y_fitting)**2) # Find the variation betweem the experimental and fitted y values. \n",
    "    \n",
    "    r_squared = 1 - (SSres/SStot) # Calculate R^2\n",
    "    \n",
    "    return(r_squared)"
   ]
  },
  {
   "cell_type": "markdown",
   "metadata": {},
   "source": [
    "The method to save the data into a folder on the iDrive. "
   ]
  },
  {
   "cell_type": "code",
   "execution_count": 16,
   "metadata": {},
   "outputs": [],
   "source": [
    "def save_data(date, file_ID, fitted_contrast, coeffs, opt_error, r_squared, fig1):\n",
    "    \n",
    "    destination_folder = 'I:\\\\Science\\\\Physics-Nanobiophotonics\\\\Group\\\\User Data Analysis\\\\Ryans Data (2018-2021)\\\\ODMR\\\\' + date + '\\\\' #+ 'power_sweep\\\\'\n",
    "    output_data_file = destination_folder + date + '_reference_ODMR_analysis.dat'\n",
    "    \n",
    "    # Checking to see if the folder exists in which to save the data, and creating it if it does not\n",
    "    if not os.path.exists(destination_folder):\n",
    "        os.makedirs(destination_folder)\n",
    "        # Checking the output file exists and creating and initialising it if not\n",
    "    \n",
    "    if os.path.isfile(output_data_file) == False:\n",
    "        with open(output_data_file, \"w\") as wf:\n",
    "            wf.write('File name'  + '\\t' +\n",
    "                     'Resonant frequency 1 (GHz)' + '\\t' + 'Error Resonant frequency 1 (GHz)' + '\\t' + \n",
    "                     'Resonant frequency 1 contrast (%)' + '\\t' + \n",
    "                     'FWHM 1 (MHz)' + '\\t' + 'FWHM 1 error (MHz)' + '\\t' + \n",
    "                     'Resonant frequency 2 (GHz)' + '\\t' + 'Error Resonant frequency 2 (GHz)' + '\\t' + \n",
    "                     'Resonant frequency 2 contrast (%)' + '\\t' + \n",
    "                     'FWHM 2 (MHz)' + '\\t' + 'FWHM 2 error (MHz)' + '\\t' + \n",
    "                     'Off Res Fluorescence intensity (per dwell time)' + '\\t' + \n",
    "                     'R^2 for fitting' +'\\n')\n",
    "    # Writing contrast dip description to the .dat file\n",
    "    \n",
    "    with open(output_data_file, \"a\") as wf:\n",
    "        wf.write(file_ID  + '\\t' +\n",
    "                 str(coeffs[1]) + \" \\t\"  + str(opt_error[1]) + \" \\t\" + \n",
    "                 str(fitted_contrast[0]*100) + \" \\t\"  +  \n",
    "                 str(abs(coeffs[2])*1000) + \" \\t\" + str(opt_error[2]*1000) + \" \\t\" + \n",
    "                 str(coeffs[4]) + \" \\t\"  + str(opt_error[4]) + \" \\t\" + \n",
    "                 str(fitted_contrast[1]*100) + \" \\t\" +\n",
    "                 str(abs(coeffs[5])*1000) + \" \\t\" + str(opt_error[5]*1000) + \" \\t\" + \n",
    "                 str(coeffs[6]) + \" \\t\" +str(r_squared) + '\\n')\n",
    "        \n",
    "    # Saving a plot of the raw data to a folder. \n",
    "    #fig1.savefig(destination_folder + file_ID + '_heatmap.pdf', transparent = True)    \n",
    "    #fig1.savefig(destination_folder + file_ID + '_heatmap.png', transparent = True) \n",
    "    \n",
    "    fig1.savefig(destination_folder + file_ID + '.pdf', transparent = True)    \n",
    "    fig1.savefig(destination_folder + file_ID + '.png', transparent = True) "
   ]
  },
  {
   "cell_type": "markdown",
   "metadata": {},
   "source": [
    "### Code starts here \n",
    "\n",
    "Here we set the folder directory and the file names of the datasets. We then load the dataset into the numpy arrays and generates the frequnecy array for the scans performed and the dwell time of the pixels used."
   ]
  },
  {
   "cell_type": "code",
   "execution_count": 58,
   "metadata": {},
   "outputs": [],
   "source": [
    "#######\n",
    " # This portion of the code produced the ODMR data plotting and the double lorentz fitting and \n",
    " # Saves this data into a text file and the 2 plots generated. \n",
    "#######\n",
    "\n",
    "date = '20210909' # Date on folder in which the experimental data is saved. \n",
    "set_plot_params()\n",
    "\n",
    "# Load in the data file into an np array, and freqeuncy scan parameters \n",
    "# into a pandas array.\n",
    "folder_path = 'I:\\\\Science\\\\Physics-Nanobiophotonics\\\\Group\\\\User Data\\\\ODMR\\\\ODMR and imaging\\\\2021\\\\' + date + '\\\\'\n",
    "#folder_path = 'I:\\\\Science\\\\Physics-Nanobiophotonics\\\\Group\\\\User Data\\\\ODMR\\\\Imaging\\\\'\n",
    "\n",
    "data_set = '_referenced_ODMR_01_' # Short hand for the file name. \n",
    "\n",
    "# Set the file names for all 4 data sets recorded from the experiment. \n",
    "file_name_ODMR1 = date + data_set + 'ODMR1.dat'\n",
    "file_name_ODMR2 = date + data_set + 'ODMR2.dat'\n",
    "file_name_Ref1 = date + data_set  + 'Ref1.dat'\n",
    "file_name_Ref2 = date + data_set  + 'Ref2.dat'\n",
    "\n",
    "# Extract the ODMR and reference datasets from the data we are looking at. \n",
    "odmr_data = load_data(folder_path + file_name_ODMR1)\n",
    "reference_data = load_data(folder_path + file_name_Ref1)\n",
    "\n",
    "# Get the parameters for the experiment. \n",
    "params_file = load_params(folder_path + date  + data_set + 'Params.txt')\n",
    "params_values = params_file['Parameter value']\n",
    "\n",
    "# Create the freqeuncy scan array. \n",
    "freq = create_freq_scan(params_values[0], params_values[1], params_values[2])\n",
    "\n",
    "# Dwell time of the measurment \n",
    "dwell_time = params_values[3]"
   ]
  },
  {
   "cell_type": "markdown",
   "metadata": {},
   "source": [
    "Here we normalise the ODMR data to the reference data and then find the mean of this normalised data. The code then works to determine the fitting of the double lorentzian to the ODMR data and find the R squared value for the fitting to the data. "
   ]
  },
  {
   "cell_type": "code",
   "execution_count": 59,
   "metadata": {},
   "outputs": [
    {
     "ename": "ValueError",
     "evalue": "x and y must be the same size",
     "output_type": "error",
     "traceback": [
      "\u001b[1;31m---------------------------------------------------------------------------\u001b[0m",
      "\u001b[1;31mValueError\u001b[0m                                Traceback (most recent call last)",
      "\u001b[1;32m<ipython-input-59-dcee3abc3144>\u001b[0m in \u001b[0;36m<module>\u001b[1;34m\u001b[0m\n\u001b[0;32m      6\u001b[0m \u001b[1;33m\u001b[0m\u001b[0m\n\u001b[0;32m      7\u001b[0m \u001b[1;31m# Plot the mean normalised dataset as a scatter plot.\u001b[0m\u001b[1;33m\u001b[0m\u001b[1;33m\u001b[0m\u001b[1;33m\u001b[0m\u001b[0m\n\u001b[1;32m----> 8\u001b[1;33m \u001b[0mfig1\u001b[0m\u001b[1;33m,\u001b[0m \u001b[0max1\u001b[0m \u001b[1;33m=\u001b[0m \u001b[0mnormalised_scatter_plot\u001b[0m\u001b[1;33m(\u001b[0m\u001b[0mfreq\u001b[0m\u001b[1;33m,\u001b[0m \u001b[0mmean_norm_odmr\u001b[0m\u001b[1;33m)\u001b[0m\u001b[1;33m\u001b[0m\u001b[1;33m\u001b[0m\u001b[0m\n\u001b[0m\u001b[0;32m      9\u001b[0m \u001b[1;33m\u001b[0m\u001b[0m\n\u001b[0;32m     10\u001b[0m \u001b[1;31m# find the freqeuncy points with the highest ODMR contrast\u001b[0m\u001b[1;33m\u001b[0m\u001b[1;33m\u001b[0m\u001b[1;33m\u001b[0m\u001b[0m\n",
      "\u001b[1;32m<ipython-input-9-d670168b6325>\u001b[0m in \u001b[0;36mnormalised_scatter_plot\u001b[1;34m(freq, mean_data)\u001b[0m\n\u001b[0;32m      2\u001b[0m     \u001b[1;31m# Creates a scatter plot for experimental data and plot parameters.\u001b[0m\u001b[1;33m\u001b[0m\u001b[1;33m\u001b[0m\u001b[1;33m\u001b[0m\u001b[0m\n\u001b[0;32m      3\u001b[0m     \u001b[0mfig2\u001b[0m\u001b[1;33m,\u001b[0m \u001b[0max2\u001b[0m \u001b[1;33m=\u001b[0m \u001b[0mplot\u001b[0m\u001b[1;33m.\u001b[0m\u001b[0msubplots\u001b[0m\u001b[1;33m(\u001b[0m\u001b[1;33m)\u001b[0m\u001b[1;33m\u001b[0m\u001b[1;33m\u001b[0m\u001b[0m\n\u001b[1;32m----> 4\u001b[1;33m     \u001b[0max2\u001b[0m\u001b[1;33m.\u001b[0m\u001b[0mscatter\u001b[0m\u001b[1;33m(\u001b[0m\u001b[0mfreq\u001b[0m\u001b[1;33m,\u001b[0m \u001b[0mmean_data\u001b[0m\u001b[1;33m,\u001b[0m \u001b[0mmarker\u001b[0m \u001b[1;33m=\u001b[0m \u001b[1;34m'x'\u001b[0m\u001b[1;33m,\u001b[0m\u001b[0mcolor\u001b[0m \u001b[1;33m=\u001b[0m \u001b[1;34m'r'\u001b[0m\u001b[1;33m,\u001b[0m \u001b[0mlabel\u001b[0m \u001b[1;33m=\u001b[0m \u001b[1;34m\"ODMR Data\"\u001b[0m\u001b[1;33m)\u001b[0m\u001b[1;33m\u001b[0m\u001b[1;33m\u001b[0m\u001b[0m\n\u001b[0m\u001b[0;32m      5\u001b[0m \u001b[1;33m\u001b[0m\u001b[0m\n\u001b[0;32m      6\u001b[0m     \u001b[0max2\u001b[0m\u001b[1;33m.\u001b[0m\u001b[0mset_xlim\u001b[0m\u001b[1;33m(\u001b[0m\u001b[0mnp\u001b[0m\u001b[1;33m.\u001b[0m\u001b[0mmin\u001b[0m\u001b[1;33m(\u001b[0m\u001b[0mfreq\u001b[0m\u001b[1;33m)\u001b[0m\u001b[1;33m,\u001b[0m\u001b[0mnp\u001b[0m\u001b[1;33m.\u001b[0m\u001b[0mmax\u001b[0m\u001b[1;33m(\u001b[0m\u001b[0mfreq\u001b[0m\u001b[1;33m)\u001b[0m\u001b[1;33m)\u001b[0m\u001b[1;33m\u001b[0m\u001b[1;33m\u001b[0m\u001b[0m\n",
      "\u001b[1;32m~\\AppData\\Local\\conda\\conda\\envs\\Ryan\\lib\\site-packages\\matplotlib\\__init__.py\u001b[0m in \u001b[0;36minner\u001b[1;34m(ax, data, *args, **kwargs)\u001b[0m\n\u001b[0;32m   1410\u001b[0m     \u001b[1;32mdef\u001b[0m \u001b[0minner\u001b[0m\u001b[1;33m(\u001b[0m\u001b[0max\u001b[0m\u001b[1;33m,\u001b[0m \u001b[1;33m*\u001b[0m\u001b[0margs\u001b[0m\u001b[1;33m,\u001b[0m \u001b[0mdata\u001b[0m\u001b[1;33m=\u001b[0m\u001b[1;32mNone\u001b[0m\u001b[1;33m,\u001b[0m \u001b[1;33m**\u001b[0m\u001b[0mkwargs\u001b[0m\u001b[1;33m)\u001b[0m\u001b[1;33m:\u001b[0m\u001b[1;33m\u001b[0m\u001b[1;33m\u001b[0m\u001b[0m\n\u001b[0;32m   1411\u001b[0m         \u001b[1;32mif\u001b[0m \u001b[0mdata\u001b[0m \u001b[1;32mis\u001b[0m \u001b[1;32mNone\u001b[0m\u001b[1;33m:\u001b[0m\u001b[1;33m\u001b[0m\u001b[1;33m\u001b[0m\u001b[0m\n\u001b[1;32m-> 1412\u001b[1;33m             \u001b[1;32mreturn\u001b[0m \u001b[0mfunc\u001b[0m\u001b[1;33m(\u001b[0m\u001b[0max\u001b[0m\u001b[1;33m,\u001b[0m \u001b[1;33m*\u001b[0m\u001b[0mmap\u001b[0m\u001b[1;33m(\u001b[0m\u001b[0msanitize_sequence\u001b[0m\u001b[1;33m,\u001b[0m \u001b[0margs\u001b[0m\u001b[1;33m)\u001b[0m\u001b[1;33m,\u001b[0m \u001b[1;33m**\u001b[0m\u001b[0mkwargs\u001b[0m\u001b[1;33m)\u001b[0m\u001b[1;33m\u001b[0m\u001b[1;33m\u001b[0m\u001b[0m\n\u001b[0m\u001b[0;32m   1413\u001b[0m \u001b[1;33m\u001b[0m\u001b[0m\n\u001b[0;32m   1414\u001b[0m         \u001b[0mbound\u001b[0m \u001b[1;33m=\u001b[0m \u001b[0mnew_sig\u001b[0m\u001b[1;33m.\u001b[0m\u001b[0mbind\u001b[0m\u001b[1;33m(\u001b[0m\u001b[0max\u001b[0m\u001b[1;33m,\u001b[0m \u001b[1;33m*\u001b[0m\u001b[0margs\u001b[0m\u001b[1;33m,\u001b[0m \u001b[1;33m**\u001b[0m\u001b[0mkwargs\u001b[0m\u001b[1;33m)\u001b[0m\u001b[1;33m\u001b[0m\u001b[1;33m\u001b[0m\u001b[0m\n",
      "\u001b[1;32m~\\AppData\\Local\\conda\\conda\\envs\\Ryan\\lib\\site-packages\\matplotlib\\axes\\_axes.py\u001b[0m in \u001b[0;36mscatter\u001b[1;34m(self, x, y, s, c, marker, cmap, norm, vmin, vmax, alpha, linewidths, edgecolors, plotnonfinite, **kwargs)\u001b[0m\n\u001b[0;32m   4321\u001b[0m         \u001b[0my\u001b[0m \u001b[1;33m=\u001b[0m \u001b[0mnp\u001b[0m\u001b[1;33m.\u001b[0m\u001b[0mma\u001b[0m\u001b[1;33m.\u001b[0m\u001b[0mravel\u001b[0m\u001b[1;33m(\u001b[0m\u001b[0my\u001b[0m\u001b[1;33m)\u001b[0m\u001b[1;33m\u001b[0m\u001b[1;33m\u001b[0m\u001b[0m\n\u001b[0;32m   4322\u001b[0m         \u001b[1;32mif\u001b[0m \u001b[0mx\u001b[0m\u001b[1;33m.\u001b[0m\u001b[0msize\u001b[0m \u001b[1;33m!=\u001b[0m \u001b[0my\u001b[0m\u001b[1;33m.\u001b[0m\u001b[0msize\u001b[0m\u001b[1;33m:\u001b[0m\u001b[1;33m\u001b[0m\u001b[1;33m\u001b[0m\u001b[0m\n\u001b[1;32m-> 4323\u001b[1;33m             \u001b[1;32mraise\u001b[0m \u001b[0mValueError\u001b[0m\u001b[1;33m(\u001b[0m\u001b[1;34m\"x and y must be the same size\"\u001b[0m\u001b[1;33m)\u001b[0m\u001b[1;33m\u001b[0m\u001b[1;33m\u001b[0m\u001b[0m\n\u001b[0m\u001b[0;32m   4324\u001b[0m \u001b[1;33m\u001b[0m\u001b[0m\n\u001b[0;32m   4325\u001b[0m         \u001b[1;32mif\u001b[0m \u001b[0ms\u001b[0m \u001b[1;32mis\u001b[0m \u001b[1;32mNone\u001b[0m\u001b[1;33m:\u001b[0m\u001b[1;33m\u001b[0m\u001b[1;33m\u001b[0m\u001b[0m\n",
      "\u001b[1;31mValueError\u001b[0m: x and y must be the same size"
     ]
    },
    {
     "data": {
      "image/png": "[encoded data removed]",
      "text/plain": [
       "<Figure size 864x576 with 1 Axes>"
      ]
     },
     "metadata": {
      "needs_background": "light"
     },
     "output_type": "display_data"
    }
   ],
   "source": [
    "# Normalise the ODMR data against the reference data. \n",
    "normalised_ODMR = normalise_data(reference_data, odmr_data)\n",
    "\n",
    "# Mean of the normalise dataset. \n",
    "mean_norm_odmr = mean_data(normalised_ODMR)\n",
    "\n",
    "# Plot the mean normalised dataset as a scatter plot. \n",
    "fig1, ax1 = normalised_scatter_plot(freq, mean_norm_odmr)\n",
    "\n",
    "# find the freqeuncy points with the highest ODMR contrast\n",
    "freq_mins, dip_depth, flourescent_baseline = get_init_params(mean_norm_odmr, freq)\n",
    "\n",
    "# create the initial parameters for ODMR double lorentzian \n",
    "# line fitting\n",
    "init_params = [dip_depth[0], freq_mins[0], 0.005, dip_depth[1], freq_mins[1], 0.005, flourescent_baseline]\n",
    "\n",
    "# Set the upper and lower bounds for the fitting algorithm. \n",
    "lower_bounds = [-np.inf, init_params[1] - 0.01, 0, -np.inf, init_params[4] - 0.01, 0, 0]\n",
    "upper_bounds = [np.inf, init_params[1] + 0.01, 1, np.inf, init_params[4] + 0.01, 1, np.inf]\n",
    "\n",
    "# generate the optimised curve fit parameters. \n",
    "fitting_params, error_in_fit = optimised_lorentz_fit(freq, mean_norm_odmr, init_params,\n",
    "                                                    lower_bounds, upper_bounds)\n",
    "\n",
    "# plot the fitting to ax2\n",
    "ax1, y_fit = plot_fitting(ax1, freq, params_values[3])\n",
    "\n",
    "fitted_contrast = get_fitting_contrast(fitting_params[1], fitting_params[4], freq, y_fit,  fitting_params[6], params_values[2])\n",
    "print('Contrast = ' + str(fitted_contrast))\n",
    "\n",
    "# get the r^2 value for the fitting \n",
    "r_squared = get_r_squared(freq, mean_norm_odmr, y_fit)\n",
    "print('r squared = ' + str(r_squared))"
   ]
  },
  {
   "cell_type": "code",
   "execution_count": 19,
   "metadata": {},
   "outputs": [],
   "source": [
    "# Save the data. \n",
    "\n",
    "#save_data(date, file_name_ODMR1, fitted_contrast, coeffs, opt_error, r_squared, fig1)"
   ]
  },
  {
   "cell_type": "code",
   "execution_count": 60,
   "metadata": {},
   "outputs": [
    {
     "name": "stdout",
     "output_type": "stream",
     "text": [
      "(200,)\n",
      "(10050,)\n"
     ]
    },
    {
     "ename": "ValueError",
     "evalue": "x and y must be the same size",
     "output_type": "error",
     "traceback": [
      "\u001b[1;31m---------------------------------------------------------------------------\u001b[0m",
      "\u001b[1;31mValueError\u001b[0m                                Traceback (most recent call last)",
      "\u001b[1;32m<ipython-input-60-841f494b615f>\u001b[0m in \u001b[0;36m<module>\u001b[1;34m\u001b[0m\n\u001b[0;32m      3\u001b[0m \u001b[0mprint\u001b[0m\u001b[1;33m(\u001b[0m\u001b[0modmr_data\u001b[0m\u001b[1;33m.\u001b[0m\u001b[0mshape\u001b[0m\u001b[1;33m)\u001b[0m\u001b[1;33m\u001b[0m\u001b[1;33m\u001b[0m\u001b[0m\n\u001b[0;32m      4\u001b[0m \u001b[1;33m\u001b[0m\u001b[0m\n\u001b[1;32m----> 5\u001b[1;33m \u001b[0mfig2\u001b[0m\u001b[1;33m,\u001b[0m \u001b[0max2\u001b[0m \u001b[1;33m=\u001b[0m \u001b[0mscatter_plot\u001b[0m\u001b[1;33m(\u001b[0m\u001b[0mfreq\u001b[0m\u001b[1;33m,\u001b[0m \u001b[0mmean_odmr_data\u001b[0m\u001b[1;33m/\u001b[0m\u001b[0mnp\u001b[0m\u001b[1;33m.\u001b[0m\u001b[0mmean\u001b[0m\u001b[1;33m(\u001b[0m\u001b[0mmean_odmr_data\u001b[0m\u001b[1;33m)\u001b[0m\u001b[1;33m,\u001b[0m \u001b[0mdwell_time\u001b[0m\u001b[1;33m)\u001b[0m\u001b[1;33m\u001b[0m\u001b[1;33m\u001b[0m\u001b[0m\n\u001b[0m",
      "\u001b[1;32m<ipython-input-8-33af2bb75d7f>\u001b[0m in \u001b[0;36mscatter_plot\u001b[1;34m(freq, mean_data, dwell_time)\u001b[0m\n\u001b[0;32m      2\u001b[0m     \u001b[1;31m# Creates a scatter plot for experimental data and plot parameters.\u001b[0m\u001b[1;33m\u001b[0m\u001b[1;33m\u001b[0m\u001b[1;33m\u001b[0m\u001b[0m\n\u001b[0;32m      3\u001b[0m     \u001b[0mfig2\u001b[0m\u001b[1;33m,\u001b[0m \u001b[0max2\u001b[0m \u001b[1;33m=\u001b[0m \u001b[0mplot\u001b[0m\u001b[1;33m.\u001b[0m\u001b[0msubplots\u001b[0m\u001b[1;33m(\u001b[0m\u001b[1;33m)\u001b[0m\u001b[1;33m\u001b[0m\u001b[1;33m\u001b[0m\u001b[0m\n\u001b[1;32m----> 4\u001b[1;33m     \u001b[0max2\u001b[0m\u001b[1;33m.\u001b[0m\u001b[0mscatter\u001b[0m\u001b[1;33m(\u001b[0m\u001b[0mfreq\u001b[0m\u001b[1;33m,\u001b[0m \u001b[0mmean_data\u001b[0m\u001b[1;33m,\u001b[0m \u001b[0mmarker\u001b[0m \u001b[1;33m=\u001b[0m \u001b[1;34m'x'\u001b[0m\u001b[1;33m,\u001b[0m\u001b[0mcolor\u001b[0m \u001b[1;33m=\u001b[0m \u001b[1;34m'r'\u001b[0m\u001b[1;33m,\u001b[0m \u001b[0mlabel\u001b[0m \u001b[1;33m=\u001b[0m \u001b[1;34m\"ODMR Data\"\u001b[0m\u001b[1;33m)\u001b[0m\u001b[1;33m\u001b[0m\u001b[1;33m\u001b[0m\u001b[0m\n\u001b[0m\u001b[0;32m      5\u001b[0m \u001b[1;33m\u001b[0m\u001b[0m\n\u001b[0;32m      6\u001b[0m     \u001b[0max2\u001b[0m\u001b[1;33m.\u001b[0m\u001b[0mset_xlim\u001b[0m\u001b[1;33m(\u001b[0m\u001b[0mnp\u001b[0m\u001b[1;33m.\u001b[0m\u001b[0mmin\u001b[0m\u001b[1;33m(\u001b[0m\u001b[0mfreq\u001b[0m\u001b[1;33m)\u001b[0m\u001b[1;33m,\u001b[0m\u001b[0mnp\u001b[0m\u001b[1;33m.\u001b[0m\u001b[0mmax\u001b[0m\u001b[1;33m(\u001b[0m\u001b[0mfreq\u001b[0m\u001b[1;33m)\u001b[0m\u001b[1;33m)\u001b[0m\u001b[1;33m\u001b[0m\u001b[1;33m\u001b[0m\u001b[0m\n",
      "\u001b[1;32m~\\AppData\\Local\\conda\\conda\\envs\\Ryan\\lib\\site-packages\\matplotlib\\__init__.py\u001b[0m in \u001b[0;36minner\u001b[1;34m(ax, data, *args, **kwargs)\u001b[0m\n\u001b[0;32m   1410\u001b[0m     \u001b[1;32mdef\u001b[0m \u001b[0minner\u001b[0m\u001b[1;33m(\u001b[0m\u001b[0max\u001b[0m\u001b[1;33m,\u001b[0m \u001b[1;33m*\u001b[0m\u001b[0margs\u001b[0m\u001b[1;33m,\u001b[0m \u001b[0mdata\u001b[0m\u001b[1;33m=\u001b[0m\u001b[1;32mNone\u001b[0m\u001b[1;33m,\u001b[0m \u001b[1;33m**\u001b[0m\u001b[0mkwargs\u001b[0m\u001b[1;33m)\u001b[0m\u001b[1;33m:\u001b[0m\u001b[1;33m\u001b[0m\u001b[1;33m\u001b[0m\u001b[0m\n\u001b[0;32m   1411\u001b[0m         \u001b[1;32mif\u001b[0m \u001b[0mdata\u001b[0m \u001b[1;32mis\u001b[0m \u001b[1;32mNone\u001b[0m\u001b[1;33m:\u001b[0m\u001b[1;33m\u001b[0m\u001b[1;33m\u001b[0m\u001b[0m\n\u001b[1;32m-> 1412\u001b[1;33m             \u001b[1;32mreturn\u001b[0m \u001b[0mfunc\u001b[0m\u001b[1;33m(\u001b[0m\u001b[0max\u001b[0m\u001b[1;33m,\u001b[0m \u001b[1;33m*\u001b[0m\u001b[0mmap\u001b[0m\u001b[1;33m(\u001b[0m\u001b[0msanitize_sequence\u001b[0m\u001b[1;33m,\u001b[0m \u001b[0margs\u001b[0m\u001b[1;33m)\u001b[0m\u001b[1;33m,\u001b[0m \u001b[1;33m**\u001b[0m\u001b[0mkwargs\u001b[0m\u001b[1;33m)\u001b[0m\u001b[1;33m\u001b[0m\u001b[1;33m\u001b[0m\u001b[0m\n\u001b[0m\u001b[0;32m   1413\u001b[0m \u001b[1;33m\u001b[0m\u001b[0m\n\u001b[0;32m   1414\u001b[0m         \u001b[0mbound\u001b[0m \u001b[1;33m=\u001b[0m \u001b[0mnew_sig\u001b[0m\u001b[1;33m.\u001b[0m\u001b[0mbind\u001b[0m\u001b[1;33m(\u001b[0m\u001b[0max\u001b[0m\u001b[1;33m,\u001b[0m \u001b[1;33m*\u001b[0m\u001b[0margs\u001b[0m\u001b[1;33m,\u001b[0m \u001b[1;33m**\u001b[0m\u001b[0mkwargs\u001b[0m\u001b[1;33m)\u001b[0m\u001b[1;33m\u001b[0m\u001b[1;33m\u001b[0m\u001b[0m\n",
      "\u001b[1;32m~\\AppData\\Local\\conda\\conda\\envs\\Ryan\\lib\\site-packages\\matplotlib\\axes\\_axes.py\u001b[0m in \u001b[0;36mscatter\u001b[1;34m(self, x, y, s, c, marker, cmap, norm, vmin, vmax, alpha, linewidths, edgecolors, plotnonfinite, **kwargs)\u001b[0m\n\u001b[0;32m   4321\u001b[0m         \u001b[0my\u001b[0m \u001b[1;33m=\u001b[0m \u001b[0mnp\u001b[0m\u001b[1;33m.\u001b[0m\u001b[0mma\u001b[0m\u001b[1;33m.\u001b[0m\u001b[0mravel\u001b[0m\u001b[1;33m(\u001b[0m\u001b[0my\u001b[0m\u001b[1;33m)\u001b[0m\u001b[1;33m\u001b[0m\u001b[1;33m\u001b[0m\u001b[0m\n\u001b[0;32m   4322\u001b[0m         \u001b[1;32mif\u001b[0m \u001b[0mx\u001b[0m\u001b[1;33m.\u001b[0m\u001b[0msize\u001b[0m \u001b[1;33m!=\u001b[0m \u001b[0my\u001b[0m\u001b[1;33m.\u001b[0m\u001b[0msize\u001b[0m\u001b[1;33m:\u001b[0m\u001b[1;33m\u001b[0m\u001b[1;33m\u001b[0m\u001b[0m\n\u001b[1;32m-> 4323\u001b[1;33m             \u001b[1;32mraise\u001b[0m \u001b[0mValueError\u001b[0m\u001b[1;33m(\u001b[0m\u001b[1;34m\"x and y must be the same size\"\u001b[0m\u001b[1;33m)\u001b[0m\u001b[1;33m\u001b[0m\u001b[1;33m\u001b[0m\u001b[0m\n\u001b[0m\u001b[0;32m   4324\u001b[0m \u001b[1;33m\u001b[0m\u001b[0m\n\u001b[0;32m   4325\u001b[0m         \u001b[1;32mif\u001b[0m \u001b[0ms\u001b[0m \u001b[1;32mis\u001b[0m \u001b[1;32mNone\u001b[0m\u001b[1;33m:\u001b[0m\u001b[1;33m\u001b[0m\u001b[1;33m\u001b[0m\u001b[0m\n",
      "\u001b[1;31mValueError\u001b[0m: x and y must be the same size"
     ]
    },
    {
     "data": {
      "image/png": "[encoded data removed]",
      "text/plain": [
       "<Figure size 864x576 with 1 Axes>"
      ]
     },
     "metadata": {
      "needs_background": "light"
     },
     "output_type": "display_data"
    }
   ],
   "source": [
    "mean_odmr_data = mean_data(odmr_data)\n",
    "print(freq.shape)\n",
    "print(odmr_data.shape)\n",
    "\n",
    "fig2, ax2 = scatter_plot(freq, mean_odmr_data/np.mean(mean_odmr_data), dwell_time)"
   ]
  },
  {
   "cell_type": "code",
   "execution_count": 52,
   "metadata": {},
   "outputs": [
    {
     "name": "stdout",
     "output_type": "stream",
     "text": [
      "(500, 151)\n"
     ]
    }
   ],
   "source": [
    "print(odmr_data.shape)"
   ]
  },
  {
   "cell_type": "code",
   "execution_count": 22,
   "metadata": {},
   "outputs": [],
   "source": []
  },
  {
   "cell_type": "code",
   "execution_count": 24,
   "metadata": {},
   "outputs": [],
   "source": []
  },
  {
   "cell_type": "code",
   "execution_count": 26,
   "metadata": {},
   "outputs": [],
   "source": []
  },
  {
   "cell_type": "code",
   "execution_count": 29,
   "metadata": {},
   "outputs": [],
   "source": []
  },
  {
   "cell_type": "code",
   "execution_count": null,
   "metadata": {},
   "outputs": [],
   "source": []
  }
 ],
 "metadata": {
  "kernelspec": {
   "display_name": "Python 3",
   "language": "python",
   "name": "python3"
  },
  "language_info": {
   "codemirror_mode": {
    "name": "ipython",
    "version": 3
   },
   "file_extension": ".py",
   "mimetype": "text/x-python",
   "name": "python",
   "nbconvert_exporter": "python",
   "pygments_lexer": "ipython3",
   "version": "3.7.7"
  }
 },
 "nbformat": 4,
 "nbformat_minor": 4
}
